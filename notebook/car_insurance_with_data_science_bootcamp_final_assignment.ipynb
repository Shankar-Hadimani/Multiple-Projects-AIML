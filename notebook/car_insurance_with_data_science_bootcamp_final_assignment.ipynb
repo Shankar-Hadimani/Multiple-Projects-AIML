{
  "nbformat": 4,
  "nbformat_minor": 0,
  "metadata": {
    "colab": {
      "name": "car-insurance-with-data-science-bootcamp-final-assignment.ipynb",
      "provenance": [],
      "include_colab_link": true
    },
    "kernelspec": {
      "name": "python3",
      "display_name": "Python 3"
    },
    "language_info": {
      "name": "python"
    }
  },
  "cells": [
    {
      "cell_type": "markdown",
      "metadata": {
        "id": "view-in-github",
        "colab_type": "text"
      },
      "source": [
        "<a href=\"https://colab.research.google.com/github/Shankar-Hadimani/1000-dphi/blob/master/notebook/car_insurance_with_data_science_bootcamp_final_assignment.ipynb\" target=\"_parent\"><img src=\"https://colab.research.google.com/assets/colab-badge.svg\" alt=\"Open In Colab\"/></a>"
      ]
    },
    {
      "cell_type": "markdown",
      "metadata": {
        "id": "4NCPKfLPpNRh"
      },
      "source": [
        "This is a **template notebook** for the final assignment of **Getting Started With Data Science Bootcamp**\n",
        "\n",
        "# Instructions\n",
        "1.  Make sure the tasks are performed under the given heading. For example if you are doing exploratory data analysis, all the exploratory data analysis steps should be under the heading 'Exploratory Data Analysis (EDA)'\n",
        "2.  You can add as many cells required under any heading.\n",
        "\n",
        "**Note:** If any plagiarized case found, the participant will be disqualified from the bootcamp and certificate for that person won't be issued."
      ]
    },
    {
      "cell_type": "markdown",
      "metadata": {
        "id": "kq5h6Q8rqnc_"
      },
      "source": [
        "# Import Libraries\n",
        "You can import all the libraries required here or you can import the libraries wherever you require on the go."
      ]
    },
    {
      "cell_type": "code",
      "metadata": {
        "id": "NOH08Fh2I0Sq"
      },
      "source": [
        "from google.colab import drive\n",
        "from sklearn.model_selection import train_test_split, RandomizedSearchCV, GridSearchCV\n",
        "from sklearn.linear_model import LogisticRegression\n",
        "from sklearn.ensemble import RandomForestClassifier\n",
        "from sklearn.metrics import accuracy_score,  roc_auc_score, precision_recall_curve\n",
        "from sklearn.pipeline import Pipeline\n",
        "from sklearn.preprocessing import StandardScaler, OneHotEncoder\n",
        "from sklearn.impute import SimpleImputer\n",
        "import lightgbm\n",
        "import matplotlib.pyplot as plt\n",
        "import seaborn as sns \n",
        "import pandas as pd\n",
        "import numpy as np\n",
        "import datetime\n",
        "from sklearn.compose import ColumnTransformer\n",
        "from sklearn.preprocessing import StandardScaler, OneHotEncoder\n",
        "from datetime import datetime\n",
        "from time import strptime"
      ],
      "execution_count": 581,
      "outputs": []
    },
    {
      "cell_type": "markdown",
      "metadata": {
        "id": "oUB78Mpzq6XS"
      },
      "source": [
        "# Load the Dataset\n",
        "Load the required train or test datasets here."
      ]
    },
    {
      "cell_type": "code",
      "metadata": {
        "id": "JmG_p6kLrAuy",
        "colab": {
          "base_uri": "https://localhost:8080/"
        },
        "outputId": "52ca56a7-db00-4c09-a696-c4dca761c462"
      },
      "source": [
        "drive.mount('/content/gdrive')"
      ],
      "execution_count": 582,
      "outputs": [
        {
          "output_type": "stream",
          "text": [
            "Drive already mounted at /content/gdrive; to attempt to forcibly remount, call drive.mount(\"/content/gdrive\", force_remount=True).\n"
          ],
          "name": "stdout"
        }
      ]
    },
    {
      "cell_type": "code",
      "metadata": {
        "colab": {
          "base_uri": "https://localhost:8080/"
        },
        "id": "8eAPeAaTKrgL",
        "outputId": "ff392458-e961-4a40-a6e2-f790d910a1d0"
      },
      "source": [
        "!ls -ltr gdrive/MyDrive/ai-ml-datasets/"
      ],
      "execution_count": 583,
      "outputs": [
        {
          "output_type": "stream",
          "text": [
            "total 5501\n",
            "-rw------- 1 root root 5275912 Nov 23 19:37 5-celebrity-faces-dataset.zip\n",
            "-rw------- 1 root root  275129 Apr 19 22:00 Train_data.csv\n",
            "-rw------- 1 root root   81346 Apr 19 22:00 Test_data.csv\n"
          ],
          "name": "stdout"
        }
      ]
    },
    {
      "cell_type": "code",
      "metadata": {
        "id": "p0DDnUneKsXZ"
      },
      "source": [
        "train_data = pd.read_csv('gdrive/MyDrive/ai-ml-datasets/Train_data.csv')\n",
        "test_data = pd.read_csv('gdrive/MyDrive/ai-ml-datasets/Test_data.csv')"
      ],
      "execution_count": 584,
      "outputs": []
    },
    {
      "cell_type": "markdown",
      "metadata": {
        "id": "mLUotaSkrBjN"
      },
      "source": [
        "# Exploratory Data Analysis (EDA)\n",
        "Perform all the exploratory data analysis steps here."
      ]
    },
    {
      "cell_type": "code",
      "metadata": {
        "id": "98wP1Ex_rIY0",
        "colab": {
          "base_uri": "https://localhost:8080/",
          "height": 222
        },
        "outputId": "cd9f34da-605d-4847-8ace-62325d648fae"
      },
      "source": [
        "train_data.head()"
      ],
      "execution_count": 585,
      "outputs": [
        {
          "output_type": "execute_result",
          "data": {
            "text/html": [
              "<div>\n",
              "<style scoped>\n",
              "    .dataframe tbody tr th:only-of-type {\n",
              "        vertical-align: middle;\n",
              "    }\n",
              "\n",
              "    .dataframe tbody tr th {\n",
              "        vertical-align: top;\n",
              "    }\n",
              "\n",
              "    .dataframe thead th {\n",
              "        text-align: right;\n",
              "    }\n",
              "</style>\n",
              "<table border=\"1\" class=\"dataframe\">\n",
              "  <thead>\n",
              "    <tr style=\"text-align: right;\">\n",
              "      <th></th>\n",
              "      <th>age</th>\n",
              "      <th>job_type</th>\n",
              "      <th>marital_status</th>\n",
              "      <th>education_level</th>\n",
              "      <th>default_or_not</th>\n",
              "      <th>balance_amt</th>\n",
              "      <th>household_insurance</th>\n",
              "      <th>car_loan</th>\n",
              "      <th>communication</th>\n",
              "      <th>last_contact_day</th>\n",
              "      <th>last_contact_month</th>\n",
              "      <th>no_of_contacts</th>\n",
              "      <th>days_passed</th>\n",
              "      <th>prev_attempts</th>\n",
              "      <th>Outcome</th>\n",
              "      <th>call_start</th>\n",
              "      <th>call_end</th>\n",
              "      <th>car_insurance</th>\n",
              "    </tr>\n",
              "  </thead>\n",
              "  <tbody>\n",
              "    <tr>\n",
              "      <th>0</th>\n",
              "      <td>47.000000</td>\n",
              "      <td>blue-collar</td>\n",
              "      <td>married</td>\n",
              "      <td>primary</td>\n",
              "      <td>0</td>\n",
              "      <td>1112.000000</td>\n",
              "      <td>1</td>\n",
              "      <td>0</td>\n",
              "      <td>cellular</td>\n",
              "      <td>13</td>\n",
              "      <td>may</td>\n",
              "      <td>1</td>\n",
              "      <td>-1</td>\n",
              "      <td>0</td>\n",
              "      <td>NaN</td>\n",
              "      <td>10:22:20</td>\n",
              "      <td>10:24:29</td>\n",
              "      <td>0</td>\n",
              "    </tr>\n",
              "    <tr>\n",
              "      <th>1</th>\n",
              "      <td>46.031442</td>\n",
              "      <td>management</td>\n",
              "      <td>married</td>\n",
              "      <td>tertiary</td>\n",
              "      <td>0</td>\n",
              "      <td>1.312372</td>\n",
              "      <td>0</td>\n",
              "      <td>1</td>\n",
              "      <td>cellular</td>\n",
              "      <td>15</td>\n",
              "      <td>may</td>\n",
              "      <td>3</td>\n",
              "      <td>219</td>\n",
              "      <td>1</td>\n",
              "      <td>other</td>\n",
              "      <td>09:06:30</td>\n",
              "      <td>13:59:48</td>\n",
              "      <td>1</td>\n",
              "    </tr>\n",
              "    <tr>\n",
              "      <th>2</th>\n",
              "      <td>36.000000</td>\n",
              "      <td>services</td>\n",
              "      <td>single</td>\n",
              "      <td>NaN</td>\n",
              "      <td>0</td>\n",
              "      <td>281.000000</td>\n",
              "      <td>1</td>\n",
              "      <td>0</td>\n",
              "      <td>NaN</td>\n",
              "      <td>16</td>\n",
              "      <td>may</td>\n",
              "      <td>1</td>\n",
              "      <td>-1</td>\n",
              "      <td>0</td>\n",
              "      <td>NaN</td>\n",
              "      <td>13:18:41</td>\n",
              "      <td>13:27:16</td>\n",
              "      <td>1</td>\n",
              "    </tr>\n",
              "    <tr>\n",
              "      <th>3</th>\n",
              "      <td>32.000000</td>\n",
              "      <td>technician</td>\n",
              "      <td>single</td>\n",
              "      <td>secondary</td>\n",
              "      <td>0</td>\n",
              "      <td>540.000000</td>\n",
              "      <td>0</td>\n",
              "      <td>1</td>\n",
              "      <td>cellular</td>\n",
              "      <td>29</td>\n",
              "      <td>jan</td>\n",
              "      <td>1</td>\n",
              "      <td>-1</td>\n",
              "      <td>0</td>\n",
              "      <td>NaN</td>\n",
              "      <td>10:09:18</td>\n",
              "      <td>10:21:48</td>\n",
              "      <td>1</td>\n",
              "    </tr>\n",
              "    <tr>\n",
              "      <th>4</th>\n",
              "      <td>30.000000</td>\n",
              "      <td>admin.</td>\n",
              "      <td>single</td>\n",
              "      <td>secondary</td>\n",
              "      <td>0</td>\n",
              "      <td>315.000000</td>\n",
              "      <td>1</td>\n",
              "      <td>0</td>\n",
              "      <td>cellular</td>\n",
              "      <td>14</td>\n",
              "      <td>may</td>\n",
              "      <td>3</td>\n",
              "      <td>346</td>\n",
              "      <td>4</td>\n",
              "      <td>failure</td>\n",
              "      <td>12:12:30</td>\n",
              "      <td>12:27:14</td>\n",
              "      <td>1</td>\n",
              "    </tr>\n",
              "  </tbody>\n",
              "</table>\n",
              "</div>"
            ],
            "text/plain": [
              "         age     job_type marital_status  ... call_start  call_end  car_insurance\n",
              "0  47.000000  blue-collar        married  ...   10:22:20  10:24:29              0\n",
              "1  46.031442   management        married  ...   09:06:30  13:59:48              1\n",
              "2  36.000000     services         single  ...   13:18:41  13:27:16              1\n",
              "3  32.000000   technician         single  ...   10:09:18  10:21:48              1\n",
              "4  30.000000       admin.         single  ...   12:12:30  12:27:14              1\n",
              "\n",
              "[5 rows x 18 columns]"
            ]
          },
          "metadata": {
            "tags": []
          },
          "execution_count": 585
        }
      ]
    },
    {
      "cell_type": "code",
      "metadata": {
        "id": "6ShPmXR7rJN3",
        "colab": {
          "base_uri": "https://localhost:8080/",
          "height": 222
        },
        "outputId": "f0c3e12b-488e-4a44-cc88-b1fb62b069cb"
      },
      "source": [
        "test_data.head()"
      ],
      "execution_count": 586,
      "outputs": [
        {
          "output_type": "execute_result",
          "data": {
            "text/html": [
              "<div>\n",
              "<style scoped>\n",
              "    .dataframe tbody tr th:only-of-type {\n",
              "        vertical-align: middle;\n",
              "    }\n",
              "\n",
              "    .dataframe tbody tr th {\n",
              "        vertical-align: top;\n",
              "    }\n",
              "\n",
              "    .dataframe thead th {\n",
              "        text-align: right;\n",
              "    }\n",
              "</style>\n",
              "<table border=\"1\" class=\"dataframe\">\n",
              "  <thead>\n",
              "    <tr style=\"text-align: right;\">\n",
              "      <th></th>\n",
              "      <th>age</th>\n",
              "      <th>job_type</th>\n",
              "      <th>marital_status</th>\n",
              "      <th>education_level</th>\n",
              "      <th>default_or_not</th>\n",
              "      <th>balance_amt</th>\n",
              "      <th>household_insurance</th>\n",
              "      <th>car_loan</th>\n",
              "      <th>communication</th>\n",
              "      <th>last_contact_day</th>\n",
              "      <th>last_contact_month</th>\n",
              "      <th>no_of_contacts</th>\n",
              "      <th>days_passed</th>\n",
              "      <th>prev_attempts</th>\n",
              "      <th>Outcome</th>\n",
              "      <th>call_start</th>\n",
              "      <th>call_end</th>\n",
              "    </tr>\n",
              "  </thead>\n",
              "  <tbody>\n",
              "    <tr>\n",
              "      <th>0</th>\n",
              "      <td>65.000000</td>\n",
              "      <td>retired</td>\n",
              "      <td>married</td>\n",
              "      <td>secondary</td>\n",
              "      <td>0</td>\n",
              "      <td>20806.0</td>\n",
              "      <td>0</td>\n",
              "      <td>0</td>\n",
              "      <td>telephone</td>\n",
              "      <td>8</td>\n",
              "      <td>apr</td>\n",
              "      <td>2</td>\n",
              "      <td>-1</td>\n",
              "      <td>0</td>\n",
              "      <td>NaN</td>\n",
              "      <td>12:22:13</td>\n",
              "      <td>12:30:56</td>\n",
              "    </tr>\n",
              "    <tr>\n",
              "      <th>1</th>\n",
              "      <td>36.000000</td>\n",
              "      <td>management</td>\n",
              "      <td>married</td>\n",
              "      <td>tertiary</td>\n",
              "      <td>0</td>\n",
              "      <td>900.0</td>\n",
              "      <td>1</td>\n",
              "      <td>0</td>\n",
              "      <td>NaN</td>\n",
              "      <td>15</td>\n",
              "      <td>may</td>\n",
              "      <td>2</td>\n",
              "      <td>-1</td>\n",
              "      <td>0</td>\n",
              "      <td>NaN</td>\n",
              "      <td>17:59:45</td>\n",
              "      <td>18:07:40</td>\n",
              "    </tr>\n",
              "    <tr>\n",
              "      <th>2</th>\n",
              "      <td>37.000000</td>\n",
              "      <td>management</td>\n",
              "      <td>married</td>\n",
              "      <td>tertiary</td>\n",
              "      <td>0</td>\n",
              "      <td>6771.0</td>\n",
              "      <td>0</td>\n",
              "      <td>0</td>\n",
              "      <td>cellular</td>\n",
              "      <td>7</td>\n",
              "      <td>sep</td>\n",
              "      <td>1</td>\n",
              "      <td>186</td>\n",
              "      <td>1</td>\n",
              "      <td>success</td>\n",
              "      <td>14:05:19</td>\n",
              "      <td>14:10:56</td>\n",
              "    </tr>\n",
              "    <tr>\n",
              "      <th>3</th>\n",
              "      <td>30.065066</td>\n",
              "      <td>management</td>\n",
              "      <td>single</td>\n",
              "      <td>tertiary</td>\n",
              "      <td>0</td>\n",
              "      <td>0.0</td>\n",
              "      <td>0</td>\n",
              "      <td>0</td>\n",
              "      <td>cellular</td>\n",
              "      <td>14</td>\n",
              "      <td>may</td>\n",
              "      <td>2</td>\n",
              "      <td>-1</td>\n",
              "      <td>0</td>\n",
              "      <td>NaN</td>\n",
              "      <td>17:33:27</td>\n",
              "      <td>09:47:54</td>\n",
              "    </tr>\n",
              "    <tr>\n",
              "      <th>4</th>\n",
              "      <td>41.000000</td>\n",
              "      <td>management</td>\n",
              "      <td>married</td>\n",
              "      <td>tertiary</td>\n",
              "      <td>0</td>\n",
              "      <td>328.0</td>\n",
              "      <td>1</td>\n",
              "      <td>0</td>\n",
              "      <td>cellular</td>\n",
              "      <td>29</td>\n",
              "      <td>jul</td>\n",
              "      <td>12</td>\n",
              "      <td>-1</td>\n",
              "      <td>0</td>\n",
              "      <td>NaN</td>\n",
              "      <td>14:40:26</td>\n",
              "      <td>14:41:31</td>\n",
              "    </tr>\n",
              "  </tbody>\n",
              "</table>\n",
              "</div>"
            ],
            "text/plain": [
              "         age    job_type marital_status  ...  Outcome  call_start  call_end\n",
              "0  65.000000     retired        married  ...      NaN    12:22:13  12:30:56\n",
              "1  36.000000  management        married  ...      NaN    17:59:45  18:07:40\n",
              "2  37.000000  management        married  ...  success    14:05:19  14:10:56\n",
              "3  30.065066  management         single  ...      NaN    17:33:27  09:47:54\n",
              "4  41.000000  management        married  ...      NaN    14:40:26  14:41:31\n",
              "\n",
              "[5 rows x 17 columns]"
            ]
          },
          "metadata": {
            "tags": []
          },
          "execution_count": 586
        }
      ]
    },
    {
      "cell_type": "code",
      "metadata": {
        "id": "i7haAUoBrJ0q",
        "colab": {
          "base_uri": "https://localhost:8080/"
        },
        "outputId": "0bb74b60-d18d-4ded-ad7d-5e83def993bf"
      },
      "source": [
        "print('shape of the training dataset is {}'.format(train_data.shape))\n",
        "print('shape of the test dataset is {}'.format(test_data.shape))"
      ],
      "execution_count": 587,
      "outputs": [
        {
          "output_type": "stream",
          "text": [
            "shape of the training dataset is (3102, 18)\n",
            "shape of the test dataset is (935, 17)\n"
          ],
          "name": "stdout"
        }
      ]
    },
    {
      "cell_type": "code",
      "metadata": {
        "colab": {
          "base_uri": "https://localhost:8080/",
          "height": 314
        },
        "id": "kOBg_mMb7SJS",
        "outputId": "435f7025-0522-45ea-f804-fbd8c07800ba"
      },
      "source": [
        "train_data.describe()"
      ],
      "execution_count": 588,
      "outputs": [
        {
          "output_type": "execute_result",
          "data": {
            "text/html": [
              "<div>\n",
              "<style scoped>\n",
              "    .dataframe tbody tr th:only-of-type {\n",
              "        vertical-align: middle;\n",
              "    }\n",
              "\n",
              "    .dataframe tbody tr th {\n",
              "        vertical-align: top;\n",
              "    }\n",
              "\n",
              "    .dataframe thead th {\n",
              "        text-align: right;\n",
              "    }\n",
              "</style>\n",
              "<table border=\"1\" class=\"dataframe\">\n",
              "  <thead>\n",
              "    <tr style=\"text-align: right;\">\n",
              "      <th></th>\n",
              "      <th>age</th>\n",
              "      <th>default_or_not</th>\n",
              "      <th>balance_amt</th>\n",
              "      <th>household_insurance</th>\n",
              "      <th>car_loan</th>\n",
              "      <th>last_contact_day</th>\n",
              "      <th>no_of_contacts</th>\n",
              "      <th>days_passed</th>\n",
              "      <th>prev_attempts</th>\n",
              "      <th>car_insurance</th>\n",
              "    </tr>\n",
              "  </thead>\n",
              "  <tbody>\n",
              "    <tr>\n",
              "      <th>count</th>\n",
              "      <td>3102.000000</td>\n",
              "      <td>3102.000000</td>\n",
              "      <td>3102.000000</td>\n",
              "      <td>3102.000000</td>\n",
              "      <td>3102.000000</td>\n",
              "      <td>3102.000000</td>\n",
              "      <td>3102.000000</td>\n",
              "      <td>3102.000000</td>\n",
              "      <td>3102.000000</td>\n",
              "      <td>3102.000000</td>\n",
              "    </tr>\n",
              "    <tr>\n",
              "      <th>mean</th>\n",
              "      <td>41.325847</td>\n",
              "      <td>0.014507</td>\n",
              "      <td>1543.067240</td>\n",
              "      <td>0.465184</td>\n",
              "      <td>0.114442</td>\n",
              "      <td>15.353965</td>\n",
              "      <td>2.356867</td>\n",
              "      <td>52.419084</td>\n",
              "      <td>0.792392</td>\n",
              "      <td>0.567376</td>\n",
              "    </tr>\n",
              "    <tr>\n",
              "      <th>std</th>\n",
              "      <td>11.517698</td>\n",
              "      <td>0.119587</td>\n",
              "      <td>3301.474598</td>\n",
              "      <td>0.498867</td>\n",
              "      <td>0.318399</td>\n",
              "      <td>8.164255</td>\n",
              "      <td>2.594238</td>\n",
              "      <td>109.231364</td>\n",
              "      <td>2.224740</td>\n",
              "      <td>0.495520</td>\n",
              "    </tr>\n",
              "    <tr>\n",
              "      <th>min</th>\n",
              "      <td>18.000000</td>\n",
              "      <td>0.000000</td>\n",
              "      <td>-3058.000000</td>\n",
              "      <td>0.000000</td>\n",
              "      <td>0.000000</td>\n",
              "      <td>1.000000</td>\n",
              "      <td>1.000000</td>\n",
              "      <td>-1.000000</td>\n",
              "      <td>0.000000</td>\n",
              "      <td>0.000000</td>\n",
              "    </tr>\n",
              "    <tr>\n",
              "      <th>25%</th>\n",
              "      <td>32.000000</td>\n",
              "      <td>0.000000</td>\n",
              "      <td>123.821352</td>\n",
              "      <td>0.000000</td>\n",
              "      <td>0.000000</td>\n",
              "      <td>8.000000</td>\n",
              "      <td>1.000000</td>\n",
              "      <td>-1.000000</td>\n",
              "      <td>0.000000</td>\n",
              "      <td>0.000000</td>\n",
              "    </tr>\n",
              "    <tr>\n",
              "      <th>50%</th>\n",
              "      <td>39.000000</td>\n",
              "      <td>0.000000</td>\n",
              "      <td>589.000000</td>\n",
              "      <td>0.000000</td>\n",
              "      <td>0.000000</td>\n",
              "      <td>15.000000</td>\n",
              "      <td>2.000000</td>\n",
              "      <td>-1.000000</td>\n",
              "      <td>0.000000</td>\n",
              "      <td>1.000000</td>\n",
              "    </tr>\n",
              "    <tr>\n",
              "      <th>75%</th>\n",
              "      <td>49.000000</td>\n",
              "      <td>0.000000</td>\n",
              "      <td>1696.000000</td>\n",
              "      <td>1.000000</td>\n",
              "      <td>0.000000</td>\n",
              "      <td>21.000000</td>\n",
              "      <td>3.000000</td>\n",
              "      <td>56.750000</td>\n",
              "      <td>1.000000</td>\n",
              "      <td>1.000000</td>\n",
              "    </tr>\n",
              "    <tr>\n",
              "      <th>max</th>\n",
              "      <td>92.000000</td>\n",
              "      <td>1.000000</td>\n",
              "      <td>52587.000000</td>\n",
              "      <td>1.000000</td>\n",
              "      <td>1.000000</td>\n",
              "      <td>31.000000</td>\n",
              "      <td>43.000000</td>\n",
              "      <td>854.000000</td>\n",
              "      <td>58.000000</td>\n",
              "      <td>1.000000</td>\n",
              "    </tr>\n",
              "  </tbody>\n",
              "</table>\n",
              "</div>"
            ],
            "text/plain": [
              "               age  default_or_not  ...  prev_attempts  car_insurance\n",
              "count  3102.000000     3102.000000  ...    3102.000000    3102.000000\n",
              "mean     41.325847        0.014507  ...       0.792392       0.567376\n",
              "std      11.517698        0.119587  ...       2.224740       0.495520\n",
              "min      18.000000        0.000000  ...       0.000000       0.000000\n",
              "25%      32.000000        0.000000  ...       0.000000       0.000000\n",
              "50%      39.000000        0.000000  ...       0.000000       1.000000\n",
              "75%      49.000000        0.000000  ...       1.000000       1.000000\n",
              "max      92.000000        1.000000  ...      58.000000       1.000000\n",
              "\n",
              "[8 rows x 10 columns]"
            ]
          },
          "metadata": {
            "tags": []
          },
          "execution_count": 588
        }
      ]
    },
    {
      "cell_type": "code",
      "metadata": {
        "colab": {
          "base_uri": "https://localhost:8080/"
        },
        "id": "Bk-NWhPcSBZR",
        "outputId": "feb6d849-7806-405b-f24e-ca53a242e744"
      },
      "source": [
        "train_data.info()"
      ],
      "execution_count": 589,
      "outputs": [
        {
          "output_type": "stream",
          "text": [
            "<class 'pandas.core.frame.DataFrame'>\n",
            "RangeIndex: 3102 entries, 0 to 3101\n",
            "Data columns (total 18 columns):\n",
            " #   Column               Non-Null Count  Dtype  \n",
            "---  ------               --------------  -----  \n",
            " 0   age                  3102 non-null   float64\n",
            " 1   job_type             3091 non-null   object \n",
            " 2   marital_status       3102 non-null   object \n",
            " 3   education_level      2989 non-null   object \n",
            " 4   default_or_not       3102 non-null   int64  \n",
            " 5   balance_amt          3102 non-null   float64\n",
            " 6   household_insurance  3102 non-null   int64  \n",
            " 7   car_loan             3102 non-null   int64  \n",
            " 8   communication        2559 non-null   object \n",
            " 9   last_contact_day     3102 non-null   int64  \n",
            " 10  last_contact_month   3102 non-null   object \n",
            " 11  no_of_contacts       3102 non-null   int64  \n",
            " 12  days_passed          3102 non-null   int64  \n",
            " 13  prev_attempts        3102 non-null   int64  \n",
            " 14  Outcome              751 non-null    object \n",
            " 15  call_start           3102 non-null   object \n",
            " 16  call_end             3102 non-null   object \n",
            " 17  car_insurance        3102 non-null   int64  \n",
            "dtypes: float64(2), int64(8), object(8)\n",
            "memory usage: 436.3+ KB\n"
          ],
          "name": "stdout"
        }
      ]
    },
    {
      "cell_type": "code",
      "metadata": {
        "colab": {
          "base_uri": "https://localhost:8080/"
        },
        "id": "PCkVf3RKwmNM",
        "outputId": "4d801178-644c-4be5-90a5-5ac88739cd4f"
      },
      "source": [
        "train_data.isnull().sum()"
      ],
      "execution_count": 590,
      "outputs": [
        {
          "output_type": "execute_result",
          "data": {
            "text/plain": [
              "age                       0\n",
              "job_type                 11\n",
              "marital_status            0\n",
              "education_level         113\n",
              "default_or_not            0\n",
              "balance_amt               0\n",
              "household_insurance       0\n",
              "car_loan                  0\n",
              "communication           543\n",
              "last_contact_day          0\n",
              "last_contact_month        0\n",
              "no_of_contacts            0\n",
              "days_passed               0\n",
              "prev_attempts             0\n",
              "Outcome                2351\n",
              "call_start                0\n",
              "call_end                  0\n",
              "car_insurance             0\n",
              "dtype: int64"
            ]
          },
          "metadata": {
            "tags": []
          },
          "execution_count": 590
        }
      ]
    },
    {
      "cell_type": "code",
      "metadata": {
        "id": "28GCdbUzR33G"
      },
      "source": [
        "train_data['last_contact_month'].value_counts()"
      ],
      "execution_count": null,
      "outputs": []
    },
    {
      "cell_type": "code",
      "metadata": {
        "colab": {
          "base_uri": "https://localhost:8080/"
        },
        "id": "8fbm4aSeweUR",
        "outputId": "9c784903-eabb-488c-d610-9ac102cf213a"
      },
      "source": [
        "train_data['job_type'].value_counts()"
      ],
      "execution_count": 594,
      "outputs": [
        {
          "output_type": "execute_result",
          "data": {
            "text/plain": [
              "management       724\n",
              "blue-collar      544\n",
              "technician       526\n",
              "admin.           346\n",
              "services         231\n",
              "retired          193\n",
              "unemployed       146\n",
              "student          119\n",
              "self-employed    106\n",
              "housemaid         80\n",
              "entrepreneur      76\n",
              "Name: job_type, dtype: int64"
            ]
          },
          "metadata": {
            "tags": []
          },
          "execution_count": 594
        }
      ]
    },
    {
      "cell_type": "code",
      "metadata": {
        "colab": {
          "base_uri": "https://localhost:8080/"
        },
        "id": "AUQXcRRYwyQB",
        "outputId": "6670d34c-0970-4985-db89-928a86bea416"
      },
      "source": [
        "train_data['education_level'].value_counts()"
      ],
      "execution_count": 595,
      "outputs": [
        {
          "output_type": "execute_result",
          "data": {
            "text/plain": [
              "secondary    1569\n",
              "tertiary     1030\n",
              "primary       390\n",
              "Name: education_level, dtype: int64"
            ]
          },
          "metadata": {
            "tags": []
          },
          "execution_count": 595
        }
      ]
    },
    {
      "cell_type": "code",
      "metadata": {
        "colab": {
          "base_uri": "https://localhost:8080/"
        },
        "id": "Csdq1QRdxFbw",
        "outputId": "67acee10-2cd6-4cce-ce1d-98ee27130b60"
      },
      "source": [
        "train_data['communication'].value_counts()"
      ],
      "execution_count": 596,
      "outputs": [
        {
          "output_type": "execute_result",
          "data": {
            "text/plain": [
              "cellular     2397\n",
              "telephone     162\n",
              "Name: communication, dtype: int64"
            ]
          },
          "metadata": {
            "tags": []
          },
          "execution_count": 596
        }
      ]
    },
    {
      "cell_type": "code",
      "metadata": {
        "colab": {
          "base_uri": "https://localhost:8080/"
        },
        "id": "fmGHul-YxQvU",
        "outputId": "1e57a63e-ea7a-459e-f8ee-46f39179b68c"
      },
      "source": [
        "train_data['Outcome'].value_counts()"
      ],
      "execution_count": 597,
      "outputs": [
        {
          "output_type": "execute_result",
          "data": {
            "text/plain": [
              "failure    309\n",
              "success    299\n",
              "other      143\n",
              "Name: Outcome, dtype: int64"
            ]
          },
          "metadata": {
            "tags": []
          },
          "execution_count": 597
        }
      ]
    },
    {
      "cell_type": "code",
      "metadata": {
        "colab": {
          "base_uri": "https://localhost:8080/",
          "height": 602
        },
        "id": "NqqyumeqPNFC",
        "outputId": "a9d4527d-edb5-441b-e87b-aaea6e714b19"
      },
      "source": [
        "plt.figure(figsize=(18,8))\n",
        "sns.heatmap(train_data.corr(), annot=True,cmap=plt.cm.RdYlGn_r)   \n",
        "plt.show()"
      ],
      "execution_count": 656,
      "outputs": [
        {
          "output_type": "display_data",
          "data": {
            "image/png": "[encoded data removed]",
            "text/plain": [
              "<Figure size 1296x576 with 2 Axes>"
            ]
          },
          "metadata": {
            "tags": [],
            "needs_background": "light"
          }
        }
      ]
    },
    {
      "cell_type": "markdown",
      "metadata": {
        "id": "fGnUSIBcrKXR"
      },
      "source": [
        "# Data Cleaning and Data Preprocessing\n",
        "Perform all the data cleaning and data preprocessing steps here."
      ]
    },
    {
      "cell_type": "code",
      "metadata": {
        "id": "DF-NA51nHOmS"
      },
      "source": [
        "start_time = pd.to_datetime(train_data['call_start'].astype(str))\n",
        "end_time = pd.to_datetime(train_data['call_end'].astype(str))\n",
        "train_data['call_duration_mins']= end_time.sub(start_time).dt.total_seconds().div(60)"
      ],
      "execution_count": 599,
      "outputs": []
    },
    {
      "cell_type": "code",
      "metadata": {
        "id": "_96OPGD6WRXY"
      },
      "source": [
        "# display \n",
        "train_data['last_contact_month']=train_data['last_contact_month'].str.capitalize()\n",
        "train_data['last_contact_month_num']=train_data['last_contact_month'].apply(lambda x:strptime( x,'%b').tm_mon)"
      ],
      "execution_count": 600,
      "outputs": []
    },
    {
      "cell_type": "code",
      "metadata": {
        "id": "COyZ7xISY3IR"
      },
      "source": [
        "# drop columns\n",
        "train_data.drop(columns=['call_start','call_end','last_contact_month'], inplace=True)"
      ],
      "execution_count": 602,
      "outputs": []
    },
    {
      "cell_type": "code",
      "metadata": {
        "id": "bsZGdhqop_7D"
      },
      "source": [
        "# segregate label and depedent variables \n",
        "X = train_data.drop(['car_insurance'],axis=1)\n",
        "y = train_data['car_insurance']"
      ],
      "execution_count": 604,
      "outputs": []
    },
    {
      "cell_type": "code",
      "metadata": {
        "colab": {
          "base_uri": "https://localhost:8080/"
        },
        "id": "4iUDFKI6PmNb",
        "outputId": "a48120eb-526b-456d-be18-7e5ffba2dca0"
      },
      "source": [
        "### check for class imbalance\n",
        "train_data['car_insurance'].value_counts()"
      ],
      "execution_count": 605,
      "outputs": [
        {
          "output_type": "execute_result",
          "data": {
            "text/plain": [
              "1    1760\n",
              "0    1342\n",
              "Name: car_insurance, dtype: int64"
            ]
          },
          "metadata": {
            "tags": []
          },
          "execution_count": 605
        }
      ]
    },
    {
      "cell_type": "code",
      "metadata": {
        "colab": {
          "base_uri": "https://localhost:8080/"
        },
        "id": "wb7FdjN9q8wQ",
        "outputId": "869ab20f-8499-449b-ecc8-a3b7dddf8b04"
      },
      "source": [
        "print('shape of the features', X.shape)\n",
        "print('shape of the labels', y.shape)"
      ],
      "execution_count": 606,
      "outputs": [
        {
          "output_type": "execute_result",
          "data": {
            "text/plain": [
              "(3102, 16)"
            ]
          },
          "metadata": {
            "tags": []
          },
          "execution_count": 606
        }
      ]
    },
    {
      "cell_type": "code",
      "metadata": {
        "colab": {
          "base_uri": "https://localhost:8080/"
        },
        "id": "m3x7-L6wk1Wv",
        "outputId": "cc304bda-510e-4d4f-c244-dc6e8d1251de"
      },
      "source": [
        "### check for blank values in each feature \n",
        "train_data.isnull().sum()"
      ],
      "execution_count": 610,
      "outputs": [
        {
          "output_type": "execute_result",
          "data": {
            "text/plain": [
              "age                          0\n",
              "job_type                    11\n",
              "marital_status               0\n",
              "education_level            113\n",
              "default_or_not               0\n",
              "balance_amt                  0\n",
              "household_insurance          0\n",
              "car_loan                     0\n",
              "communication              543\n",
              "last_contact_day             0\n",
              "no_of_contacts               0\n",
              "days_passed                  0\n",
              "prev_attempts                0\n",
              "Outcome                   2351\n",
              "car_insurance                0\n",
              "call_duration_mins           0\n",
              "last_contact_month_num       0\n",
              "dtype: int64"
            ]
          },
          "metadata": {
            "tags": []
          },
          "execution_count": 610
        }
      ]
    },
    {
      "cell_type": "code",
      "metadata": {
        "id": "WkacnekInVvO"
      },
      "source": [
        "#classify categorical and numeric features\n",
        "numeric_features = X.select_dtypes(exclude=[object]).columns\n",
        "categorical_features = X.select_dtypes(include=[object]).columns"
      ],
      "execution_count": 611,
      "outputs": []
    },
    {
      "cell_type": "code",
      "metadata": {
        "colab": {
          "base_uri": "https://localhost:8080/"
        },
        "id": "fs60D_pWYh92",
        "outputId": "d5ffe388-f301-498b-ab79-d8182514e24f"
      },
      "source": [
        "### list of the numerical features\n",
        "numeric_features"
      ],
      "execution_count": 616,
      "outputs": [
        {
          "output_type": "execute_result",
          "data": {
            "text/plain": [
              "Index(['age', 'default_or_not', 'balance_amt', 'household_insurance',\n",
              "       'car_loan', 'last_contact_day', 'no_of_contacts', 'days_passed',\n",
              "       'prev_attempts', 'call_duration_mins', 'last_contact_month_num'],\n",
              "      dtype='object')"
            ]
          },
          "metadata": {
            "tags": []
          },
          "execution_count": 616
        }
      ]
    },
    {
      "cell_type": "code",
      "metadata": {
        "colab": {
          "base_uri": "https://localhost:8080/"
        },
        "id": "soYGQvrtYkzh",
        "outputId": "54f38e0b-5d5f-4b39-e67f-64545bbfc8be"
      },
      "source": [
        "### list of the categorical features\n",
        "categorical_features"
      ],
      "execution_count": 617,
      "outputs": [
        {
          "output_type": "execute_result",
          "data": {
            "text/plain": [
              "Index(['job_type', 'marital_status', 'education_level', 'communication',\n",
              "       'Outcome'],\n",
              "      dtype='object')"
            ]
          },
          "metadata": {
            "tags": []
          },
          "execution_count": 617
        }
      ]
    },
    {
      "cell_type": "code",
      "metadata": {
        "id": "Xfi77URKnwtZ"
      },
      "source": [
        "### setup pipeline for numerical features\n",
        "numeric_transformer = Pipeline(steps=[\n",
        "    ('imputer', SimpleImputer(strategy='median')),\n",
        "    ('scaler', StandardScaler())\n",
        "    ])"
      ],
      "execution_count": 612,
      "outputs": []
    },
    {
      "cell_type": "code",
      "metadata": {
        "id": "zeDeFr0AX-E7"
      },
      "source": [
        "### setup pipeline for categorical features\n",
        "categorical_transformer = Pipeline(steps=[\n",
        "    ('imputer', SimpleImputer(missing_values=np.NaN, strategy='constant', fill_value='most_frequent')),\n",
        "    ('oneHot', OneHotEncoder(handle_unknown='ignore'))])"
      ],
      "execution_count": 613,
      "outputs": []
    },
    {
      "cell_type": "code",
      "metadata": {
        "id": "z9FE99rWpDSp"
      },
      "source": [
        "### setup column transformer\n",
        "preprocessor = ColumnTransformer(\n",
        "    transformers=[\n",
        "        ('num', numeric_transformer, numeric_features),\n",
        "        ('cat', categorical_transformer, categorical_features)])"
      ],
      "execution_count": 614,
      "outputs": []
    },
    {
      "cell_type": "markdown",
      "metadata": {
        "id": "gUbtKo3BrVpO"
      },
      "source": [
        "# Build Machine Learning Model & Evaluate it\n",
        "Build your all the machine learning model and check their performance on the validation dataset (i.e. the test dataset that you splitted using ***train_test_split***) here."
      ]
    },
    {
      "cell_type": "markdown",
      "metadata": {
        "id": "U2xFTxHaY9Dy"
      },
      "source": [
        "**`Create a Baseline Model`**"
      ]
    },
    {
      "cell_type": "code",
      "metadata": {
        "id": "BUUEKtmnpPPq"
      },
      "source": [
        "# Append classifier to preprocessing pipeline.\n",
        "# Now we have a full prediction pipeline.\n",
        "clf = Pipeline(steps=[('preprocessor', preprocessor),\n",
        "                      ('classifier', LogisticRegression())])"
      ],
      "execution_count": 618,
      "outputs": []
    },
    {
      "cell_type": "code",
      "metadata": {
        "id": "0T_VjJ2trSEh"
      },
      "source": [
        "X_train, X_test, y_train, y_test = train_test_split(X, y, test_size=0.33, random_state=42)"
      ],
      "execution_count": 619,
      "outputs": []
    },
    {
      "cell_type": "code",
      "metadata": {
        "id": "G2TkdKS7rU7C",
        "colab": {
          "base_uri": "https://localhost:8080/"
        },
        "outputId": "21de65ed-1a1b-4d6c-d483-c10959faf703"
      },
      "source": [
        "clf.fit(X_train, y_train)"
      ],
      "execution_count": 620,
      "outputs": [
        {
          "output_type": "execute_result",
          "data": {
            "text/plain": [
              "Pipeline(memory=None,\n",
              "         steps=[('preprocessor',\n",
              "                 ColumnTransformer(n_jobs=None, remainder='drop',\n",
              "                                   sparse_threshold=0.3,\n",
              "                                   transformer_weights=None,\n",
              "                                   transformers=[('num',\n",
              "                                                  Pipeline(memory=None,\n",
              "                                                           steps=[('imputer',\n",
              "                                                                   SimpleImputer(add_indicator=False,\n",
              "                                                                                 copy=True,\n",
              "                                                                                 fill_value=None,\n",
              "                                                                                 missing_values=nan,\n",
              "                                                                                 strategy='median',\n",
              "                                                                                 verbose=0)),\n",
              "                                                                  ('scaler',\n",
              "                                                                   StandardScaler(copy=True,\n",
              "                                                                                  with_mean...\n",
              "                                                  Index(['job_type', 'marital_status', 'education_level', 'communication',\n",
              "       'Outcome'],\n",
              "      dtype='object'))],\n",
              "                                   verbose=False)),\n",
              "                ('classifier',\n",
              "                 LogisticRegression(C=1.0, class_weight=None, dual=False,\n",
              "                                    fit_intercept=True, intercept_scaling=1,\n",
              "                                    l1_ratio=None, max_iter=100,\n",
              "                                    multi_class='auto', n_jobs=None,\n",
              "                                    penalty='l2', random_state=None,\n",
              "                                    solver='lbfgs', tol=0.0001, verbose=0,\n",
              "                                    warm_start=False))],\n",
              "         verbose=False)"
            ]
          },
          "metadata": {
            "tags": []
          },
          "execution_count": 620
        }
      ]
    },
    {
      "cell_type": "code",
      "metadata": {
        "id": "QQdkwkJOrVSg",
        "colab": {
          "base_uri": "https://localhost:8080/"
        },
        "outputId": "3243ed9d-2b76-452d-e006-fea5a763f1c5"
      },
      "source": [
        "print(\"model score: %.3f\" % clf.score(X_test, y_test))"
      ],
      "execution_count": 621,
      "outputs": [
        {
          "output_type": "stream",
          "text": [
            "model score: 0.675\n"
          ],
          "name": "stdout"
        }
      ]
    },
    {
      "cell_type": "code",
      "metadata": {
        "id": "5OhlMOkahtTA"
      },
      "source": [
        "y_pred = clf.predict(X_test)"
      ],
      "execution_count": 622,
      "outputs": []
    },
    {
      "cell_type": "code",
      "metadata": {
        "colab": {
          "base_uri": "https://localhost:8080/"
        },
        "id": "QKX1rPNsiXD3",
        "outputId": "220f568a-b330-4954-8261-96bedd6567ec"
      },
      "source": [
        "from sklearn.metrics import classification_report, confusion_matrix\n",
        "print(confusion_matrix(y_test, y_pred, ))"
      ],
      "execution_count": 624,
      "outputs": [
        {
          "output_type": "stream",
          "text": [
            "[[251 192]\n",
            " [141 440]]\n"
          ],
          "name": "stdout"
        }
      ]
    },
    {
      "cell_type": "code",
      "metadata": {
        "colab": {
          "base_uri": "https://localhost:8080/"
        },
        "id": "FtueXx3kr25j",
        "outputId": "95528bfd-96bd-404b-cdd3-6dc28de333e8"
      },
      "source": [
        "print(classification_report(y_test, y_pred,))"
      ],
      "execution_count": 625,
      "outputs": [
        {
          "output_type": "stream",
          "text": [
            "              precision    recall  f1-score   support\n",
            "\n",
            "           0       0.64      0.57      0.60       443\n",
            "           1       0.70      0.76      0.73       581\n",
            "\n",
            "    accuracy                           0.67      1024\n",
            "   macro avg       0.67      0.66      0.66      1024\n",
            "weighted avg       0.67      0.67      0.67      1024\n",
            "\n"
          ],
          "name": "stdout"
        }
      ]
    },
    {
      "cell_type": "code",
      "metadata": {
        "colab": {
          "base_uri": "https://localhost:8080/",
          "height": 279
        },
        "id": "ah-HvFxtusRY",
        "outputId": "f56644b2-73cb-452f-e4a9-81257f2b1902"
      },
      "source": [
        "from sklearn.metrics import plot_confusion_matrix\n",
        "plot_confusion_matrix(clf, X_test, y_test,normalize='all') \n",
        "plt.show()"
      ],
      "execution_count": 626,
      "outputs": [
        {
          "output_type": "display_data",
          "data": {
            "image/png": "[encoded data removed]",
            "text/plain": [
              "<Figure size 432x288 with 2 Axes>"
            ]
          },
          "metadata": {
            "tags": [],
            "needs_background": "light"
          }
        }
      ]
    },
    {
      "cell_type": "code",
      "metadata": {
        "colab": {
          "base_uri": "https://localhost:8080/"
        },
        "id": "5UbkrYDD_ZYY",
        "outputId": "fc716f93-ada0-4d07-da5f-33a75b1b0a2a"
      },
      "source": [
        "# Append classifier to preprocessing pipeline.\n",
        "# Now we have a full prediction pipeline.\n",
        "rfc = Pipeline(steps=[('preprocessor', preprocessor),\n",
        "                      ('classifier', RandomForestClassifier())])\n",
        "\n",
        "X_train, X_test, y_train, y_test = train_test_split(X, y, test_size=0.33, random_state=42)\n",
        "\n",
        "rfc.fit(X_train, y_train)\n"
      ],
      "execution_count": 628,
      "outputs": [
        {
          "output_type": "execute_result",
          "data": {
            "text/plain": [
              "Pipeline(memory=None,\n",
              "         steps=[('preprocessor',\n",
              "                 ColumnTransformer(n_jobs=None, remainder='drop',\n",
              "                                   sparse_threshold=0.3,\n",
              "                                   transformer_weights=None,\n",
              "                                   transformers=[('num',\n",
              "                                                  Pipeline(memory=None,\n",
              "                                                           steps=[('imputer',\n",
              "                                                                   SimpleImputer(add_indicator=False,\n",
              "                                                                                 copy=True,\n",
              "                                                                                 fill_value=None,\n",
              "                                                                                 missing_values=nan,\n",
              "                                                                                 strategy='median',\n",
              "                                                                                 verbose=0)),\n",
              "                                                                  ('scaler',\n",
              "                                                                   StandardScaler(copy=True,\n",
              "                                                                                  with_mean...\n",
              "                 RandomForestClassifier(bootstrap=True, ccp_alpha=0.0,\n",
              "                                        class_weight=None, criterion='gini',\n",
              "                                        max_depth=None, max_features='auto',\n",
              "                                        max_leaf_nodes=None, max_samples=None,\n",
              "                                        min_impurity_decrease=0.0,\n",
              "                                        min_impurity_split=None,\n",
              "                                        min_samples_leaf=1, min_samples_split=2,\n",
              "                                        min_weight_fraction_leaf=0.0,\n",
              "                                        n_estimators=100, n_jobs=None,\n",
              "                                        oob_score=False, random_state=None,\n",
              "                                        verbose=0, warm_start=False))],\n",
              "         verbose=False)"
            ]
          },
          "metadata": {
            "tags": []
          },
          "execution_count": 628
        }
      ]
    },
    {
      "cell_type": "code",
      "metadata": {
        "id": "hxnQpucf_vHh"
      },
      "source": [
        "y_pred_rfc = rfc.predict(X_test)"
      ],
      "execution_count": 629,
      "outputs": []
    },
    {
      "cell_type": "code",
      "metadata": {
        "colab": {
          "base_uri": "https://localhost:8080/",
          "height": 487
        },
        "id": "pFcklJQ7_68E",
        "outputId": "f15ffee3-cc72-4495-ecad-c881b3b06428"
      },
      "source": [
        "print(classification_report(y_test, y_pred_rfc,))\n",
        "print('training score....', accuracy_score(y_train, rfc.predict(X_train)))\n",
        "print('test score....', accuracy_score(y_test, rfc.predict(X_test)))\n",
        "print('AUC ROC, area under the curve...', roc_auc_score(y_test,rfc.predict(X_test) ))\n",
        "\n",
        "\n",
        "plot_confusion_matrix(rfc, X_test, y_test,normalize='all') \n",
        "plt.show()\n",
        "\n"
      ],
      "execution_count": 630,
      "outputs": [
        {
          "output_type": "stream",
          "text": [
            "              precision    recall  f1-score   support\n",
            "\n",
            "           0       0.86      0.84      0.85       443\n",
            "           1       0.88      0.90      0.89       581\n",
            "\n",
            "    accuracy                           0.87      1024\n",
            "   macro avg       0.87      0.87      0.87      1024\n",
            "weighted avg       0.87      0.87      0.87      1024\n",
            "\n",
            "training score.... 1.0\n",
            "test score.... 0.8720703125\n",
            "AUC ROC, area under the curve... 0.8676932819960914\n"
          ],
          "name": "stdout"
        },
        {
          "output_type": "display_data",
          "data": {
            "image/png": "[encoded data removed]",
            "text/plain": [
              "<Figure size 432x288 with 2 Axes>"
            ]
          },
          "metadata": {
            "tags": [],
            "needs_background": "light"
          }
        }
      ]
    },
    {
      "cell_type": "code",
      "metadata": {
        "colab": {
          "base_uri": "https://localhost:8080/"
        },
        "id": "JhHHtlqR9TQU",
        "outputId": "29db114b-a958-473a-a959-468edd1c9596"
      },
      "source": [
        "from sklearn.model_selection import GridSearchCV, RandomizedSearchCV\n",
        "rfc = Pipeline(steps=[('preprocessor', preprocessor),\n",
        "                      ('classifier', RandomForestClassifier())])\n",
        "parameters = {\n",
        "    'classifier__n_estimators':[50,100,150,250,300,],\n",
        "    'classifier__max_depth':[16,32,50, 70,None],\n",
        "    'classifier__learning_rate':[0.1, 0.3,0.5,1],\n",
        "    'classifier__num_leaves':[45,50,70,100,125, 150],\n",
        "}\n",
        "\n",
        "gcv_rfc = GridSearchCV(rfc, parameters, cv=10)\n",
        "gcv.fit(X_train, y_train)\n",
        "\n",
        "print(gcv)"
      ],
      "execution_count": 651,
      "outputs": [
        {
          "output_type": "stream",
          "text": [
            "GridSearchCV(cv=10, error_score=nan,\n",
            "             estimator=Pipeline(memory=None,\n",
            "                                steps=[('preprocessor',\n",
            "                                        ColumnTransformer(n_jobs=None,\n",
            "                                                          remainder='drop',\n",
            "                                                          sparse_threshold=0.3,\n",
            "                                                          transformer_weights=None,\n",
            "                                                          transformers=[('num',\n",
            "                                                                         Pipeline(memory=None,\n",
            "                                                                                  steps=[('imputer',\n",
            "                                                                                          SimpleImputer(add_indicator=False,\n",
            "                                                                                                        copy=True,\n",
            "                                                                                                        fill_value=None,\n",
            "                                                                                                        missing_values=nan,\n",
            "                                                                                                        strategy='median',\n",
            "                                                                                                        verbose=0))...\n",
            "                                                       subsample_for_bin=200000,\n",
            "                                                       subsample_freq=0))],\n",
            "                                verbose=False),\n",
            "             iid='deprecated', n_jobs=None,\n",
            "             param_grid={'classifier__learning_rate': [0.1, 0.3, 0.5, 1],\n",
            "                         'classifier__max_depth': [16, 32, 50, 70, None],\n",
            "                         'classifier__n_estimators': [50, 100, 150, 250, 300],\n",
            "                         'classifier__num_leaves': [45, 50, 70, 100, 125, 150]},\n",
            "             pre_dispatch='2*n_jobs', refit=True, return_train_score=False,\n",
            "             scoring=None, verbose=0)\n"
          ],
          "name": "stdout"
        }
      ]
    },
    {
      "cell_type": "code",
      "metadata": {
        "colab": {
          "base_uri": "https://localhost:8080/"
        },
        "id": "ryxeSeUWOPxj",
        "outputId": "a9ad7718-1c7b-4e4e-9608-0938fff02573"
      },
      "source": [
        "gcv.best_score_"
      ],
      "execution_count": 652,
      "outputs": [
        {
          "output_type": "execute_result",
          "data": {
            "text/plain": [
              "0.8989223337049423"
            ]
          },
          "metadata": {
            "tags": []
          },
          "execution_count": 652
        }
      ]
    },
    {
      "cell_type": "code",
      "metadata": {
        "colab": {
          "base_uri": "https://localhost:8080/"
        },
        "id": "Pr7wYTOLOTPN",
        "outputId": "d0e413cc-16be-49bf-841d-df9d461aa823"
      },
      "source": [
        "gcv.best_params_"
      ],
      "execution_count": 653,
      "outputs": [
        {
          "output_type": "execute_result",
          "data": {
            "text/plain": [
              "{'classifier__learning_rate': 0.3,\n",
              " 'classifier__max_depth': 32,\n",
              " 'classifier__n_estimators': 150,\n",
              " 'classifier__num_leaves': 70}"
            ]
          },
          "metadata": {
            "tags": []
          },
          "execution_count": 653
        }
      ]
    },
    {
      "cell_type": "code",
      "metadata": {
        "colab": {
          "base_uri": "https://localhost:8080/",
          "height": 489
        },
        "id": "-D4HxtH_AHwX",
        "outputId": "38c33a55-fa34-4c78-ede0-91dc261fd621"
      },
      "source": [
        "# Append classifier to preprocessing pipeline.\n",
        "# Now we have a full prediction pipeline.\n",
        "from lightgbm import LGBMClassifier\n",
        "from sklearn.metrics import plot_confusion_matrix, accuracy_score,roc_auc_score\n",
        "lgbm = Pipeline(steps=[('preprocessor', preprocessor),\n",
        "                      ('classifier', LGBMClassifier())])\n",
        "\n",
        "X_train, X_test, y_train, y_test = train_test_split(X, y, test_size=0.33, random_state=42)\n",
        "\n",
        "lgbm.fit(X_train, y_train)\n",
        "y_pred_lgb = lgbm.predict(X_test)\n",
        "print(classification_report(y_test, y_pred_lgb,))\n",
        "print('training score....', accuracy_score(y_train, lgbm.predict(X_train)))\n",
        "print('test score....', accuracy_score(y_test, lgbm.predict(X_test)))\n",
        "\n",
        "print('AUC ROC, area under the curve...', roc_auc_score(y_test,lgbm.predict(X_test) ))\n",
        "\n",
        "plot_confusion_matrix(lgbm, X_test, y_test,normalize='all') \n",
        "plt.show()\n",
        "\n",
        "\n"
      ],
      "execution_count": 631,
      "outputs": [
        {
          "output_type": "stream",
          "text": [
            "              precision    recall  f1-score   support\n",
            "\n",
            "           0       0.86      0.86      0.86       443\n",
            "           1       0.89      0.89      0.89       581\n",
            "\n",
            "    accuracy                           0.88      1024\n",
            "   macro avg       0.87      0.87      0.87      1024\n",
            "weighted avg       0.88      0.88      0.88      1024\n",
            "\n",
            "training score.... 0.9971126082771896\n",
            "test score.... 0.8759765625\n",
            "AUC ROC, area under the curve... 0.8738164525240594\n"
          ],
          "name": "stdout"
        },
        {
          "output_type": "display_data",
          "data": {
            "image/png": "[encoded data removed]",
            "text/plain": [
              "<Figure size 432x288 with 2 Axes>"
            ]
          },
          "metadata": {
            "tags": [],
            "needs_background": "light"
          }
        }
      ]
    },
    {
      "cell_type": "code",
      "metadata": {
        "colab": {
          "base_uri": "https://localhost:8080/"
        },
        "id": "vToWtJNqlZg3",
        "outputId": "d92798ed-5a4f-4a51-aa95-62302cb06d88"
      },
      "source": [
        "from sklearn.model_selection import GridSearchCV, RandomizedSearchCV\n",
        "lgbm = Pipeline(steps=[('preprocessor', preprocessor),\n",
        "                      ('classifier', LGBMClassifier())])\n",
        "parameters = {\n",
        "    'classifier__n_estimators':[5,50,100,150,250,300,],\n",
        "    'classifier__max_depth':[2,3,4,8,16,32,None],\n",
        "    'classifier__learning_rate':[0.03, 0.1, 0.3,0.5,1],\n",
        "    'classifier__num_leaves':[5,15,30,45,50,70,100],\n",
        "}\n",
        "\n",
        "rscv = RandomizedSearchCV(lgbm, parameters, cv=10, n_iter=50, random_state=42)\n",
        "rscv.fit(X_train, y_train)\n",
        "\n",
        "print(rscv)"
      ],
      "execution_count": 641,
      "outputs": [
        {
          "output_type": "stream",
          "text": [
            "RandomizedSearchCV(cv=10, error_score=nan,\n",
            "                   estimator=Pipeline(memory=None,\n",
            "                                      steps=[('preprocessor',\n",
            "                                              ColumnTransformer(n_jobs=None,\n",
            "                                                                remainder='drop',\n",
            "                                                                sparse_threshold=0.3,\n",
            "                                                                transformer_weights=None,\n",
            "                                                                transformers=[('num',\n",
            "                                                                               Pipeline(memory=None,\n",
            "                                                                                        steps=[('imputer',\n",
            "                                                                                                SimpleImputer(add_indicator=False,\n",
            "                                                                                                              copy=True,\n",
            "                                                                                                              fill_value=None,\n",
            "                                                                                                              missing_values=nan,\n",
            "                                                                                                              strategy='median',\n",
            "                                                                                                              verbo...\n",
            "                   iid='deprecated', n_iter=50, n_jobs=None,\n",
            "                   param_distributions={'classifier__learning_rate': [0.03, 0.1,\n",
            "                                                                      0.3, 0.5,\n",
            "                                                                      1],\n",
            "                                        'classifier__max_depth': [2, 3, 4, 8,\n",
            "                                                                  16, 32,\n",
            "                                                                  None],\n",
            "                                        'classifier__n_estimators': [5, 50, 100,\n",
            "                                                                     150, 250,\n",
            "                                                                     300],\n",
            "                                        'classifier__num_leaves': [5, 15, 30,\n",
            "                                                                   45, 50, 70,\n",
            "                                                                   100]},\n",
            "                   pre_dispatch='2*n_jobs', random_state=42, refit=True,\n",
            "                   return_train_score=False, scoring=None, verbose=0)\n"
          ],
          "name": "stdout"
        }
      ]
    },
    {
      "cell_type": "code",
      "metadata": {
        "colab": {
          "base_uri": "https://localhost:8080/"
        },
        "id": "nuhlDZcRj7In",
        "outputId": "d23bc963-1c7e-44d0-d339-a07221e74a7f"
      },
      "source": [
        "lgbm.get_params()"
      ],
      "execution_count": 638,
      "outputs": [
        {
          "output_type": "execute_result",
          "data": {
            "text/plain": [
              "{'classifier': LGBMClassifier(boosting_type='gbdt', class_weight=None, colsample_bytree=1.0,\n",
              "                importance_type='split', learning_rate=0.1, max_depth=-1,\n",
              "                min_child_samples=20, min_child_weight=0.001, min_split_gain=0.0,\n",
              "                n_estimators=100, n_jobs=-1, num_leaves=31, objective=None,\n",
              "                random_state=None, reg_alpha=0.0, reg_lambda=0.0, silent=True,\n",
              "                subsample=1.0, subsample_for_bin=200000, subsample_freq=0),\n",
              " 'classifier__boosting_type': 'gbdt',\n",
              " 'classifier__class_weight': None,\n",
              " 'classifier__colsample_bytree': 1.0,\n",
              " 'classifier__importance_type': 'split',\n",
              " 'classifier__learning_rate': 0.1,\n",
              " 'classifier__max_depth': -1,\n",
              " 'classifier__min_child_samples': 20,\n",
              " 'classifier__min_child_weight': 0.001,\n",
              " 'classifier__min_split_gain': 0.0,\n",
              " 'classifier__n_estimators': 100,\n",
              " 'classifier__n_jobs': -1,\n",
              " 'classifier__num_leaves': 31,\n",
              " 'classifier__objective': None,\n",
              " 'classifier__random_state': None,\n",
              " 'classifier__reg_alpha': 0.0,\n",
              " 'classifier__reg_lambda': 0.0,\n",
              " 'classifier__silent': True,\n",
              " 'classifier__subsample': 1.0,\n",
              " 'classifier__subsample_for_bin': 200000,\n",
              " 'classifier__subsample_freq': 0,\n",
              " 'memory': None,\n",
              " 'preprocessor': ColumnTransformer(n_jobs=None, remainder='drop', sparse_threshold=0.3,\n",
              "                   transformer_weights=None,\n",
              "                   transformers=[('num',\n",
              "                                  Pipeline(memory=None,\n",
              "                                           steps=[('imputer',\n",
              "                                                   SimpleImputer(add_indicator=False,\n",
              "                                                                 copy=True,\n",
              "                                                                 fill_value=None,\n",
              "                                                                 missing_values=nan,\n",
              "                                                                 strategy='median',\n",
              "                                                                 verbose=0)),\n",
              "                                                  ('scaler',\n",
              "                                                   StandardScaler(copy=True,\n",
              "                                                                  with_mean=True,\n",
              "                                                                  with_std=True))],\n",
              "                                           verbose=False),\n",
              "                                  Index(...\n",
              "                                                   SimpleImputer(add_indicator=False,\n",
              "                                                                 copy=True,\n",
              "                                                                 fill_value='most_frequent',\n",
              "                                                                 missing_values=nan,\n",
              "                                                                 strategy='constant',\n",
              "                                                                 verbose=0)),\n",
              "                                                  ('oneHot',\n",
              "                                                   OneHotEncoder(categories='auto',\n",
              "                                                                 drop=None,\n",
              "                                                                 dtype=<class 'numpy.float64'>,\n",
              "                                                                 handle_unknown='ignore',\n",
              "                                                                 sparse=True))],\n",
              "                                           verbose=False),\n",
              "                                  Index(['job_type', 'marital_status', 'education_level', 'communication',\n",
              "        'Outcome'],\n",
              "       dtype='object'))],\n",
              "                   verbose=False),\n",
              " 'preprocessor__cat': Pipeline(memory=None,\n",
              "          steps=[('imputer',\n",
              "                  SimpleImputer(add_indicator=False, copy=True,\n",
              "                                fill_value='most_frequent', missing_values=nan,\n",
              "                                strategy='constant', verbose=0)),\n",
              "                 ('oneHot',\n",
              "                  OneHotEncoder(categories='auto', drop=None,\n",
              "                                dtype=<class 'numpy.float64'>,\n",
              "                                handle_unknown='ignore', sparse=True))],\n",
              "          verbose=False),\n",
              " 'preprocessor__cat__imputer': SimpleImputer(add_indicator=False, copy=True, fill_value='most_frequent',\n",
              "               missing_values=nan, strategy='constant', verbose=0),\n",
              " 'preprocessor__cat__imputer__add_indicator': False,\n",
              " 'preprocessor__cat__imputer__copy': True,\n",
              " 'preprocessor__cat__imputer__fill_value': 'most_frequent',\n",
              " 'preprocessor__cat__imputer__missing_values': nan,\n",
              " 'preprocessor__cat__imputer__strategy': 'constant',\n",
              " 'preprocessor__cat__imputer__verbose': 0,\n",
              " 'preprocessor__cat__memory': None,\n",
              " 'preprocessor__cat__oneHot': OneHotEncoder(categories='auto', drop=None, dtype=<class 'numpy.float64'>,\n",
              "               handle_unknown='ignore', sparse=True),\n",
              " 'preprocessor__cat__oneHot__categories': 'auto',\n",
              " 'preprocessor__cat__oneHot__drop': None,\n",
              " 'preprocessor__cat__oneHot__dtype': numpy.float64,\n",
              " 'preprocessor__cat__oneHot__handle_unknown': 'ignore',\n",
              " 'preprocessor__cat__oneHot__sparse': True,\n",
              " 'preprocessor__cat__steps': [('imputer',\n",
              "   SimpleImputer(add_indicator=False, copy=True, fill_value='most_frequent',\n",
              "                 missing_values=nan, strategy='constant', verbose=0)),\n",
              "  ('oneHot',\n",
              "   OneHotEncoder(categories='auto', drop=None, dtype=<class 'numpy.float64'>,\n",
              "                 handle_unknown='ignore', sparse=True))],\n",
              " 'preprocessor__cat__verbose': False,\n",
              " 'preprocessor__n_jobs': None,\n",
              " 'preprocessor__num': Pipeline(memory=None,\n",
              "          steps=[('imputer',\n",
              "                  SimpleImputer(add_indicator=False, copy=True, fill_value=None,\n",
              "                                missing_values=nan, strategy='median',\n",
              "                                verbose=0)),\n",
              "                 ('scaler',\n",
              "                  StandardScaler(copy=True, with_mean=True, with_std=True))],\n",
              "          verbose=False),\n",
              " 'preprocessor__num__imputer': SimpleImputer(add_indicator=False, copy=True, fill_value=None,\n",
              "               missing_values=nan, strategy='median', verbose=0),\n",
              " 'preprocessor__num__imputer__add_indicator': False,\n",
              " 'preprocessor__num__imputer__copy': True,\n",
              " 'preprocessor__num__imputer__fill_value': None,\n",
              " 'preprocessor__num__imputer__missing_values': nan,\n",
              " 'preprocessor__num__imputer__strategy': 'median',\n",
              " 'preprocessor__num__imputer__verbose': 0,\n",
              " 'preprocessor__num__memory': None,\n",
              " 'preprocessor__num__scaler': StandardScaler(copy=True, with_mean=True, with_std=True),\n",
              " 'preprocessor__num__scaler__copy': True,\n",
              " 'preprocessor__num__scaler__with_mean': True,\n",
              " 'preprocessor__num__scaler__with_std': True,\n",
              " 'preprocessor__num__steps': [('imputer',\n",
              "   SimpleImputer(add_indicator=False, copy=True, fill_value=None,\n",
              "                 missing_values=nan, strategy='median', verbose=0)),\n",
              "  ('scaler', StandardScaler(copy=True, with_mean=True, with_std=True))],\n",
              " 'preprocessor__num__verbose': False,\n",
              " 'preprocessor__remainder': 'drop',\n",
              " 'preprocessor__sparse_threshold': 0.3,\n",
              " 'preprocessor__transformer_weights': None,\n",
              " 'preprocessor__transformers': [('num', Pipeline(memory=None,\n",
              "            steps=[('imputer',\n",
              "                    SimpleImputer(add_indicator=False, copy=True, fill_value=None,\n",
              "                                  missing_values=nan, strategy='median',\n",
              "                                  verbose=0)),\n",
              "                   ('scaler',\n",
              "                    StandardScaler(copy=True, with_mean=True, with_std=True))],\n",
              "            verbose=False), Index(['age', 'default_or_not', 'balance_amt', 'household_insurance',\n",
              "          'car_loan', 'last_contact_day', 'no_of_contacts', 'days_passed',\n",
              "          'prev_attempts', 'call_duration_mins', 'last_contact_month_num'],\n",
              "         dtype='object')),\n",
              "  ('cat', Pipeline(memory=None,\n",
              "            steps=[('imputer',\n",
              "                    SimpleImputer(add_indicator=False, copy=True,\n",
              "                                  fill_value='most_frequent', missing_values=nan,\n",
              "                                  strategy='constant', verbose=0)),\n",
              "                   ('oneHot',\n",
              "                    OneHotEncoder(categories='auto', drop=None,\n",
              "                                  dtype=<class 'numpy.float64'>,\n",
              "                                  handle_unknown='ignore', sparse=True))],\n",
              "            verbose=False), Index(['job_type', 'marital_status', 'education_level', 'communication',\n",
              "          'Outcome'],\n",
              "         dtype='object'))],\n",
              " 'preprocessor__verbose': False,\n",
              " 'steps': [('preprocessor',\n",
              "   ColumnTransformer(n_jobs=None, remainder='drop', sparse_threshold=0.3,\n",
              "                     transformer_weights=None,\n",
              "                     transformers=[('num',\n",
              "                                    Pipeline(memory=None,\n",
              "                                             steps=[('imputer',\n",
              "                                                     SimpleImputer(add_indicator=False,\n",
              "                                                                   copy=True,\n",
              "                                                                   fill_value=None,\n",
              "                                                                   missing_values=nan,\n",
              "                                                                   strategy='median',\n",
              "                                                                   verbose=0)),\n",
              "                                                    ('scaler',\n",
              "                                                     StandardScaler(copy=True,\n",
              "                                                                    with_mean=True,\n",
              "                                                                    with_std=True))],\n",
              "                                             verbose=False),\n",
              "                                    Index(...\n",
              "                                                     SimpleImputer(add_indicator=False,\n",
              "                                                                   copy=True,\n",
              "                                                                   fill_value='most_frequent',\n",
              "                                                                   missing_values=nan,\n",
              "                                                                   strategy='constant',\n",
              "                                                                   verbose=0)),\n",
              "                                                    ('oneHot',\n",
              "                                                     OneHotEncoder(categories='auto',\n",
              "                                                                   drop=None,\n",
              "                                                                   dtype=<class 'numpy.float64'>,\n",
              "                                                                   handle_unknown='ignore',\n",
              "                                                                   sparse=True))],\n",
              "                                             verbose=False),\n",
              "                                    Index(['job_type', 'marital_status', 'education_level', 'communication',\n",
              "          'Outcome'],\n",
              "         dtype='object'))],\n",
              "                     verbose=False)),\n",
              "  ('classifier',\n",
              "   LGBMClassifier(boosting_type='gbdt', class_weight=None, colsample_bytree=1.0,\n",
              "                  importance_type='split', learning_rate=0.1, max_depth=-1,\n",
              "                  min_child_samples=20, min_child_weight=0.001, min_split_gain=0.0,\n",
              "                  n_estimators=100, n_jobs=-1, num_leaves=31, objective=None,\n",
              "                  random_state=None, reg_alpha=0.0, reg_lambda=0.0, silent=True,\n",
              "                  subsample=1.0, subsample_for_bin=200000, subsample_freq=0))],\n",
              " 'verbose': False}"
            ]
          },
          "metadata": {
            "tags": []
          },
          "execution_count": 638
        }
      ]
    },
    {
      "cell_type": "code",
      "metadata": {
        "colab": {
          "base_uri": "https://localhost:8080/"
        },
        "id": "EIxryPDpsXqe",
        "outputId": "85133cdb-89f3-485c-9690-8bfe379c1b99"
      },
      "source": [
        "rscv.best_params_"
      ],
      "execution_count": 642,
      "outputs": [
        {
          "output_type": "execute_result",
          "data": {
            "text/plain": [
              "{'classifier__learning_rate': 0.5,\n",
              " 'classifier__max_depth': 32,\n",
              " 'classifier__n_estimators': 50,\n",
              " 'classifier__num_leaves': 100}"
            ]
          },
          "metadata": {
            "tags": []
          },
          "execution_count": 642
        }
      ]
    },
    {
      "cell_type": "code",
      "metadata": {
        "colab": {
          "base_uri": "https://localhost:8080/"
        },
        "id": "5PAo6_E-sjfo",
        "outputId": "e11b4772-be59-42fc-95e5-c9b27f701858"
      },
      "source": [
        "rscv.best_score_"
      ],
      "execution_count": 643,
      "outputs": [
        {
          "output_type": "execute_result",
          "data": {
            "text/plain": [
              "0.8945977331846897"
            ]
          },
          "metadata": {
            "tags": []
          },
          "execution_count": 643
        }
      ]
    },
    {
      "cell_type": "code",
      "metadata": {
        "colab": {
          "base_uri": "https://localhost:8080/"
        },
        "id": "b1bOhFKA1k-I",
        "outputId": "b622e8fa-6081-4483-e69b-d61e9e8d7694"
      },
      "source": [
        "from sklearn.model_selection import GridSearchCV, RandomizedSearchCV\n",
        "lgbm = Pipeline(steps=[('preprocessor', preprocessor),\n",
        "                      ('classifier', LGBMClassifier())])\n",
        "parameters = {\n",
        "    'classifier__n_estimators':[50,100,150,250,300,],\n",
        "    'classifier__max_depth':[16,32,50, 70,None],\n",
        "    'classifier__learning_rate':[0.1, 0.3,0.5,1],\n",
        "    'classifier__num_leaves':[45,50,70,100,125, 150],\n",
        "}\n",
        "\n",
        "gcv = GridSearchCV(lgbm, parameters, cv=10)\n",
        "gcv.fit(X_train, y_train)\n",
        "\n",
        "print(gcv)"
      ],
      "execution_count": 647,
      "outputs": [
        {
          "output_type": "stream",
          "text": [
            "GridSearchCV(cv=10, error_score=nan,\n",
            "             estimator=Pipeline(memory=None,\n",
            "                                steps=[('preprocessor',\n",
            "                                        ColumnTransformer(n_jobs=None,\n",
            "                                                          remainder='drop',\n",
            "                                                          sparse_threshold=0.3,\n",
            "                                                          transformer_weights=None,\n",
            "                                                          transformers=[('num',\n",
            "                                                                         Pipeline(memory=None,\n",
            "                                                                                  steps=[('imputer',\n",
            "                                                                                          SimpleImputer(add_indicator=False,\n",
            "                                                                                                        copy=True,\n",
            "                                                                                                        fill_value=None,\n",
            "                                                                                                        missing_values=nan,\n",
            "                                                                                                        strategy='median',\n",
            "                                                                                                        verbose=0))...\n",
            "                                                       subsample_for_bin=200000,\n",
            "                                                       subsample_freq=0))],\n",
            "                                verbose=False),\n",
            "             iid='deprecated', n_jobs=None,\n",
            "             param_grid={'classifier__learning_rate': [0.1, 0.3, 0.5, 1],\n",
            "                         'classifier__max_depth': [16, 32, 50, 70, None],\n",
            "                         'classifier__n_estimators': [50, 100, 150, 250, 300],\n",
            "                         'classifier__num_leaves': [45, 50, 70, 100, 125, 150]},\n",
            "             pre_dispatch='2*n_jobs', refit=True, return_train_score=False,\n",
            "             scoring=None, verbose=0)\n"
          ],
          "name": "stdout"
        }
      ]
    },
    {
      "cell_type": "code",
      "metadata": {
        "colab": {
          "base_uri": "https://localhost:8080/"
        },
        "id": "PiibDumw85Ch",
        "outputId": "9010dce5-939c-4b2e-fe12-748c077029bf"
      },
      "source": [
        "gcv.best_estimator_"
      ],
      "execution_count": 648,
      "outputs": [
        {
          "output_type": "execute_result",
          "data": {
            "text/plain": [
              "Pipeline(memory=None,\n",
              "         steps=[('preprocessor',\n",
              "                 ColumnTransformer(n_jobs=None, remainder='drop',\n",
              "                                   sparse_threshold=0.3,\n",
              "                                   transformer_weights=None,\n",
              "                                   transformers=[('num',\n",
              "                                                  Pipeline(memory=None,\n",
              "                                                           steps=[('imputer',\n",
              "                                                                   SimpleImputer(add_indicator=False,\n",
              "                                                                                 copy=True,\n",
              "                                                                                 fill_value=None,\n",
              "                                                                                 missing_values=nan,\n",
              "                                                                                 strategy='median',\n",
              "                                                                                 verbose=0)),\n",
              "                                                                  ('scaler',\n",
              "                                                                   StandardScaler(copy=True,\n",
              "                                                                                  with_mean...\n",
              "                 LGBMClassifier(boosting_type='gbdt', class_weight=None,\n",
              "                                colsample_bytree=1.0, importance_type='split',\n",
              "                                learning_rate=0.3, max_depth=32,\n",
              "                                min_child_samples=20, min_child_weight=0.001,\n",
              "                                min_split_gain=0.0, n_estimators=150, n_jobs=-1,\n",
              "                                num_leaves=70, objective=None,\n",
              "                                random_state=None, reg_alpha=0.0,\n",
              "                                reg_lambda=0.0, silent=True, subsample=1.0,\n",
              "                                subsample_for_bin=200000, subsample_freq=0))],\n",
              "         verbose=False)"
            ]
          },
          "metadata": {
            "tags": []
          },
          "execution_count": 648
        }
      ]
    },
    {
      "cell_type": "code",
      "metadata": {
        "colab": {
          "base_uri": "https://localhost:8080/"
        },
        "id": "rI_XKASx88PL",
        "outputId": "99a6a3d8-d8fd-46d7-b52c-14b4ecf56143"
      },
      "source": [
        "gcv.best_params_"
      ],
      "execution_count": 649,
      "outputs": [
        {
          "output_type": "execute_result",
          "data": {
            "text/plain": [
              "{'classifier__learning_rate': 0.3,\n",
              " 'classifier__max_depth': 32,\n",
              " 'classifier__n_estimators': 150,\n",
              " 'classifier__num_leaves': 70}"
            ]
          },
          "metadata": {
            "tags": []
          },
          "execution_count": 649
        }
      ]
    },
    {
      "cell_type": "code",
      "metadata": {
        "colab": {
          "base_uri": "https://localhost:8080/"
        },
        "id": "ouO1Y2aE9A5j",
        "outputId": "e4f35fc4-c3be-4d10-9d2c-c76ff035f46e"
      },
      "source": [
        "gcv.best_score_"
      ],
      "execution_count": 650,
      "outputs": [
        {
          "output_type": "execute_result",
          "data": {
            "text/plain": [
              "0.8989223337049423"
            ]
          },
          "metadata": {
            "tags": []
          },
          "execution_count": 650
        }
      ]
    },
    {
      "cell_type": "markdown",
      "metadata": {
        "id": "wnk1aSlGrwB4"
      },
      "source": [
        "# Prediction for Test Dataset (Provided by DPhi)\n",
        "Predict if the customer would buy the car insurance or not on the test data provided by DPhi here.\n"
      ]
    },
    {
      "cell_type": "code",
      "metadata": {
        "id": "HofM00_osRut"
      },
      "source": [
        ""
      ],
      "execution_count": null,
      "outputs": []
    },
    {
      "cell_type": "markdown",
      "metadata": {
        "id": "qz-bZ_EDsTH0"
      },
      "source": [
        "# Saving Prediction File"
      ]
    },
    {
      "cell_type": "markdown",
      "metadata": {
        "id": "-MzX4muyuN9c"
      },
      "source": [
        "### Save prediciton results locally via jupyter notebook\n",
        "If you are working on Jupyter notebook, execute below block of codes. A file named 'prediction_results.csv' will be created in your current working directory."
      ]
    },
    {
      "cell_type": "code",
      "metadata": {
        "id": "j6pQIImzsScy"
      },
      "source": [
        "# res = pd.DataFrame(predictions) #preditcions are nothing but the final predictions of your model on input features of your new unseen test data\n",
        "# res.index = test_new.index # its important for comparison. Here \"test_new\" is your new test dataset\n",
        "# res.columns = [\"prediction\"]\n",
        "# res.to_csv(\"prediction_results.csv\", index = False)      # the csv file will be saved locally on the same location where this notebook is located."
      ],
      "execution_count": null,
      "outputs": []
    },
    {
      "cell_type": "markdown",
      "metadata": {
        "id": "OlFGn_s6uaoy"
      },
      "source": [
        "### Save prediction results locally via Google Colab notebook\n",
        "If you are working on Google Colab Notebook, execute below block of codes. A file named 'prediction_results' will be downloaded in your system."
      ]
    },
    {
      "cell_type": "code",
      "metadata": {
        "id": "K7MYfhgIuk1I"
      },
      "source": [
        "# To create Dataframe of predicted value with particular respective index\n",
        "res = pd.DataFrame(predictions) #preditcions are nothing but the final predictions of your model on input features of your new unseen test data\n",
        "res.index = test_new.index # its important for comparison. Here \"test_new\" is your new test dataset\n",
        "res.columns = [\"prediction\"]\n",
        "\n",
        "# To download the csv file locally\n",
        "from google.colab import files\n",
        "res.to_csv('prediction_results.csv', inplace = False)         \n",
        "files.download('prediction_results.csv')"
      ],
      "execution_count": null,
      "outputs": []
    }
  ]
}