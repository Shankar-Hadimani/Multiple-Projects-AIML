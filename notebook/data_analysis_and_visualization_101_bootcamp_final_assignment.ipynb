{
  "nbformat": 4,
  "nbformat_minor": 0,
  "metadata": {
    "colab": {
      "name": "notebook-data-analysis-and-visualization-101-bootcamp-final-assignment.ipynb",
      "provenance": [],
      "collapsed_sections": [],
      "include_colab_link": true
    },
    "kernelspec": {
      "name": "python3",
      "display_name": "Python 3"
    }
  },
  "cells": [
    {
      "cell_type": "markdown",
      "metadata": {
        "id": "view-in-github",
        "colab_type": "text"
      },
      "source": [
        "<a href=\"https://colab.research.google.com/github/Shankar-Hadimani/1000-dphi/blob/master/notebook/data_analysis_and_visualization_101_bootcamp_final_assignment.ipynb\" target=\"_parent\"><img src=\"https://colab.research.google.com/assets/colab-badge.svg\" alt=\"Open In Colab\"/></a>"
      ]
    },
    {
      "cell_type": "markdown",
      "metadata": {
        "id": "00IJ1Sz_-o2P"
      },
      "source": [
        "# Overview\n",
        "Throughout this assignment, you will be performing certain well-defined tasks that’ll not only strengthen your concepts of Plotly and Dash, but will also help you learn a number of new concepts that are useful in analyzing, summarizing and visualizing data in the real world. \n",
        "\n",
        "Here is a template notebook with all the tasks mentioned in detail. **Please complete the tasks within the designated section only.**\n"
      ]
    },
    {
      "cell_type": "markdown",
      "metadata": {
        "id": "ZTfhIScP_AHG"
      },
      "source": [
        "## Task 1: Data Loading and Data Aggregation\n",
        "* Load the 3 data files into the variables data_18, data_19, data_20. \n",
        "\n",
        "* Data aggregation is the process of gathering data and presenting it in a summarized format. The data may be gathered from multiple data sources with the intent of combining these data sources into a summary for data analysis.         \n",
        "Similar to how this dataset involves 3 data files, you’ll often be working on combining information from 2 or more files and analysing it. More often than not, GroupBy is a very useful tool for this purpose. \n",
        "\n",
        "  Go through this article to learn more some helpful aggregation tools in Python: https://www.bmc.com/blogs/pandas-group-merge-concatenate-join/ \n",
        "\n",
        "  **You don't need to aggregate/ merge the datasets in this assignment, it is only for reading purposes.**"
      ]
    },
    {
      "cell_type": "markdown",
      "metadata": {
        "id": "y6U1X1UoI8ns"
      },
      "source": [
        ""
      ]
    },
    {
      "cell_type": "markdown",
      "metadata": {
        "id": "K3qYJy26I2DD"
      },
      "source": [
        "**import the libraries**"
      ]
    },
    {
      "cell_type": "code",
      "metadata": {
        "id": "dJJ-zNZl-HzF"
      },
      "source": [
        "import pandas as pd\n",
        "import numpy as np\n",
        "import plotly.express as px\n",
        "import seaborn as sns\n",
        "import matplotlib.pyplot as plt"
      ],
      "execution_count": null,
      "outputs": []
    },
    {
      "cell_type": "markdown",
      "metadata": {
        "id": "E2tiNuQS15z0"
      },
      "source": [
        "**# Load the 3 data files into the variables data_18, data_19, data_20**"
      ]
    },
    {
      "cell_type": "code",
      "metadata": {
        "id": "ei3bSYvnxs1W"
      },
      "source": [
        "data_18=pd.read_csv('https://raw.githubusercontent.com/dphi-official/Datasets/master/IT_Salary_Survey_EU_18-20/Survey_2018.csv')"
      ],
      "execution_count": null,
      "outputs": []
    },
    {
      "cell_type": "code",
      "metadata": {
        "id": "bZF_hra1yEaM"
      },
      "source": [
        "data_19=pd.read_csv('https://raw.githubusercontent.com/dphi-official/Datasets/master/IT_Salary_Survey_EU_18-20/Survey_2019.csv')"
      ],
      "execution_count": null,
      "outputs": []
    },
    {
      "cell_type": "code",
      "metadata": {
        "id": "BcfbSbR3yPQh"
      },
      "source": [
        "data_20=pd.read_csv('https://raw.githubusercontent.com/dphi-official/Datasets/master/IT_Salary_Survey_EU_18-20/Survey_2020.csv')"
      ],
      "execution_count": null,
      "outputs": []
    },
    {
      "cell_type": "markdown",
      "metadata": {
        "id": "Bfin9S4pACEA"
      },
      "source": [
        "## Task 2: Data Analysis\n",
        "* Display the first 5 rows of the 2018 survey data\n",
        "* Display a concise summary of the 2020 data and list out 3 observations/inferences that you observe from the result. For this you will need to use the info() method.\n",
        "* Display the descriptive statistics of the 2018 survey data\n",
        "* Display the number of missing values in each column of the 2018 survey data\n",
        "How many people responded to the survey in each of the 3 years? Has the number increased or decreased over the years?\n",
        "* Display all the unique values and their frequency in the column - “Number of vacation days” of 2020 data. Write down your observations (at least one) for this result. \n"
      ]
    },
    {
      "cell_type": "markdown",
      "metadata": {
        "id": "pzU60LrcJV0j"
      },
      "source": [
        "**# Display the first 5 rows of the 2018 survey data**"
      ]
    },
    {
      "cell_type": "code",
      "metadata": {
        "id": "I0uRKB6QAW3O",
        "colab": {
          "base_uri": "https://localhost:8080/",
          "height": 374
        },
        "outputId": "047b62a9-ce8d-4443-9c55-da34b2e0b1bb"
      },
      "source": [
        "# first 5 rows of the 2018 survey data\n",
        "data_18.head(5)"
      ],
      "execution_count": null,
      "outputs": [
        {
          "output_type": "execute_result",
          "data": {
            "text/html": [
              "<div>\n",
              "<style scoped>\n",
              "    .dataframe tbody tr th:only-of-type {\n",
              "        vertical-align: middle;\n",
              "    }\n",
              "\n",
              "    .dataframe tbody tr th {\n",
              "        vertical-align: top;\n",
              "    }\n",
              "\n",
              "    .dataframe thead th {\n",
              "        text-align: right;\n",
              "    }\n",
              "</style>\n",
              "<table border=\"1\" class=\"dataframe\">\n",
              "  <thead>\n",
              "    <tr style=\"text-align: right;\">\n",
              "      <th></th>\n",
              "      <th>Timestamp</th>\n",
              "      <th>Age</th>\n",
              "      <th>Gender</th>\n",
              "      <th>City</th>\n",
              "      <th>Position</th>\n",
              "      <th>Years of experience</th>\n",
              "      <th>Your level</th>\n",
              "      <th>Current Salary</th>\n",
              "      <th>Salary one year ago</th>\n",
              "      <th>Salary two years ago</th>\n",
              "      <th>Are you getting any Stock Options?</th>\n",
              "      <th>Main language at work</th>\n",
              "      <th>Company size</th>\n",
              "      <th>Company type</th>\n",
              "    </tr>\n",
              "  </thead>\n",
              "  <tbody>\n",
              "    <tr>\n",
              "      <th>0</th>\n",
              "      <td>14/12/2018 12:41:33</td>\n",
              "      <td>43.0</td>\n",
              "      <td>M</td>\n",
              "      <td>München</td>\n",
              "      <td>QA Ingenieur</td>\n",
              "      <td>11.0</td>\n",
              "      <td>Senior</td>\n",
              "      <td>77000.0</td>\n",
              "      <td>76200.0</td>\n",
              "      <td>68000.0</td>\n",
              "      <td>No</td>\n",
              "      <td>Deutsch</td>\n",
              "      <td>100-1000</td>\n",
              "      <td>Product</td>\n",
              "    </tr>\n",
              "    <tr>\n",
              "      <th>1</th>\n",
              "      <td>14/12/2018 12:42:09</td>\n",
              "      <td>33.0</td>\n",
              "      <td>F</td>\n",
              "      <td>München</td>\n",
              "      <td>Senior PHP Magento developer</td>\n",
              "      <td>8.0</td>\n",
              "      <td>Senior</td>\n",
              "      <td>65000.0</td>\n",
              "      <td>55000.0</td>\n",
              "      <td>55000.0</td>\n",
              "      <td>No</td>\n",
              "      <td>Deutsch</td>\n",
              "      <td>50-100</td>\n",
              "      <td>Product</td>\n",
              "    </tr>\n",
              "    <tr>\n",
              "      <th>2</th>\n",
              "      <td>14/12/2018 12:47:36</td>\n",
              "      <td>32.0</td>\n",
              "      <td>M</td>\n",
              "      <td>München</td>\n",
              "      <td>Software Engineer</td>\n",
              "      <td>10.0</td>\n",
              "      <td>Senior</td>\n",
              "      <td>88000.0</td>\n",
              "      <td>73000.0</td>\n",
              "      <td>54000.0</td>\n",
              "      <td>No</td>\n",
              "      <td>Deutsch</td>\n",
              "      <td>1000+</td>\n",
              "      <td>Product</td>\n",
              "    </tr>\n",
              "    <tr>\n",
              "      <th>3</th>\n",
              "      <td>14/12/2018 12:50:15</td>\n",
              "      <td>25.0</td>\n",
              "      <td>M</td>\n",
              "      <td>München</td>\n",
              "      <td>Senior Frontend Developer</td>\n",
              "      <td>6.0</td>\n",
              "      <td>Senior</td>\n",
              "      <td>78000.0</td>\n",
              "      <td>55000.0</td>\n",
              "      <td>45000.0</td>\n",
              "      <td>Yes</td>\n",
              "      <td>English</td>\n",
              "      <td>1000+</td>\n",
              "      <td>Product</td>\n",
              "    </tr>\n",
              "    <tr>\n",
              "      <th>4</th>\n",
              "      <td>14/12/2018 12:50:31</td>\n",
              "      <td>39.0</td>\n",
              "      <td>M</td>\n",
              "      <td>München</td>\n",
              "      <td>UX Designer</td>\n",
              "      <td>10.0</td>\n",
              "      <td>Senior</td>\n",
              "      <td>69000.0</td>\n",
              "      <td>60000.0</td>\n",
              "      <td>52000.0</td>\n",
              "      <td>No</td>\n",
              "      <td>English</td>\n",
              "      <td>100-1000</td>\n",
              "      <td>Ecom retailer</td>\n",
              "    </tr>\n",
              "  </tbody>\n",
              "</table>\n",
              "</div>"
            ],
            "text/plain": [
              "             Timestamp   Age  ... Company size   Company type\n",
              "0  14/12/2018 12:41:33  43.0  ...     100-1000        Product\n",
              "1  14/12/2018 12:42:09  33.0  ...       50-100        Product\n",
              "2  14/12/2018 12:47:36  32.0  ...        1000+        Product\n",
              "3  14/12/2018 12:50:15  25.0  ...        1000+        Product\n",
              "4  14/12/2018 12:50:31  39.0  ...     100-1000  Ecom retailer\n",
              "\n",
              "[5 rows x 14 columns]"
            ]
          },
          "metadata": {
            "tags": []
          },
          "execution_count": 935
        }
      ]
    },
    {
      "cell_type": "markdown",
      "metadata": {
        "id": "I7S3sJ_x2GUk"
      },
      "source": [
        "**# concise summary of the 2020**"
      ]
    },
    {
      "cell_type": "code",
      "metadata": {
        "colab": {
          "base_uri": "https://localhost:8080/"
        },
        "id": "KAVJE8gK0C2Z",
        "outputId": "14c4c37a-141e-481e-d495-cfc3a713c289"
      },
      "source": [
        "# concise summary of the 2020 data\n",
        "data_20.info()"
      ],
      "execution_count": null,
      "outputs": [
        {
          "output_type": "stream",
          "text": [
            "<class 'pandas.core.frame.DataFrame'>\n",
            "RangeIndex: 1253 entries, 0 to 1252\n",
            "Data columns (total 23 columns):\n",
            " #   Column                                                                                                                   Non-Null Count  Dtype  \n",
            "---  ------                                                                                                                   --------------  -----  \n",
            " 0   Timestamp                                                                                                                1253 non-null   object \n",
            " 1   Age                                                                                                                      1226 non-null   float64\n",
            " 2   Gender                                                                                                                   1243 non-null   object \n",
            " 3   City                                                                                                                     1253 non-null   object \n",
            " 4   Position                                                                                                                 1247 non-null   object \n",
            " 5   Total years of experience                                                                                                1237 non-null   object \n",
            " 6   Years of experience in Germany                                                                                           1221 non-null   object \n",
            " 7   Seniority level                                                                                                          1241 non-null   object \n",
            " 8   Your main technology / programming language                                                                              1126 non-null   object \n",
            " 9   Other technologies/programming languages you use often                                                                   1096 non-null   object \n",
            " 10  Yearly brutto salary (without bonus and stocks) in EUR                                                                   1253 non-null   float64\n",
            " 11  Yearly bonus + stocks in EUR                                                                                             829 non-null    object \n",
            " 12  Annual brutto salary (without bonus and stocks) one year ago. Only answer if staying in the same country                 885 non-null    float64\n",
            " 13  Annual bonus+stocks one year ago. Only answer if staying in same country                                                 614 non-null    object \n",
            " 14  Number of vacation days                                                                                                  1185 non-null   object \n",
            " 15  Employment status                                                                                                        1236 non-null   object \n",
            " 16  Сontract duration                                                                                                        1224 non-null   object \n",
            " 17  Main language at work                                                                                                    1237 non-null   object \n",
            " 18  Company size                                                                                                             1235 non-null   object \n",
            " 19  Company type                                                                                                             1228 non-null   object \n",
            " 20  Have you lost your job due to the coronavirus outbreak?                                                                  1233 non-null   object \n",
            " 21  Have you been forced to have a shorter working week (Kurzarbeit)? If yes, how many hours per week                        373 non-null    float64\n",
            " 22  Have you received additional monetary support from your employer due to Work From Home? If yes, how much in 2020 in EUR  462 non-null    object \n",
            "dtypes: float64(4), object(19)\n",
            "memory usage: 225.3+ KB\n"
          ],
          "name": "stdout"
        }
      ]
    },
    {
      "cell_type": "code",
      "metadata": {
        "colab": {
          "base_uri": "https://localhost:8080/",
          "height": 485
        },
        "id": "jnvzpfOvDP7o",
        "outputId": "df77a21b-19cf-40ae-f8e5-20d778fbb1b6"
      },
      "source": [
        "# list out 3 observations/inferences \n",
        "data_20.head(3)"
      ],
      "execution_count": null,
      "outputs": [
        {
          "output_type": "execute_result",
          "data": {
            "text/html": [
              "<div>\n",
              "<style scoped>\n",
              "    .dataframe tbody tr th:only-of-type {\n",
              "        vertical-align: middle;\n",
              "    }\n",
              "\n",
              "    .dataframe tbody tr th {\n",
              "        vertical-align: top;\n",
              "    }\n",
              "\n",
              "    .dataframe thead th {\n",
              "        text-align: right;\n",
              "    }\n",
              "</style>\n",
              "<table border=\"1\" class=\"dataframe\">\n",
              "  <thead>\n",
              "    <tr style=\"text-align: right;\">\n",
              "      <th></th>\n",
              "      <th>Timestamp</th>\n",
              "      <th>Age</th>\n",
              "      <th>Gender</th>\n",
              "      <th>City</th>\n",
              "      <th>Position</th>\n",
              "      <th>Total years of experience</th>\n",
              "      <th>Years of experience in Germany</th>\n",
              "      <th>Seniority level</th>\n",
              "      <th>Your main technology / programming language</th>\n",
              "      <th>Other technologies/programming languages you use often</th>\n",
              "      <th>Yearly brutto salary (without bonus and stocks) in EUR</th>\n",
              "      <th>Yearly bonus + stocks in EUR</th>\n",
              "      <th>Annual brutto salary (without bonus and stocks) one year ago. Only answer if staying in the same country</th>\n",
              "      <th>Annual bonus+stocks one year ago. Only answer if staying in same country</th>\n",
              "      <th>Number of vacation days</th>\n",
              "      <th>Employment status</th>\n",
              "      <th>Сontract duration</th>\n",
              "      <th>Main language at work</th>\n",
              "      <th>Company size</th>\n",
              "      <th>Company type</th>\n",
              "      <th>Have you lost your job due to the coronavirus outbreak?</th>\n",
              "      <th>Have you been forced to have a shorter working week (Kurzarbeit)? If yes, how many hours per week</th>\n",
              "      <th>Have you received additional monetary support from your employer due to Work From Home? If yes, how much in 2020 in EUR</th>\n",
              "    </tr>\n",
              "  </thead>\n",
              "  <tbody>\n",
              "    <tr>\n",
              "      <th>0</th>\n",
              "      <td>24/11/2020 11:14:15</td>\n",
              "      <td>26.0</td>\n",
              "      <td>Male</td>\n",
              "      <td>Munich</td>\n",
              "      <td>Software Engineer</td>\n",
              "      <td>5</td>\n",
              "      <td>3</td>\n",
              "      <td>Senior</td>\n",
              "      <td>TypeScript</td>\n",
              "      <td>Kotlin, Javascript / Typescript</td>\n",
              "      <td>80000.0</td>\n",
              "      <td>5000</td>\n",
              "      <td>75000.0</td>\n",
              "      <td>10000</td>\n",
              "      <td>30</td>\n",
              "      <td>Full-time employee</td>\n",
              "      <td>Unlimited contract</td>\n",
              "      <td>English</td>\n",
              "      <td>51-100</td>\n",
              "      <td>Product</td>\n",
              "      <td>No</td>\n",
              "      <td>NaN</td>\n",
              "      <td>NaN</td>\n",
              "    </tr>\n",
              "    <tr>\n",
              "      <th>1</th>\n",
              "      <td>24/11/2020 11:14:16</td>\n",
              "      <td>26.0</td>\n",
              "      <td>Male</td>\n",
              "      <td>Berlin</td>\n",
              "      <td>Backend Developer</td>\n",
              "      <td>7</td>\n",
              "      <td>4</td>\n",
              "      <td>Senior</td>\n",
              "      <td>Ruby</td>\n",
              "      <td>NaN</td>\n",
              "      <td>80000.0</td>\n",
              "      <td>NaN</td>\n",
              "      <td>82000.0</td>\n",
              "      <td>5000</td>\n",
              "      <td>28</td>\n",
              "      <td>Full-time employee</td>\n",
              "      <td>Unlimited contract</td>\n",
              "      <td>English</td>\n",
              "      <td>101-1000</td>\n",
              "      <td>Product</td>\n",
              "      <td>No</td>\n",
              "      <td>NaN</td>\n",
              "      <td>NaN</td>\n",
              "    </tr>\n",
              "    <tr>\n",
              "      <th>2</th>\n",
              "      <td>24/11/2020 11:14:21</td>\n",
              "      <td>29.0</td>\n",
              "      <td>Male</td>\n",
              "      <td>Berlin</td>\n",
              "      <td>Software Engineer</td>\n",
              "      <td>12</td>\n",
              "      <td>6</td>\n",
              "      <td>Lead</td>\n",
              "      <td>Javascript / Typescript</td>\n",
              "      <td>Javascript / Typescript, Docker</td>\n",
              "      <td>120000.0</td>\n",
              "      <td>120000</td>\n",
              "      <td>100000.0</td>\n",
              "      <td>100000</td>\n",
              "      <td>30</td>\n",
              "      <td>Self-employed (freelancer)</td>\n",
              "      <td>Temporary contract</td>\n",
              "      <td>English</td>\n",
              "      <td>101-1000</td>\n",
              "      <td>Product</td>\n",
              "      <td>Yes</td>\n",
              "      <td>NaN</td>\n",
              "      <td>NaN</td>\n",
              "    </tr>\n",
              "  </tbody>\n",
              "</table>\n",
              "</div>"
            ],
            "text/plain": [
              "             Timestamp  ...  Have you received additional monetary support from your employer due to Work From Home? If yes, how much in 2020 in EUR\n",
              "0  24/11/2020 11:14:15  ...                                                NaN                                                                      \n",
              "1  24/11/2020 11:14:16  ...                                                NaN                                                                      \n",
              "2  24/11/2020 11:14:21  ...                                                NaN                                                                      \n",
              "\n",
              "[3 rows x 23 columns]"
            ]
          },
          "metadata": {
            "tags": []
          },
          "execution_count": 937
        }
      ]
    },
    {
      "cell_type": "markdown",
      "metadata": {
        "id": "PP9rQWGj2MF_"
      },
      "source": [
        "**# descriptive statistics of the 2018 survey data**"
      ]
    },
    {
      "cell_type": "code",
      "metadata": {
        "id": "MbCQB9GxDoIp",
        "colab": {
          "base_uri": "https://localhost:8080/",
          "height": 495
        },
        "outputId": "bc8502b0-492c-4dae-e9a9-926d2c38a3ed"
      },
      "source": [
        "# descriptive statistics of the 2018 survey data\n",
        "data_18.describe(include='all')"
      ],
      "execution_count": null,
      "outputs": [
        {
          "output_type": "execute_result",
          "data": {
            "text/html": [
              "<div>\n",
              "<style scoped>\n",
              "    .dataframe tbody tr th:only-of-type {\n",
              "        vertical-align: middle;\n",
              "    }\n",
              "\n",
              "    .dataframe tbody tr th {\n",
              "        vertical-align: top;\n",
              "    }\n",
              "\n",
              "    .dataframe thead th {\n",
              "        text-align: right;\n",
              "    }\n",
              "</style>\n",
              "<table border=\"1\" class=\"dataframe\">\n",
              "  <thead>\n",
              "    <tr style=\"text-align: right;\">\n",
              "      <th></th>\n",
              "      <th>Timestamp</th>\n",
              "      <th>Age</th>\n",
              "      <th>Gender</th>\n",
              "      <th>City</th>\n",
              "      <th>Position</th>\n",
              "      <th>Years of experience</th>\n",
              "      <th>Your level</th>\n",
              "      <th>Current Salary</th>\n",
              "      <th>Salary one year ago</th>\n",
              "      <th>Salary two years ago</th>\n",
              "      <th>Are you getting any Stock Options?</th>\n",
              "      <th>Main language at work</th>\n",
              "      <th>Company size</th>\n",
              "      <th>Company type</th>\n",
              "    </tr>\n",
              "  </thead>\n",
              "  <tbody>\n",
              "    <tr>\n",
              "      <th>count</th>\n",
              "      <td>765</td>\n",
              "      <td>672.000000</td>\n",
              "      <td>751</td>\n",
              "      <td>736</td>\n",
              "      <td>737</td>\n",
              "      <td>732.000000</td>\n",
              "      <td>743</td>\n",
              "      <td>750.000000</td>\n",
              "      <td>596.000000</td>\n",
              "      <td>463.000000</td>\n",
              "      <td>742</td>\n",
              "      <td>750</td>\n",
              "      <td>750</td>\n",
              "      <td>730</td>\n",
              "    </tr>\n",
              "    <tr>\n",
              "      <th>unique</th>\n",
              "      <td>761</td>\n",
              "      <td>NaN</td>\n",
              "      <td>2</td>\n",
              "      <td>74</td>\n",
              "      <td>397</td>\n",
              "      <td>NaN</td>\n",
              "      <td>3</td>\n",
              "      <td>NaN</td>\n",
              "      <td>NaN</td>\n",
              "      <td>NaN</td>\n",
              "      <td>2</td>\n",
              "      <td>7</td>\n",
              "      <td>5</td>\n",
              "      <td>49</td>\n",
              "    </tr>\n",
              "    <tr>\n",
              "      <th>top</th>\n",
              "      <td>14/12/2018 12:53:47</td>\n",
              "      <td>NaN</td>\n",
              "      <td>M</td>\n",
              "      <td>Berlin</td>\n",
              "      <td>Java Developer</td>\n",
              "      <td>NaN</td>\n",
              "      <td>Senior</td>\n",
              "      <td>NaN</td>\n",
              "      <td>NaN</td>\n",
              "      <td>NaN</td>\n",
              "      <td>No</td>\n",
              "      <td>English</td>\n",
              "      <td>100-1000</td>\n",
              "      <td>Product</td>\n",
              "    </tr>\n",
              "    <tr>\n",
              "      <th>freq</th>\n",
              "      <td>2</td>\n",
              "      <td>NaN</td>\n",
              "      <td>646</td>\n",
              "      <td>291</td>\n",
              "      <td>34</td>\n",
              "      <td>NaN</td>\n",
              "      <td>497</td>\n",
              "      <td>NaN</td>\n",
              "      <td>NaN</td>\n",
              "      <td>NaN</td>\n",
              "      <td>587</td>\n",
              "      <td>581</td>\n",
              "      <td>260</td>\n",
              "      <td>451</td>\n",
              "    </tr>\n",
              "    <tr>\n",
              "      <th>mean</th>\n",
              "      <td>NaN</td>\n",
              "      <td>32.183036</td>\n",
              "      <td>NaN</td>\n",
              "      <td>NaN</td>\n",
              "      <td>NaN</td>\n",
              "      <td>8.548497</td>\n",
              "      <td>NaN</td>\n",
              "      <td>68381.765333</td>\n",
              "      <td>62187.278523</td>\n",
              "      <td>58013.475162</td>\n",
              "      <td>NaN</td>\n",
              "      <td>NaN</td>\n",
              "      <td>NaN</td>\n",
              "      <td>NaN</td>\n",
              "    </tr>\n",
              "    <tr>\n",
              "      <th>std</th>\n",
              "      <td>NaN</td>\n",
              "      <td>5.107268</td>\n",
              "      <td>NaN</td>\n",
              "      <td>NaN</td>\n",
              "      <td>NaN</td>\n",
              "      <td>4.729557</td>\n",
              "      <td>NaN</td>\n",
              "      <td>21196.306557</td>\n",
              "      <td>20163.008663</td>\n",
              "      <td>20413.048908</td>\n",
              "      <td>NaN</td>\n",
              "      <td>NaN</td>\n",
              "      <td>NaN</td>\n",
              "      <td>NaN</td>\n",
              "    </tr>\n",
              "    <tr>\n",
              "      <th>min</th>\n",
              "      <td>NaN</td>\n",
              "      <td>21.000000</td>\n",
              "      <td>NaN</td>\n",
              "      <td>NaN</td>\n",
              "      <td>NaN</td>\n",
              "      <td>0.000000</td>\n",
              "      <td>NaN</td>\n",
              "      <td>10300.000000</td>\n",
              "      <td>10001.000000</td>\n",
              "      <td>10001.000000</td>\n",
              "      <td>NaN</td>\n",
              "      <td>NaN</td>\n",
              "      <td>NaN</td>\n",
              "      <td>NaN</td>\n",
              "    </tr>\n",
              "    <tr>\n",
              "      <th>25%</th>\n",
              "      <td>NaN</td>\n",
              "      <td>29.000000</td>\n",
              "      <td>NaN</td>\n",
              "      <td>NaN</td>\n",
              "      <td>NaN</td>\n",
              "      <td>5.000000</td>\n",
              "      <td>NaN</td>\n",
              "      <td>57000.000000</td>\n",
              "      <td>52000.000000</td>\n",
              "      <td>48000.000000</td>\n",
              "      <td>NaN</td>\n",
              "      <td>NaN</td>\n",
              "      <td>NaN</td>\n",
              "      <td>NaN</td>\n",
              "    </tr>\n",
              "    <tr>\n",
              "      <th>50%</th>\n",
              "      <td>NaN</td>\n",
              "      <td>32.000000</td>\n",
              "      <td>NaN</td>\n",
              "      <td>NaN</td>\n",
              "      <td>NaN</td>\n",
              "      <td>8.000000</td>\n",
              "      <td>NaN</td>\n",
              "      <td>65000.000000</td>\n",
              "      <td>60000.000000</td>\n",
              "      <td>56000.000000</td>\n",
              "      <td>NaN</td>\n",
              "      <td>NaN</td>\n",
              "      <td>NaN</td>\n",
              "      <td>NaN</td>\n",
              "    </tr>\n",
              "    <tr>\n",
              "      <th>75%</th>\n",
              "      <td>NaN</td>\n",
              "      <td>35.000000</td>\n",
              "      <td>NaN</td>\n",
              "      <td>NaN</td>\n",
              "      <td>NaN</td>\n",
              "      <td>11.000000</td>\n",
              "      <td>NaN</td>\n",
              "      <td>75000.000000</td>\n",
              "      <td>70000.000000</td>\n",
              "      <td>67000.000000</td>\n",
              "      <td>NaN</td>\n",
              "      <td>NaN</td>\n",
              "      <td>NaN</td>\n",
              "      <td>NaN</td>\n",
              "    </tr>\n",
              "    <tr>\n",
              "      <th>max</th>\n",
              "      <td>NaN</td>\n",
              "      <td>60.000000</td>\n",
              "      <td>NaN</td>\n",
              "      <td>NaN</td>\n",
              "      <td>NaN</td>\n",
              "      <td>38.000000</td>\n",
              "      <td>NaN</td>\n",
              "      <td>200000.000000</td>\n",
              "      <td>200000.000000</td>\n",
              "      <td>150000.000000</td>\n",
              "      <td>NaN</td>\n",
              "      <td>NaN</td>\n",
              "      <td>NaN</td>\n",
              "      <td>NaN</td>\n",
              "    </tr>\n",
              "  </tbody>\n",
              "</table>\n",
              "</div>"
            ],
            "text/plain": [
              "                  Timestamp         Age  ... Company size Company type\n",
              "count                   765  672.000000  ...          750          730\n",
              "unique                  761         NaN  ...            5           49\n",
              "top     14/12/2018 12:53:47         NaN  ...     100-1000      Product\n",
              "freq                      2         NaN  ...          260          451\n",
              "mean                    NaN   32.183036  ...          NaN          NaN\n",
              "std                     NaN    5.107268  ...          NaN          NaN\n",
              "min                     NaN   21.000000  ...          NaN          NaN\n",
              "25%                     NaN   29.000000  ...          NaN          NaN\n",
              "50%                     NaN   32.000000  ...          NaN          NaN\n",
              "75%                     NaN   35.000000  ...          NaN          NaN\n",
              "max                     NaN   60.000000  ...          NaN          NaN\n",
              "\n",
              "[11 rows x 14 columns]"
            ]
          },
          "metadata": {
            "tags": []
          },
          "execution_count": 938
        }
      ]
    },
    {
      "cell_type": "markdown",
      "metadata": {
        "id": "-9GsJtd-2S0F"
      },
      "source": [
        "**# Display the number of missing values in each column of the 2018**"
      ]
    },
    {
      "cell_type": "code",
      "metadata": {
        "colab": {
          "base_uri": "https://localhost:8080/"
        },
        "id": "ryG7O5MTKwuE",
        "outputId": "cab19acc-8fca-4e31-e9f8-57dbd0c274c3"
      },
      "source": [
        "## Display the number of missing values in each column of the 2018 survey data\n",
        "data_18.isnull().sum()"
      ],
      "execution_count": null,
      "outputs": [
        {
          "output_type": "execute_result",
          "data": {
            "text/plain": [
              "Timestamp                               0\n",
              "Age                                    93\n",
              "Gender                                 14\n",
              "City                                   29\n",
              "Position                               28\n",
              "Years of experience                    33\n",
              "Your level                             22\n",
              "Current Salary                         15\n",
              "Salary one year ago                   169\n",
              "Salary two years ago                  302\n",
              "Are you getting any Stock Options?     23\n",
              "Main language at work                  15\n",
              "Company size                           15\n",
              "Company type                           35\n",
              "dtype: int64"
            ]
          },
          "metadata": {
            "tags": []
          },
          "execution_count": 939
        }
      ]
    },
    {
      "cell_type": "markdown",
      "metadata": {
        "id": "NoicgDbN2dlz"
      },
      "source": [
        "**# unique values and their frequency in the column - “Number of vacation days” of 2020 data**"
      ]
    },
    {
      "cell_type": "code",
      "metadata": {
        "colab": {
          "base_uri": "https://localhost:8080/"
        },
        "id": "A5iR3tCcLO3T",
        "outputId": "8dc15401-f6b0-49ee-c760-b5303b85e4f6"
      },
      "source": [
        "# How many people responded to the survey in each of the 3 years?\n",
        "print('Number of people responded to survey, in the year of 2018 are :  {}'.format(data_18.shape[0]))\n",
        "print('Number of people responded to survey, in the year of 2019 are :  {}'.format(data_19.shape[0]))\n",
        "print('Number of people responded to survey, in the year of 2020 are :  {}'.format(data_20.shape[0]))\n",
        "print('---------------------------------------------------------------------------------------------')\n",
        "print('Total Number of people responded to survey, in the last 3 years including 2018, 2019 and 2020 are :  {}'.format(data_20.shape[0]+data_19.shape[0]+data_18.shape[0]))"
      ],
      "execution_count": null,
      "outputs": [
        {
          "output_type": "stream",
          "text": [
            "Number of people responded to survey, in the year of 2018 are :  765\n",
            "Number of people responded to survey, in the year of 2019 are :  991\n",
            "Number of people responded to survey, in the year of 2020 are :  1253\n",
            "---------------------------------------------------------------------------------------------\n",
            "Total Number of people responded to survey, in the last 3 years including 2018, 2019 and 2020 are :  3009\n"
          ],
          "name": "stdout"
        }
      ]
    },
    {
      "cell_type": "markdown",
      "metadata": {
        "id": "nflNIPDj2mia"
      },
      "source": [
        "**# observations**"
      ]
    },
    {
      "cell_type": "code",
      "metadata": {
        "id": "OOcpsBxN3127",
        "colab": {
          "base_uri": "https://localhost:8080/",
          "height": 301
        },
        "outputId": "b401f7ed-01f8-4c63-f1b7-27a84c30efcd"
      },
      "source": [
        "### Has the number increased or decreased over the years?\n",
        "# line plot to verify the frequnecy of the survey over the years.\n",
        "\n",
        "years=[2018, 2019, 2020]\n",
        "survey_count=[ df.shape[0] for df in [data_18, data_19, data_20]]\n",
        "\n",
        "survey_frequency_df = pd.DataFrame({'Year':years, 'Survey Participation':survey_count}) \n",
        "\n",
        "sns.set_style(\"white\")\n",
        "sns.set_style('darkgrid',{\"axes.facecolor\": \".92\"}) # (1)\n",
        "sns.set_context('notebook')\n",
        "sns.barplot(x=years, y=survey_count, data=survey_frequency_df)\n",
        "plt.xlabel('Years')\n",
        "plt.ylabel('Number of participation')\n",
        "plt.title('Survey frequency over the years')\n",
        "plt.show()"
      ],
      "execution_count": null,
      "outputs": [
        {
          "output_type": "display_data",
          "data": {
            "image/png": "[encoded data removed]",
            "text/plain": [
              "<Figure size 432x288 with 1 Axes>"
            ]
          },
          "metadata": {
            "tags": []
          }
        }
      ]
    },
    {
      "cell_type": "code",
      "metadata": {
        "colab": {
          "base_uri": "https://localhost:8080/"
        },
        "id": "p6kr04OvRYws",
        "outputId": "2fe26a4c-ed1f-43a7-9c54-da61c5508bba"
      },
      "source": [
        "# Display all the unique values and their frequency in the column - “Number of vacation days” of 2020 data\n",
        "data_20['Number of vacation days'].value_counts()"
      ],
      "execution_count": null,
      "outputs": [
        {
          "output_type": "execute_result",
          "data": {
            "text/plain": [
              "30                                              488\n",
              "28                                              233\n",
              "27                                              102\n",
              "25                                               91\n",
              "26                                               71\n",
              "24                                               67\n",
              "29                                               24\n",
              "20                                               13\n",
              "21                                               10\n",
              "22                                                8\n",
              "31                                                8\n",
              "32                                                8\n",
              "35                                                5\n",
              "36                                                5\n",
              "23                                                4\n",
              "40                                                4\n",
              "0                                                 4\n",
              "unlimited                                         3\n",
              "33                                                3\n",
              "14                                                3\n",
              "45                                                3\n",
              "unlimited                                         2\n",
              "15                                                2\n",
              "12                                                2\n",
              "Unlimited                                         2\n",
              "1                                                 1\n",
              "37.5                                              1\n",
              "37                                                1\n",
              "~25                                               1\n",
              "10                                                1\n",
              "16                                                1\n",
              "39                                                1\n",
              "50                                                1\n",
              "5                                                 1\n",
              "365                                               1\n",
              "24 labour days                                    1\n",
              "(no idea)                                         1\n",
              "60                                                1\n",
              "30 in contract (but theoretically unlimited)      1\n",
              "3                                                 1\n",
              "99                                                1\n",
              "23+                                               1\n",
              "38                                                1\n",
              "Unlimited                                         1\n",
              "34                                                1\n",
              "Name: Number of vacation days, dtype: int64"
            ]
          },
          "metadata": {
            "tags": []
          },
          "execution_count": 942
        }
      ]
    },
    {
      "cell_type": "code",
      "metadata": {
        "colab": {
          "base_uri": "https://localhost:8080/",
          "height": 598
        },
        "id": "_pqSzGNJSaNy",
        "outputId": "4f00d78f-857e-4398-e49f-31c814c8e74f"
      },
      "source": [
        "# observations (at least one) for column - “Number of vacation days” of 2020 data\n",
        "data_20[data_20['Number of vacation days']=='30'].head(5)"
      ],
      "execution_count": null,
      "outputs": [
        {
          "output_type": "execute_result",
          "data": {
            "text/html": [
              "<div>\n",
              "<style scoped>\n",
              "    .dataframe tbody tr th:only-of-type {\n",
              "        vertical-align: middle;\n",
              "    }\n",
              "\n",
              "    .dataframe tbody tr th {\n",
              "        vertical-align: top;\n",
              "    }\n",
              "\n",
              "    .dataframe thead th {\n",
              "        text-align: right;\n",
              "    }\n",
              "</style>\n",
              "<table border=\"1\" class=\"dataframe\">\n",
              "  <thead>\n",
              "    <tr style=\"text-align: right;\">\n",
              "      <th></th>\n",
              "      <th>Timestamp</th>\n",
              "      <th>Age</th>\n",
              "      <th>Gender</th>\n",
              "      <th>City</th>\n",
              "      <th>Position</th>\n",
              "      <th>Total years of experience</th>\n",
              "      <th>Years of experience in Germany</th>\n",
              "      <th>Seniority level</th>\n",
              "      <th>Your main technology / programming language</th>\n",
              "      <th>Other technologies/programming languages you use often</th>\n",
              "      <th>Yearly brutto salary (without bonus and stocks) in EUR</th>\n",
              "      <th>Yearly bonus + stocks in EUR</th>\n",
              "      <th>Annual brutto salary (without bonus and stocks) one year ago. Only answer if staying in the same country</th>\n",
              "      <th>Annual bonus+stocks one year ago. Only answer if staying in same country</th>\n",
              "      <th>Number of vacation days</th>\n",
              "      <th>Employment status</th>\n",
              "      <th>Сontract duration</th>\n",
              "      <th>Main language at work</th>\n",
              "      <th>Company size</th>\n",
              "      <th>Company type</th>\n",
              "      <th>Have you lost your job due to the coronavirus outbreak?</th>\n",
              "      <th>Have you been forced to have a shorter working week (Kurzarbeit)? If yes, how many hours per week</th>\n",
              "      <th>Have you received additional monetary support from your employer due to Work From Home? If yes, how much in 2020 in EUR</th>\n",
              "    </tr>\n",
              "  </thead>\n",
              "  <tbody>\n",
              "    <tr>\n",
              "      <th>0</th>\n",
              "      <td>24/11/2020 11:14:15</td>\n",
              "      <td>26.0</td>\n",
              "      <td>Male</td>\n",
              "      <td>Munich</td>\n",
              "      <td>Software Engineer</td>\n",
              "      <td>5</td>\n",
              "      <td>3</td>\n",
              "      <td>Senior</td>\n",
              "      <td>TypeScript</td>\n",
              "      <td>Kotlin, Javascript / Typescript</td>\n",
              "      <td>80000.0</td>\n",
              "      <td>5000</td>\n",
              "      <td>75000.0</td>\n",
              "      <td>10000</td>\n",
              "      <td>30</td>\n",
              "      <td>Full-time employee</td>\n",
              "      <td>Unlimited contract</td>\n",
              "      <td>English</td>\n",
              "      <td>51-100</td>\n",
              "      <td>Product</td>\n",
              "      <td>No</td>\n",
              "      <td>NaN</td>\n",
              "      <td>NaN</td>\n",
              "    </tr>\n",
              "    <tr>\n",
              "      <th>2</th>\n",
              "      <td>24/11/2020 11:14:21</td>\n",
              "      <td>29.0</td>\n",
              "      <td>Male</td>\n",
              "      <td>Berlin</td>\n",
              "      <td>Software Engineer</td>\n",
              "      <td>12</td>\n",
              "      <td>6</td>\n",
              "      <td>Lead</td>\n",
              "      <td>Javascript / Typescript</td>\n",
              "      <td>Javascript / Typescript, Docker</td>\n",
              "      <td>120000.0</td>\n",
              "      <td>120000</td>\n",
              "      <td>100000.0</td>\n",
              "      <td>100000</td>\n",
              "      <td>30</td>\n",
              "      <td>Self-employed (freelancer)</td>\n",
              "      <td>Temporary contract</td>\n",
              "      <td>English</td>\n",
              "      <td>101-1000</td>\n",
              "      <td>Product</td>\n",
              "      <td>Yes</td>\n",
              "      <td>NaN</td>\n",
              "      <td>NaN</td>\n",
              "    </tr>\n",
              "    <tr>\n",
              "      <th>5</th>\n",
              "      <td>24/11/2020 11:15:53</td>\n",
              "      <td>32.0</td>\n",
              "      <td>Male</td>\n",
              "      <td>Berlin</td>\n",
              "      <td>DevOps</td>\n",
              "      <td>5</td>\n",
              "      <td>1</td>\n",
              "      <td>Senior</td>\n",
              "      <td>AWS, GCP, Python,K8s</td>\n",
              "      <td>Python, AWS, Google Cloud, Kubernetes, Docker</td>\n",
              "      <td>76000.0</td>\n",
              "      <td>5000</td>\n",
              "      <td>76000.0</td>\n",
              "      <td>5000</td>\n",
              "      <td>30</td>\n",
              "      <td>Full-time employee</td>\n",
              "      <td>Unlimited contract</td>\n",
              "      <td>English</td>\n",
              "      <td>11-50</td>\n",
              "      <td>Startup</td>\n",
              "      <td>No</td>\n",
              "      <td>NaN</td>\n",
              "      <td>NaN</td>\n",
              "    </tr>\n",
              "    <tr>\n",
              "      <th>9</th>\n",
              "      <td>24/11/2020 11:17:50</td>\n",
              "      <td>35.0</td>\n",
              "      <td>Male</td>\n",
              "      <td>Berlin</td>\n",
              "      <td>Software Engineer</td>\n",
              "      <td>15</td>\n",
              "      <td>3</td>\n",
              "      <td>Lead</td>\n",
              "      <td>Java</td>\n",
              "      <td>NaN</td>\n",
              "      <td>95000.0</td>\n",
              "      <td>NaN</td>\n",
              "      <td>90000.0</td>\n",
              "      <td>NaN</td>\n",
              "      <td>30</td>\n",
              "      <td>Full-time employee</td>\n",
              "      <td>Unlimited contract</td>\n",
              "      <td>English</td>\n",
              "      <td>101-1000</td>\n",
              "      <td>Product</td>\n",
              "      <td>No</td>\n",
              "      <td>0.0</td>\n",
              "      <td>NaN</td>\n",
              "    </tr>\n",
              "    <tr>\n",
              "      <th>10</th>\n",
              "      <td>24/11/2020 11:18:06</td>\n",
              "      <td>32.0</td>\n",
              "      <td>Female</td>\n",
              "      <td>Hamburg</td>\n",
              "      <td>Data Engineer</td>\n",
              "      <td>2</td>\n",
              "      <td>2</td>\n",
              "      <td>Junior</td>\n",
              "      <td>Aws Hadoop Postgre Typescript</td>\n",
              "      <td>Python, Kotlin, Javascript / Typescript, SQL, AWS</td>\n",
              "      <td>52500.0</td>\n",
              "      <td>NaN</td>\n",
              "      <td>52500.0</td>\n",
              "      <td>NaN</td>\n",
              "      <td>30</td>\n",
              "      <td>Full-time employee</td>\n",
              "      <td>Unlimited contract</td>\n",
              "      <td>German</td>\n",
              "      <td>101-1000</td>\n",
              "      <td>Consulting / Agency</td>\n",
              "      <td>No</td>\n",
              "      <td>NaN</td>\n",
              "      <td>NaN</td>\n",
              "    </tr>\n",
              "  </tbody>\n",
              "</table>\n",
              "</div>"
            ],
            "text/plain": [
              "              Timestamp  ...  Have you received additional monetary support from your employer due to Work From Home? If yes, how much in 2020 in EUR\n",
              "0   24/11/2020 11:14:15  ...                                                NaN                                                                      \n",
              "2   24/11/2020 11:14:21  ...                                                NaN                                                                      \n",
              "5   24/11/2020 11:15:53  ...                                                NaN                                                                      \n",
              "9   24/11/2020 11:17:50  ...                                                NaN                                                                      \n",
              "10  24/11/2020 11:18:06  ...                                                NaN                                                                      \n",
              "\n",
              "[5 rows x 23 columns]"
            ]
          },
          "metadata": {
            "tags": []
          },
          "execution_count": 943
        }
      ]
    },
    {
      "cell_type": "markdown",
      "metadata": {
        "id": "wptPzyquAXbR"
      },
      "source": [
        "## Task 3: Data Cleaning\n",
        "* Rename the column ‘Position ‘ in the 2020 data to ‘Position’. (without the blank space)\n",
        "* Check for missing values in 2020 data for all the columns. If there are no missing values, proceed to the next step. If there are missing values in the dataset,\n",
        "  * For categorical variables, fill the missing values with the mode of the data. Remember if the data type of any variable is ‘object’, it is categorical variable. \n",
        "  * For numerical variables, fill the missing values with the mean of the data.\n",
        "\n",
        "Here's a good blog that displays multiple methods of filling (imputing) missing values: https://jamesrledoux.com/code/imputation \n",
        "* Drop the timestamp column for all the three years data since the date and time at which a person filled the survey is irrelevant to us. The year matters and we already know that from the dataset’s name.\n",
        "* Perform any other data cleaning steps you believe are necessary. (removing outliers, handling missing values in a way to beautify visualizations, making the categories uniform i.e python and Python should mean the same thing etc.) Note that the same steps will have to be performed for all 3 data files."
      ]
    },
    {
      "cell_type": "markdown",
      "metadata": {
        "id": "U8o2Hb4S0Q-Y"
      },
      "source": [
        "**# Rename the column ‘Position ‘ in the 2020 data to ‘Position’**"
      ]
    },
    {
      "cell_type": "code",
      "metadata": {
        "colab": {
          "base_uri": "https://localhost:8080/"
        },
        "id": "oRCVlt2YChhu",
        "outputId": "b3f3c998-d173-4c98-9931-686d0f819554"
      },
      "source": [
        "# rename the column from 'Position ' to 'Posiiton'\n",
        "data_20.rename(columns = {'Position ':'Position'}, inplace = True)\n",
        "\n",
        "# displaying the columns before renaming \n",
        "print(data_20.columns)"
      ],
      "execution_count": null,
      "outputs": [
        {
          "output_type": "stream",
          "text": [
            "Index(['Timestamp', 'Age', 'Gender', 'City', 'Position',\n",
            "       'Total years of experience', 'Years of experience in Germany',\n",
            "       'Seniority level', 'Your main technology / programming language',\n",
            "       'Other technologies/programming languages you use often',\n",
            "       'Yearly brutto salary (without bonus and stocks) in EUR',\n",
            "       'Yearly bonus + stocks in EUR',\n",
            "       'Annual brutto salary (without bonus and stocks) one year ago. Only answer if staying in the same country',\n",
            "       'Annual bonus+stocks one year ago. Only answer if staying in same country',\n",
            "       'Number of vacation days', 'Employment status', 'Сontract duration',\n",
            "       'Main language at work', 'Company size', 'Company type',\n",
            "       'Have you lost your job due to the coronavirus outbreak?',\n",
            "       'Have you been forced to have a shorter working week (Kurzarbeit)? If yes, how many hours per week',\n",
            "       'Have you received additional monetary support from your employer due to Work From Home? If yes, how much in 2020 in EUR'],\n",
            "      dtype='object')\n"
          ],
          "name": "stdout"
        }
      ]
    },
    {
      "cell_type": "markdown",
      "metadata": {
        "id": "GcT6AtPk0byV"
      },
      "source": [
        "**# Check for missing values**"
      ]
    },
    {
      "cell_type": "code",
      "metadata": {
        "colab": {
          "base_uri": "https://localhost:8080/"
        },
        "id": "tq_nyr4KF2a0",
        "outputId": "6e8688c4-7e64-4f6e-dbf7-78ab53b01c23"
      },
      "source": [
        "data_20.shape"
      ],
      "execution_count": null,
      "outputs": [
        {
          "output_type": "execute_result",
          "data": {
            "text/plain": [
              "(1253, 23)"
            ]
          },
          "metadata": {
            "tags": []
          },
          "execution_count": 945
        }
      ]
    },
    {
      "cell_type": "code",
      "metadata": {
        "colab": {
          "base_uri": "https://localhost:8080/"
        },
        "id": "24nBHZt4GOVV",
        "outputId": "34962be5-47f3-4c77-bc70-e851e4285190"
      },
      "source": [
        "data_20.isnull().sum()"
      ],
      "execution_count": null,
      "outputs": [
        {
          "output_type": "execute_result",
          "data": {
            "text/plain": [
              "Timestamp                                                                                                                    0\n",
              "Age                                                                                                                         27\n",
              "Gender                                                                                                                      10\n",
              "City                                                                                                                         0\n",
              "Position                                                                                                                     6\n",
              "Total years of experience                                                                                                   16\n",
              "Years of experience in Germany                                                                                              32\n",
              "Seniority level                                                                                                             12\n",
              "Your main technology / programming language                                                                                127\n",
              "Other technologies/programming languages you use often                                                                     157\n",
              "Yearly brutto salary (without bonus and stocks) in EUR                                                                       0\n",
              "Yearly bonus + stocks in EUR                                                                                               424\n",
              "Annual brutto salary (without bonus and stocks) one year ago. Only answer if staying in the same country                   368\n",
              "Annual bonus+stocks one year ago. Only answer if staying in same country                                                   639\n",
              "Number of vacation days                                                                                                     68\n",
              "Employment status                                                                                                           17\n",
              "Сontract duration                                                                                                           29\n",
              "Main language at work                                                                                                       16\n",
              "Company size                                                                                                                18\n",
              "Company type                                                                                                                25\n",
              "Have you lost your job due to the coronavirus outbreak?                                                                     20\n",
              "Have you been forced to have a shorter working week (Kurzarbeit)? If yes, how many hours per week                          880\n",
              "Have you received additional monetary support from your employer due to Work From Home? If yes, how much in 2020 in EUR    791\n",
              "dtype: int64"
            ]
          },
          "metadata": {
            "tags": []
          },
          "execution_count": 946
        }
      ]
    },
    {
      "cell_type": "code",
      "metadata": {
        "colab": {
          "base_uri": "https://localhost:8080/"
        },
        "id": "_1kCGAQfGTAP",
        "outputId": "3885b13c-04a5-4351-e48a-2378a2f29729"
      },
      "source": [
        "data_20.info()"
      ],
      "execution_count": null,
      "outputs": [
        {
          "output_type": "stream",
          "text": [
            "<class 'pandas.core.frame.DataFrame'>\n",
            "RangeIndex: 1253 entries, 0 to 1252\n",
            "Data columns (total 23 columns):\n",
            " #   Column                                                                                                                   Non-Null Count  Dtype  \n",
            "---  ------                                                                                                                   --------------  -----  \n",
            " 0   Timestamp                                                                                                                1253 non-null   object \n",
            " 1   Age                                                                                                                      1226 non-null   float64\n",
            " 2   Gender                                                                                                                   1243 non-null   object \n",
            " 3   City                                                                                                                     1253 non-null   object \n",
            " 4   Position                                                                                                                 1247 non-null   object \n",
            " 5   Total years of experience                                                                                                1237 non-null   object \n",
            " 6   Years of experience in Germany                                                                                           1221 non-null   object \n",
            " 7   Seniority level                                                                                                          1241 non-null   object \n",
            " 8   Your main technology / programming language                                                                              1126 non-null   object \n",
            " 9   Other technologies/programming languages you use often                                                                   1096 non-null   object \n",
            " 10  Yearly brutto salary (without bonus and stocks) in EUR                                                                   1253 non-null   float64\n",
            " 11  Yearly bonus + stocks in EUR                                                                                             829 non-null    object \n",
            " 12  Annual brutto salary (without bonus and stocks) one year ago. Only answer if staying in the same country                 885 non-null    float64\n",
            " 13  Annual bonus+stocks one year ago. Only answer if staying in same country                                                 614 non-null    object \n",
            " 14  Number of vacation days                                                                                                  1185 non-null   object \n",
            " 15  Employment status                                                                                                        1236 non-null   object \n",
            " 16  Сontract duration                                                                                                        1224 non-null   object \n",
            " 17  Main language at work                                                                                                    1237 non-null   object \n",
            " 18  Company size                                                                                                             1235 non-null   object \n",
            " 19  Company type                                                                                                             1228 non-null   object \n",
            " 20  Have you lost your job due to the coronavirus outbreak?                                                                  1233 non-null   object \n",
            " 21  Have you been forced to have a shorter working week (Kurzarbeit)? If yes, how many hours per week                        373 non-null    float64\n",
            " 22  Have you received additional monetary support from your employer due to Work From Home? If yes, how much in 2020 in EUR  462 non-null    object \n",
            "dtypes: float64(4), object(19)\n",
            "memory usage: 225.3+ KB\n"
          ],
          "name": "stdout"
        }
      ]
    },
    {
      "cell_type": "markdown",
      "metadata": {
        "id": "dQ1G8JI20n_W"
      },
      "source": [
        "**# For categorical variables, fill the missing values with the mode of the data    and, For numerical variables, fill the missing values with the mean of the data**"
      ]
    },
    {
      "cell_type": "code",
      "metadata": {
        "id": "9Ivy7cyKbwRR"
      },
      "source": [
        "def impute_with_meanormode (df):\n",
        "    \"\"\" This func imputes all the misisng values based on their type: \n",
        " For numerical columns replace with mean,\n",
        " For categorical columns replace with mode\"\"\"\n",
        "\n",
        "    num_cols = df._get_numeric_data().columns\n",
        "    categorical_columns=list(set(df.columns) - set(num_cols))\n",
        "    print(\"categorical_columns are\",categorical_columns)\n",
        "     \n",
        "    # Get list of DataFrame column names\n",
        "    cols = list(df)\n",
        "    # Loop through columns\n",
        "    for column in cols:\n",
        "      # Transfer column to independent series\n",
        "      col_data = df[column]\n",
        "      # Look to see if there is any missing numerical data\n",
        "      missing_data = sum(col_data.isna())\n",
        "      if missing_data > 0:\n",
        "        if (column in categorical_columns):\n",
        "          #For categorical columns replace with mode\n",
        "          #col_mode=col_data.mode()\n",
        "          col_mode=col_data.value_counts().index[0]\n",
        "          print(\"Categorical column is '%s' and its mode is '%s'\"%(column,col_mode))\n",
        "          \n",
        "          col_data.fillna(col_mode, inplace=True)\n",
        "          df[column] = col_data\n",
        "        else:\n",
        "          # Get mean and replace missing numerical data with mean\n",
        "          col_mean = col_data.mean()\n",
        "          print(\"Numerical column is '%s' and its mean is '%s'\"%(column,col_mean))\n",
        "          col_data.fillna(col_mean, inplace=True)\n",
        "          df[column] = col_data\n",
        "    return df"
      ],
      "execution_count": null,
      "outputs": []
    },
    {
      "cell_type": "code",
      "metadata": {
        "colab": {
          "base_uri": "https://localhost:8080/"
        },
        "id": "s5a2ht-mf-ck",
        "outputId": "b2370f9e-3c90-443d-87b8-b88410b75061"
      },
      "source": [
        "# apply the imputing function onto needed dataframe\n",
        "impute_df=impute_with_meanormode(data_20)"
      ],
      "execution_count": null,
      "outputs": [
        {
          "output_type": "stream",
          "text": [
            "categorical_columns are ['Your main technology / programming language', 'Other technologies/programming languages you use often', 'Сontract duration', 'Total years of experience', 'Timestamp', 'Annual bonus+stocks one year ago. Only answer if staying in same country', 'Company size', 'Yearly bonus + stocks in EUR', 'City', 'Employment status', 'Position', 'Have you lost your job due to the coronavirus outbreak?', 'Have you received additional monetary support from your employer due to Work From Home? If yes, how much in 2020 in EUR', 'Years of experience in Germany', 'Company type', 'Gender', 'Seniority level', 'Main language at work', 'Number of vacation days']\n",
            "Numerical column is 'Age' and its mean is '32.50978792822186'\n",
            "Categorical column is 'Gender' and its mode is 'Male'\n",
            "Categorical column is 'Position' and its mode is 'Software Engineer'\n",
            "Categorical column is 'Total years of experience' and its mode is '10'\n",
            "Categorical column is 'Years of experience in Germany' and its mode is '2'\n",
            "Categorical column is 'Seniority level' and its mode is 'Senior'\n",
            "Categorical column is 'Your main technology / programming language' and its mode is 'Java'\n",
            "Categorical column is 'Other technologies/programming languages you use often' and its mode is 'Javascript / Typescript'\n",
            "Categorical column is 'Yearly bonus + stocks in EUR' and its mode is '0'\n",
            "Numerical column is 'Annual brutto salary (without bonus and stocks) one year ago. Only answer if staying in the same country' and its mean is '632245.8723163842'\n",
            "Categorical column is 'Annual bonus+stocks one year ago. Only answer if staying in same country' and its mode is '0'\n",
            "Categorical column is 'Number of vacation days' and its mode is '30'\n",
            "Categorical column is 'Employment status' and its mode is 'Full-time employee'\n",
            "Categorical column is 'Сontract duration' and its mode is 'Unlimited contract'\n",
            "Categorical column is 'Main language at work' and its mode is 'English'\n",
            "Categorical column is 'Company size' and its mode is '1000+'\n",
            "Categorical column is 'Company type' and its mode is 'Product'\n",
            "Categorical column is 'Have you lost your job due to the coronavirus outbreak?' and its mode is 'No'\n",
            "Numerical column is 'Have you been forced to have a shorter working week (Kurzarbeit)? If yes, how many hours per week' and its mean is '12.967828418230564'\n",
            "Categorical column is 'Have you received additional monetary support from your employer due to Work From Home? If yes, how much in 2020 in EUR' and its mode is '0'\n"
          ],
          "name": "stdout"
        }
      ]
    },
    {
      "cell_type": "code",
      "metadata": {
        "colab": {
          "base_uri": "https://localhost:8080/"
        },
        "id": "de-5Q825ublS",
        "outputId": "41b62ff7-6110-4f61-c13a-b3ba2ec0369b"
      },
      "source": [
        "impute_data_19_df=impute_with_meanormode(data_19)"
      ],
      "execution_count": null,
      "outputs": [
        {
          "output_type": "stream",
          "text": [
            "categorical_columns are ['Your main technology / programming language', 'Сontract duration', 'Company business sector', 'Zeitstempel', 'Company size', 'Company type', 'Position (without seniority)', 'Company name ', 'Gender', 'Seniority level', 'City', 'Main language at work']\n",
            "Numerical column is 'Age' and its mean is '32.41609977324263'\n",
            "Categorical column is 'Seniority level' and its mode is 'Senior'\n",
            "Categorical column is 'Position (without seniority)' and its mode is 'Backend Developer'\n",
            "Categorical column is 'Your main technology / programming language' and its mode is 'Python'\n",
            "Numerical column is 'Yearly brutto salary (without bonus and stocks)' and its mean is '72562.21212121213'\n",
            "Numerical column is 'Yearly bonus' and its mean is '7857.169811320755'\n",
            "Numerical column is 'Yearly stocks' and its mean is '18263.119802955665'\n",
            "Numerical column is 'Yearly brutto salary (without bonus and stocks) one year ago. Only answer if staying in same country' and its mean is '65803.89552238806'\n",
            "Numerical column is 'Yearly bonus one year ago. Only answer if staying in same country' and its mean is '8144.0'\n",
            "Numerical column is 'Yearly stocks one year ago. Only answer if staying in same country' and its mean is '8204.476330935251'\n",
            "Numerical column is 'Number of vacation days' and its mean is '27.924812030075188'\n",
            "Numerical column is 'Number of home office days per month' and its mean is '6.462050078247262'\n",
            "Categorical column is 'Main language at work' and its mode is 'English'\n",
            "Categorical column is 'Company name ' and its mode is 'Zalando'\n",
            "Categorical column is 'Company size' and its mode is '100-1000'\n",
            "Categorical column is 'Company type' and its mode is 'Product'\n",
            "Categorical column is 'Сontract duration' and its mode is 'unlimited'\n",
            "Categorical column is 'Company business sector' and its mode is 'Сommerce'\n",
            "Numerical column is '0' and its mean is 'nan'\n"
          ],
          "name": "stdout"
        }
      ]
    },
    {
      "cell_type": "code",
      "metadata": {
        "colab": {
          "base_uri": "https://localhost:8080/"
        },
        "id": "YNE3yQztujXy",
        "outputId": "641ac2ff-fe97-48fc-b48a-249e12b1f79c"
      },
      "source": [
        "impute_data_18_df=impute_with_meanormode(data_18)"
      ],
      "execution_count": null,
      "outputs": [
        {
          "output_type": "stream",
          "text": [
            "categorical_columns are ['City', 'Position', 'Timestamp', 'Company size', 'Company type', 'Gender', 'Your level', 'Are you getting any Stock Options?', 'Main language at work']\n",
            "Numerical column is 'Age' and its mean is '32.183035714285715'\n",
            "Categorical column is 'Gender' and its mode is 'M'\n",
            "Categorical column is 'City' and its mode is 'Berlin'\n",
            "Categorical column is 'Position' and its mode is 'Java Developer'\n",
            "Numerical column is 'Years of experience' and its mean is '8.548497267759563'\n",
            "Categorical column is 'Your level' and its mode is 'Senior'\n",
            "Numerical column is 'Current Salary' and its mean is '68381.76533333333'\n",
            "Numerical column is 'Salary one year ago' and its mean is '62187.278523489935'\n",
            "Numerical column is 'Salary two years ago' and its mean is '58013.475161987044'\n",
            "Categorical column is 'Are you getting any Stock Options?' and its mode is 'No'\n",
            "Categorical column is 'Main language at work' and its mode is 'English'\n",
            "Categorical column is 'Company size' and its mode is '100-1000'\n",
            "Categorical column is 'Company type' and its mode is 'Product'\n"
          ],
          "name": "stdout"
        }
      ]
    },
    {
      "cell_type": "markdown",
      "metadata": {
        "id": "kV79_hxR1ZS1"
      },
      "source": [
        "**# Drop the timestamp column for all the three years data**"
      ]
    },
    {
      "cell_type": "code",
      "metadata": {
        "id": "g2d4s-hPgbWk"
      },
      "source": [
        "# Drop the timestamp column for all the three years data\n",
        "del data_18['Timestamp']\n",
        "del data_19['Zeitstempel']\n",
        "del data_20['Timestamp']"
      ],
      "execution_count": null,
      "outputs": []
    },
    {
      "cell_type": "markdown",
      "metadata": {
        "id": "W0FwHKe41mp1"
      },
      "source": [
        "**# categories uniform i.e python and Python should mean the same thing**\n",
        "\n"
      ]
    },
    {
      "cell_type": "code",
      "metadata": {
        "id": "FX_vHtyNkoa9"
      },
      "source": [
        "# translate 'python' to 'Python'\n",
        "for df in [data_20, data_19, data_18]:\n",
        "  for col in df.columns:\n",
        "    if col=='Your main technology / programming language':\n",
        "      df['Your main technology / programming language']=df['Your main technology / programming language'].str.replace('python','Python')\n"
      ],
      "execution_count": null,
      "outputs": []
    },
    {
      "cell_type": "markdown",
      "metadata": {
        "id": "s8RT70fOCb_T"
      },
      "source": [
        "## Task 4: Data Visualization using Plotly\n",
        "**Note:** All the tasks below need to be completed using only Plotly and no other Data Visualization library.\n",
        "\n",
        "* Create a pie chart to analyze the Company types in the year 2019. Are Consulting / Agency companies more popular than Startups? \n",
        "* Create a line plot of the Total years of experience vs the current salary(taking the median salary for each of the different experience years) of the year 2018.\n",
        "* Now, create the above plot again and add 2 more line plots to the same graph, that display the Total years of experience vs the median Yearly brutto salary (without bonus and stocks) of the year 2019 and 2020.\n",
        "* Create a bar chart to analyse the popularity of the main technology/ programming languages amongst the respondents in the year 2020. Which technology is the most popular? Which technology is the least popular (with less than 4 responses)?\n",
        "* Create a pie plot indicating the gender ratio of the respondents in the year 2020.\n"
      ]
    },
    {
      "cell_type": "code",
      "metadata": {
        "id": "ROEb1ukbCoTi"
      },
      "source": [
        "import plotly.express as px\n",
        "import os"
      ],
      "execution_count": null,
      "outputs": []
    },
    {
      "cell_type": "markdown",
      "metadata": {
        "id": "yJtov5oK0CSE"
      },
      "source": [
        "**# pie chart to analyze the Company types in the year 2019**"
      ]
    },
    {
      "cell_type": "code",
      "metadata": {
        "colab": {
          "base_uri": "https://localhost:8080/",
          "height": 542
        },
        "id": "fFmT_p5QyCOl",
        "outputId": "6d6cbc1a-2606-4976-a29c-07000ebc485e"
      },
      "source": [
        "# pie chart to analyze the Company types in the year 2019\n",
        "fig = px.pie(data_19, names='Company type', hole=0.3)\n",
        "fig.update_traces(textinfo=\"label+percent\", insidetextfont= dict(color=\"white\"))\n",
        "# fig.update_layout(legend = {\"itemclick\": False})\n",
        "fig.show()"
      ],
      "execution_count": null,
      "outputs": [
        {
          "output_type": "display_data",
          "data": {
            "text/html": [
              "<html>\n",
              "<head><meta charset=\"utf-8\" /></head>\n",
              "<body>\n",
              "    <div>\n",
              "            <script src=\"https://cdnjs.cloudflare.com/ajax/libs/mathjax/2.7.5/MathJax.js?config=TeX-AMS-MML_SVG\"></script><script type=\"text/javascript\">if (window.MathJax) {MathJax.Hub.Config({SVG: {font: \"STIX-Web\"}});}</script>\n",
              "                <script type=\"text/javascript\">window.PlotlyConfig = {MathJaxConfig: 'local'};</script>\n",
              "        <script src=\"https://cdn.plot.ly/plotly-latest.min.js\"></script>    \n",
              "            <div id=\"49856673-c7ce-4d5f-a556-d10231a016a7\" class=\"plotly-graph-div\" style=\"height:525px; width:100%;\"></div>\n",
              "            <script type=\"text/javascript\">\n",
              "                \n",
              "                    window.PLOTLYENV=window.PLOTLYENV || {};\n",
              "                    \n",
              "                if (document.getElementById(\"49856673-c7ce-4d5f-a556-d10231a016a7\")) {\n",
              "                    Plotly.newPlot(\n",
              "                        '49856673-c7ce-4d5f-a556-d10231a016a7',\n",
              "                        [{\"domain\": {\"x\": [0.0, 1.0], \"y\": [0.0, 1.0]}, \"hole\": 0.3, \"hoverlabel\": {\"namelength\": 0}, \"hovertemplate\": \"Company type=%{label}\", \"insidetextfont\": {\"color\": \"white\"}, \"labels\": [\"Startup\", \"Product\", \"Startup\", \"Product\", \"Product\", \"Product\", \"Startup\", \"Product\", \"Product\", \"Product\", \"Startup\", \"Product\", \"Startup\", \"Product\", \"Startup\", \"Startup\", \"Product\", \"Product\", \"Product\", \"Product\", \"Startup\", \"Product\", \"Product\", \"Product\", \"Product\", \"Product\", \"Product\", \"Consulting / Agency\", \"Product\", \"Product\", \"Product\", \"Consulting / Agency\", \"Startup\", \"Product\", \"Product\", \"Product\", \"Product\", \"Startup\", \"Product\", \"Product\", \"Startup\", \"Product\", \"Product\", \"Startup\", \"Startup\", \"Product\", \"Product\", \"Consulting / Agency\", \"Startup\", \"Product\", \"Startup\", \"Consulting / Agency\", \"Startup\", \"Startup\", \"Product\", \"Consulting / Agency\", \"Product\", \"Startup\", \"Startup\", \"Startup\", \"Product\", \"Product\", \"Product\", \"Product\", \"Startup\", \"Product\", \"Product\", \"Startup\", \"Consulting / Agency\", \"Product\", \"Product\", \"Consulting / Agency\", \"Product\", \"Product\", \"Startup\", \"Product\", \"Product\", \"Product\", \"Product\", \"Product\", \"Startup\", \"Product\", \"Product\", \"Product\", \"Consulting / Agency\", \"Product\", \"Startup\", \"Product\", \"Product\", \"Product\", \"Startup\", \"Consulting / Agency\", \"Product\", \"Startup\", \"Product\", \"Startup\", \"Product\", \"Product\", \"Product\", \"Product\", \"Product\", \"Consulting / Agency\", \"Startup\", \"Product\", \"Consulting / Agency\", \"Startup\", \"Product\", \"Product\", \"Consulting / Agency\", \"Product\", \"Product\", \"Consulting / Agency\", \"Startup\", \"Startup\", \"Consulting / Agency\", \"Product\", \"Product\", \"Bodyshop / Outsource\", \"Product\", \"Product\", \"Product\", \"Product\", \"Product\", \"Product\", \"Product\", \"Consulting / Agency\", \"Product\", \"Product\", \"Product\", \"Product\", \"Product\", \"Bodyshop / Outsource\", \"Startup\", \"Product\", \"Consulting / Agency\", \"Bodyshop / Outsource\", \"Consulting / Agency\", \"Product\", \"Product\", \"Consulting / Agency\", \"Product\", \"Product\", \"Startup\", \"Product\", \"Product\", \"Product\", \"Product\", \"Product\", \"Product\", \"Consulting / Agency\", \"Product\", \"Product\", \"Product\", \"Product\", \"Product\", \"Product\", \"Product\", \"Product\", \"Product\", \"Product\", \"Product\", \"Consulting / Agency\", \"Startup\", \"Product\", \"Product\", \"Consulting / Agency\", \"Product\", \"Product\", \"Startup\", \"Startup\", \"Product\", \"Product\", \"Product\", \"Product\", \"Product\", \"Product\", \"Product\", \"Product\", \"Product\", \"Consulting / Agency\", \"Product\", \"Product\", \"Consulting / Agency\", \"Product\", \"Consulting / Agency\", \"Product\", \"Product\", \"Product\", \"Product\", \"Product\", \"Product\", \"Product\", \"Product\", \"Product\", \"Product\", \"Consulting / Agency\", \"Product\", \"Product\", \"Startup\", \"Product\", \"Consulting / Agency\", \"Product\", \"Product\", \"Product\", \"Consulting / Agency\", \"Product\", \"Product\", \"Product\", \"Product\", \"Product\", \"Product\", \"Product\", \"Product\", \"Product\", \"Product\", \"Product\", \"Product\", \"Product\", \"Product\", \"Product\", \"Product\", \"Product\", \"Startup\", \"Product\", \"Bodyshop / Outsource\", \"Product\", \"Startup\", \"Consulting / Agency\", \"Product\", \"Consulting / Agency\", \"Product\", \"Bodyshop / Outsource\", \"Product\", \"Startup\", \"Startup\", \"Startup\", \"Consulting / Agency\", \"Startup\", \"Product\", \"Product\", \"Bodyshop / Outsource\", \"Product\", \"Startup\", \"Product\", \"Product\", \"Consulting / Agency\", \"Product\", \"Product\", \"Product\", \"Product\", \"Product\", \"Product\", \"Product\", \"Product\", \"Product\", \"Product\", \"Startup\", \"Product\", \"Product\", \"Product\", \"Startup\", \"Startup\", \"Product\", \"Product\", \"Product\", \"Product\", \"Product\", \"Startup\", \"Product\", \"Startup\", \"Bodyshop / Outsource\", \"Product\", \"Consulting / Agency\", \"Product\", \"Product\", \"Consulting / Agency\", \"Product\", \"Startup\", \"Product\", \"Product\", \"Product\", \"Product\", \"Product\", \"Product\", \"Product\", \"Product\", \"Startup\", \"Product\", \"Product\", \"Product\", \"Startup\", \"Product\", \"Product\", \"Product\", \"Consulting / Agency\", \"Bodyshop / Outsource\", \"Product\", \"Product\", \"Product\", \"Consulting / Agency\", \"Product\", \"Product\", \"Product\", \"Product\", \"Product\", \"Startup\", \"Product\", \"Product\", \"Product\", \"Startup\", \"Consulting / Agency\", \"Startup\", \"Product\", \"Product\", \"Product\", \"Startup\", \"Product\", \"Product\", \"Startup\", \"Product\", \"Product\", \"Product\", \"Product\", \"Product\", \"Product\", \"Product\", \"Startup\", \"Product\", \"Product\", \"Product\", \"Consulting / Agency\", \"Product\", \"Product\", \"Product\", \"Startup\", \"Startup\", \"Product\", \"Product\", \"Product\", \"Product\", \"Product\", \"Product\", \"Product\", \"Product\", \"Product\", \"Product\", \"Startup\", \"Product\", \"Bodyshop / Outsource\", \"Product\", \"Startup\", \"Product\", \"Product\", \"Product\", \"Product\", \"Consulting / Agency\", \"Product\", \"Product\", \"Product\", \"Product\", \"Product\", \"Startup\", \"Startup\", \"Product\", \"Product\", \"Product\", \"Product\", \"Product\", \"Startup\", \"Product\", \"Product\", \"Startup\", \"Product\", \"Consulting / Agency\", \"Startup\", \"Consulting / Agency\", \"Product\", \"Product\", \"Product\", \"Bodyshop / Outsource\", \"Product\", \"Bodyshop / Outsource\", \"Product\", \"Startup\", \"Product\", \"Product\", \"Startup\", \"Product\", \"Startup\", \"Startup\", \"Product\", \"Startup\", \"Product\", \"Product\", \"Product\", \"Product\", \"Product\", \"Product\", \"Consulting / Agency\", \"Startup\", \"Product\", \"Product\", \"Product\", \"Product\", \"Product\", \"Startup\", \"Consulting / Agency\", \"Product\", \"Product\", \"Startup\", \"Product\", \"Product\", \"Product\", \"Product\", \"Product\", \"Product\", \"Product\", \"Product\", \"Startup\", \"Product\", \"Startup\", \"Consulting / Agency\", \"Consulting / Agency\", \"Product\", \"Product\", \"Consulting / Agency\", \"Consulting / Agency\", \"Consulting / Agency\", \"Product\", \"Product\", \"Startup\", \"Startup\", \"Product\", \"Product\", \"Product\", \"Bodyshop / Outsource\", \"Product\", \"Product\", \"Consulting / Agency\", \"Startup\", \"Product\", \"Startup\", \"Startup\", \"Startup\", \"Consulting / Agency\", \"Consulting / Agency\", \"Product\", \"Product\", \"Product\", \"Startup\", \"Product\", \"Startup\", \"Startup\", \"Startup\", \"Product\", \"Consulting / Agency\", \"Consulting / Agency\", \"Startup\", \"Product\", \"Product\", \"Product\", \"University\", \"Bodyshop / Outsource\", \"Product\", \"Product\", \"Product\", \"Startup\", \"Product\", \"Bodyshop / Outsource\", \"Product\", \"Product\", \"Product\", \"Product\", \"Consulting / Agency\", \"Startup\", \"Product\", \"Product\", \"Product\", \"Product\", \"Consulting / Agency\", \"Startup\", \"Product\", \"Startup\", \"Product\", \"Product\", \"Product\", \"Product\", \"Product\", \"Startup\", \"Product\", \"Product\", \"Startup\", \"Consulting / Agency\", \"Product\", \"Product\", \"Consulting / Agency\", \"Product\", \"Product\", \"Product\", \"Product\", \"Product\", \"Startup\", \"Consulting / Agency\", \"Startup\", \"Consulting / Agency\", \"Product\", \"Product\", \"Startup\", \"Product\", \"Product\", \"Product\", \"Startup\", \"Product\", \"Consulting / Agency\", \"Startup\", \"Consulting / Agency\", \"Consulting / Agency\", \"Consulting / Agency\", \"Consulting / Agency\", \"Product\", \"Product\", \"Startup\", \"Product\", \"Product\", \"Startup\", \"Product\", \"Product\", \"Startup\", \"Consulting / Agency\", \"Product\", \"Product\", \"Product\", \"Product\", \"Startup\", \"Startup\", \"Consulting / Agency\", \"Product\", \"Product\", \"Startup\", \"Product\", \"Product\", \"Product\", \"Startup\", \"Startup\", \"Product\", \"Product\", \"Startup\", \"Product\", \"Product\", \"Product\", \"Product\", \"Product\", \"Startup\", \"Product\", \"Product\", \"Product\", \"Product\", \"Product\", \"Product\", \"Product\", \"Product\", \"Product\", \"Product\", \"Startup\", \"Product\", \"Product\", \"Startup\", \"Bodyshop / Outsource\", \"Startup\", \"Consulting / Agency\", \"Startup\", \"Product\", \"Product\", \"Product\", \"Startup\", \"Product\", \"Consulting / Agency\", \"Product\", \"Product\", \"Product\", \"Consulting / Agency\", \"Startup\", \"Product\", \"Startup\", \"Consulting / Agency\", \"Startup\", \"Product\", \"Product\", \"Product\", \"Consulting / Agency\", \"Product\", \"Product\", \"Product\", \"Product\", \"Consulting / Agency\", \"Consulting / Agency\", \"Product\", \"Product\", \"Product\", \"Product\", \"Product\", \"Consulting / Agency\", \"Product\", \"Product\", \"Consulting / Agency\", \"Product\", \"Product\", \"Product\", \"Startup\", \"Product\", \"Product\", \"Consulting / Agency\", \"Product\", \"Product\", \"Product\", \"Product\", \"Product\", \"Product\", \"Product\", \"Product\", \"Product\", \"Product\", \"Product\", \"Startup\", \"Product\", \"Product\", \"Product\", \"Product\", \"Product\", \"Product\", \"Consulting / Agency\", \"Product\", \"Bodyshop / Outsource\", \"Product\", \"Product\", \"Startup\", \"Product\", \"Product\", \"Consulting / Agency\", \"Product\", \"Product\", \"Consulting / Agency\", \"Product\", \"Startup\", \"Product\", \"Startup\", \"Startup\", \"Product\", \"Consulting / Agency\", \"Startup\", \"Product\", \"Consulting / Agency\", \"Consulting / Agency\", \"Product\", \"Product\", \"Product\", \"Product\", \"Product\", \"Product\", \"Startup\", \"Product\", \"Product\", \"Product\", \"Startup\", \"Product\", \"Product\", \"Startup\", \"Product\", \"Startup\", \"Product\", \"Product\", \"Consulting / Agency\", \"Product\", \"Product\", \"Startup\", \"Product\", \"Product\", \"Consulting / Agency\", \"Product\", \"Product\", \"Product\", \"Product\", \"Product\", \"Startup\", \"Startup\", \"Product\", \"Product\", \"Consulting / Agency\", \"Product\", \"Startup\", \"Consulting / Agency\", \"Bodyshop / Outsource\", \"Startup\", \"Startup\", \"Product\", \"Product\", \"Product\", \"Startup\", \"Startup\", \"Product\", \"Startup\", \"Product\", \"Product\", \"Bank\", \"Product\", \"Bodyshop / Outsource\", \"Product\", \"Startup\", \"University\", \"Product\", \"Product\", \"Product\", \"Product\", \"Product\", \"Product\", \"Startup\", \"Product\", \"Product\", \"Product\", \"Bodyshop / Outsource\", \"Startup\", \"Product\", \"Product\", \"Product\", \"Product\", \"Product\", \"Startup\", \"Product\", \"Product\", \"Product\", \"Startup\", \"Bodyshop / Outsource\", \"Product\", \"Product\", \"Startup\", \"Product\", \"Product\", \"Product\", \"Product\", \"Product\", \"Product\", \"Product\", \"Bodyshop / Outsource\", \"Consulting / Agency\", \"Product\", \"Product\", \"Product\", \"Product\", \"Product\", \"Product\", \"Product\", \"Startup\", \"Product\", \"Product\", \"Consulting / Agency\", \"Consulting / Agency\", \"Product\", \"Product\", \"Startup\", \"Consulting / Agency\", \"Startup\", \"Consulting / Agency\", \"Product\", \"Bodyshop / Outsource\", \"Product\", \"Product\", \"Product\", \"Product\", \"Bodyshop / Outsource\", \"Product\", \"Bodyshop / Outsource\", \"Bodyshop / Outsource\", \"Product\", \"Product\", \"Product\", \"Bank\", \"Consulting / Agency\", \"Startup\", \"Product\", \"Product\", \"Product\", \"Product\", \"Product\", \"Product\", \"Product\", \"Product\", \"Product\", \"Startup\", \"Product\", \"Product\", \"Product\", \"Product\", \"Product\", \"Bank\", \"Product\", \"Product\", \"Product\", \"Startup\", \"Product\", \"Consulting / Agency\", \"Startup\", \"Product\", \"Product\", \"Product\", \"Product\", \"Consulting / Agency\", \"Consulting / Agency\", \"Startup\", \"Product\", \"Product\", \"Consulting / Agency\", \"Product\", \"Consulting / Agency\", \"Product\", \"Bank\", \"Product\", \"Startup\", \"Consulting / Agency\", \"Product\", \"Product\", \"Product\", \"University\", \"Startup\", \"Product\", \"Startup\", \"Product\", \"Product\", \"Product\", \"Product\", \"Startup\", \"Product\", \"Product\", \"Product\", \"Startup\", \"Startup\", \"Product\", \"Product\", \"Product\", \"Startup\", \"Consulting / Agency\", \"Consulting / Agency\", \"Product\", \"Product\", \"Startup\", \"Product\", \"Product\", \"Product\", \"Product\", \"Product\", \"Consulting / Agency\", \"Startup\", \"Consulting / Agency\", \"Consulting / Agency\", \"Startup\", \"Bodyshop / Outsource\", \"Product\", \"Startup\", \"Product\", \"Startup\", \"Product\", \"Consulting / Agency\", \"Product\", \"Product\", \"Product\", \"Product\", \"Product\", \"Startup\", \"Consulting / Agency\", \"Startup\", \"Product\", \"Product\", \"Product\", \"Consulting / Agency\", \"Product\", \"Product\", \"Product\", \"Product\", \"Startup\", \"Product\", \"Product\", \"Product\", \"Product\", \"Product\", \"Startup\", \"Product\", \"Startup\", \"Startup\", \"Product\", \"Bodyshop / Outsource\", \"Product\", \"Product\", \"Product\", \"Startup\", \"Product\", \"Startup\", \"Product\", \"Product\", \"Product\", \"Product\", \"Product\", \"Product\", \"Product\", \"Bodyshop / Outsource\", \"Product\", \"Product\", \"Product\", \"Consulting / Agency\", \"Startup\", \"Product\", \"University\", \"Product\", \"Bodyshop / Outsource\", \"Product\", \"Product\", \"Product\", \"Product\", \"Product\", \"Product\", \"Product\", \"Product\", \"Product\", \"Startup\", \"Product\", \"Consulting / Agency\", \"University\", \"Product\", \"Startup\", \"Product\", \"Startup\", \"Product\", \"Startup\", \"Product\", \"Product\", \"Consulting / Agency\", \"Product\", \"Startup\", \"Product\", \"Product\", \"Product\", \"Product\", \"Outsource\", \"Product\", \"Product\", \"Startup\", \"Product\", \"Product\", \"Product\", \"Product\", \"Product\", \"Product\", \"Product\", \"Product\", \"Bodyshop / Outsource\", \"Product\", \"Product\", \"Product\", \"Product\", \"Product\", \"Product\", \"Product\", \"Product\", \"Consulting / Agency\", \"Consulting / Agency\", \"Product\", \"Product\", \"Product\", \"University\", \"Consulting / Agency\", \"Consulting / Agency\", \"Consulting / Agency\", \"Product\", \"Consulting / Agency\", \"Product\", \"Consulting / Agency\", \"Startup\", \"Product\", \"Product\", \"Bank\", \"Product\", \"Product\", \"Consulting / Agency\", \"Startup\", \"Product\", \"Product\", \"Product\", \"Product\", \"Product\", \"Bank\", \"Product\", \"Product\", \"Consulting / Agency\"], \"legendgroup\": \"\", \"name\": \"\", \"showlegend\": true, \"textinfo\": \"label+percent\", \"type\": \"pie\"}],\n",
              "                        {\"legend\": {\"tracegroupgap\": 0}, \"margin\": {\"t\": 60}, \"template\": {\"data\": {\"bar\": [{\"error_x\": {\"color\": \"#2a3f5f\"}, \"error_y\": {\"color\": \"#2a3f5f\"}, \"marker\": {\"line\": {\"color\": \"#E5ECF6\", \"width\": 0.5}}, \"type\": \"bar\"}], \"barpolar\": [{\"marker\": {\"line\": {\"color\": \"#E5ECF6\", \"width\": 0.5}}, \"type\": \"barpolar\"}], \"carpet\": [{\"aaxis\": {\"endlinecolor\": \"#2a3f5f\", \"gridcolor\": \"white\", \"linecolor\": \"white\", \"minorgridcolor\": \"white\", \"startlinecolor\": \"#2a3f5f\"}, \"baxis\": {\"endlinecolor\": \"#2a3f5f\", \"gridcolor\": \"white\", \"linecolor\": \"white\", \"minorgridcolor\": \"white\", \"startlinecolor\": \"#2a3f5f\"}, \"type\": \"carpet\"}], \"choropleth\": [{\"colorbar\": {\"outlinewidth\": 0, \"ticks\": \"\"}, \"type\": \"choropleth\"}], \"contour\": [{\"colorbar\": {\"outlinewidth\": 0, \"ticks\": \"\"}, \"colorscale\": [[0.0, \"#0d0887\"], [0.1111111111111111, \"#46039f\"], [0.2222222222222222, \"#7201a8\"], [0.3333333333333333, \"#9c179e\"], [0.4444444444444444, \"#bd3786\"], [0.5555555555555556, \"#d8576b\"], [0.6666666666666666, \"#ed7953\"], [0.7777777777777778, \"#fb9f3a\"], [0.8888888888888888, \"#fdca26\"], [1.0, \"#f0f921\"]], \"type\": \"contour\"}], \"contourcarpet\": [{\"colorbar\": {\"outlinewidth\": 0, \"ticks\": \"\"}, \"type\": \"contourcarpet\"}], \"heatmap\": [{\"colorbar\": {\"outlinewidth\": 0, \"ticks\": \"\"}, \"colorscale\": [[0.0, \"#0d0887\"], [0.1111111111111111, \"#46039f\"], [0.2222222222222222, \"#7201a8\"], [0.3333333333333333, \"#9c179e\"], [0.4444444444444444, \"#bd3786\"], [0.5555555555555556, \"#d8576b\"], [0.6666666666666666, \"#ed7953\"], [0.7777777777777778, \"#fb9f3a\"], [0.8888888888888888, \"#fdca26\"], [1.0, \"#f0f921\"]], \"type\": \"heatmap\"}], \"heatmapgl\": [{\"colorbar\": {\"outlinewidth\": 0, \"ticks\": \"\"}, \"colorscale\": [[0.0, \"#0d0887\"], [0.1111111111111111, \"#46039f\"], [0.2222222222222222, \"#7201a8\"], [0.3333333333333333, \"#9c179e\"], [0.4444444444444444, \"#bd3786\"], [0.5555555555555556, \"#d8576b\"], [0.6666666666666666, \"#ed7953\"], [0.7777777777777778, \"#fb9f3a\"], [0.8888888888888888, \"#fdca26\"], [1.0, \"#f0f921\"]], \"type\": \"heatmapgl\"}], \"histogram\": [{\"marker\": {\"colorbar\": {\"outlinewidth\": 0, \"ticks\": \"\"}}, \"type\": \"histogram\"}], \"histogram2d\": [{\"colorbar\": {\"outlinewidth\": 0, \"ticks\": \"\"}, \"colorscale\": [[0.0, \"#0d0887\"], [0.1111111111111111, \"#46039f\"], [0.2222222222222222, \"#7201a8\"], [0.3333333333333333, \"#9c179e\"], [0.4444444444444444, \"#bd3786\"], [0.5555555555555556, \"#d8576b\"], [0.6666666666666666, \"#ed7953\"], [0.7777777777777778, \"#fb9f3a\"], [0.8888888888888888, \"#fdca26\"], [1.0, \"#f0f921\"]], \"type\": \"histogram2d\"}], \"histogram2dcontour\": [{\"colorbar\": {\"outlinewidth\": 0, \"ticks\": \"\"}, \"colorscale\": [[0.0, \"#0d0887\"], [0.1111111111111111, \"#46039f\"], [0.2222222222222222, \"#7201a8\"], [0.3333333333333333, \"#9c179e\"], [0.4444444444444444, \"#bd3786\"], [0.5555555555555556, \"#d8576b\"], [0.6666666666666666, \"#ed7953\"], [0.7777777777777778, \"#fb9f3a\"], [0.8888888888888888, \"#fdca26\"], [1.0, \"#f0f921\"]], \"type\": \"histogram2dcontour\"}], \"mesh3d\": [{\"colorbar\": {\"outlinewidth\": 0, \"ticks\": \"\"}, \"type\": \"mesh3d\"}], \"parcoords\": [{\"line\": {\"colorbar\": {\"outlinewidth\": 0, \"ticks\": \"\"}}, \"type\": \"parcoords\"}], \"pie\": [{\"automargin\": true, \"type\": \"pie\"}], \"scatter\": [{\"marker\": {\"colorbar\": {\"outlinewidth\": 0, \"ticks\": \"\"}}, \"type\": \"scatter\"}], \"scatter3d\": [{\"line\": {\"colorbar\": {\"outlinewidth\": 0, \"ticks\": \"\"}}, \"marker\": {\"colorbar\": {\"outlinewidth\": 0, \"ticks\": \"\"}}, \"type\": \"scatter3d\"}], \"scattercarpet\": [{\"marker\": {\"colorbar\": {\"outlinewidth\": 0, \"ticks\": \"\"}}, \"type\": \"scattercarpet\"}], \"scattergeo\": [{\"marker\": {\"colorbar\": {\"outlinewidth\": 0, \"ticks\": \"\"}}, \"type\": \"scattergeo\"}], \"scattergl\": [{\"marker\": {\"colorbar\": {\"outlinewidth\": 0, \"ticks\": \"\"}}, \"type\": \"scattergl\"}], \"scattermapbox\": [{\"marker\": {\"colorbar\": {\"outlinewidth\": 0, \"ticks\": \"\"}}, \"type\": \"scattermapbox\"}], \"scatterpolar\": [{\"marker\": {\"colorbar\": {\"outlinewidth\": 0, \"ticks\": \"\"}}, \"type\": \"scatterpolar\"}], \"scatterpolargl\": [{\"marker\": {\"colorbar\": {\"outlinewidth\": 0, \"ticks\": \"\"}}, \"type\": \"scatterpolargl\"}], \"scatterternary\": [{\"marker\": {\"colorbar\": {\"outlinewidth\": 0, \"ticks\": \"\"}}, \"type\": \"scatterternary\"}], \"surface\": [{\"colorbar\": {\"outlinewidth\": 0, \"ticks\": \"\"}, \"colorscale\": [[0.0, \"#0d0887\"], [0.1111111111111111, \"#46039f\"], [0.2222222222222222, \"#7201a8\"], [0.3333333333333333, \"#9c179e\"], [0.4444444444444444, \"#bd3786\"], [0.5555555555555556, \"#d8576b\"], [0.6666666666666666, \"#ed7953\"], [0.7777777777777778, \"#fb9f3a\"], [0.8888888888888888, \"#fdca26\"], [1.0, \"#f0f921\"]], \"type\": \"surface\"}], \"table\": [{\"cells\": {\"fill\": {\"color\": \"#EBF0F8\"}, \"line\": {\"color\": \"white\"}}, \"header\": {\"fill\": {\"color\": \"#C8D4E3\"}, \"line\": {\"color\": \"white\"}}, \"type\": \"table\"}]}, \"layout\": {\"annotationdefaults\": {\"arrowcolor\": \"#2a3f5f\", \"arrowhead\": 0, \"arrowwidth\": 1}, \"coloraxis\": {\"colorbar\": {\"outlinewidth\": 0, \"ticks\": \"\"}}, \"colorscale\": {\"diverging\": [[0, \"#8e0152\"], [0.1, \"#c51b7d\"], [0.2, \"#de77ae\"], [0.3, \"#f1b6da\"], [0.4, \"#fde0ef\"], [0.5, \"#f7f7f7\"], [0.6, \"#e6f5d0\"], [0.7, \"#b8e186\"], [0.8, \"#7fbc41\"], [0.9, \"#4d9221\"], [1, \"#276419\"]], \"sequential\": [[0.0, \"#0d0887\"], [0.1111111111111111, \"#46039f\"], [0.2222222222222222, \"#7201a8\"], [0.3333333333333333, \"#9c179e\"], [0.4444444444444444, \"#bd3786\"], [0.5555555555555556, \"#d8576b\"], [0.6666666666666666, \"#ed7953\"], [0.7777777777777778, \"#fb9f3a\"], [0.8888888888888888, \"#fdca26\"], [1.0, \"#f0f921\"]], \"sequentialminus\": [[0.0, \"#0d0887\"], [0.1111111111111111, \"#46039f\"], [0.2222222222222222, \"#7201a8\"], [0.3333333333333333, \"#9c179e\"], [0.4444444444444444, \"#bd3786\"], [0.5555555555555556, \"#d8576b\"], [0.6666666666666666, \"#ed7953\"], [0.7777777777777778, \"#fb9f3a\"], [0.8888888888888888, \"#fdca26\"], [1.0, \"#f0f921\"]]}, \"colorway\": [\"#636efa\", \"#EF553B\", \"#00cc96\", \"#ab63fa\", \"#FFA15A\", \"#19d3f3\", \"#FF6692\", \"#B6E880\", \"#FF97FF\", \"#FECB52\"], \"font\": {\"color\": \"#2a3f5f\"}, \"geo\": {\"bgcolor\": \"white\", \"lakecolor\": \"white\", \"landcolor\": \"#E5ECF6\", \"showlakes\": true, \"showland\": true, \"subunitcolor\": \"white\"}, \"hoverlabel\": {\"align\": \"left\"}, \"hovermode\": \"closest\", \"mapbox\": {\"style\": \"light\"}, \"paper_bgcolor\": \"white\", \"plot_bgcolor\": \"#E5ECF6\", \"polar\": {\"angularaxis\": {\"gridcolor\": \"white\", \"linecolor\": \"white\", \"ticks\": \"\"}, \"bgcolor\": \"#E5ECF6\", \"radialaxis\": {\"gridcolor\": \"white\", \"linecolor\": \"white\", \"ticks\": \"\"}}, \"scene\": {\"xaxis\": {\"backgroundcolor\": \"#E5ECF6\", \"gridcolor\": \"white\", \"gridwidth\": 2, \"linecolor\": \"white\", \"showbackground\": true, \"ticks\": \"\", \"zerolinecolor\": \"white\"}, \"yaxis\": {\"backgroundcolor\": \"#E5ECF6\", \"gridcolor\": \"white\", \"gridwidth\": 2, \"linecolor\": \"white\", \"showbackground\": true, \"ticks\": \"\", \"zerolinecolor\": \"white\"}, \"zaxis\": {\"backgroundcolor\": \"#E5ECF6\", \"gridcolor\": \"white\", \"gridwidth\": 2, \"linecolor\": \"white\", \"showbackground\": true, \"ticks\": \"\", \"zerolinecolor\": \"white\"}}, \"shapedefaults\": {\"line\": {\"color\": \"#2a3f5f\"}}, \"ternary\": {\"aaxis\": {\"gridcolor\": \"white\", \"linecolor\": \"white\", \"ticks\": \"\"}, \"baxis\": {\"gridcolor\": \"white\", \"linecolor\": \"white\", \"ticks\": \"\"}, \"bgcolor\": \"#E5ECF6\", \"caxis\": {\"gridcolor\": \"white\", \"linecolor\": \"white\", \"ticks\": \"\"}}, \"title\": {\"x\": 0.05}, \"xaxis\": {\"automargin\": true, \"gridcolor\": \"white\", \"linecolor\": \"white\", \"ticks\": \"\", \"title\": {\"standoff\": 15}, \"zerolinecolor\": \"white\", \"zerolinewidth\": 2}, \"yaxis\": {\"automargin\": true, \"gridcolor\": \"white\", \"linecolor\": \"white\", \"ticks\": \"\", \"title\": {\"standoff\": 15}, \"zerolinecolor\": \"white\", \"zerolinewidth\": 2}}}},\n",
              "                        {\"responsive\": true}\n",
              "                    ).then(function(){\n",
              "                            \n",
              "var gd = document.getElementById('49856673-c7ce-4d5f-a556-d10231a016a7');\n",
              "var x = new MutationObserver(function (mutations, observer) {{\n",
              "        var display = window.getComputedStyle(gd).display;\n",
              "        if (!display || display === 'none') {{\n",
              "            console.log([gd, 'removed!']);\n",
              "            Plotly.purge(gd);\n",
              "            observer.disconnect();\n",
              "        }}\n",
              "}});\n",
              "\n",
              "// Listen for the removal of the full notebook cells\n",
              "var notebookContainer = gd.closest('#notebook-container');\n",
              "if (notebookContainer) {{\n",
              "    x.observe(notebookContainer, {childList: true});\n",
              "}}\n",
              "\n",
              "// Listen for the clearing of the current output cell\n",
              "var outputEl = gd.closest('.output');\n",
              "if (outputEl) {{\n",
              "    x.observe(outputEl, {childList: true});\n",
              "}}\n",
              "\n",
              "                        })\n",
              "                };\n",
              "                \n",
              "            </script>\n",
              "        </div>\n",
              "</body>\n",
              "</html>"
            ]
          },
          "metadata": {
            "tags": []
          }
        }
      ]
    },
    {
      "cell_type": "code",
      "metadata": {
        "colab": {
          "base_uri": "https://localhost:8080/"
        },
        "id": "2LQkCAcz4jwb",
        "outputId": "4b615247-0aeb-4e05-ffad-10f0b9b1f608"
      },
      "source": [
        "print('Consulting / Agency companies are less popular than Startups by {}%'.format(18.3 - 11.8))"
      ],
      "execution_count": null,
      "outputs": [
        {
          "output_type": "stream",
          "text": [
            "Consulting / Agency companies are less popular than Startups by 6.5%\n"
          ],
          "name": "stdout"
        }
      ]
    },
    {
      "cell_type": "code",
      "metadata": {
        "colab": {
          "base_uri": "https://localhost:8080/",
          "height": 542
        },
        "id": "kjkGmgE9H4DP",
        "outputId": "5b34301d-0283-44bb-8d4e-40be678e1b2b"
      },
      "source": [
        "#  identify outliers on current salary structure\n",
        "fig = px.box(data_18, y=\"Current Salary\")\n",
        "fig.show()"
      ],
      "execution_count": null,
      "outputs": [
        {
          "output_type": "display_data",
          "data": {
            "text/html": [
              "<html>\n",
              "<head><meta charset=\"utf-8\" /></head>\n",
              "<body>\n",
              "    <div>\n",
              "            <script src=\"https://cdnjs.cloudflare.com/ajax/libs/mathjax/2.7.5/MathJax.js?config=TeX-AMS-MML_SVG\"></script><script type=\"text/javascript\">if (window.MathJax) {MathJax.Hub.Config({SVG: {font: \"STIX-Web\"}});}</script>\n",
              "                <script type=\"text/javascript\">window.PlotlyConfig = {MathJaxConfig: 'local'};</script>\n",
              "        <script src=\"https://cdn.plot.ly/plotly-latest.min.js\"></script>    \n",
              "            <div id=\"03ca944a-2a89-4c4d-ada9-a40630afa185\" class=\"plotly-graph-div\" style=\"height:525px; width:100%;\"></div>\n",
              "            <script type=\"text/javascript\">\n",
              "                \n",
              "                    window.PLOTLYENV=window.PLOTLYENV || {};\n",
              "                    \n",
              "                if (document.getElementById(\"03ca944a-2a89-4c4d-ada9-a40630afa185\")) {\n",
              "                    Plotly.newPlot(\n",
              "                        '03ca944a-2a89-4c4d-ada9-a40630afa185',\n",
              "                        [{\"alignmentgroup\": \"True\", \"hoverlabel\": {\"namelength\": 0}, \"hovertemplate\": \"Current Salary=%{y}\", \"legendgroup\": \"\", \"marker\": {\"color\": \"#636efa\"}, \"name\": \"\", \"notched\": false, \"offsetgroup\": \"\", \"orientation\": \"v\", \"showlegend\": false, \"type\": \"box\", \"x0\": \" \", \"xaxis\": \"x\", \"y\": [77000.0, 65000.0, 88000.0, 78000.0, 69000.0, 98000.0, 65000.0, 109000.0, 65000.0, 60000.0, 70000.0, 70000.0, 55000.0, 55000.0, 94500.0, 46000.0, 68000.0, 60000.0, 62500.0, 80000.0, 132250.0, 53000.0, 52000.0, 95000.0, 72000.0, 55000.0, 77000.0, 72000.0, 80000.0, 66000.0, 75800.0, 84000.0, 60000.0, 57000.0, 58000.0, 36000.0, 70000.0, 72000.0, 75000.0, 90000.0, 69000.0, 113000.0, 65000.0, 75000.0, 57000.0, 84000.0, 70000.0, 55000.0, 60000.0, 65000.0, 70000.0, 50000.0, 65000.0, 78000.0, 60000.0, 71000.0, 75000.0, 49000.0, 65000.0, 68000.0, 56000.0, 30000.0, 72000.0, 65000.0, 45000.0, 55000.0, 40000.0, 66000.0, 66000.0, 54000.0, 60000.0, 50000.0, 60000.0, 48000.0, 66000.0, 95000.0, 61000.0, 65000.0, 55000.0, 72000.0, 90000.0, 60000.0, 60000.0, 87000.0, 70000.0, 30000.0, 55000.0, 57000.0, 73000.0, 85000.0, 65000.0, 65000.0, 58000.0, 82000.0, 67000.0, 65000.0, 62000.0, 62000.0, 83000.0, 75000.0, 50000.0, 100000.0, 75000.0, 69000.0, 50000.0, 73000.0, 120000.0, 50000.0, 58000.0, 65000.0, 30000.0, 80000.0, 70000.0, 65000.0, 78600.0, 70000.0, 60000.0, 78000.0, 70000.0, 89000.0, 60000.0, 60000.0, 72000.0, 43000.0, 72000.0, 65000.0, 85000.0, 55000.0, 65000.0, 56000.0, 107000.0, 60000.0, 70000.0, 60000.0, 62000.0, 78000.0, 60000.0, 54000.0, 46000.0, 64000.0, 65000.0, 58000.0, 75000.0, 95000.0, 60000.0, 53000.0, 69000.0, 84000.0, 52000.0, 85000.0, 75000.0, 63000.0, 87000.0, 65000.0, 50400.0, 65000.0, 85000.0, 66000.0, 32000.0, 42000.0, 65000.0, 74000.0, 75000.0, 72500.0, 53000.0, 102000.0, 60000.0, 75000.0, 85000.0, 60000.0, 60000.0, 85000.0, 50000.0, 60000.0, 35000.0, 75000.0, 58000.0, 75000.0, 70000.0, 65000.0, 55800.0, 55000.0, 55000.0, 70000.0, 63000.0, 115000.0, 52000.0, 176000.0, 70000.0, 44000.0, 50000.0, 58000.0, 60000.0, 60000.0, 64000.0, 80000.0, 58000.0, 95000.0, 50000.0, 90000.0, 75000.0, 46000.0, 80000.0, 92000.0, 60000.0, 90000.0, 63000.0, 75000.0, 55000.0, 70000.0, 74000.0, 65000.0, 125000.0, 68000.0, 80000.0, 40000.0, 60000.0, 65000.0, 92000.0, 75000.0, 70000.0, 58000.0, 76000.0, 75000.0, 65000.0, 75000.0, 80000.0, 80000.0, 83000.0, 80000.0, 87000.0, 80000.0, 58000.0, 68000.0, 48500.0, 72000.0, 49000.0, 34000.0, 68000.0, 75000.0, 95000.0, 70500.0, 65000.0, 96000.0, 65000.0, 83000.0, 78000.0, 45000.0, 65000.0, 120000.0, 85000.0, 65000.0, 65000.0, 86000.0, 68000.0, 61000.0, 60000.0, 48000.0, 75000.0, 65000.0, 120000.0, 84000.0, 54000.0, 40000.0, 61000.0, 85000.0, 35000.0, 68000.0, 75000.0, 96000.0, 70000.0, 55000.0, 50000.0, 57000.0, 60000.0, 44000.0, 95000.0, 55000.0, 67000.0, 46000.0, 90000.0, 92000.0, 95000.0, 70000.0, 115000.0, 70000.0, 35000.0, 60000.0, 90000.0, 90000.0, 80000.0, 90000.0, 72000.0, 55000.0, 52000.0, 53000.0, 72000.0, 80000.0, 200000.0, 63000.0, 73300.0, 115000.0, 73500.0, 83000.0, 42000.0, 56000.0, 130000.0, 70000.0, 45000.0, 57000.0, 58000.0, 65000.0, 47500.0, 70000.0, 90000.0, 50000.0, 85000.0, 65000.0, 62000.0, 60000.0, 66000.0, 75000.0, 70000.0, 65000.0, 65000.0, 70000.0, 62000.0, 55000.0, 60000.0, 56000.0, 65000.0, 78000.0, 60000.0, 85000.0, 61000.0, 68000.0, 60000.0, 81000.0, 61000.0, 140000.0, 52000.0, 65000.0, 80000.0, 68000.0, 90000.0, 80000.0, 80000.0, 65000.0, 70000.0, 60000.0, 60000.0, 55000.0, 65000.0, 52000.0, 75000.0, 87000.0, 66000.0, 50000.0, 30000.0, 60000.0, 75000.0, 130000.0, 70000.0, 62000.0, 53500.0, 87975.0, 60000.0, 68381.76533333333, 70000.0, 60000.0, 55000.0, 70000.0, 70000.0, 54000.0, 130000.0, 140000.0, 76000.0, 53000.0, 31500.0, 58000.0, 52000.0, 75000.0, 68000.0, 60000.0, 58000.0, 110000.0, 68000.0, 70000.0, 70000.0, 72000.0, 60000.0, 120000.0, 43000.0, 60000.0, 70000.0, 48000.0, 67000.0, 36000.0, 75000.0, 65000.0, 63000.0, 60000.0, 57000.0, 112000.0, 100000.0, 72000.0, 78000.0, 44000.0, 59000.0, 66000.0, 60000.0, 65000.0, 47000.0, 60000.0, 72000.0, 68400.0, 55000.0, 60000.0, 70000.0, 65000.0, 70000.0, 80000.0, 47000.0, 66000.0, 67200.0, 85000.0, 89000.0, 72000.0, 69000.0, 60000.0, 53000.0, 86000.0, 45000.0, 72000.0, 65000.0, 75000.0, 47000.0, 60000.0, 50000.0, 55000.0, 111000.0, 40800.0, 92100.0, 73000.0, 54000.0, 38000.0, 75000.0, 66000.0, 70000.0, 60000.0, 70000.0, 10300.0, 75000.0, 65000.0, 24000.0, 52000.0, 39600.0, 64400.0, 57000.0, 52000.0, 77000.0, 48000.0, 67000.0, 55000.0, 85000.0, 57800.0, 20400.0, 44000.0, 70000.0, 24000.0, 24000.0, 47300.0, 53000.0, 23162.0, 100000.0, 100000.0, 60000.0, 90000.0, 60000.0, 60000.0, 75000.0, 60000.0, 56000.0, 55000.0, 80000.0, 75000.0, 86000.0, 17532.0, 34000.0, 69000.0, 69000.0, 60000.0, 19200.0, 30000.0, 75000.0, 63000.0, 92000.0, 51750.0, 62000.0, 80000.0, 58000.0, 108000.0, 72000.0, 38400.0, 65000.0, 70000.0, 51000.0, 57000.0, 75000.0, 69600.0, 85000.0, 68000.0, 65000.0, 58500.0, 130000.0, 80000.0, 65000.0, 68000.0, 96000.0, 150000.0, 60000.0, 120000.0, 70000.0, 44000.0, 58500.0, 55000.0, 70000.0, 60000.0, 80000.0, 42000.0, 47000.0, 68000.0, 65000.0, 56000.0, 65000.0, 47250.0, 87000.0, 85000.0, 39000.0, 65000.0, 65000.0, 65000.0, 69000.0, 77000.0, 73000.0, 65000.0, 60000.0, 55000.0, 58000.0, 72000.0, 75000.0, 55000.0, 70000.0, 57000.0, 75000.0, 70000.0, 65000.0, 66000.0, 90000.0, 88000.0, 70000.0, 60000.0, 78000.0, 64500.0, 96000.0, 68000.0, 80000.0, 122000.0, 90000.0, 55000.0, 60000.0, 65000.0, 70000.0, 75000.0, 65000.0, 60000.0, 165000.0, 138000.0, 110000.0, 60000.0, 58000.0, 46000.0, 73000.0, 68000.0, 68000.0, 52000.0, 60000.0, 74000.0, 39150.0, 60000.0, 48000.0, 60000.0, 24000.0, 70000.0, 72000.0, 40800.0, 50000.0, 53000.0, 89000.0, 50000.0, 67500.0, 50000.0, 37000.0, 80000.0, 45000.0, 80000.0, 33600.0, 132000.0, 87500.0, 65000.0, 128000.0, 37000.0, 120000.0, 180000.0, 55000.0, 78000.0, 75000.0, 72000.0, 57000.0, 68000.0, 58000.0, 65000.0, 60000.0, 90000.0, 90000.0, 77000.0, 90000.0, 90000.0, 57500.0, 103000.0, 55000.0, 70000.0, 125000.0, 57000.0, 56000.0, 78000.0, 66000.0, 67000.0, 70000.0, 75000.0, 60000.0, 90000.0, 90000.0, 55000.0, 80000.0, 112000.0, 72000.0, 70000.0, 120000.0, 50000.0, 42000.0, 80000.0, 65000.0, 72000.0, 83000.0, 60000.0, 84000.0, 70000.0, 65000.0, 68000.0, 70000.0, 72000.0, 65000.0, 65000.0, 42000.0, 40000.0, 60000.0, 48000.0, 50000.0, 62000.0, 55000.0, 75000.0, 58000.0, 65000.0, 53600.0, 60000.0, 60000.0, 51600.0, 39600.0, 60500.0, 65000.0, 15000.0, 120000.0, 130000.0, 42000.0, 45000.0, 85000.0, 72000.0, 60000.0, 47000.0, 75000.0, 130000.0, 77000.0, 42000.0, 80000.0, 95000.0, 60000.0, 71000.0, 60000.0, 115000.0, 75000.0, 62500.0, 64000.0, 127000.0, 65000.0, 93000.0, 27000.0, 33000.0, 83200.0, 85000.0, 74000.0, 42000.0, 65000.0, 80400.0, 50000.0, 75000.0, 50000.0, 60000.0, 62500.0, 65000.0, 53000.0, 70000.0, 55000.0, 60000.0, 13000.0, 52000.0, 40000.0, 69000.0, 65000.0, 68000.0, 65000.0, 80000.0, 71500.0, 68381.76533333333, 68381.76533333333, 50000.0, 68381.76533333333, 68381.76533333333, 68381.76533333333, 70000.0, 68381.76533333333, 68381.76533333333, 51000.0, 75000.0, 80000.0, 53000.0, 78000.0, 68381.76533333333, 55555.0, 42000.0, 60000.0, 85000.0, 68381.76533333333, 75000.0, 68381.76533333333, 75000.0, 63000.0, 68381.76533333333, 68381.76533333333, 68381.76533333333, 44000.0, 45000.0, 45000.0, 68381.76533333333, 110000.0], \"y0\": \" \", \"yaxis\": \"y\"}],\n",
              "                        {\"boxmode\": \"group\", \"legend\": {\"tracegroupgap\": 0}, \"margin\": {\"t\": 60}, \"template\": {\"data\": {\"bar\": [{\"error_x\": {\"color\": \"#2a3f5f\"}, \"error_y\": {\"color\": \"#2a3f5f\"}, \"marker\": {\"line\": {\"color\": \"#E5ECF6\", \"width\": 0.5}}, \"type\": \"bar\"}], \"barpolar\": [{\"marker\": {\"line\": {\"color\": \"#E5ECF6\", \"width\": 0.5}}, \"type\": \"barpolar\"}], \"carpet\": [{\"aaxis\": {\"endlinecolor\": \"#2a3f5f\", \"gridcolor\": \"white\", \"linecolor\": \"white\", \"minorgridcolor\": \"white\", \"startlinecolor\": \"#2a3f5f\"}, \"baxis\": {\"endlinecolor\": \"#2a3f5f\", \"gridcolor\": \"white\", \"linecolor\": \"white\", \"minorgridcolor\": \"white\", \"startlinecolor\": \"#2a3f5f\"}, \"type\": \"carpet\"}], \"choropleth\": [{\"colorbar\": {\"outlinewidth\": 0, \"ticks\": \"\"}, \"type\": \"choropleth\"}], \"contour\": [{\"colorbar\": {\"outlinewidth\": 0, \"ticks\": \"\"}, \"colorscale\": [[0.0, \"#0d0887\"], [0.1111111111111111, \"#46039f\"], [0.2222222222222222, \"#7201a8\"], [0.3333333333333333, \"#9c179e\"], [0.4444444444444444, \"#bd3786\"], [0.5555555555555556, \"#d8576b\"], [0.6666666666666666, \"#ed7953\"], [0.7777777777777778, \"#fb9f3a\"], [0.8888888888888888, \"#fdca26\"], [1.0, \"#f0f921\"]], \"type\": \"contour\"}], \"contourcarpet\": [{\"colorbar\": {\"outlinewidth\": 0, \"ticks\": \"\"}, \"type\": \"contourcarpet\"}], \"heatmap\": [{\"colorbar\": {\"outlinewidth\": 0, \"ticks\": \"\"}, \"colorscale\": [[0.0, \"#0d0887\"], [0.1111111111111111, \"#46039f\"], [0.2222222222222222, \"#7201a8\"], [0.3333333333333333, \"#9c179e\"], [0.4444444444444444, \"#bd3786\"], [0.5555555555555556, \"#d8576b\"], [0.6666666666666666, \"#ed7953\"], [0.7777777777777778, \"#fb9f3a\"], [0.8888888888888888, \"#fdca26\"], [1.0, \"#f0f921\"]], \"type\": \"heatmap\"}], \"heatmapgl\": [{\"colorbar\": {\"outlinewidth\": 0, \"ticks\": \"\"}, \"colorscale\": [[0.0, \"#0d0887\"], [0.1111111111111111, \"#46039f\"], [0.2222222222222222, \"#7201a8\"], [0.3333333333333333, \"#9c179e\"], [0.4444444444444444, \"#bd3786\"], [0.5555555555555556, \"#d8576b\"], [0.6666666666666666, \"#ed7953\"], [0.7777777777777778, \"#fb9f3a\"], [0.8888888888888888, \"#fdca26\"], [1.0, \"#f0f921\"]], \"type\": \"heatmapgl\"}], \"histogram\": [{\"marker\": {\"colorbar\": {\"outlinewidth\": 0, \"ticks\": \"\"}}, \"type\": \"histogram\"}], \"histogram2d\": [{\"colorbar\": {\"outlinewidth\": 0, \"ticks\": \"\"}, \"colorscale\": [[0.0, \"#0d0887\"], [0.1111111111111111, \"#46039f\"], [0.2222222222222222, \"#7201a8\"], [0.3333333333333333, \"#9c179e\"], [0.4444444444444444, \"#bd3786\"], [0.5555555555555556, \"#d8576b\"], [0.6666666666666666, \"#ed7953\"], [0.7777777777777778, \"#fb9f3a\"], [0.8888888888888888, \"#fdca26\"], [1.0, \"#f0f921\"]], \"type\": \"histogram2d\"}], \"histogram2dcontour\": [{\"colorbar\": {\"outlinewidth\": 0, \"ticks\": \"\"}, \"colorscale\": [[0.0, \"#0d0887\"], [0.1111111111111111, \"#46039f\"], [0.2222222222222222, \"#7201a8\"], [0.3333333333333333, \"#9c179e\"], [0.4444444444444444, \"#bd3786\"], [0.5555555555555556, \"#d8576b\"], [0.6666666666666666, \"#ed7953\"], [0.7777777777777778, \"#fb9f3a\"], [0.8888888888888888, \"#fdca26\"], [1.0, \"#f0f921\"]], \"type\": \"histogram2dcontour\"}], \"mesh3d\": [{\"colorbar\": {\"outlinewidth\": 0, \"ticks\": \"\"}, \"type\": \"mesh3d\"}], \"parcoords\": [{\"line\": {\"colorbar\": {\"outlinewidth\": 0, \"ticks\": \"\"}}, \"type\": \"parcoords\"}], \"pie\": [{\"automargin\": true, \"type\": \"pie\"}], \"scatter\": [{\"marker\": {\"colorbar\": {\"outlinewidth\": 0, \"ticks\": \"\"}}, \"type\": \"scatter\"}], \"scatter3d\": [{\"line\": {\"colorbar\": {\"outlinewidth\": 0, \"ticks\": \"\"}}, \"marker\": {\"colorbar\": {\"outlinewidth\": 0, \"ticks\": \"\"}}, \"type\": \"scatter3d\"}], \"scattercarpet\": [{\"marker\": {\"colorbar\": {\"outlinewidth\": 0, \"ticks\": \"\"}}, \"type\": \"scattercarpet\"}], \"scattergeo\": [{\"marker\": {\"colorbar\": {\"outlinewidth\": 0, \"ticks\": \"\"}}, \"type\": \"scattergeo\"}], \"scattergl\": [{\"marker\": {\"colorbar\": {\"outlinewidth\": 0, \"ticks\": \"\"}}, \"type\": \"scattergl\"}], \"scattermapbox\": [{\"marker\": {\"colorbar\": {\"outlinewidth\": 0, \"ticks\": \"\"}}, \"type\": \"scattermapbox\"}], \"scatterpolar\": [{\"marker\": {\"colorbar\": {\"outlinewidth\": 0, \"ticks\": \"\"}}, \"type\": \"scatterpolar\"}], \"scatterpolargl\": [{\"marker\": {\"colorbar\": {\"outlinewidth\": 0, \"ticks\": \"\"}}, \"type\": \"scatterpolargl\"}], \"scatterternary\": [{\"marker\": {\"colorbar\": {\"outlinewidth\": 0, \"ticks\": \"\"}}, \"type\": \"scatterternary\"}], \"surface\": [{\"colorbar\": {\"outlinewidth\": 0, \"ticks\": \"\"}, \"colorscale\": [[0.0, \"#0d0887\"], [0.1111111111111111, \"#46039f\"], [0.2222222222222222, \"#7201a8\"], [0.3333333333333333, \"#9c179e\"], [0.4444444444444444, \"#bd3786\"], [0.5555555555555556, \"#d8576b\"], [0.6666666666666666, \"#ed7953\"], [0.7777777777777778, \"#fb9f3a\"], [0.8888888888888888, \"#fdca26\"], [1.0, \"#f0f921\"]], \"type\": \"surface\"}], \"table\": [{\"cells\": {\"fill\": {\"color\": \"#EBF0F8\"}, \"line\": {\"color\": \"white\"}}, \"header\": {\"fill\": {\"color\": \"#C8D4E3\"}, \"line\": {\"color\": \"white\"}}, \"type\": \"table\"}]}, \"layout\": {\"annotationdefaults\": {\"arrowcolor\": \"#2a3f5f\", \"arrowhead\": 0, \"arrowwidth\": 1}, \"coloraxis\": {\"colorbar\": {\"outlinewidth\": 0, \"ticks\": \"\"}}, \"colorscale\": {\"diverging\": [[0, \"#8e0152\"], [0.1, \"#c51b7d\"], [0.2, \"#de77ae\"], [0.3, \"#f1b6da\"], [0.4, \"#fde0ef\"], [0.5, \"#f7f7f7\"], [0.6, \"#e6f5d0\"], [0.7, \"#b8e186\"], [0.8, \"#7fbc41\"], [0.9, \"#4d9221\"], [1, \"#276419\"]], \"sequential\": [[0.0, \"#0d0887\"], [0.1111111111111111, \"#46039f\"], [0.2222222222222222, \"#7201a8\"], [0.3333333333333333, \"#9c179e\"], [0.4444444444444444, \"#bd3786\"], [0.5555555555555556, \"#d8576b\"], [0.6666666666666666, \"#ed7953\"], [0.7777777777777778, \"#fb9f3a\"], [0.8888888888888888, \"#fdca26\"], [1.0, \"#f0f921\"]], \"sequentialminus\": [[0.0, \"#0d0887\"], [0.1111111111111111, \"#46039f\"], [0.2222222222222222, \"#7201a8\"], [0.3333333333333333, \"#9c179e\"], [0.4444444444444444, \"#bd3786\"], [0.5555555555555556, \"#d8576b\"], [0.6666666666666666, \"#ed7953\"], [0.7777777777777778, \"#fb9f3a\"], [0.8888888888888888, \"#fdca26\"], [1.0, \"#f0f921\"]]}, \"colorway\": [\"#636efa\", \"#EF553B\", \"#00cc96\", \"#ab63fa\", \"#FFA15A\", \"#19d3f3\", \"#FF6692\", \"#B6E880\", \"#FF97FF\", \"#FECB52\"], \"font\": {\"color\": \"#2a3f5f\"}, \"geo\": {\"bgcolor\": \"white\", \"lakecolor\": \"white\", \"landcolor\": \"#E5ECF6\", \"showlakes\": true, \"showland\": true, \"subunitcolor\": \"white\"}, \"hoverlabel\": {\"align\": \"left\"}, \"hovermode\": \"closest\", \"mapbox\": {\"style\": \"light\"}, \"paper_bgcolor\": \"white\", \"plot_bgcolor\": \"#E5ECF6\", \"polar\": {\"angularaxis\": {\"gridcolor\": \"white\", \"linecolor\": \"white\", \"ticks\": \"\"}, \"bgcolor\": \"#E5ECF6\", \"radialaxis\": {\"gridcolor\": \"white\", \"linecolor\": \"white\", \"ticks\": \"\"}}, \"scene\": {\"xaxis\": {\"backgroundcolor\": \"#E5ECF6\", \"gridcolor\": \"white\", \"gridwidth\": 2, \"linecolor\": \"white\", \"showbackground\": true, \"ticks\": \"\", \"zerolinecolor\": \"white\"}, \"yaxis\": {\"backgroundcolor\": \"#E5ECF6\", \"gridcolor\": \"white\", \"gridwidth\": 2, \"linecolor\": \"white\", \"showbackground\": true, \"ticks\": \"\", \"zerolinecolor\": \"white\"}, \"zaxis\": {\"backgroundcolor\": \"#E5ECF6\", \"gridcolor\": \"white\", \"gridwidth\": 2, \"linecolor\": \"white\", \"showbackground\": true, \"ticks\": \"\", \"zerolinecolor\": \"white\"}}, \"shapedefaults\": {\"line\": {\"color\": \"#2a3f5f\"}}, \"ternary\": {\"aaxis\": {\"gridcolor\": \"white\", \"linecolor\": \"white\", \"ticks\": \"\"}, \"baxis\": {\"gridcolor\": \"white\", \"linecolor\": \"white\", \"ticks\": \"\"}, \"bgcolor\": \"#E5ECF6\", \"caxis\": {\"gridcolor\": \"white\", \"linecolor\": \"white\", \"ticks\": \"\"}}, \"title\": {\"x\": 0.05}, \"xaxis\": {\"automargin\": true, \"gridcolor\": \"white\", \"linecolor\": \"white\", \"ticks\": \"\", \"title\": {\"standoff\": 15}, \"zerolinecolor\": \"white\", \"zerolinewidth\": 2}, \"yaxis\": {\"automargin\": true, \"gridcolor\": \"white\", \"linecolor\": \"white\", \"ticks\": \"\", \"title\": {\"standoff\": 15}, \"zerolinecolor\": \"white\", \"zerolinewidth\": 2}}}, \"xaxis\": {\"anchor\": \"y\", \"domain\": [0.0, 1.0]}, \"yaxis\": {\"anchor\": \"x\", \"domain\": [0.0, 1.0], \"title\": {\"text\": \"Current Salary\"}}},\n",
              "                        {\"responsive\": true}\n",
              "                    ).then(function(){\n",
              "                            \n",
              "var gd = document.getElementById('03ca944a-2a89-4c4d-ada9-a40630afa185');\n",
              "var x = new MutationObserver(function (mutations, observer) {{\n",
              "        var display = window.getComputedStyle(gd).display;\n",
              "        if (!display || display === 'none') {{\n",
              "            console.log([gd, 'removed!']);\n",
              "            Plotly.purge(gd);\n",
              "            observer.disconnect();\n",
              "        }}\n",
              "}});\n",
              "\n",
              "// Listen for the removal of the full notebook cells\n",
              "var notebookContainer = gd.closest('#notebook-container');\n",
              "if (notebookContainer) {{\n",
              "    x.observe(notebookContainer, {childList: true});\n",
              "}}\n",
              "\n",
              "// Listen for the clearing of the current output cell\n",
              "var outputEl = gd.closest('.output');\n",
              "if (outputEl) {{\n",
              "    x.observe(outputEl, {childList: true});\n",
              "}}\n",
              "\n",
              "                        })\n",
              "                };\n",
              "                \n",
              "            </script>\n",
              "        </div>\n",
              "</body>\n",
              "</html>"
            ]
          },
          "metadata": {
            "tags": []
          }
        }
      ]
    },
    {
      "cell_type": "code",
      "metadata": {
        "colab": {
          "base_uri": "https://localhost:8080/",
          "height": 542
        },
        "id": "E0D98j4EMM_W",
        "outputId": "12b31447-f707-43c6-cb8b-445f6b553c7a"
      },
      "source": [
        "import plotly.express as px\n",
        "fig = px.scatter(data_18, x=\"Years of experience\", y=\"Current Salary\")\n",
        "fig.update_traces(marker=dict(size=12,\n",
        "                              line=dict(width=2,\n",
        "                                        color='DarkSlateGrey')),\n",
        "                  selector=dict(mode='markers'))\n",
        "fig.show()"
      ],
      "execution_count": null,
      "outputs": [
        {
          "output_type": "display_data",
          "data": {
            "text/html": [
              "<html>\n",
              "<head><meta charset=\"utf-8\" /></head>\n",
              "<body>\n",
              "    <div>\n",
              "            <script src=\"https://cdnjs.cloudflare.com/ajax/libs/mathjax/2.7.5/MathJax.js?config=TeX-AMS-MML_SVG\"></script><script type=\"text/javascript\">if (window.MathJax) {MathJax.Hub.Config({SVG: {font: \"STIX-Web\"}});}</script>\n",
              "                <script type=\"text/javascript\">window.PlotlyConfig = {MathJaxConfig: 'local'};</script>\n",
              "        <script src=\"https://cdn.plot.ly/plotly-latest.min.js\"></script>    \n",
              "            <div id=\"f321861f-e5d3-4fd4-9cfa-314f3175f259\" class=\"plotly-graph-div\" style=\"height:525px; width:100%;\"></div>\n",
              "            <script type=\"text/javascript\">\n",
              "                \n",
              "                    window.PLOTLYENV=window.PLOTLYENV || {};\n",
              "                    \n",
              "                if (document.getElementById(\"f321861f-e5d3-4fd4-9cfa-314f3175f259\")) {\n",
              "                    Plotly.newPlot(\n",
              "                        'f321861f-e5d3-4fd4-9cfa-314f3175f259',\n",
              "                        [{\"hoverlabel\": {\"namelength\": 0}, \"hovertemplate\": \"Years of experience=%{x}<br>Current Salary=%{y}\", \"legendgroup\": \"\", \"marker\": {\"color\": \"#636efa\", \"line\": {\"color\": \"DarkSlateGrey\", \"width\": 2}, \"size\": 12, \"symbol\": \"circle\"}, \"mode\": \"markers\", \"name\": \"\", \"showlegend\": false, \"type\": \"scatter\", \"x\": [11.0, 8.0, 10.0, 6.0, 10.0, 8.0, 5.0, 8.0, 3.0, 8.0, 18.0, 8.0, 8.548497267759563, 6.0, 11.0, 3.0, 11.0, 4.0, 17.0, 19.0, 10.0, 10.0, 5.0, 10.0, 4.0, 15.0, 15.0, 12.0, 8.0, 5.0, 10.0, 12.0, 10.0, 4.0, 2.0, 1.0, 10.0, 10.0, 5.0, 9.0, 7.0, 20.0, 10.0, 7.0, 3.0, 10.0, 6.0, 1.0, 6.0, 11.0, 10.0, 7.0, 7.5, 10.0, 1.0, 10.0, 9.0, 1.0, 4.0, 10.0, 10.0, 3.0, 11.0, 4.0, 5.0, 4.0, 6.0, 5.0, 7.0, 5.0, 3.0, 6.0, 7.0, 3.0, 4.0, 10.0, 8.0, 1.0, 5.0, 8.0, 8.548497267759563, 12.0, 5.0, 10.0, 6.0, 8.0, 5.0, 3.0, 14.0, 15.0, 4.0, 4.0, 8.548497267759563, 14.0, 10.0, 12.0, 3.0, 6.0, 19.0, 10.0, 2.0, 8.0, 10.0, 18.0, 3.0, 10.0, 15.0, 5.0, 3.0, 11.0, 3.0, 8.548497267759563, 10.0, 4.0, 12.0, 13.0, 5.0, 6.0, 17.0, 8.0, 0.5, 5.0, 9.0, 3.0, 7.0, 7.0, 5.0, 8.0, 4.0, 4.0, 10.0, 3.0, 7.0, 6.0, 15.0, 14.0, 8.548497267759563, 15.0, 4.0, 7.0, 10.0, 5.0, 13.0, 8.0, 5.0, 6.0, 3.0, 20.0, 5.0, 12.0, 7.0, 6.0, 17.0, 14.0, 3.0, 6.0, 19.0, 2.5, 0.5, 15.0, 11.0, 8.0, 10.0, 8.0, 7.0, 13.0, 11.0, 10.0, 15.0, 12.0, 9.0, 15.0, 5.0, 5.0, 5.0, 8.0, 4.0, 12.0, 8.0, 11.0, 8.0, 4.0, 5.0, 7.0, 12.0, 8.0, 2.0, 13.0, 14.0, 7.0, 2.5, 4.0, 9.0, 3.0, 3.0, 5.0, 2.0, 8.0, 6.0, 13.0, 12.0, 4.0, 5.0, 5.0, 4.0, 13.0, 6.0, 8.0, 8.548497267759563, 1.5, 20.0, 5.0, 6.0, 10.0, 13.0, 7.0, 5.0, 13.0, 15.0, 8.0, 5.0, 16.0, 6.0, 9.0, 6.0, 6.0, 12.0, 9.0, 10.0, 11.0, 5.0, 9.0, 3.0, 15.0, 3.0, 8.548497267759563, 0.0, 7.0, 5.0, 7.0, 10.0, 7.0, 12.0, 20.0, 5.0, 11.0, 4.0, 4.0, 8.0, 10.0, 5.0, 3.0, 15.0, 10.0, 3.0, 11.0, 5.0, 4.0, 10.0, 5.0, 20.0, 18.0, 4.0, 1.0, 10.0, 15.0, 2.5, 6.0, 12.0, 10.0, 15.0, 5.0, 10.0, 10.0, 8.0, 10.0, 10.0, 5.0, 18.0, 8.0, 9.0, 11.0, 16.0, 5.0, 11.0, 7.0, 17.0, 7.0, 9.0, 9.0, 17.0, 5.0, 13.0, 5.0, 2.5, 10.0, 8.0, 12.0, 20.0, 5.0, 8.548497267759563, 10.0, 12.0, 10.0, 7.0, 5.0, 9.0, 8.548497267759563, 5.0, 7.0, 4.0, 8.0, 5.0, 12.0, 4.0, 5.0, 12.0, 8.0, 5.0, 20.0, 8.0, 15.0, 8.548497267759563, 10.0, 10.0, 6.0, 7.0, 1.0, 5.0, 5.0, 10.0, 6.0, 4.0, 12.0, 12.0, 10.0, 8.0, 5.0, 3.0, 25.0, 6.0, 5.0, 8.0, 8.0, 7.0, 6.0, 10.0, 7.0, 10.0, 7.0, 10.0, 4.0, 8.0, 2.0, 20.0, 11.0, 8.0, 5.0, 1.0, 9.0, 12.0, 10.0, 4.0, 3.0, 8.0, 4.0, 10.0, 4.0, 9.0, 6.0, 3.0, 11.0, 14.0, 10.0, 7.0, 18.0, 10.0, 5.0, 10.0, 13.0, 6.0, 9.0, 10.0, 7.0, 6.0, 15.0, 7.0, 9.0, 10.0, 12.0, 8.0, 10.0, 10.0, 1.0, 7.0, 4.0, 4.0, 1.0, 3.0, 9.0, 6.0, 11.0, 10.0, 7.0, 11.0, 5.0, 11.0, 3.0, 6.0, 10.0, 11.0, 10.0, 9.0, 9.0, 12.0, 5.0, 15.0, 12.0, 9.0, 8.0, 18.0, 10.0, 1.0, 12.0, 15.0, 14.0, 15.0, 6.0, 5.0, 15.0, 2.0, 16.0, 11.0, 5.0, 3.0, 6.0, 3.0, 6.0, 6.0, 8.0, 12.0, 6.0, 18.0, 5.0, 4.0, 3.0, 8.0, 8.0, 9.0, 10.0, 8.0, 1.0, 9.0, 30.0, 2.5, 2.0, 10.0, 9.0, 12.0, 9.0, 6.0, 20.0, 12.0, 5.0, 9.0, 8.0, 4.0, 7.0, 10.0, 2.0, 2.0, 4.0, 8.0, 10.0, 10.0, 11.0, 15.0, 8.548497267759563, 15.0, 13.0, 10.0, 11.0, 5.0, 7.0, 20.0, 18.0, 15.0, 2.0, 5.0, 10.0, 10.0, 5.0, 2.0, 2.0, 7.0, 13.0, 8.0, 5.0, 8.548497267759563, 13.0, 5.0, 12.0, 15.0, 10.0, 8.0, 8.0, 6.0, 4.0, 15.0, 12.0, 10.0, 10.0, 9.0, 6.0, 9.0, 10.0, 12.0, 15.0, 10.0, 8.548497267759563, 15.0, 11.0, 6.0, 9.0, 5.0, 9.0, 6.0, 7.0, 8.548497267759563, 4.0, 7.0, 7.0, 4.0, 10.0, 11.0, 2.0, 12.0, 12.0, 3.0, 4.0, 6.0, 13.0, 15.0, 8.0, 7.0, 10.0, 5.0, 6.0, 38.0, 20.0, 6.0, 5.0, 7.0, 15.0, 10.0, 12.0, 4.0, 11.0, 10.0, 10.0, 7.0, 12.0, 7.0, 10.0, 7.0, 7.0, 20.0, 10.0, 21.0, 2.0, 18.0, 10.0, 10.0, 15.0, 9.0, 4.0, 15.0, 9.0, 19.0, 10.0, 5.0, 1.5, 5.0, 14.0, 14.0, 5.0, 6.0, 7.0, 4.5, 2.0, 15.0, 8.0, 5.0, 9.0, 8.0, 4.0, 5.0, 5.0, 18.0, 8.0, 8.0, 3.0, 8.548497267759563, 6.0, 4.0, 8.0, 5.0, 8.0, 5.0, 12.0, 14.0, 3.0, 11.0, 18.0, 14.0, 10.0, 12.0, 8.0, 6.0, 7.0, 5.0, 10.0, 5.0, 5.0, 6.0, 5.0, 6.0, 6.0, 7.0, 16.0, 11.0, 5.0, 8.0, 8.0, 1.0, 12.0, 12.0, 15.0, 9.0, 8.0, 10.0, 8.548497267759563, 8.548497267759563, 10.0, 15.0, 14.0, 10.0, 10.0, 9.0, 1.0, 18.0, 11.0, 8.0, 11.0, 9.0, 6.0, 12.0, 4.0, 10.0, 10.0, 12.0, 11.0, 15.0, 5.0, 7.0, 5.0, 4.0, 6.0, 10.0, 4.0, 4.0, 10.0, 3.0, 9.0, 15.0, 7.0, 7.0, 3.0, 12.0, 3.0, 15.0, 10.0, 7.0, 15.0, 1.0, 3.0, 7.0, 8.548497267759563, 5.0, 10.0, 5.0, 10.0, 8.0, 2.0, 7.0, 17.0, 9.0, 7.0, 5.0, 10.0, 11.0, 7.0, 15.0, 18.0, 6.0, 20.0, 3.0, 7.0, 0.0, 10.0, 10.0, 9.0, 20.0, 8.0, 0.0, 10.0, 5.0, 11.0, 5.0, 11.0, 5.0, 12.0, 7.0, 12.0, 2.0, 3.0, 8.0, 7.0, 11.0, 18.0, 6.0, 10.0, 9.0, 8.548497267759563, 8.548497267759563, 12.0, 8.548497267759563, 8.548497267759563, 8.548497267759563, 8.548497267759563, 8.548497267759563, 8.548497267759563, 1.0, 20.0, 8.0, 5.0, 25.0, 8.548497267759563, 3.0, 1.0, 4.0, 17.0, 8.548497267759563, 11.0, 8.548497267759563, 10.0, 30.0, 8.548497267759563, 8.548497267759563, 8.548497267759563, 1.0, 1.0, 1.0, 8.548497267759563, 10.0], \"xaxis\": \"x\", \"y\": [77000.0, 65000.0, 88000.0, 78000.0, 69000.0, 98000.0, 65000.0, 109000.0, 65000.0, 60000.0, 70000.0, 70000.0, 55000.0, 55000.0, 94500.0, 46000.0, 68000.0, 60000.0, 62500.0, 80000.0, 132250.0, 53000.0, 52000.0, 95000.0, 72000.0, 55000.0, 77000.0, 72000.0, 80000.0, 66000.0, 75800.0, 84000.0, 60000.0, 57000.0, 58000.0, 36000.0, 70000.0, 72000.0, 75000.0, 90000.0, 69000.0, 113000.0, 65000.0, 75000.0, 57000.0, 84000.0, 70000.0, 55000.0, 60000.0, 65000.0, 70000.0, 50000.0, 65000.0, 78000.0, 60000.0, 71000.0, 75000.0, 49000.0, 65000.0, 68000.0, 56000.0, 30000.0, 72000.0, 65000.0, 45000.0, 55000.0, 40000.0, 66000.0, 66000.0, 54000.0, 60000.0, 50000.0, 60000.0, 48000.0, 66000.0, 95000.0, 61000.0, 65000.0, 55000.0, 72000.0, 90000.0, 60000.0, 60000.0, 87000.0, 70000.0, 30000.0, 55000.0, 57000.0, 73000.0, 85000.0, 65000.0, 65000.0, 58000.0, 82000.0, 67000.0, 65000.0, 62000.0, 62000.0, 83000.0, 75000.0, 50000.0, 100000.0, 75000.0, 69000.0, 50000.0, 73000.0, 120000.0, 50000.0, 58000.0, 65000.0, 30000.0, 80000.0, 70000.0, 65000.0, 78600.0, 70000.0, 60000.0, 78000.0, 70000.0, 89000.0, 60000.0, 60000.0, 72000.0, 43000.0, 72000.0, 65000.0, 85000.0, 55000.0, 65000.0, 56000.0, 107000.0, 60000.0, 70000.0, 60000.0, 62000.0, 78000.0, 60000.0, 54000.0, 46000.0, 64000.0, 65000.0, 58000.0, 75000.0, 95000.0, 60000.0, 53000.0, 69000.0, 84000.0, 52000.0, 85000.0, 75000.0, 63000.0, 87000.0, 65000.0, 50400.0, 65000.0, 85000.0, 66000.0, 32000.0, 42000.0, 65000.0, 74000.0, 75000.0, 72500.0, 53000.0, 102000.0, 60000.0, 75000.0, 85000.0, 60000.0, 60000.0, 85000.0, 50000.0, 60000.0, 35000.0, 75000.0, 58000.0, 75000.0, 70000.0, 65000.0, 55800.0, 55000.0, 55000.0, 70000.0, 63000.0, 115000.0, 52000.0, 176000.0, 70000.0, 44000.0, 50000.0, 58000.0, 60000.0, 60000.0, 64000.0, 80000.0, 58000.0, 95000.0, 50000.0, 90000.0, 75000.0, 46000.0, 80000.0, 92000.0, 60000.0, 90000.0, 63000.0, 75000.0, 55000.0, 70000.0, 74000.0, 65000.0, 125000.0, 68000.0, 80000.0, 40000.0, 60000.0, 65000.0, 92000.0, 75000.0, 70000.0, 58000.0, 76000.0, 75000.0, 65000.0, 75000.0, 80000.0, 80000.0, 83000.0, 80000.0, 87000.0, 80000.0, 58000.0, 68000.0, 48500.0, 72000.0, 49000.0, 34000.0, 68000.0, 75000.0, 95000.0, 70500.0, 65000.0, 96000.0, 65000.0, 83000.0, 78000.0, 45000.0, 65000.0, 120000.0, 85000.0, 65000.0, 65000.0, 86000.0, 68000.0, 61000.0, 60000.0, 48000.0, 75000.0, 65000.0, 120000.0, 84000.0, 54000.0, 40000.0, 61000.0, 85000.0, 35000.0, 68000.0, 75000.0, 96000.0, 70000.0, 55000.0, 50000.0, 57000.0, 60000.0, 44000.0, 95000.0, 55000.0, 67000.0, 46000.0, 90000.0, 92000.0, 95000.0, 70000.0, 115000.0, 70000.0, 35000.0, 60000.0, 90000.0, 90000.0, 80000.0, 90000.0, 72000.0, 55000.0, 52000.0, 53000.0, 72000.0, 80000.0, 200000.0, 63000.0, 73300.0, 115000.0, 73500.0, 83000.0, 42000.0, 56000.0, 130000.0, 70000.0, 45000.0, 57000.0, 58000.0, 65000.0, 47500.0, 70000.0, 90000.0, 50000.0, 85000.0, 65000.0, 62000.0, 60000.0, 66000.0, 75000.0, 70000.0, 65000.0, 65000.0, 70000.0, 62000.0, 55000.0, 60000.0, 56000.0, 65000.0, 78000.0, 60000.0, 85000.0, 61000.0, 68000.0, 60000.0, 81000.0, 61000.0, 140000.0, 52000.0, 65000.0, 80000.0, 68000.0, 90000.0, 80000.0, 80000.0, 65000.0, 70000.0, 60000.0, 60000.0, 55000.0, 65000.0, 52000.0, 75000.0, 87000.0, 66000.0, 50000.0, 30000.0, 60000.0, 75000.0, 130000.0, 70000.0, 62000.0, 53500.0, 87975.0, 60000.0, 68381.76533333333, 70000.0, 60000.0, 55000.0, 70000.0, 70000.0, 54000.0, 130000.0, 140000.0, 76000.0, 53000.0, 31500.0, 58000.0, 52000.0, 75000.0, 68000.0, 60000.0, 58000.0, 110000.0, 68000.0, 70000.0, 70000.0, 72000.0, 60000.0, 120000.0, 43000.0, 60000.0, 70000.0, 48000.0, 67000.0, 36000.0, 75000.0, 65000.0, 63000.0, 60000.0, 57000.0, 112000.0, 100000.0, 72000.0, 78000.0, 44000.0, 59000.0, 66000.0, 60000.0, 65000.0, 47000.0, 60000.0, 72000.0, 68400.0, 55000.0, 60000.0, 70000.0, 65000.0, 70000.0, 80000.0, 47000.0, 66000.0, 67200.0, 85000.0, 89000.0, 72000.0, 69000.0, 60000.0, 53000.0, 86000.0, 45000.0, 72000.0, 65000.0, 75000.0, 47000.0, 60000.0, 50000.0, 55000.0, 111000.0, 40800.0, 92100.0, 73000.0, 54000.0, 38000.0, 75000.0, 66000.0, 70000.0, 60000.0, 70000.0, 10300.0, 75000.0, 65000.0, 24000.0, 52000.0, 39600.0, 64400.0, 57000.0, 52000.0, 77000.0, 48000.0, 67000.0, 55000.0, 85000.0, 57800.0, 20400.0, 44000.0, 70000.0, 24000.0, 24000.0, 47300.0, 53000.0, 23162.0, 100000.0, 100000.0, 60000.0, 90000.0, 60000.0, 60000.0, 75000.0, 60000.0, 56000.0, 55000.0, 80000.0, 75000.0, 86000.0, 17532.0, 34000.0, 69000.0, 69000.0, 60000.0, 19200.0, 30000.0, 75000.0, 63000.0, 92000.0, 51750.0, 62000.0, 80000.0, 58000.0, 108000.0, 72000.0, 38400.0, 65000.0, 70000.0, 51000.0, 57000.0, 75000.0, 69600.0, 85000.0, 68000.0, 65000.0, 58500.0, 130000.0, 80000.0, 65000.0, 68000.0, 96000.0, 150000.0, 60000.0, 120000.0, 70000.0, 44000.0, 58500.0, 55000.0, 70000.0, 60000.0, 80000.0, 42000.0, 47000.0, 68000.0, 65000.0, 56000.0, 65000.0, 47250.0, 87000.0, 85000.0, 39000.0, 65000.0, 65000.0, 65000.0, 69000.0, 77000.0, 73000.0, 65000.0, 60000.0, 55000.0, 58000.0, 72000.0, 75000.0, 55000.0, 70000.0, 57000.0, 75000.0, 70000.0, 65000.0, 66000.0, 90000.0, 88000.0, 70000.0, 60000.0, 78000.0, 64500.0, 96000.0, 68000.0, 80000.0, 122000.0, 90000.0, 55000.0, 60000.0, 65000.0, 70000.0, 75000.0, 65000.0, 60000.0, 165000.0, 138000.0, 110000.0, 60000.0, 58000.0, 46000.0, 73000.0, 68000.0, 68000.0, 52000.0, 60000.0, 74000.0, 39150.0, 60000.0, 48000.0, 60000.0, 24000.0, 70000.0, 72000.0, 40800.0, 50000.0, 53000.0, 89000.0, 50000.0, 67500.0, 50000.0, 37000.0, 80000.0, 45000.0, 80000.0, 33600.0, 132000.0, 87500.0, 65000.0, 128000.0, 37000.0, 120000.0, 180000.0, 55000.0, 78000.0, 75000.0, 72000.0, 57000.0, 68000.0, 58000.0, 65000.0, 60000.0, 90000.0, 90000.0, 77000.0, 90000.0, 90000.0, 57500.0, 103000.0, 55000.0, 70000.0, 125000.0, 57000.0, 56000.0, 78000.0, 66000.0, 67000.0, 70000.0, 75000.0, 60000.0, 90000.0, 90000.0, 55000.0, 80000.0, 112000.0, 72000.0, 70000.0, 120000.0, 50000.0, 42000.0, 80000.0, 65000.0, 72000.0, 83000.0, 60000.0, 84000.0, 70000.0, 65000.0, 68000.0, 70000.0, 72000.0, 65000.0, 65000.0, 42000.0, 40000.0, 60000.0, 48000.0, 50000.0, 62000.0, 55000.0, 75000.0, 58000.0, 65000.0, 53600.0, 60000.0, 60000.0, 51600.0, 39600.0, 60500.0, 65000.0, 15000.0, 120000.0, 130000.0, 42000.0, 45000.0, 85000.0, 72000.0, 60000.0, 47000.0, 75000.0, 130000.0, 77000.0, 42000.0, 80000.0, 95000.0, 60000.0, 71000.0, 60000.0, 115000.0, 75000.0, 62500.0, 64000.0, 127000.0, 65000.0, 93000.0, 27000.0, 33000.0, 83200.0, 85000.0, 74000.0, 42000.0, 65000.0, 80400.0, 50000.0, 75000.0, 50000.0, 60000.0, 62500.0, 65000.0, 53000.0, 70000.0, 55000.0, 60000.0, 13000.0, 52000.0, 40000.0, 69000.0, 65000.0, 68000.0, 65000.0, 80000.0, 71500.0, 68381.76533333333, 68381.76533333333, 50000.0, 68381.76533333333, 68381.76533333333, 68381.76533333333, 70000.0, 68381.76533333333, 68381.76533333333, 51000.0, 75000.0, 80000.0, 53000.0, 78000.0, 68381.76533333333, 55555.0, 42000.0, 60000.0, 85000.0, 68381.76533333333, 75000.0, 68381.76533333333, 75000.0, 63000.0, 68381.76533333333, 68381.76533333333, 68381.76533333333, 44000.0, 45000.0, 45000.0, 68381.76533333333, 110000.0], \"yaxis\": \"y\"}],\n",
              "                        {\"legend\": {\"tracegroupgap\": 0}, \"margin\": {\"t\": 60}, \"template\": {\"data\": {\"bar\": [{\"error_x\": {\"color\": \"#2a3f5f\"}, \"error_y\": {\"color\": \"#2a3f5f\"}, \"marker\": {\"line\": {\"color\": \"#E5ECF6\", \"width\": 0.5}}, \"type\": \"bar\"}], \"barpolar\": [{\"marker\": {\"line\": {\"color\": \"#E5ECF6\", \"width\": 0.5}}, \"type\": \"barpolar\"}], \"carpet\": [{\"aaxis\": {\"endlinecolor\": \"#2a3f5f\", \"gridcolor\": \"white\", \"linecolor\": \"white\", \"minorgridcolor\": \"white\", \"startlinecolor\": \"#2a3f5f\"}, \"baxis\": {\"endlinecolor\": \"#2a3f5f\", \"gridcolor\": \"white\", \"linecolor\": \"white\", \"minorgridcolor\": \"white\", \"startlinecolor\": \"#2a3f5f\"}, \"type\": \"carpet\"}], \"choropleth\": [{\"colorbar\": {\"outlinewidth\": 0, \"ticks\": \"\"}, \"type\": \"choropleth\"}], \"contour\": [{\"colorbar\": {\"outlinewidth\": 0, \"ticks\": \"\"}, \"colorscale\": [[0.0, \"#0d0887\"], [0.1111111111111111, \"#46039f\"], [0.2222222222222222, \"#7201a8\"], [0.3333333333333333, \"#9c179e\"], [0.4444444444444444, \"#bd3786\"], [0.5555555555555556, \"#d8576b\"], [0.6666666666666666, \"#ed7953\"], [0.7777777777777778, \"#fb9f3a\"], [0.8888888888888888, \"#fdca26\"], [1.0, \"#f0f921\"]], \"type\": \"contour\"}], \"contourcarpet\": [{\"colorbar\": {\"outlinewidth\": 0, \"ticks\": \"\"}, \"type\": \"contourcarpet\"}], \"heatmap\": [{\"colorbar\": {\"outlinewidth\": 0, \"ticks\": \"\"}, \"colorscale\": [[0.0, \"#0d0887\"], [0.1111111111111111, \"#46039f\"], [0.2222222222222222, \"#7201a8\"], [0.3333333333333333, \"#9c179e\"], [0.4444444444444444, \"#bd3786\"], [0.5555555555555556, \"#d8576b\"], [0.6666666666666666, \"#ed7953\"], [0.7777777777777778, \"#fb9f3a\"], [0.8888888888888888, \"#fdca26\"], [1.0, \"#f0f921\"]], \"type\": \"heatmap\"}], \"heatmapgl\": [{\"colorbar\": {\"outlinewidth\": 0, \"ticks\": \"\"}, \"colorscale\": [[0.0, \"#0d0887\"], [0.1111111111111111, \"#46039f\"], [0.2222222222222222, \"#7201a8\"], [0.3333333333333333, \"#9c179e\"], [0.4444444444444444, \"#bd3786\"], [0.5555555555555556, \"#d8576b\"], [0.6666666666666666, \"#ed7953\"], [0.7777777777777778, \"#fb9f3a\"], [0.8888888888888888, \"#fdca26\"], [1.0, \"#f0f921\"]], \"type\": \"heatmapgl\"}], \"histogram\": [{\"marker\": {\"colorbar\": {\"outlinewidth\": 0, \"ticks\": \"\"}}, \"type\": \"histogram\"}], \"histogram2d\": [{\"colorbar\": {\"outlinewidth\": 0, \"ticks\": \"\"}, \"colorscale\": [[0.0, \"#0d0887\"], [0.1111111111111111, \"#46039f\"], [0.2222222222222222, \"#7201a8\"], [0.3333333333333333, \"#9c179e\"], [0.4444444444444444, \"#bd3786\"], [0.5555555555555556, \"#d8576b\"], [0.6666666666666666, \"#ed7953\"], [0.7777777777777778, \"#fb9f3a\"], [0.8888888888888888, \"#fdca26\"], [1.0, \"#f0f921\"]], \"type\": \"histogram2d\"}], \"histogram2dcontour\": [{\"colorbar\": {\"outlinewidth\": 0, \"ticks\": \"\"}, \"colorscale\": [[0.0, \"#0d0887\"], [0.1111111111111111, \"#46039f\"], [0.2222222222222222, \"#7201a8\"], [0.3333333333333333, \"#9c179e\"], [0.4444444444444444, \"#bd3786\"], [0.5555555555555556, \"#d8576b\"], [0.6666666666666666, \"#ed7953\"], [0.7777777777777778, \"#fb9f3a\"], [0.8888888888888888, \"#fdca26\"], [1.0, \"#f0f921\"]], \"type\": \"histogram2dcontour\"}], \"mesh3d\": [{\"colorbar\": {\"outlinewidth\": 0, \"ticks\": \"\"}, \"type\": \"mesh3d\"}], \"parcoords\": [{\"line\": {\"colorbar\": {\"outlinewidth\": 0, \"ticks\": \"\"}}, \"type\": \"parcoords\"}], \"pie\": [{\"automargin\": true, \"type\": \"pie\"}], \"scatter\": [{\"marker\": {\"colorbar\": {\"outlinewidth\": 0, \"ticks\": \"\"}}, \"type\": \"scatter\"}], \"scatter3d\": [{\"line\": {\"colorbar\": {\"outlinewidth\": 0, \"ticks\": \"\"}}, \"marker\": {\"colorbar\": {\"outlinewidth\": 0, \"ticks\": \"\"}}, \"type\": \"scatter3d\"}], \"scattercarpet\": [{\"marker\": {\"colorbar\": {\"outlinewidth\": 0, \"ticks\": \"\"}}, \"type\": \"scattercarpet\"}], \"scattergeo\": [{\"marker\": {\"colorbar\": {\"outlinewidth\": 0, \"ticks\": \"\"}}, \"type\": \"scattergeo\"}], \"scattergl\": [{\"marker\": {\"colorbar\": {\"outlinewidth\": 0, \"ticks\": \"\"}}, \"type\": \"scattergl\"}], \"scattermapbox\": [{\"marker\": {\"colorbar\": {\"outlinewidth\": 0, \"ticks\": \"\"}}, \"type\": \"scattermapbox\"}], \"scatterpolar\": [{\"marker\": {\"colorbar\": {\"outlinewidth\": 0, \"ticks\": \"\"}}, \"type\": \"scatterpolar\"}], \"scatterpolargl\": [{\"marker\": {\"colorbar\": {\"outlinewidth\": 0, \"ticks\": \"\"}}, \"type\": \"scatterpolargl\"}], \"scatterternary\": [{\"marker\": {\"colorbar\": {\"outlinewidth\": 0, \"ticks\": \"\"}}, \"type\": \"scatterternary\"}], \"surface\": [{\"colorbar\": {\"outlinewidth\": 0, \"ticks\": \"\"}, \"colorscale\": [[0.0, \"#0d0887\"], [0.1111111111111111, \"#46039f\"], [0.2222222222222222, \"#7201a8\"], [0.3333333333333333, \"#9c179e\"], [0.4444444444444444, \"#bd3786\"], [0.5555555555555556, \"#d8576b\"], [0.6666666666666666, \"#ed7953\"], [0.7777777777777778, \"#fb9f3a\"], [0.8888888888888888, \"#fdca26\"], [1.0, \"#f0f921\"]], \"type\": \"surface\"}], \"table\": [{\"cells\": {\"fill\": {\"color\": \"#EBF0F8\"}, \"line\": {\"color\": \"white\"}}, \"header\": {\"fill\": {\"color\": \"#C8D4E3\"}, \"line\": {\"color\": \"white\"}}, \"type\": \"table\"}]}, \"layout\": {\"annotationdefaults\": {\"arrowcolor\": \"#2a3f5f\", \"arrowhead\": 0, \"arrowwidth\": 1}, \"coloraxis\": {\"colorbar\": {\"outlinewidth\": 0, \"ticks\": \"\"}}, \"colorscale\": {\"diverging\": [[0, \"#8e0152\"], [0.1, \"#c51b7d\"], [0.2, \"#de77ae\"], [0.3, \"#f1b6da\"], [0.4, \"#fde0ef\"], [0.5, \"#f7f7f7\"], [0.6, \"#e6f5d0\"], [0.7, \"#b8e186\"], [0.8, \"#7fbc41\"], [0.9, \"#4d9221\"], [1, \"#276419\"]], \"sequential\": [[0.0, \"#0d0887\"], [0.1111111111111111, \"#46039f\"], [0.2222222222222222, \"#7201a8\"], [0.3333333333333333, \"#9c179e\"], [0.4444444444444444, \"#bd3786\"], [0.5555555555555556, \"#d8576b\"], [0.6666666666666666, \"#ed7953\"], [0.7777777777777778, \"#fb9f3a\"], [0.8888888888888888, \"#fdca26\"], [1.0, \"#f0f921\"]], \"sequentialminus\": [[0.0, \"#0d0887\"], [0.1111111111111111, \"#46039f\"], [0.2222222222222222, \"#7201a8\"], [0.3333333333333333, \"#9c179e\"], [0.4444444444444444, \"#bd3786\"], [0.5555555555555556, \"#d8576b\"], [0.6666666666666666, \"#ed7953\"], [0.7777777777777778, \"#fb9f3a\"], [0.8888888888888888, \"#fdca26\"], [1.0, \"#f0f921\"]]}, \"colorway\": [\"#636efa\", \"#EF553B\", \"#00cc96\", \"#ab63fa\", \"#FFA15A\", \"#19d3f3\", \"#FF6692\", \"#B6E880\", \"#FF97FF\", \"#FECB52\"], \"font\": {\"color\": \"#2a3f5f\"}, \"geo\": {\"bgcolor\": \"white\", \"lakecolor\": \"white\", \"landcolor\": \"#E5ECF6\", \"showlakes\": true, \"showland\": true, \"subunitcolor\": \"white\"}, \"hoverlabel\": {\"align\": \"left\"}, \"hovermode\": \"closest\", \"mapbox\": {\"style\": \"light\"}, \"paper_bgcolor\": \"white\", \"plot_bgcolor\": \"#E5ECF6\", \"polar\": {\"angularaxis\": {\"gridcolor\": \"white\", \"linecolor\": \"white\", \"ticks\": \"\"}, \"bgcolor\": \"#E5ECF6\", \"radialaxis\": {\"gridcolor\": \"white\", \"linecolor\": \"white\", \"ticks\": \"\"}}, \"scene\": {\"xaxis\": {\"backgroundcolor\": \"#E5ECF6\", \"gridcolor\": \"white\", \"gridwidth\": 2, \"linecolor\": \"white\", \"showbackground\": true, \"ticks\": \"\", \"zerolinecolor\": \"white\"}, \"yaxis\": {\"backgroundcolor\": \"#E5ECF6\", \"gridcolor\": \"white\", \"gridwidth\": 2, \"linecolor\": \"white\", \"showbackground\": true, \"ticks\": \"\", \"zerolinecolor\": \"white\"}, \"zaxis\": {\"backgroundcolor\": \"#E5ECF6\", \"gridcolor\": \"white\", \"gridwidth\": 2, \"linecolor\": \"white\", \"showbackground\": true, \"ticks\": \"\", \"zerolinecolor\": \"white\"}}, \"shapedefaults\": {\"line\": {\"color\": \"#2a3f5f\"}}, \"ternary\": {\"aaxis\": {\"gridcolor\": \"white\", \"linecolor\": \"white\", \"ticks\": \"\"}, \"baxis\": {\"gridcolor\": \"white\", \"linecolor\": \"white\", \"ticks\": \"\"}, \"bgcolor\": \"#E5ECF6\", \"caxis\": {\"gridcolor\": \"white\", \"linecolor\": \"white\", \"ticks\": \"\"}}, \"title\": {\"x\": 0.05}, \"xaxis\": {\"automargin\": true, \"gridcolor\": \"white\", \"linecolor\": \"white\", \"ticks\": \"\", \"title\": {\"standoff\": 15}, \"zerolinecolor\": \"white\", \"zerolinewidth\": 2}, \"yaxis\": {\"automargin\": true, \"gridcolor\": \"white\", \"linecolor\": \"white\", \"ticks\": \"\", \"title\": {\"standoff\": 15}, \"zerolinecolor\": \"white\", \"zerolinewidth\": 2}}}, \"xaxis\": {\"anchor\": \"y\", \"domain\": [0.0, 1.0], \"title\": {\"text\": \"Years of experience\"}}, \"yaxis\": {\"anchor\": \"x\", \"domain\": [0.0, 1.0], \"title\": {\"text\": \"Current Salary\"}}},\n",
              "                        {\"responsive\": true}\n",
              "                    ).then(function(){\n",
              "                            \n",
              "var gd = document.getElementById('f321861f-e5d3-4fd4-9cfa-314f3175f259');\n",
              "var x = new MutationObserver(function (mutations, observer) {{\n",
              "        var display = window.getComputedStyle(gd).display;\n",
              "        if (!display || display === 'none') {{\n",
              "            console.log([gd, 'removed!']);\n",
              "            Plotly.purge(gd);\n",
              "            observer.disconnect();\n",
              "        }}\n",
              "}});\n",
              "\n",
              "// Listen for the removal of the full notebook cells\n",
              "var notebookContainer = gd.closest('#notebook-container');\n",
              "if (notebookContainer) {{\n",
              "    x.observe(notebookContainer, {childList: true});\n",
              "}}\n",
              "\n",
              "// Listen for the clearing of the current output cell\n",
              "var outputEl = gd.closest('.output');\n",
              "if (outputEl) {{\n",
              "    x.observe(outputEl, {childList: true});\n",
              "}}\n",
              "\n",
              "                        })\n",
              "                };\n",
              "                \n",
              "            </script>\n",
              "        </div>\n",
              "</body>\n",
              "</html>"
            ]
          },
          "metadata": {
            "tags": []
          }
        }
      ]
    },
    {
      "cell_type": "markdown",
      "metadata": {
        "id": "_T_nasYczxmK"
      },
      "source": [
        "**# line plot of the Total years of experience vs the current salary(taking the median salary for each of the different experience years) of the year 2018**"
      ]
    },
    {
      "cell_type": "code",
      "metadata": {
        "colab": {
          "base_uri": "https://localhost:8080/",
          "height": 542
        },
        "id": "d8jrqN5rFNun",
        "outputId": "3b113d02-590c-4ad1-9047-138eab672e26"
      },
      "source": [
        "# represent line distribution showing 5 years and exlude data point before 5 years\n",
        "data_18_ln_df = data_18.groupby('Years of experience').agg({'Current Salary':np.median}).reset_index()\n",
        "fig = px.line(data_18_ln_df, x='Years of experience', y='Current Salary')\n",
        "fig.show()"
      ],
      "execution_count": null,
      "outputs": [
        {
          "output_type": "display_data",
          "data": {
            "text/html": [
              "<html>\n",
              "<head><meta charset=\"utf-8\" /></head>\n",
              "<body>\n",
              "    <div>\n",
              "            <script src=\"https://cdnjs.cloudflare.com/ajax/libs/mathjax/2.7.5/MathJax.js?config=TeX-AMS-MML_SVG\"></script><script type=\"text/javascript\">if (window.MathJax) {MathJax.Hub.Config({SVG: {font: \"STIX-Web\"}});}</script>\n",
              "                <script type=\"text/javascript\">window.PlotlyConfig = {MathJaxConfig: 'local'};</script>\n",
              "        <script src=\"https://cdn.plot.ly/plotly-latest.min.js\"></script>    \n",
              "            <div id=\"5bdbb5d6-6b3c-47c2-ac90-aaf2ae819cc3\" class=\"plotly-graph-div\" style=\"height:525px; width:100%;\"></div>\n",
              "            <script type=\"text/javascript\">\n",
              "                \n",
              "                    window.PLOTLYENV=window.PLOTLYENV || {};\n",
              "                    \n",
              "                if (document.getElementById(\"5bdbb5d6-6b3c-47c2-ac90-aaf2ae819cc3\")) {\n",
              "                    Plotly.newPlot(\n",
              "                        '5bdbb5d6-6b3c-47c2-ac90-aaf2ae819cc3',\n",
              "                        [{\"hoverlabel\": {\"namelength\": 0}, \"hovertemplate\": \"Years of experience=%{x}<br>Current Salary=%{y}\", \"legendgroup\": \"\", \"line\": {\"color\": \"#636efa\", \"dash\": \"solid\"}, \"mode\": \"lines\", \"name\": \"\", \"showlegend\": false, \"type\": \"scatter\", \"x\": [0.0, 0.5, 1.0, 1.5, 2.0, 2.5, 3.0, 4.0, 4.5, 5.0, 6.0, 7.0, 7.5, 8.0, 8.548497267759563, 9.0, 10.0, 11.0, 12.0, 13.0, 14.0, 15.0, 16.0, 17.0, 18.0, 19.0, 20.0, 21.0, 25.0, 30.0, 38.0], \"xaxis\": \"x\", \"y\": [50000.0, 46000.0, 46000.0, 58000.0, 50000.0, 50000.0, 55555.0, 60000.0, 39150.0, 60000.0, 64000.0, 68000.0, 65000.0, 70000.0, 68381.76533333333, 70000.0, 70000.0, 71000.0, 71000.0, 73500.0, 71500.0, 68000.0, 90500.0, 80000.0, 72500.0, 84000.0, 80000.0, 90000.0, 109000.0, 64000.0, 58000.0], \"yaxis\": \"y\"}],\n",
              "                        {\"legend\": {\"tracegroupgap\": 0}, \"margin\": {\"t\": 60}, \"template\": {\"data\": {\"bar\": [{\"error_x\": {\"color\": \"#2a3f5f\"}, \"error_y\": {\"color\": \"#2a3f5f\"}, \"marker\": {\"line\": {\"color\": \"#E5ECF6\", \"width\": 0.5}}, \"type\": \"bar\"}], \"barpolar\": [{\"marker\": {\"line\": {\"color\": \"#E5ECF6\", \"width\": 0.5}}, \"type\": \"barpolar\"}], \"carpet\": [{\"aaxis\": {\"endlinecolor\": \"#2a3f5f\", \"gridcolor\": \"white\", \"linecolor\": \"white\", \"minorgridcolor\": \"white\", \"startlinecolor\": \"#2a3f5f\"}, \"baxis\": {\"endlinecolor\": \"#2a3f5f\", \"gridcolor\": \"white\", \"linecolor\": \"white\", \"minorgridcolor\": \"white\", \"startlinecolor\": \"#2a3f5f\"}, \"type\": \"carpet\"}], \"choropleth\": [{\"colorbar\": {\"outlinewidth\": 0, \"ticks\": \"\"}, \"type\": \"choropleth\"}], \"contour\": [{\"colorbar\": {\"outlinewidth\": 0, \"ticks\": \"\"}, \"colorscale\": [[0.0, \"#0d0887\"], [0.1111111111111111, \"#46039f\"], [0.2222222222222222, \"#7201a8\"], [0.3333333333333333, \"#9c179e\"], [0.4444444444444444, \"#bd3786\"], [0.5555555555555556, \"#d8576b\"], [0.6666666666666666, \"#ed7953\"], [0.7777777777777778, \"#fb9f3a\"], [0.8888888888888888, \"#fdca26\"], [1.0, \"#f0f921\"]], \"type\": \"contour\"}], \"contourcarpet\": [{\"colorbar\": {\"outlinewidth\": 0, \"ticks\": \"\"}, \"type\": \"contourcarpet\"}], \"heatmap\": [{\"colorbar\": {\"outlinewidth\": 0, \"ticks\": \"\"}, \"colorscale\": [[0.0, \"#0d0887\"], [0.1111111111111111, \"#46039f\"], [0.2222222222222222, \"#7201a8\"], [0.3333333333333333, \"#9c179e\"], [0.4444444444444444, \"#bd3786\"], [0.5555555555555556, \"#d8576b\"], [0.6666666666666666, \"#ed7953\"], [0.7777777777777778, \"#fb9f3a\"], [0.8888888888888888, \"#fdca26\"], [1.0, \"#f0f921\"]], \"type\": \"heatmap\"}], \"heatmapgl\": [{\"colorbar\": {\"outlinewidth\": 0, \"ticks\": \"\"}, \"colorscale\": [[0.0, \"#0d0887\"], [0.1111111111111111, \"#46039f\"], [0.2222222222222222, \"#7201a8\"], [0.3333333333333333, \"#9c179e\"], [0.4444444444444444, \"#bd3786\"], [0.5555555555555556, \"#d8576b\"], [0.6666666666666666, \"#ed7953\"], [0.7777777777777778, \"#fb9f3a\"], [0.8888888888888888, \"#fdca26\"], [1.0, \"#f0f921\"]], \"type\": \"heatmapgl\"}], \"histogram\": [{\"marker\": {\"colorbar\": {\"outlinewidth\": 0, \"ticks\": \"\"}}, \"type\": \"histogram\"}], \"histogram2d\": [{\"colorbar\": {\"outlinewidth\": 0, \"ticks\": \"\"}, \"colorscale\": [[0.0, \"#0d0887\"], [0.1111111111111111, \"#46039f\"], [0.2222222222222222, \"#7201a8\"], [0.3333333333333333, \"#9c179e\"], [0.4444444444444444, \"#bd3786\"], [0.5555555555555556, \"#d8576b\"], [0.6666666666666666, \"#ed7953\"], [0.7777777777777778, \"#fb9f3a\"], [0.8888888888888888, \"#fdca26\"], [1.0, \"#f0f921\"]], \"type\": \"histogram2d\"}], \"histogram2dcontour\": [{\"colorbar\": {\"outlinewidth\": 0, \"ticks\": \"\"}, \"colorscale\": [[0.0, \"#0d0887\"], [0.1111111111111111, \"#46039f\"], [0.2222222222222222, \"#7201a8\"], [0.3333333333333333, \"#9c179e\"], [0.4444444444444444, \"#bd3786\"], [0.5555555555555556, \"#d8576b\"], [0.6666666666666666, \"#ed7953\"], [0.7777777777777778, \"#fb9f3a\"], [0.8888888888888888, \"#fdca26\"], [1.0, \"#f0f921\"]], \"type\": \"histogram2dcontour\"}], \"mesh3d\": [{\"colorbar\": {\"outlinewidth\": 0, \"ticks\": \"\"}, \"type\": \"mesh3d\"}], \"parcoords\": [{\"line\": {\"colorbar\": {\"outlinewidth\": 0, \"ticks\": \"\"}}, \"type\": \"parcoords\"}], \"pie\": [{\"automargin\": true, \"type\": \"pie\"}], \"scatter\": [{\"marker\": {\"colorbar\": {\"outlinewidth\": 0, \"ticks\": \"\"}}, \"type\": \"scatter\"}], \"scatter3d\": [{\"line\": {\"colorbar\": {\"outlinewidth\": 0, \"ticks\": \"\"}}, \"marker\": {\"colorbar\": {\"outlinewidth\": 0, \"ticks\": \"\"}}, \"type\": \"scatter3d\"}], \"scattercarpet\": [{\"marker\": {\"colorbar\": {\"outlinewidth\": 0, \"ticks\": \"\"}}, \"type\": \"scattercarpet\"}], \"scattergeo\": [{\"marker\": {\"colorbar\": {\"outlinewidth\": 0, \"ticks\": \"\"}}, \"type\": \"scattergeo\"}], \"scattergl\": [{\"marker\": {\"colorbar\": {\"outlinewidth\": 0, \"ticks\": \"\"}}, \"type\": \"scattergl\"}], \"scattermapbox\": [{\"marker\": {\"colorbar\": {\"outlinewidth\": 0, \"ticks\": \"\"}}, \"type\": \"scattermapbox\"}], \"scatterpolar\": [{\"marker\": {\"colorbar\": {\"outlinewidth\": 0, \"ticks\": \"\"}}, \"type\": \"scatterpolar\"}], \"scatterpolargl\": [{\"marker\": {\"colorbar\": {\"outlinewidth\": 0, \"ticks\": \"\"}}, \"type\": \"scatterpolargl\"}], \"scatterternary\": [{\"marker\": {\"colorbar\": {\"outlinewidth\": 0, \"ticks\": \"\"}}, \"type\": \"scatterternary\"}], \"surface\": [{\"colorbar\": {\"outlinewidth\": 0, \"ticks\": \"\"}, \"colorscale\": [[0.0, \"#0d0887\"], [0.1111111111111111, \"#46039f\"], [0.2222222222222222, \"#7201a8\"], [0.3333333333333333, \"#9c179e\"], [0.4444444444444444, \"#bd3786\"], [0.5555555555555556, \"#d8576b\"], [0.6666666666666666, \"#ed7953\"], [0.7777777777777778, \"#fb9f3a\"], [0.8888888888888888, \"#fdca26\"], [1.0, \"#f0f921\"]], \"type\": \"surface\"}], \"table\": [{\"cells\": {\"fill\": {\"color\": \"#EBF0F8\"}, \"line\": {\"color\": \"white\"}}, \"header\": {\"fill\": {\"color\": \"#C8D4E3\"}, \"line\": {\"color\": \"white\"}}, \"type\": \"table\"}]}, \"layout\": {\"annotationdefaults\": {\"arrowcolor\": \"#2a3f5f\", \"arrowhead\": 0, \"arrowwidth\": 1}, \"coloraxis\": {\"colorbar\": {\"outlinewidth\": 0, \"ticks\": \"\"}}, \"colorscale\": {\"diverging\": [[0, \"#8e0152\"], [0.1, \"#c51b7d\"], [0.2, \"#de77ae\"], [0.3, \"#f1b6da\"], [0.4, \"#fde0ef\"], [0.5, \"#f7f7f7\"], [0.6, \"#e6f5d0\"], [0.7, \"#b8e186\"], [0.8, \"#7fbc41\"], [0.9, \"#4d9221\"], [1, \"#276419\"]], \"sequential\": [[0.0, \"#0d0887\"], [0.1111111111111111, \"#46039f\"], [0.2222222222222222, \"#7201a8\"], [0.3333333333333333, \"#9c179e\"], [0.4444444444444444, \"#bd3786\"], [0.5555555555555556, \"#d8576b\"], [0.6666666666666666, \"#ed7953\"], [0.7777777777777778, \"#fb9f3a\"], [0.8888888888888888, \"#fdca26\"], [1.0, \"#f0f921\"]], \"sequentialminus\": [[0.0, \"#0d0887\"], [0.1111111111111111, \"#46039f\"], [0.2222222222222222, \"#7201a8\"], [0.3333333333333333, \"#9c179e\"], [0.4444444444444444, \"#bd3786\"], [0.5555555555555556, \"#d8576b\"], [0.6666666666666666, \"#ed7953\"], [0.7777777777777778, \"#fb9f3a\"], [0.8888888888888888, \"#fdca26\"], [1.0, \"#f0f921\"]]}, \"colorway\": [\"#636efa\", \"#EF553B\", \"#00cc96\", \"#ab63fa\", \"#FFA15A\", \"#19d3f3\", \"#FF6692\", \"#B6E880\", \"#FF97FF\", \"#FECB52\"], \"font\": {\"color\": \"#2a3f5f\"}, \"geo\": {\"bgcolor\": \"white\", \"lakecolor\": \"white\", \"landcolor\": \"#E5ECF6\", \"showlakes\": true, \"showland\": true, \"subunitcolor\": \"white\"}, \"hoverlabel\": {\"align\": \"left\"}, \"hovermode\": \"closest\", \"mapbox\": {\"style\": \"light\"}, \"paper_bgcolor\": \"white\", \"plot_bgcolor\": \"#E5ECF6\", \"polar\": {\"angularaxis\": {\"gridcolor\": \"white\", \"linecolor\": \"white\", \"ticks\": \"\"}, \"bgcolor\": \"#E5ECF6\", \"radialaxis\": {\"gridcolor\": \"white\", \"linecolor\": \"white\", \"ticks\": \"\"}}, \"scene\": {\"xaxis\": {\"backgroundcolor\": \"#E5ECF6\", \"gridcolor\": \"white\", \"gridwidth\": 2, \"linecolor\": \"white\", \"showbackground\": true, \"ticks\": \"\", \"zerolinecolor\": \"white\"}, \"yaxis\": {\"backgroundcolor\": \"#E5ECF6\", \"gridcolor\": \"white\", \"gridwidth\": 2, \"linecolor\": \"white\", \"showbackground\": true, \"ticks\": \"\", \"zerolinecolor\": \"white\"}, \"zaxis\": {\"backgroundcolor\": \"#E5ECF6\", \"gridcolor\": \"white\", \"gridwidth\": 2, \"linecolor\": \"white\", \"showbackground\": true, \"ticks\": \"\", \"zerolinecolor\": \"white\"}}, \"shapedefaults\": {\"line\": {\"color\": \"#2a3f5f\"}}, \"ternary\": {\"aaxis\": {\"gridcolor\": \"white\", \"linecolor\": \"white\", \"ticks\": \"\"}, \"baxis\": {\"gridcolor\": \"white\", \"linecolor\": \"white\", \"ticks\": \"\"}, \"bgcolor\": \"#E5ECF6\", \"caxis\": {\"gridcolor\": \"white\", \"linecolor\": \"white\", \"ticks\": \"\"}}, \"title\": {\"x\": 0.05}, \"xaxis\": {\"automargin\": true, \"gridcolor\": \"white\", \"linecolor\": \"white\", \"ticks\": \"\", \"title\": {\"standoff\": 15}, \"zerolinecolor\": \"white\", \"zerolinewidth\": 2}, \"yaxis\": {\"automargin\": true, \"gridcolor\": \"white\", \"linecolor\": \"white\", \"ticks\": \"\", \"title\": {\"standoff\": 15}, \"zerolinecolor\": \"white\", \"zerolinewidth\": 2}}}, \"xaxis\": {\"anchor\": \"y\", \"domain\": [0.0, 1.0], \"title\": {\"text\": \"Years of experience\"}}, \"yaxis\": {\"anchor\": \"x\", \"domain\": [0.0, 1.0], \"title\": {\"text\": \"Current Salary\"}}},\n",
              "                        {\"responsive\": true}\n",
              "                    ).then(function(){\n",
              "                            \n",
              "var gd = document.getElementById('5bdbb5d6-6b3c-47c2-ac90-aaf2ae819cc3');\n",
              "var x = new MutationObserver(function (mutations, observer) {{\n",
              "        var display = window.getComputedStyle(gd).display;\n",
              "        if (!display || display === 'none') {{\n",
              "            console.log([gd, 'removed!']);\n",
              "            Plotly.purge(gd);\n",
              "            observer.disconnect();\n",
              "        }}\n",
              "}});\n",
              "\n",
              "// Listen for the removal of the full notebook cells\n",
              "var notebookContainer = gd.closest('#notebook-container');\n",
              "if (notebookContainer) {{\n",
              "    x.observe(notebookContainer, {childList: true});\n",
              "}}\n",
              "\n",
              "// Listen for the clearing of the current output cell\n",
              "var outputEl = gd.closest('.output');\n",
              "if (outputEl) {{\n",
              "    x.observe(outputEl, {childList: true});\n",
              "}}\n",
              "\n",
              "                        })\n",
              "                };\n",
              "                \n",
              "            </script>\n",
              "        </div>\n",
              "</body>\n",
              "</html>"
            ]
          },
          "metadata": {
            "tags": []
          }
        }
      ]
    },
    {
      "cell_type": "markdown",
      "metadata": {
        "id": "y84msoSrzn54"
      },
      "source": [
        "**# Total years of experience vs the median Yearly brutto salary (without bonus and stocks) of the year 2019 and 2020**"
      ]
    },
    {
      "cell_type": "code",
      "metadata": {
        "colab": {
          "base_uri": "https://localhost:8080/",
          "height": 542
        },
        "id": "GG8YeXv9jujC",
        "outputId": "2f612a2a-b2ce-4c9f-8752-5ac39ce56932"
      },
      "source": [
        "# represent line distribution showing 5 years and exlude data point before 5 years\n",
        "# data_18 dataframe update\n",
        "data_18_ln_df = data_18.groupby('Years of experience').agg({'Current Salary':np.median}).reset_index()\n",
        "data_18_ln_df['Year'] = 2018\n",
        "\n",
        "# data_19 dataframe update\n",
        "data_19['Years of experience'] = data_19['Years of experience'].astype(float)\n",
        "data_19.rename(columns = {'Yearly brutto salary (without bonus and stocks)':'Current Salary'}, inplace = True)\n",
        "data_19_ln_df = data_19.groupby('Years of experience').agg({'Current Salary':np.median}).reset_index()\n",
        "data_19_ln_df['Year'] = 2019\n",
        "\n",
        "# data_20 dataframe update\n",
        "data_20['Total years of experience'] = pd.to_numeric(data_20['Total years of experience'],errors = 'coerce')\n",
        "data_20.rename(columns = {'Total years of experience':'Years of experience','Yearly brutto salary (without bonus and stocks) in EUR':'Current Salary'}, inplace = True)\n",
        "data_20_ln_df = data_19.groupby('Years of experience').agg({'Current Salary':np.median}).reset_index()\n",
        "data_20_ln_df['Year'] = 2020\n",
        "\n",
        "# concatenate all the 3 dataframes\n",
        "concat_df = [data_18_ln_df,data_19_ln_df, data_20_ln_df, ]\n",
        "df=pd.concat(concat_df)\n",
        "\n",
        "# plot the line graph for each of the year\n",
        "fig = px.line(df, x='Years of experience', y='Current Salary',color='Year',hover_name='Year', title='Experience Vs Salary')\n",
        "fig.show()"
      ],
      "execution_count": null,
      "outputs": [
        {
          "output_type": "display_data",
          "data": {
            "text/html": [
              "<html>\n",
              "<head><meta charset=\"utf-8\" /></head>\n",
              "<body>\n",
              "    <div>\n",
              "            <script src=\"https://cdnjs.cloudflare.com/ajax/libs/mathjax/2.7.5/MathJax.js?config=TeX-AMS-MML_SVG\"></script><script type=\"text/javascript\">if (window.MathJax) {MathJax.Hub.Config({SVG: {font: \"STIX-Web\"}});}</script>\n",
              "                <script type=\"text/javascript\">window.PlotlyConfig = {MathJaxConfig: 'local'};</script>\n",
              "        <script src=\"https://cdn.plot.ly/plotly-latest.min.js\"></script>    \n",
              "            <div id=\"2b525085-6ff2-4d36-9a21-bd123bc92130\" class=\"plotly-graph-div\" style=\"height:525px; width:100%;\"></div>\n",
              "            <script type=\"text/javascript\">\n",
              "                \n",
              "                    window.PLOTLYENV=window.PLOTLYENV || {};\n",
              "                    \n",
              "                if (document.getElementById(\"2b525085-6ff2-4d36-9a21-bd123bc92130\")) {\n",
              "                    Plotly.newPlot(\n",
              "                        '2b525085-6ff2-4d36-9a21-bd123bc92130',\n",
              "                        [{\"hoverlabel\": {\"namelength\": 0}, \"hovertemplate\": \"<b>%{hovertext}</b><br><br>Year=2018<br>Years of experience=%{x}<br>Current Salary=%{y}\", \"hovertext\": [2018.0, 2018.0, 2018.0, 2018.0, 2018.0, 2018.0, 2018.0, 2018.0, 2018.0, 2018.0, 2018.0, 2018.0, 2018.0, 2018.0, 2018.0, 2018.0, 2018.0, 2018.0, 2018.0, 2018.0, 2018.0, 2018.0, 2018.0, 2018.0, 2018.0, 2018.0, 2018.0, 2018.0, 2018.0, 2018.0, 2018.0], \"legendgroup\": \"Year=2018\", \"line\": {\"color\": \"#636efa\", \"dash\": \"solid\"}, \"mode\": \"lines\", \"name\": \"Year=2018\", \"showlegend\": true, \"type\": \"scatter\", \"x\": [0.0, 0.5, 1.0, 1.5, 2.0, 2.5, 3.0, 4.0, 4.5, 5.0, 6.0, 7.0, 7.5, 8.0, 8.548497267759563, 9.0, 10.0, 11.0, 12.0, 13.0, 14.0, 15.0, 16.0, 17.0, 18.0, 19.0, 20.0, 21.0, 25.0, 30.0, 38.0], \"xaxis\": \"x\", \"y\": [50000.0, 46000.0, 46000.0, 58000.0, 50000.0, 50000.0, 55555.0, 60000.0, 39150.0, 60000.0, 64000.0, 68000.0, 65000.0, 70000.0, 68381.76533333333, 70000.0, 70000.0, 71000.0, 71000.0, 73500.0, 71500.0, 68000.0, 90500.0, 80000.0, 72500.0, 84000.0, 80000.0, 90000.0, 109000.0, 64000.0, 58000.0], \"yaxis\": \"y\"}, {\"hoverlabel\": {\"namelength\": 0}, \"hovertemplate\": \"<b>%{hovertext}</b><br><br>Year=2019<br>Years of experience=%{x}<br>Current Salary=%{y}\", \"hovertext\": [2019.0, 2019.0, 2019.0, 2019.0, 2019.0, 2019.0, 2019.0, 2019.0, 2019.0, 2019.0, 2019.0, 2019.0, 2019.0, 2019.0, 2019.0, 2019.0, 2019.0, 2019.0, 2019.0, 2019.0, 2019.0, 2019.0, 2019.0, 2019.0, 2019.0, 2019.0], \"legendgroup\": \"Year=2019\", \"line\": {\"color\": \"#EF553B\", \"dash\": \"solid\"}, \"mode\": \"lines\", \"name\": \"Year=2019\", \"showlegend\": true, \"type\": \"scatter\", \"x\": [0.0, 1.0, 2.0, 3.0, 4.0, 5.0, 6.0, 7.0, 8.0, 9.0, 10.0, 11.0, 12.0, 13.0, 14.0, 15.0, 16.0, 17.0, 18.0, 19.0, 20.0, 22.0, 24.0, 25.0, 28.0, 30.0], \"xaxis\": \"x\", \"y\": [55000.0, 46800.0, 52500.0, 55000.0, 62000.0, 65000.0, 68000.0, 67000.0, 74500.0, 74500.0, 76500.0, 76500.0, 77700.0, 70000.0, 80000.0, 75000.0, 72000.0, 75000.0, 82500.0, 73000.0, 78000.0, 100500.0, 115000.0, 79800.0, 110000.0, 60000.0], \"yaxis\": \"y\"}, {\"hoverlabel\": {\"namelength\": 0}, \"hovertemplate\": \"<b>%{hovertext}</b><br><br>Year=2020<br>Years of experience=%{x}<br>Current Salary=%{y}\", \"hovertext\": [2020.0, 2020.0, 2020.0, 2020.0, 2020.0, 2020.0, 2020.0, 2020.0, 2020.0, 2020.0, 2020.0, 2020.0, 2020.0, 2020.0, 2020.0, 2020.0, 2020.0, 2020.0, 2020.0, 2020.0, 2020.0, 2020.0, 2020.0, 2020.0, 2020.0, 2020.0], \"legendgroup\": \"Year=2020\", \"line\": {\"color\": \"#00cc96\", \"dash\": \"solid\"}, \"mode\": \"lines\", \"name\": \"Year=2020\", \"showlegend\": true, \"type\": \"scatter\", \"x\": [0.0, 1.0, 2.0, 3.0, 4.0, 5.0, 6.0, 7.0, 8.0, 9.0, 10.0, 11.0, 12.0, 13.0, 14.0, 15.0, 16.0, 17.0, 18.0, 19.0, 20.0, 22.0, 24.0, 25.0, 28.0, 30.0], \"xaxis\": \"x\", \"y\": [55000.0, 46800.0, 52500.0, 55000.0, 62000.0, 65000.0, 68000.0, 67000.0, 74500.0, 74500.0, 76500.0, 76500.0, 77700.0, 70000.0, 80000.0, 75000.0, 72000.0, 75000.0, 82500.0, 73000.0, 78000.0, 100500.0, 115000.0, 79800.0, 110000.0, 60000.0], \"yaxis\": \"y\"}],\n",
              "                        {\"legend\": {\"tracegroupgap\": 0}, \"template\": {\"data\": {\"bar\": [{\"error_x\": {\"color\": \"#2a3f5f\"}, \"error_y\": {\"color\": \"#2a3f5f\"}, \"marker\": {\"line\": {\"color\": \"#E5ECF6\", \"width\": 0.5}}, \"type\": \"bar\"}], \"barpolar\": [{\"marker\": {\"line\": {\"color\": \"#E5ECF6\", \"width\": 0.5}}, \"type\": \"barpolar\"}], \"carpet\": [{\"aaxis\": {\"endlinecolor\": \"#2a3f5f\", \"gridcolor\": \"white\", \"linecolor\": \"white\", \"minorgridcolor\": \"white\", \"startlinecolor\": \"#2a3f5f\"}, \"baxis\": {\"endlinecolor\": \"#2a3f5f\", \"gridcolor\": \"white\", \"linecolor\": \"white\", \"minorgridcolor\": \"white\", \"startlinecolor\": \"#2a3f5f\"}, \"type\": \"carpet\"}], \"choropleth\": [{\"colorbar\": {\"outlinewidth\": 0, \"ticks\": \"\"}, \"type\": \"choropleth\"}], \"contour\": [{\"colorbar\": {\"outlinewidth\": 0, \"ticks\": \"\"}, \"colorscale\": [[0.0, \"#0d0887\"], [0.1111111111111111, \"#46039f\"], [0.2222222222222222, \"#7201a8\"], [0.3333333333333333, \"#9c179e\"], [0.4444444444444444, \"#bd3786\"], [0.5555555555555556, \"#d8576b\"], [0.6666666666666666, \"#ed7953\"], [0.7777777777777778, \"#fb9f3a\"], [0.8888888888888888, \"#fdca26\"], [1.0, \"#f0f921\"]], \"type\": \"contour\"}], \"contourcarpet\": [{\"colorbar\": {\"outlinewidth\": 0, \"ticks\": \"\"}, \"type\": \"contourcarpet\"}], \"heatmap\": [{\"colorbar\": {\"outlinewidth\": 0, \"ticks\": \"\"}, \"colorscale\": [[0.0, \"#0d0887\"], [0.1111111111111111, \"#46039f\"], [0.2222222222222222, \"#7201a8\"], [0.3333333333333333, \"#9c179e\"], [0.4444444444444444, \"#bd3786\"], [0.5555555555555556, \"#d8576b\"], [0.6666666666666666, \"#ed7953\"], [0.7777777777777778, \"#fb9f3a\"], [0.8888888888888888, \"#fdca26\"], [1.0, \"#f0f921\"]], \"type\": \"heatmap\"}], \"heatmapgl\": [{\"colorbar\": {\"outlinewidth\": 0, \"ticks\": \"\"}, \"colorscale\": [[0.0, \"#0d0887\"], [0.1111111111111111, \"#46039f\"], [0.2222222222222222, \"#7201a8\"], [0.3333333333333333, \"#9c179e\"], [0.4444444444444444, \"#bd3786\"], [0.5555555555555556, \"#d8576b\"], [0.6666666666666666, \"#ed7953\"], [0.7777777777777778, \"#fb9f3a\"], [0.8888888888888888, \"#fdca26\"], [1.0, \"#f0f921\"]], \"type\": \"heatmapgl\"}], \"histogram\": [{\"marker\": {\"colorbar\": {\"outlinewidth\": 0, \"ticks\": \"\"}}, \"type\": \"histogram\"}], \"histogram2d\": [{\"colorbar\": {\"outlinewidth\": 0, \"ticks\": \"\"}, \"colorscale\": [[0.0, \"#0d0887\"], [0.1111111111111111, \"#46039f\"], [0.2222222222222222, \"#7201a8\"], [0.3333333333333333, \"#9c179e\"], [0.4444444444444444, \"#bd3786\"], [0.5555555555555556, \"#d8576b\"], [0.6666666666666666, \"#ed7953\"], [0.7777777777777778, \"#fb9f3a\"], [0.8888888888888888, \"#fdca26\"], [1.0, \"#f0f921\"]], \"type\": \"histogram2d\"}], \"histogram2dcontour\": [{\"colorbar\": {\"outlinewidth\": 0, \"ticks\": \"\"}, \"colorscale\": [[0.0, \"#0d0887\"], [0.1111111111111111, \"#46039f\"], [0.2222222222222222, \"#7201a8\"], [0.3333333333333333, \"#9c179e\"], [0.4444444444444444, \"#bd3786\"], [0.5555555555555556, \"#d8576b\"], [0.6666666666666666, \"#ed7953\"], [0.7777777777777778, \"#fb9f3a\"], [0.8888888888888888, \"#fdca26\"], [1.0, \"#f0f921\"]], \"type\": \"histogram2dcontour\"}], \"mesh3d\": [{\"colorbar\": {\"outlinewidth\": 0, \"ticks\": \"\"}, \"type\": \"mesh3d\"}], \"parcoords\": [{\"line\": {\"colorbar\": {\"outlinewidth\": 0, \"ticks\": \"\"}}, \"type\": \"parcoords\"}], \"pie\": [{\"automargin\": true, \"type\": \"pie\"}], \"scatter\": [{\"marker\": {\"colorbar\": {\"outlinewidth\": 0, \"ticks\": \"\"}}, \"type\": \"scatter\"}], \"scatter3d\": [{\"line\": {\"colorbar\": {\"outlinewidth\": 0, \"ticks\": \"\"}}, \"marker\": {\"colorbar\": {\"outlinewidth\": 0, \"ticks\": \"\"}}, \"type\": \"scatter3d\"}], \"scattercarpet\": [{\"marker\": {\"colorbar\": {\"outlinewidth\": 0, \"ticks\": \"\"}}, \"type\": \"scattercarpet\"}], \"scattergeo\": [{\"marker\": {\"colorbar\": {\"outlinewidth\": 0, \"ticks\": \"\"}}, \"type\": \"scattergeo\"}], \"scattergl\": [{\"marker\": {\"colorbar\": {\"outlinewidth\": 0, \"ticks\": \"\"}}, \"type\": \"scattergl\"}], \"scattermapbox\": [{\"marker\": {\"colorbar\": {\"outlinewidth\": 0, \"ticks\": \"\"}}, \"type\": \"scattermapbox\"}], \"scatterpolar\": [{\"marker\": {\"colorbar\": {\"outlinewidth\": 0, \"ticks\": \"\"}}, \"type\": \"scatterpolar\"}], \"scatterpolargl\": [{\"marker\": {\"colorbar\": {\"outlinewidth\": 0, \"ticks\": \"\"}}, \"type\": \"scatterpolargl\"}], \"scatterternary\": [{\"marker\": {\"colorbar\": {\"outlinewidth\": 0, \"ticks\": \"\"}}, \"type\": \"scatterternary\"}], \"surface\": [{\"colorbar\": {\"outlinewidth\": 0, \"ticks\": \"\"}, \"colorscale\": [[0.0, \"#0d0887\"], [0.1111111111111111, \"#46039f\"], [0.2222222222222222, \"#7201a8\"], [0.3333333333333333, \"#9c179e\"], [0.4444444444444444, \"#bd3786\"], [0.5555555555555556, \"#d8576b\"], [0.6666666666666666, \"#ed7953\"], [0.7777777777777778, \"#fb9f3a\"], [0.8888888888888888, \"#fdca26\"], [1.0, \"#f0f921\"]], \"type\": \"surface\"}], \"table\": [{\"cells\": {\"fill\": {\"color\": \"#EBF0F8\"}, \"line\": {\"color\": \"white\"}}, \"header\": {\"fill\": {\"color\": \"#C8D4E3\"}, \"line\": {\"color\": \"white\"}}, \"type\": \"table\"}]}, \"layout\": {\"annotationdefaults\": {\"arrowcolor\": \"#2a3f5f\", \"arrowhead\": 0, \"arrowwidth\": 1}, \"coloraxis\": {\"colorbar\": {\"outlinewidth\": 0, \"ticks\": \"\"}}, \"colorscale\": {\"diverging\": [[0, \"#8e0152\"], [0.1, \"#c51b7d\"], [0.2, \"#de77ae\"], [0.3, \"#f1b6da\"], [0.4, \"#fde0ef\"], [0.5, \"#f7f7f7\"], [0.6, \"#e6f5d0\"], [0.7, \"#b8e186\"], [0.8, \"#7fbc41\"], [0.9, \"#4d9221\"], [1, \"#276419\"]], \"sequential\": [[0.0, \"#0d0887\"], [0.1111111111111111, \"#46039f\"], [0.2222222222222222, \"#7201a8\"], [0.3333333333333333, \"#9c179e\"], [0.4444444444444444, \"#bd3786\"], [0.5555555555555556, \"#d8576b\"], [0.6666666666666666, \"#ed7953\"], [0.7777777777777778, \"#fb9f3a\"], [0.8888888888888888, \"#fdca26\"], [1.0, \"#f0f921\"]], \"sequentialminus\": [[0.0, \"#0d0887\"], [0.1111111111111111, \"#46039f\"], [0.2222222222222222, \"#7201a8\"], [0.3333333333333333, \"#9c179e\"], [0.4444444444444444, \"#bd3786\"], [0.5555555555555556, \"#d8576b\"], [0.6666666666666666, \"#ed7953\"], [0.7777777777777778, \"#fb9f3a\"], [0.8888888888888888, \"#fdca26\"], [1.0, \"#f0f921\"]]}, \"colorway\": [\"#636efa\", \"#EF553B\", \"#00cc96\", \"#ab63fa\", \"#FFA15A\", \"#19d3f3\", \"#FF6692\", \"#B6E880\", \"#FF97FF\", \"#FECB52\"], \"font\": {\"color\": \"#2a3f5f\"}, \"geo\": {\"bgcolor\": \"white\", \"lakecolor\": \"white\", \"landcolor\": \"#E5ECF6\", \"showlakes\": true, \"showland\": true, \"subunitcolor\": \"white\"}, \"hoverlabel\": {\"align\": \"left\"}, \"hovermode\": \"closest\", \"mapbox\": {\"style\": \"light\"}, \"paper_bgcolor\": \"white\", \"plot_bgcolor\": \"#E5ECF6\", \"polar\": {\"angularaxis\": {\"gridcolor\": \"white\", \"linecolor\": \"white\", \"ticks\": \"\"}, \"bgcolor\": \"#E5ECF6\", \"radialaxis\": {\"gridcolor\": \"white\", \"linecolor\": \"white\", \"ticks\": \"\"}}, \"scene\": {\"xaxis\": {\"backgroundcolor\": \"#E5ECF6\", \"gridcolor\": \"white\", \"gridwidth\": 2, \"linecolor\": \"white\", \"showbackground\": true, \"ticks\": \"\", \"zerolinecolor\": \"white\"}, \"yaxis\": {\"backgroundcolor\": \"#E5ECF6\", \"gridcolor\": \"white\", \"gridwidth\": 2, \"linecolor\": \"white\", \"showbackground\": true, \"ticks\": \"\", \"zerolinecolor\": \"white\"}, \"zaxis\": {\"backgroundcolor\": \"#E5ECF6\", \"gridcolor\": \"white\", \"gridwidth\": 2, \"linecolor\": \"white\", \"showbackground\": true, \"ticks\": \"\", \"zerolinecolor\": \"white\"}}, \"shapedefaults\": {\"line\": {\"color\": \"#2a3f5f\"}}, \"ternary\": {\"aaxis\": {\"gridcolor\": \"white\", \"linecolor\": \"white\", \"ticks\": \"\"}, \"baxis\": {\"gridcolor\": \"white\", \"linecolor\": \"white\", \"ticks\": \"\"}, \"bgcolor\": \"#E5ECF6\", \"caxis\": {\"gridcolor\": \"white\", \"linecolor\": \"white\", \"ticks\": \"\"}}, \"title\": {\"x\": 0.05}, \"xaxis\": {\"automargin\": true, \"gridcolor\": \"white\", \"linecolor\": \"white\", \"ticks\": \"\", \"title\": {\"standoff\": 15}, \"zerolinecolor\": \"white\", \"zerolinewidth\": 2}, \"yaxis\": {\"automargin\": true, \"gridcolor\": \"white\", \"linecolor\": \"white\", \"ticks\": \"\", \"title\": {\"standoff\": 15}, \"zerolinecolor\": \"white\", \"zerolinewidth\": 2}}}, \"title\": {\"text\": \"Experience Vs Salary\"}, \"xaxis\": {\"anchor\": \"y\", \"domain\": [0.0, 1.0], \"title\": {\"text\": \"Years of experience\"}}, \"yaxis\": {\"anchor\": \"x\", \"domain\": [0.0, 1.0], \"title\": {\"text\": \"Current Salary\"}}},\n",
              "                        {\"responsive\": true}\n",
              "                    ).then(function(){\n",
              "                            \n",
              "var gd = document.getElementById('2b525085-6ff2-4d36-9a21-bd123bc92130');\n",
              "var x = new MutationObserver(function (mutations, observer) {{\n",
              "        var display = window.getComputedStyle(gd).display;\n",
              "        if (!display || display === 'none') {{\n",
              "            console.log([gd, 'removed!']);\n",
              "            Plotly.purge(gd);\n",
              "            observer.disconnect();\n",
              "        }}\n",
              "}});\n",
              "\n",
              "// Listen for the removal of the full notebook cells\n",
              "var notebookContainer = gd.closest('#notebook-container');\n",
              "if (notebookContainer) {{\n",
              "    x.observe(notebookContainer, {childList: true});\n",
              "}}\n",
              "\n",
              "// Listen for the clearing of the current output cell\n",
              "var outputEl = gd.closest('.output');\n",
              "if (outputEl) {{\n",
              "    x.observe(outputEl, {childList: true});\n",
              "}}\n",
              "\n",
              "                        })\n",
              "                };\n",
              "                \n",
              "            </script>\n",
              "        </div>\n",
              "</body>\n",
              "</html>"
            ]
          },
          "metadata": {
            "tags": []
          }
        }
      ]
    },
    {
      "cell_type": "markdown",
      "metadata": {
        "id": "hEbOu7EwzPYY"
      },
      "source": [
        "**# analyse the popularity of the main technology/ programming languages amongst the respondents**"
      ]
    },
    {
      "cell_type": "code",
      "metadata": {
        "colab": {
          "base_uri": "https://localhost:8080/",
          "height": 542
        },
        "id": "pRjcE4P8whlj",
        "outputId": "afdbea31-9810-49e8-ebb1-3f8cc5f0ec73"
      },
      "source": [
        "df = data_20['Your main technology / programming language'].value_counts().reset_index()\n",
        "df.columns = ['language', 'count']\n",
        "df = df[df['count'] >= 4]\n",
        "# df\n",
        "fig = px.bar(df, x='language', y='count',title=\"Which technology is the most popular?\")\n",
        "fig.update_traces(texttemplate='%{text:.2s}', textposition='outside')\n",
        "fig.show()"
      ],
      "execution_count": null,
      "outputs": [
        {
          "output_type": "display_data",
          "data": {
            "text/html": [
              "<html>\n",
              "<head><meta charset=\"utf-8\" /></head>\n",
              "<body>\n",
              "    <div>\n",
              "            <script src=\"https://cdnjs.cloudflare.com/ajax/libs/mathjax/2.7.5/MathJax.js?config=TeX-AMS-MML_SVG\"></script><script type=\"text/javascript\">if (window.MathJax) {MathJax.Hub.Config({SVG: {font: \"STIX-Web\"}});}</script>\n",
              "                <script type=\"text/javascript\">window.PlotlyConfig = {MathJaxConfig: 'local'};</script>\n",
              "        <script src=\"https://cdn.plot.ly/plotly-latest.min.js\"></script>    \n",
              "            <div id=\"972a9f08-6922-494b-9042-aebe3b4b0de5\" class=\"plotly-graph-div\" style=\"height:525px; width:100%;\"></div>\n",
              "            <script type=\"text/javascript\">\n",
              "                \n",
              "                    window.PLOTLYENV=window.PLOTLYENV || {};\n",
              "                    \n",
              "                if (document.getElementById(\"972a9f08-6922-494b-9042-aebe3b4b0de5\")) {\n",
              "                    Plotly.newPlot(\n",
              "                        '972a9f08-6922-494b-9042-aebe3b4b0de5',\n",
              "                        [{\"alignmentgroup\": \"True\", \"hoverlabel\": {\"namelength\": 0}, \"hovertemplate\": \"language=%{x}<br>count=%{y}\", \"legendgroup\": \"\", \"marker\": {\"color\": \"#636efa\"}, \"name\": \"\", \"offsetgroup\": \"\", \"orientation\": \"v\", \"showlegend\": false, \"textposition\": \"outside\", \"texttemplate\": \"%{text:.2s}\", \"type\": \"bar\", \"x\": [\"Java\", \"Python\", \"PHP\", \"C++\", \"JavaScript\", \"Javascript\", \"C#\", \"Scala\", \"Swift\", \"Go\", \"Kotlin\", \"Python \", \"Ruby\", \"SQL\", \"TypeScript\", \".NET\", \"JS\", \"C\", \"iOS\", \"java\", \"R\", \"Typescript\", \"javascript\", \"Android\", \"php\", \"Kubernetes\", \".net\", \"JavaScript \", \"Javascript / Typescript\", \"ABAP\", \"Elixir\", \"Php\", \"QA\", \"AWS\"], \"xaxis\": \"x\", \"y\": [311, 190, 56, 38, 34, 31, 30, 24, 24, 23, 22, 22, 19, 14, 14, 13, 12, 10, 10, 9, 9, 8, 8, 8, 8, 7, 7, 6, 6, 5, 5, 5, 4, 4], \"yaxis\": \"y\"}],\n",
              "                        {\"barmode\": \"relative\", \"legend\": {\"tracegroupgap\": 0}, \"template\": {\"data\": {\"bar\": [{\"error_x\": {\"color\": \"#2a3f5f\"}, \"error_y\": {\"color\": \"#2a3f5f\"}, \"marker\": {\"line\": {\"color\": \"#E5ECF6\", \"width\": 0.5}}, \"type\": \"bar\"}], \"barpolar\": [{\"marker\": {\"line\": {\"color\": \"#E5ECF6\", \"width\": 0.5}}, \"type\": \"barpolar\"}], \"carpet\": [{\"aaxis\": {\"endlinecolor\": \"#2a3f5f\", \"gridcolor\": \"white\", \"linecolor\": \"white\", \"minorgridcolor\": \"white\", \"startlinecolor\": \"#2a3f5f\"}, \"baxis\": {\"endlinecolor\": \"#2a3f5f\", \"gridcolor\": \"white\", \"linecolor\": \"white\", \"minorgridcolor\": \"white\", \"startlinecolor\": \"#2a3f5f\"}, \"type\": \"carpet\"}], \"choropleth\": [{\"colorbar\": {\"outlinewidth\": 0, \"ticks\": \"\"}, \"type\": \"choropleth\"}], \"contour\": [{\"colorbar\": {\"outlinewidth\": 0, \"ticks\": \"\"}, \"colorscale\": [[0.0, \"#0d0887\"], [0.1111111111111111, \"#46039f\"], [0.2222222222222222, \"#7201a8\"], [0.3333333333333333, \"#9c179e\"], [0.4444444444444444, \"#bd3786\"], [0.5555555555555556, \"#d8576b\"], [0.6666666666666666, \"#ed7953\"], [0.7777777777777778, \"#fb9f3a\"], [0.8888888888888888, \"#fdca26\"], [1.0, \"#f0f921\"]], \"type\": \"contour\"}], \"contourcarpet\": [{\"colorbar\": {\"outlinewidth\": 0, \"ticks\": \"\"}, \"type\": \"contourcarpet\"}], \"heatmap\": [{\"colorbar\": {\"outlinewidth\": 0, \"ticks\": \"\"}, \"colorscale\": [[0.0, \"#0d0887\"], [0.1111111111111111, \"#46039f\"], [0.2222222222222222, \"#7201a8\"], [0.3333333333333333, \"#9c179e\"], [0.4444444444444444, \"#bd3786\"], [0.5555555555555556, \"#d8576b\"], [0.6666666666666666, \"#ed7953\"], [0.7777777777777778, \"#fb9f3a\"], [0.8888888888888888, \"#fdca26\"], [1.0, \"#f0f921\"]], \"type\": \"heatmap\"}], \"heatmapgl\": [{\"colorbar\": {\"outlinewidth\": 0, \"ticks\": \"\"}, \"colorscale\": [[0.0, \"#0d0887\"], [0.1111111111111111, \"#46039f\"], [0.2222222222222222, \"#7201a8\"], [0.3333333333333333, \"#9c179e\"], [0.4444444444444444, \"#bd3786\"], [0.5555555555555556, \"#d8576b\"], [0.6666666666666666, \"#ed7953\"], [0.7777777777777778, \"#fb9f3a\"], [0.8888888888888888, \"#fdca26\"], [1.0, \"#f0f921\"]], \"type\": \"heatmapgl\"}], \"histogram\": [{\"marker\": {\"colorbar\": {\"outlinewidth\": 0, \"ticks\": \"\"}}, \"type\": \"histogram\"}], \"histogram2d\": [{\"colorbar\": {\"outlinewidth\": 0, \"ticks\": \"\"}, \"colorscale\": [[0.0, \"#0d0887\"], [0.1111111111111111, \"#46039f\"], [0.2222222222222222, \"#7201a8\"], [0.3333333333333333, \"#9c179e\"], [0.4444444444444444, \"#bd3786\"], [0.5555555555555556, \"#d8576b\"], [0.6666666666666666, \"#ed7953\"], [0.7777777777777778, \"#fb9f3a\"], [0.8888888888888888, \"#fdca26\"], [1.0, \"#f0f921\"]], \"type\": \"histogram2d\"}], \"histogram2dcontour\": [{\"colorbar\": {\"outlinewidth\": 0, \"ticks\": \"\"}, \"colorscale\": [[0.0, \"#0d0887\"], [0.1111111111111111, \"#46039f\"], [0.2222222222222222, \"#7201a8\"], [0.3333333333333333, \"#9c179e\"], [0.4444444444444444, \"#bd3786\"], [0.5555555555555556, \"#d8576b\"], [0.6666666666666666, \"#ed7953\"], [0.7777777777777778, \"#fb9f3a\"], [0.8888888888888888, \"#fdca26\"], [1.0, \"#f0f921\"]], \"type\": \"histogram2dcontour\"}], \"mesh3d\": [{\"colorbar\": {\"outlinewidth\": 0, \"ticks\": \"\"}, \"type\": \"mesh3d\"}], \"parcoords\": [{\"line\": {\"colorbar\": {\"outlinewidth\": 0, \"ticks\": \"\"}}, \"type\": \"parcoords\"}], \"pie\": [{\"automargin\": true, \"type\": \"pie\"}], \"scatter\": [{\"marker\": {\"colorbar\": {\"outlinewidth\": 0, \"ticks\": \"\"}}, \"type\": \"scatter\"}], \"scatter3d\": [{\"line\": {\"colorbar\": {\"outlinewidth\": 0, \"ticks\": \"\"}}, \"marker\": {\"colorbar\": {\"outlinewidth\": 0, \"ticks\": \"\"}}, \"type\": \"scatter3d\"}], \"scattercarpet\": [{\"marker\": {\"colorbar\": {\"outlinewidth\": 0, \"ticks\": \"\"}}, \"type\": \"scattercarpet\"}], \"scattergeo\": [{\"marker\": {\"colorbar\": {\"outlinewidth\": 0, \"ticks\": \"\"}}, \"type\": \"scattergeo\"}], \"scattergl\": [{\"marker\": {\"colorbar\": {\"outlinewidth\": 0, \"ticks\": \"\"}}, \"type\": \"scattergl\"}], \"scattermapbox\": [{\"marker\": {\"colorbar\": {\"outlinewidth\": 0, \"ticks\": \"\"}}, \"type\": \"scattermapbox\"}], \"scatterpolar\": [{\"marker\": {\"colorbar\": {\"outlinewidth\": 0, \"ticks\": \"\"}}, \"type\": \"scatterpolar\"}], \"scatterpolargl\": [{\"marker\": {\"colorbar\": {\"outlinewidth\": 0, \"ticks\": \"\"}}, \"type\": \"scatterpolargl\"}], \"scatterternary\": [{\"marker\": {\"colorbar\": {\"outlinewidth\": 0, \"ticks\": \"\"}}, \"type\": \"scatterternary\"}], \"surface\": [{\"colorbar\": {\"outlinewidth\": 0, \"ticks\": \"\"}, \"colorscale\": [[0.0, \"#0d0887\"], [0.1111111111111111, \"#46039f\"], [0.2222222222222222, \"#7201a8\"], [0.3333333333333333, \"#9c179e\"], [0.4444444444444444, \"#bd3786\"], [0.5555555555555556, \"#d8576b\"], [0.6666666666666666, \"#ed7953\"], [0.7777777777777778, \"#fb9f3a\"], [0.8888888888888888, \"#fdca26\"], [1.0, \"#f0f921\"]], \"type\": \"surface\"}], \"table\": [{\"cells\": {\"fill\": {\"color\": \"#EBF0F8\"}, \"line\": {\"color\": \"white\"}}, \"header\": {\"fill\": {\"color\": \"#C8D4E3\"}, \"line\": {\"color\": \"white\"}}, \"type\": \"table\"}]}, \"layout\": {\"annotationdefaults\": {\"arrowcolor\": \"#2a3f5f\", \"arrowhead\": 0, \"arrowwidth\": 1}, \"coloraxis\": {\"colorbar\": {\"outlinewidth\": 0, \"ticks\": \"\"}}, \"colorscale\": {\"diverging\": [[0, \"#8e0152\"], [0.1, \"#c51b7d\"], [0.2, \"#de77ae\"], [0.3, \"#f1b6da\"], [0.4, \"#fde0ef\"], [0.5, \"#f7f7f7\"], [0.6, \"#e6f5d0\"], [0.7, \"#b8e186\"], [0.8, \"#7fbc41\"], [0.9, \"#4d9221\"], [1, \"#276419\"]], \"sequential\": [[0.0, \"#0d0887\"], [0.1111111111111111, \"#46039f\"], [0.2222222222222222, \"#7201a8\"], [0.3333333333333333, \"#9c179e\"], [0.4444444444444444, \"#bd3786\"], [0.5555555555555556, \"#d8576b\"], [0.6666666666666666, \"#ed7953\"], [0.7777777777777778, \"#fb9f3a\"], [0.8888888888888888, \"#fdca26\"], [1.0, \"#f0f921\"]], \"sequentialminus\": [[0.0, \"#0d0887\"], [0.1111111111111111, \"#46039f\"], [0.2222222222222222, \"#7201a8\"], [0.3333333333333333, \"#9c179e\"], [0.4444444444444444, \"#bd3786\"], [0.5555555555555556, \"#d8576b\"], [0.6666666666666666, \"#ed7953\"], [0.7777777777777778, \"#fb9f3a\"], [0.8888888888888888, \"#fdca26\"], [1.0, \"#f0f921\"]]}, \"colorway\": [\"#636efa\", \"#EF553B\", \"#00cc96\", \"#ab63fa\", \"#FFA15A\", \"#19d3f3\", \"#FF6692\", \"#B6E880\", \"#FF97FF\", \"#FECB52\"], \"font\": {\"color\": \"#2a3f5f\"}, \"geo\": {\"bgcolor\": \"white\", \"lakecolor\": \"white\", \"landcolor\": \"#E5ECF6\", \"showlakes\": true, \"showland\": true, \"subunitcolor\": \"white\"}, \"hoverlabel\": {\"align\": \"left\"}, \"hovermode\": \"closest\", \"mapbox\": {\"style\": \"light\"}, \"paper_bgcolor\": \"white\", \"plot_bgcolor\": \"#E5ECF6\", \"polar\": {\"angularaxis\": {\"gridcolor\": \"white\", \"linecolor\": \"white\", \"ticks\": \"\"}, \"bgcolor\": \"#E5ECF6\", \"radialaxis\": {\"gridcolor\": \"white\", \"linecolor\": \"white\", \"ticks\": \"\"}}, \"scene\": {\"xaxis\": {\"backgroundcolor\": \"#E5ECF6\", \"gridcolor\": \"white\", \"gridwidth\": 2, \"linecolor\": \"white\", \"showbackground\": true, \"ticks\": \"\", \"zerolinecolor\": \"white\"}, \"yaxis\": {\"backgroundcolor\": \"#E5ECF6\", \"gridcolor\": \"white\", \"gridwidth\": 2, \"linecolor\": \"white\", \"showbackground\": true, \"ticks\": \"\", \"zerolinecolor\": \"white\"}, \"zaxis\": {\"backgroundcolor\": \"#E5ECF6\", \"gridcolor\": \"white\", \"gridwidth\": 2, \"linecolor\": \"white\", \"showbackground\": true, \"ticks\": \"\", \"zerolinecolor\": \"white\"}}, \"shapedefaults\": {\"line\": {\"color\": \"#2a3f5f\"}}, \"ternary\": {\"aaxis\": {\"gridcolor\": \"white\", \"linecolor\": \"white\", \"ticks\": \"\"}, \"baxis\": {\"gridcolor\": \"white\", \"linecolor\": \"white\", \"ticks\": \"\"}, \"bgcolor\": \"#E5ECF6\", \"caxis\": {\"gridcolor\": \"white\", \"linecolor\": \"white\", \"ticks\": \"\"}}, \"title\": {\"x\": 0.05}, \"xaxis\": {\"automargin\": true, \"gridcolor\": \"white\", \"linecolor\": \"white\", \"ticks\": \"\", \"title\": {\"standoff\": 15}, \"zerolinecolor\": \"white\", \"zerolinewidth\": 2}, \"yaxis\": {\"automargin\": true, \"gridcolor\": \"white\", \"linecolor\": \"white\", \"ticks\": \"\", \"title\": {\"standoff\": 15}, \"zerolinecolor\": \"white\", \"zerolinewidth\": 2}}}, \"title\": {\"text\": \"Which technology is the most popular?\"}, \"xaxis\": {\"anchor\": \"y\", \"domain\": [0.0, 1.0], \"title\": {\"text\": \"language\"}}, \"yaxis\": {\"anchor\": \"x\", \"domain\": [0.0, 1.0], \"title\": {\"text\": \"count\"}}},\n",
              "                        {\"responsive\": true}\n",
              "                    ).then(function(){\n",
              "                            \n",
              "var gd = document.getElementById('972a9f08-6922-494b-9042-aebe3b4b0de5');\n",
              "var x = new MutationObserver(function (mutations, observer) {{\n",
              "        var display = window.getComputedStyle(gd).display;\n",
              "        if (!display || display === 'none') {{\n",
              "            console.log([gd, 'removed!']);\n",
              "            Plotly.purge(gd);\n",
              "            observer.disconnect();\n",
              "        }}\n",
              "}});\n",
              "\n",
              "// Listen for the removal of the full notebook cells\n",
              "var notebookContainer = gd.closest('#notebook-container');\n",
              "if (notebookContainer) {{\n",
              "    x.observe(notebookContainer, {childList: true});\n",
              "}}\n",
              "\n",
              "// Listen for the clearing of the current output cell\n",
              "var outputEl = gd.closest('.output');\n",
              "if (outputEl) {{\n",
              "    x.observe(outputEl, {childList: true});\n",
              "}}\n",
              "\n",
              "                        })\n",
              "                };\n",
              "                \n",
              "            </script>\n",
              "        </div>\n",
              "</body>\n",
              "</html>"
            ]
          },
          "metadata": {
            "tags": []
          }
        }
      ]
    },
    {
      "cell_type": "markdown",
      "metadata": {
        "id": "DTSdFqV7zTp1"
      },
      "source": [
        "**# Create a pie plot indicating the gender ratio of the respondents in the year 2020.**\n"
      ]
    },
    {
      "cell_type": "code",
      "metadata": {
        "colab": {
          "base_uri": "https://localhost:8080/",
          "height": 542
        },
        "id": "l8t7CwppyjBw",
        "outputId": "ed0e26a4-a207-4181-e81e-055a1e5ba17a"
      },
      "source": [
        "# Create a pie plot indicating the gender ratio of the respondents in the year 2020.\n",
        "fig = px.pie(data_20, names='Gender', hole=0.3)\n",
        "fig.update_traces(textinfo=\"label+percent\", insidetextfont= dict(color=\"white\"))\n",
        "# fig.update_layout(legend = {\"itemclick\": False})\n",
        "fig.show()"
      ],
      "execution_count": null,
      "outputs": [
        {
          "output_type": "display_data",
          "data": {
            "text/html": [
              "<html>\n",
              "<head><meta charset=\"utf-8\" /></head>\n",
              "<body>\n",
              "    <div>\n",
              "            <script src=\"https://cdnjs.cloudflare.com/ajax/libs/mathjax/2.7.5/MathJax.js?config=TeX-AMS-MML_SVG\"></script><script type=\"text/javascript\">if (window.MathJax) {MathJax.Hub.Config({SVG: {font: \"STIX-Web\"}});}</script>\n",
              "                <script type=\"text/javascript\">window.PlotlyConfig = {MathJaxConfig: 'local'};</script>\n",
              "        <script src=\"https://cdn.plot.ly/plotly-latest.min.js\"></script>    \n",
              "            <div id=\"23830303-0163-4c02-aa40-f9325804613e\" class=\"plotly-graph-div\" style=\"height:525px; width:100%;\"></div>\n",
              "            <script type=\"text/javascript\">\n",
              "                \n",
              "                    window.PLOTLYENV=window.PLOTLYENV || {};\n",
              "                    \n",
              "                if (document.getElementById(\"23830303-0163-4c02-aa40-f9325804613e\")) {\n",
              "                    Plotly.newPlot(\n",
              "                        '23830303-0163-4c02-aa40-f9325804613e',\n",
              "                        [{\"domain\": {\"x\": [0.0, 1.0], \"y\": [0.0, 1.0]}, \"hole\": 0.3, \"hoverlabel\": {\"namelength\": 0}, \"hovertemplate\": \"Gender=%{label}\", \"insidetextfont\": {\"color\": \"white\"}, \"labels\": [\"Male\", \"Male\", \"Male\", \"Male\", \"Male\", \"Male\", \"Male\", \"Male\", \"Male\", \"Male\", \"Female\", \"Male\", \"Male\", \"Male\", \"Male\", \"Male\", \"Male\", \"Male\", \"Male\", \"Male\", \"Male\", \"Male\", \"Male\", \"Male\", \"Male\", \"Male\", \"Male\", \"Male\", \"Male\", \"Male\", \"Male\", \"Male\", \"Female\", \"Male\", \"Male\", \"Male\", \"Female\", \"Male\", \"Male\", \"Male\", \"Male\", \"Male\", \"Male\", \"Female\", \"Male\", \"Male\", \"Female\", \"Male\", \"Female\", \"Male\", \"Male\", \"Female\", \"Female\", \"Male\", \"Male\", \"Male\", \"Male\", \"Male\", \"Male\", \"Male\", \"Female\", \"Male\", \"Male\", \"Male\", \"Male\", \"Male\", \"Male\", \"Male\", \"Male\", \"Male\", \"Male\", \"Male\", \"Male\", \"Male\", \"Male\", \"Male\", \"Male\", \"Male\", \"Male\", \"Female\", \"Male\", \"Female\", \"Male\", \"Male\", \"Male\", \"Male\", \"Male\", \"Female\", \"Male\", \"Male\", \"Male\", \"Male\", \"Female\", \"Female\", \"Female\", \"Male\", \"Male\", \"Female\", \"Male\", \"Male\", \"Male\", \"Male\", \"Female\", \"Male\", \"Male\", \"Male\", \"Male\", \"Male\", \"Male\", \"Male\", \"Male\", \"Male\", \"Male\", \"Male\", \"Male\", \"Male\", \"Female\", \"Female\", \"Male\", \"Male\", \"Male\", \"Female\", \"Male\", \"Female\", \"Male\", \"Male\", \"Male\", \"Male\", \"Male\", \"Male\", \"Male\", \"Male\", \"Male\", \"Male\", \"Male\", \"Male\", \"Male\", \"Male\", \"Male\", \"Male\", \"Male\", \"Male\", \"Male\", \"Male\", \"Male\", \"Male\", \"Male\", \"Female\", \"Male\", \"Male\", \"Male\", \"Female\", \"Male\", \"Female\", \"Female\", \"Male\", \"Male\", \"Male\", \"Male\", \"Male\", \"Male\", \"Female\", \"Male\", \"Male\", \"Male\", \"Female\", \"Male\", \"Male\", \"Male\", \"Male\", \"Male\", \"Male\", \"Male\", \"Male\", \"Male\", \"Male\", \"Male\", \"Male\", \"Male\", \"Female\", \"Male\", \"Male\", \"Male\", \"Male\", \"Male\", \"Male\", \"Male\", \"Male\", \"Male\", \"Male\", \"Male\", \"Female\", \"Male\", \"Male\", \"Male\", \"Male\", \"Male\", \"Male\", \"Female\", \"Male\", \"Male\", \"Male\", \"Male\", \"Male\", \"Female\", \"Female\", \"Male\", \"Male\", \"Male\", \"Male\", \"Female\", \"Male\", \"Male\", \"Male\", \"Male\", \"Male\", \"Female\", \"Male\", \"Male\", \"Male\", \"Male\", \"Male\", \"Male\", \"Male\", \"Male\", \"Male\", \"Male\", \"Male\", \"Male\", \"Male\", \"Male\", \"Female\", \"Male\", \"Male\", \"Male\", \"Male\", \"Male\", \"Male\", \"Male\", \"Female\", \"Female\", \"Male\", \"Female\", \"Male\", \"Male\", \"Female\", \"Male\", \"Male\", \"Male\", \"Male\", \"Male\", \"Male\", \"Male\", \"Male\", \"Female\", \"Male\", \"Male\", \"Male\", \"Male\", \"Male\", \"Male\", \"Male\", \"Male\", \"Male\", \"Male\", \"Male\", \"Male\", \"Male\", \"Female\", \"Male\", \"Male\", \"Male\", \"Male\", \"Male\", \"Female\", \"Male\", \"Male\", \"Male\", \"Male\", \"Male\", \"Male\", \"Male\", \"Female\", \"Male\", \"Male\", \"Female\", \"Male\", \"Male\", \"Male\", \"Male\", \"Male\", \"Male\", \"Male\", \"Male\", \"Male\", \"Male\", \"Male\", \"Male\", \"Male\", \"Male\", \"Male\", \"Male\", \"Male\", \"Male\", \"Male\", \"Female\", \"Male\", \"Male\", \"Male\", \"Male\", \"Female\", \"Male\", \"Male\", \"Female\", \"Male\", \"Male\", \"Male\", \"Male\", \"Diverse\", \"Male\", \"Male\", \"Male\", \"Male\", \"Male\", \"Female\", \"Male\", \"Male\", \"Male\", \"Male\", \"Male\", \"Male\", \"Male\", \"Male\", \"Male\", \"Male\", \"Male\", \"Male\", \"Male\", \"Male\", \"Male\", \"Male\", \"Male\", \"Male\", \"Male\", \"Male\", \"Male\", \"Male\", \"Male\", \"Male\", \"Male\", \"Male\", \"Male\", \"Male\", \"Male\", \"Male\", \"Male\", \"Female\", \"Male\", \"Male\", \"Male\", \"Male\", \"Male\", \"Male\", \"Male\", \"Male\", \"Male\", \"Male\", \"Male\", \"Male\", \"Male\", \"Male\", \"Female\", \"Male\", \"Female\", \"Male\", \"Male\", \"Male\", \"Male\", \"Male\", \"Male\", \"Male\", \"Male\", \"Male\", \"Male\", \"Male\", \"Male\", \"Male\", \"Male\", \"Male\", \"Male\", \"Male\", \"Male\", \"Male\", \"Male\", \"Male\", \"Male\", \"Male\", \"Male\", \"Female\", \"Male\", \"Male\", \"Male\", \"Female\", \"Male\", \"Female\", \"Male\", \"Male\", \"Male\", \"Male\", \"Male\", \"Male\", \"Male\", \"Female\", \"Male\", \"Male\", \"Male\", \"Male\", \"Male\", \"Male\", \"Female\", \"Female\", \"Male\", \"Male\", \"Male\", \"Male\", \"Male\", \"Female\", \"Female\", \"Female\", \"Male\", \"Female\", \"Male\", \"Male\", \"Male\", \"Male\", \"Male\", \"Male\", \"Male\", \"Male\", \"Male\", \"Male\", \"Male\", \"Male\", \"Male\", \"Male\", \"Male\", \"Female\", \"Male\", \"Female\", \"Male\", \"Male\", \"Female\", \"Female\", \"Male\", \"Male\", \"Male\", \"Male\", \"Male\", \"Male\", \"Male\", \"Male\", \"Female\", \"Male\", \"Female\", \"Male\", \"Male\", \"Male\", \"Male\", \"Female\", \"Male\", \"Male\", \"Male\", \"Female\", \"Male\", \"Male\", \"Male\", \"Male\", \"Male\", \"Female\", \"Male\", \"Male\", \"Male\", \"Male\", \"Male\", \"Male\", \"Male\", \"Female\", \"Male\", \"Male\", \"Male\", \"Male\", \"Male\", \"Male\", \"Male\", \"Male\", \"Male\", \"Male\", \"Male\", \"Male\", \"Male\", \"Female\", \"Male\", \"Male\", \"Male\", \"Male\", \"Male\", \"Male\", \"Male\", \"Male\", \"Female\", \"Female\", \"Male\", \"Male\", \"Male\", \"Female\", \"Male\", \"Male\", \"Male\", \"Male\", \"Male\", \"Male\", \"Male\", \"Male\", \"Female\", \"Female\", \"Male\", \"Male\", \"Female\", \"Male\", \"Male\", \"Male\", \"Male\", \"Male\", \"Male\", \"Male\", \"Male\", \"Male\", \"Male\", \"Male\", \"Male\", \"Male\", \"Male\", \"Male\", \"Male\", \"Male\", \"Male\", \"Male\", \"Male\", \"Male\", \"Male\", \"Male\", \"Male\", \"Male\", \"Male\", \"Male\", \"Male\", \"Male\", \"Male\", \"Male\", \"Male\", \"Male\", \"Male\", \"Male\", \"Female\", \"Male\", \"Male\", \"Male\", \"Male\", \"Male\", \"Male\", \"Male\", \"Female\", \"Male\", \"Male\", \"Male\", \"Male\", \"Male\", \"Male\", \"Male\", \"Female\", \"Male\", \"Female\", \"Male\", \"Male\", \"Female\", \"Male\", \"Male\", \"Male\", \"Male\", \"Female\", \"Male\", \"Female\", \"Male\", \"Male\", \"Male\", \"Male\", \"Male\", \"Male\", \"Male\", \"Male\", \"Female\", \"Female\", \"Male\", \"Male\", \"Male\", \"Female\", \"Male\", \"Male\", \"Male\", \"Male\", \"Male\", \"Male\", \"Male\", \"Male\", \"Male\", \"Male\", \"Female\", \"Male\", \"Male\", \"Male\", \"Male\", \"Male\", \"Male\", \"Male\", \"Male\", \"Male\", \"Male\", \"Male\", \"Male\", \"Male\", \"Male\", \"Female\", \"Male\", \"Male\", \"Male\", \"Male\", \"Male\", \"Male\", \"Male\", \"Female\", \"Male\", \"Male\", \"Female\", \"Female\", \"Male\", \"Male\", \"Male\", \"Female\", \"Male\", \"Male\", \"Female\", \"Male\", \"Female\", \"Male\", \"Male\", \"Male\", \"Female\", \"Male\", \"Male\", \"Male\", \"Male\", \"Female\", \"Male\", \"Male\", \"Male\", \"Male\", \"Male\", \"Male\", \"Male\", \"Male\", \"Female\", \"Male\", \"Male\", \"Male\", \"Male\", \"Male\", \"Male\", \"Male\", \"Female\", \"Male\", \"Female\", \"Male\", \"Male\", \"Male\", \"Male\", \"Female\", \"Male\", \"Female\", \"Male\", \"Male\", \"Male\", \"Male\", \"Male\", \"Male\", \"Female\", \"Male\", \"Male\", \"Male\", \"Male\", \"Male\", \"Male\", \"Male\", \"Male\", \"Male\", \"Male\", \"Male\", \"Male\", \"Male\", \"Male\", \"Male\", \"Male\", \"Male\", \"Male\", \"Female\", \"Male\", \"Male\", \"Male\", \"Female\", \"Male\", \"Male\", \"Male\", \"Male\", \"Male\", \"Male\", \"Male\", \"Male\", \"Male\", \"Diverse\", \"Male\", \"Male\", \"Female\", \"Male\", \"Male\", \"Male\", \"Male\", \"Male\", \"Male\", \"Male\", \"Male\", \"Female\", \"Male\", \"Male\", \"Female\", \"Male\", \"Female\", \"Male\", \"Male\", \"Male\", \"Male\", \"Female\", \"Female\", \"Male\", \"Male\", \"Male\", \"Male\", \"Female\", \"Male\", \"Male\", \"Male\", \"Male\", \"Female\", \"Male\", \"Male\", \"Male\", \"Male\", \"Male\", \"Female\", \"Male\", \"Male\", \"Male\", \"Male\", \"Male\", \"Male\", \"Male\", \"Male\", \"Male\", \"Male\", \"Male\", \"Male\", \"Male\", \"Male\", \"Male\", \"Male\", \"Male\", \"Male\", \"Male\", \"Male\", \"Male\", \"Male\", \"Male\", \"Male\", \"Male\", \"Male\", \"Male\", \"Male\", \"Male\", \"Male\", \"Male\", \"Female\", \"Female\", \"Male\", \"Male\", \"Male\", \"Male\", \"Male\", \"Female\", \"Male\", \"Male\", \"Male\", \"Male\", \"Male\", \"Male\", \"Male\", \"Male\", \"Female\", \"Male\", \"Female\", \"Female\", \"Male\", \"Male\", \"Male\", \"Male\", \"Male\", \"Male\", \"Male\", \"Male\", \"Male\", \"Male\", \"Male\", \"Male\", \"Male\", \"Male\", \"Male\", \"Male\", \"Female\", \"Male\", \"Male\", \"Male\", \"Male\", \"Male\", \"Female\", \"Male\", \"Female\", \"Male\", \"Male\", \"Female\", \"Female\", \"Male\", \"Female\", \"Male\", \"Male\", \"Male\", \"Male\", \"Female\", \"Female\", \"Male\", \"Male\", \"Male\", \"Male\", \"Male\", \"Male\", \"Male\", \"Male\", \"Male\", \"Female\", \"Male\", \"Female\", \"Male\", \"Female\", \"Male\", \"Male\", \"Male\", \"Male\", \"Female\", \"Male\", \"Male\", \"Male\", \"Male\", \"Male\", \"Female\", \"Male\", \"Male\", \"Male\", \"Male\", \"Male\", \"Male\", \"Male\", \"Male\", \"Male\", \"Male\", \"Female\", \"Male\", \"Male\", \"Male\", \"Male\", \"Female\", \"Female\", \"Male\", \"Male\", \"Male\", \"Male\", \"Male\", \"Male\", \"Female\", \"Male\", \"Male\", \"Male\", \"Male\", \"Male\", \"Female\", \"Male\", \"Male\", \"Female\", \"Male\", \"Male\", \"Male\", \"Male\", \"Male\", \"Male\", \"Male\", \"Male\", \"Male\", \"Female\", \"Male\", \"Male\", \"Male\", \"Male\", \"Male\", \"Male\", \"Male\", \"Male\", \"Male\", \"Female\", \"Female\", \"Male\", \"Male\", \"Male\", \"Male\", \"Male\", \"Male\", \"Male\", \"Male\", \"Female\", \"Male\", \"Male\", \"Male\", \"Male\", \"Male\", \"Male\", \"Female\", \"Male\", \"Male\", \"Male\", \"Male\", \"Male\", \"Male\", \"Male\", \"Male\", \"Male\", \"Male\", \"Male\", \"Male\", \"Male\", \"Male\", \"Male\", \"Male\", \"Male\", \"Male\", \"Male\", \"Male\", \"Male\", \"Male\", \"Male\", \"Male\", \"Female\", \"Male\", \"Male\", \"Male\", \"Male\", \"Male\", \"Male\", \"Male\", \"Male\", \"Male\", \"Male\", \"Male\", \"Male\", \"Male\", \"Male\", \"Male\", \"Male\", \"Male\", \"Female\", \"Male\", \"Male\", \"Male\", \"Male\", \"Male\", \"Male\", \"Male\", \"Male\", \"Male\", \"Female\", \"Male\", \"Female\", \"Male\", \"Male\", \"Male\", \"Male\", \"Female\", \"Male\", \"Male\", \"Male\", \"Male\", \"Female\", \"Male\", \"Male\", \"Male\", \"Male\", \"Male\", \"Male\", \"Female\", \"Male\", \"Male\", \"Female\", \"Female\", \"Male\", \"Male\", \"Male\", \"Male\", \"Male\", \"Female\", \"Male\", \"Male\", \"Male\", \"Male\", \"Male\", \"Male\", \"Male\", \"Male\", \"Female\", \"Male\", \"Male\", \"Female\", \"Male\", \"Male\", \"Male\", \"Female\", \"Male\", \"Male\", \"Male\", \"Male\", \"Female\", \"Female\", \"Male\", \"Male\", \"Male\", \"Male\", \"Male\", \"Male\", \"Male\", \"Male\", \"Male\", \"Male\", \"Female\", \"Male\", \"Female\", \"Male\", \"Male\", \"Male\", \"Female\", \"Male\", \"Male\", \"Male\", \"Male\", \"Male\", \"Male\", \"Male\", \"Female\", \"Female\", \"Male\", \"Female\", \"Male\", \"Female\", \"Male\", \"Male\", \"Male\", \"Male\", \"Male\", \"Male\", \"Female\", \"Male\", \"Male\", \"Male\", \"Male\", \"Female\", \"Male\", \"Male\", \"Male\", \"Male\", \"Male\", \"Male\", \"Female\", \"Male\", \"Male\", \"Male\", \"Male\", \"Female\", \"Male\", \"Male\", \"Male\", \"Male\", \"Male\", \"Male\", \"Male\", \"Male\", \"Male\", \"Male\", \"Male\", \"Male\", \"Male\", \"Male\", \"Male\", \"Male\", \"Male\", \"Male\", \"Male\", \"Male\", \"Male\", \"Male\", \"Male\", \"Male\", \"Male\", \"Female\", \"Female\", \"Male\", \"Male\", \"Male\", \"Female\", \"Male\", \"Female\", \"Male\", \"Male\", \"Male\", \"Male\", \"Male\", \"Male\", \"Female\", \"Male\", \"Male\", \"Male\", \"Male\", \"Male\", \"Male\", \"Male\", \"Female\", \"Female\", \"Female\", \"Female\", \"Male\", \"Male\", \"Female\", \"Female\", \"Male\", \"Male\", \"Male\", \"Male\", \"Male\", \"Male\", \"Male\", \"Female\", \"Male\", \"Male\", \"Male\", \"Male\", \"Male\", \"Male\", \"Male\", \"Male\", \"Male\", \"Male\", \"Male\", \"Male\", \"Male\", \"Female\", \"Female\", \"Male\", \"Male\", \"Male\", \"Male\", \"Male\", \"Male\", \"Female\", \"Male\", \"Male\", \"Male\", \"Male\", \"Male\", \"Male\", \"Male\", \"Male\", \"Male\", \"Male\", \"Female\", \"Male\", \"Male\", \"Male\", \"Male\", \"Male\", \"Female\", \"Male\", \"Male\", \"Female\", \"Male\", \"Male\", \"Male\", \"Male\", \"Male\", \"Male\", \"Male\", \"Male\", \"Male\", \"Male\", \"Male\", \"Male\", \"Male\", \"Male\", \"Male\", \"Male\", \"Male\", \"Male\", \"Male\", \"Male\", \"Female\", \"Male\", \"Male\", \"Male\", \"Male\", \"Male\", \"Male\", \"Female\", \"Male\", \"Male\", \"Female\", \"Male\", \"Male\", \"Male\", \"Male\", \"Male\", \"Male\", \"Male\", \"Male\", \"Male\"], \"legendgroup\": \"\", \"name\": \"\", \"showlegend\": true, \"textinfo\": \"label+percent\", \"type\": \"pie\"}],\n",
              "                        {\"legend\": {\"tracegroupgap\": 0}, \"margin\": {\"t\": 60}, \"template\": {\"data\": {\"bar\": [{\"error_x\": {\"color\": \"#2a3f5f\"}, \"error_y\": {\"color\": \"#2a3f5f\"}, \"marker\": {\"line\": {\"color\": \"#E5ECF6\", \"width\": 0.5}}, \"type\": \"bar\"}], \"barpolar\": [{\"marker\": {\"line\": {\"color\": \"#E5ECF6\", \"width\": 0.5}}, \"type\": \"barpolar\"}], \"carpet\": [{\"aaxis\": {\"endlinecolor\": \"#2a3f5f\", \"gridcolor\": \"white\", \"linecolor\": \"white\", \"minorgridcolor\": \"white\", \"startlinecolor\": \"#2a3f5f\"}, \"baxis\": {\"endlinecolor\": \"#2a3f5f\", \"gridcolor\": \"white\", \"linecolor\": \"white\", \"minorgridcolor\": \"white\", \"startlinecolor\": \"#2a3f5f\"}, \"type\": \"carpet\"}], \"choropleth\": [{\"colorbar\": {\"outlinewidth\": 0, \"ticks\": \"\"}, \"type\": \"choropleth\"}], \"contour\": [{\"colorbar\": {\"outlinewidth\": 0, \"ticks\": \"\"}, \"colorscale\": [[0.0, \"#0d0887\"], [0.1111111111111111, \"#46039f\"], [0.2222222222222222, \"#7201a8\"], [0.3333333333333333, \"#9c179e\"], [0.4444444444444444, \"#bd3786\"], [0.5555555555555556, \"#d8576b\"], [0.6666666666666666, \"#ed7953\"], [0.7777777777777778, \"#fb9f3a\"], [0.8888888888888888, \"#fdca26\"], [1.0, \"#f0f921\"]], \"type\": \"contour\"}], \"contourcarpet\": [{\"colorbar\": {\"outlinewidth\": 0, \"ticks\": \"\"}, \"type\": \"contourcarpet\"}], \"heatmap\": [{\"colorbar\": {\"outlinewidth\": 0, \"ticks\": \"\"}, \"colorscale\": [[0.0, \"#0d0887\"], [0.1111111111111111, \"#46039f\"], [0.2222222222222222, \"#7201a8\"], [0.3333333333333333, \"#9c179e\"], [0.4444444444444444, \"#bd3786\"], [0.5555555555555556, \"#d8576b\"], [0.6666666666666666, \"#ed7953\"], [0.7777777777777778, \"#fb9f3a\"], [0.8888888888888888, \"#fdca26\"], [1.0, \"#f0f921\"]], \"type\": \"heatmap\"}], \"heatmapgl\": [{\"colorbar\": {\"outlinewidth\": 0, \"ticks\": \"\"}, \"colorscale\": [[0.0, \"#0d0887\"], [0.1111111111111111, \"#46039f\"], [0.2222222222222222, \"#7201a8\"], [0.3333333333333333, \"#9c179e\"], [0.4444444444444444, \"#bd3786\"], [0.5555555555555556, \"#d8576b\"], [0.6666666666666666, \"#ed7953\"], [0.7777777777777778, \"#fb9f3a\"], [0.8888888888888888, \"#fdca26\"], [1.0, \"#f0f921\"]], \"type\": \"heatmapgl\"}], \"histogram\": [{\"marker\": {\"colorbar\": {\"outlinewidth\": 0, \"ticks\": \"\"}}, \"type\": \"histogram\"}], \"histogram2d\": [{\"colorbar\": {\"outlinewidth\": 0, \"ticks\": \"\"}, \"colorscale\": [[0.0, \"#0d0887\"], [0.1111111111111111, \"#46039f\"], [0.2222222222222222, \"#7201a8\"], [0.3333333333333333, \"#9c179e\"], [0.4444444444444444, \"#bd3786\"], [0.5555555555555556, \"#d8576b\"], [0.6666666666666666, \"#ed7953\"], [0.7777777777777778, \"#fb9f3a\"], [0.8888888888888888, \"#fdca26\"], [1.0, \"#f0f921\"]], \"type\": \"histogram2d\"}], \"histogram2dcontour\": [{\"colorbar\": {\"outlinewidth\": 0, \"ticks\": \"\"}, \"colorscale\": [[0.0, \"#0d0887\"], [0.1111111111111111, \"#46039f\"], [0.2222222222222222, \"#7201a8\"], [0.3333333333333333, \"#9c179e\"], [0.4444444444444444, \"#bd3786\"], [0.5555555555555556, \"#d8576b\"], [0.6666666666666666, \"#ed7953\"], [0.7777777777777778, \"#fb9f3a\"], [0.8888888888888888, \"#fdca26\"], [1.0, \"#f0f921\"]], \"type\": \"histogram2dcontour\"}], \"mesh3d\": [{\"colorbar\": {\"outlinewidth\": 0, \"ticks\": \"\"}, \"type\": \"mesh3d\"}], \"parcoords\": [{\"line\": {\"colorbar\": {\"outlinewidth\": 0, \"ticks\": \"\"}}, \"type\": \"parcoords\"}], \"pie\": [{\"automargin\": true, \"type\": \"pie\"}], \"scatter\": [{\"marker\": {\"colorbar\": {\"outlinewidth\": 0, \"ticks\": \"\"}}, \"type\": \"scatter\"}], \"scatter3d\": [{\"line\": {\"colorbar\": {\"outlinewidth\": 0, \"ticks\": \"\"}}, \"marker\": {\"colorbar\": {\"outlinewidth\": 0, \"ticks\": \"\"}}, \"type\": \"scatter3d\"}], \"scattercarpet\": [{\"marker\": {\"colorbar\": {\"outlinewidth\": 0, \"ticks\": \"\"}}, \"type\": \"scattercarpet\"}], \"scattergeo\": [{\"marker\": {\"colorbar\": {\"outlinewidth\": 0, \"ticks\": \"\"}}, \"type\": \"scattergeo\"}], \"scattergl\": [{\"marker\": {\"colorbar\": {\"outlinewidth\": 0, \"ticks\": \"\"}}, \"type\": \"scattergl\"}], \"scattermapbox\": [{\"marker\": {\"colorbar\": {\"outlinewidth\": 0, \"ticks\": \"\"}}, \"type\": \"scattermapbox\"}], \"scatterpolar\": [{\"marker\": {\"colorbar\": {\"outlinewidth\": 0, \"ticks\": \"\"}}, \"type\": \"scatterpolar\"}], \"scatterpolargl\": [{\"marker\": {\"colorbar\": {\"outlinewidth\": 0, \"ticks\": \"\"}}, \"type\": \"scatterpolargl\"}], \"scatterternary\": [{\"marker\": {\"colorbar\": {\"outlinewidth\": 0, \"ticks\": \"\"}}, \"type\": \"scatterternary\"}], \"surface\": [{\"colorbar\": {\"outlinewidth\": 0, \"ticks\": \"\"}, \"colorscale\": [[0.0, \"#0d0887\"], [0.1111111111111111, \"#46039f\"], [0.2222222222222222, \"#7201a8\"], [0.3333333333333333, \"#9c179e\"], [0.4444444444444444, \"#bd3786\"], [0.5555555555555556, \"#d8576b\"], [0.6666666666666666, \"#ed7953\"], [0.7777777777777778, \"#fb9f3a\"], [0.8888888888888888, \"#fdca26\"], [1.0, \"#f0f921\"]], \"type\": \"surface\"}], \"table\": [{\"cells\": {\"fill\": {\"color\": \"#EBF0F8\"}, \"line\": {\"color\": \"white\"}}, \"header\": {\"fill\": {\"color\": \"#C8D4E3\"}, \"line\": {\"color\": \"white\"}}, \"type\": \"table\"}]}, \"layout\": {\"annotationdefaults\": {\"arrowcolor\": \"#2a3f5f\", \"arrowhead\": 0, \"arrowwidth\": 1}, \"coloraxis\": {\"colorbar\": {\"outlinewidth\": 0, \"ticks\": \"\"}}, \"colorscale\": {\"diverging\": [[0, \"#8e0152\"], [0.1, \"#c51b7d\"], [0.2, \"#de77ae\"], [0.3, \"#f1b6da\"], [0.4, \"#fde0ef\"], [0.5, \"#f7f7f7\"], [0.6, \"#e6f5d0\"], [0.7, \"#b8e186\"], [0.8, \"#7fbc41\"], [0.9, \"#4d9221\"], [1, \"#276419\"]], \"sequential\": [[0.0, \"#0d0887\"], [0.1111111111111111, \"#46039f\"], [0.2222222222222222, \"#7201a8\"], [0.3333333333333333, \"#9c179e\"], [0.4444444444444444, \"#bd3786\"], [0.5555555555555556, \"#d8576b\"], [0.6666666666666666, \"#ed7953\"], [0.7777777777777778, \"#fb9f3a\"], [0.8888888888888888, \"#fdca26\"], [1.0, \"#f0f921\"]], \"sequentialminus\": [[0.0, \"#0d0887\"], [0.1111111111111111, \"#46039f\"], [0.2222222222222222, \"#7201a8\"], [0.3333333333333333, \"#9c179e\"], [0.4444444444444444, \"#bd3786\"], [0.5555555555555556, \"#d8576b\"], [0.6666666666666666, \"#ed7953\"], [0.7777777777777778, \"#fb9f3a\"], [0.8888888888888888, \"#fdca26\"], [1.0, \"#f0f921\"]]}, \"colorway\": [\"#636efa\", \"#EF553B\", \"#00cc96\", \"#ab63fa\", \"#FFA15A\", \"#19d3f3\", \"#FF6692\", \"#B6E880\", \"#FF97FF\", \"#FECB52\"], \"font\": {\"color\": \"#2a3f5f\"}, \"geo\": {\"bgcolor\": \"white\", \"lakecolor\": \"white\", \"landcolor\": \"#E5ECF6\", \"showlakes\": true, \"showland\": true, \"subunitcolor\": \"white\"}, \"hoverlabel\": {\"align\": \"left\"}, \"hovermode\": \"closest\", \"mapbox\": {\"style\": \"light\"}, \"paper_bgcolor\": \"white\", \"plot_bgcolor\": \"#E5ECF6\", \"polar\": {\"angularaxis\": {\"gridcolor\": \"white\", \"linecolor\": \"white\", \"ticks\": \"\"}, \"bgcolor\": \"#E5ECF6\", \"radialaxis\": {\"gridcolor\": \"white\", \"linecolor\": \"white\", \"ticks\": \"\"}}, \"scene\": {\"xaxis\": {\"backgroundcolor\": \"#E5ECF6\", \"gridcolor\": \"white\", \"gridwidth\": 2, \"linecolor\": \"white\", \"showbackground\": true, \"ticks\": \"\", \"zerolinecolor\": \"white\"}, \"yaxis\": {\"backgroundcolor\": \"#E5ECF6\", \"gridcolor\": \"white\", \"gridwidth\": 2, \"linecolor\": \"white\", \"showbackground\": true, \"ticks\": \"\", \"zerolinecolor\": \"white\"}, \"zaxis\": {\"backgroundcolor\": \"#E5ECF6\", \"gridcolor\": \"white\", \"gridwidth\": 2, \"linecolor\": \"white\", \"showbackground\": true, \"ticks\": \"\", \"zerolinecolor\": \"white\"}}, \"shapedefaults\": {\"line\": {\"color\": \"#2a3f5f\"}}, \"ternary\": {\"aaxis\": {\"gridcolor\": \"white\", \"linecolor\": \"white\", \"ticks\": \"\"}, \"baxis\": {\"gridcolor\": \"white\", \"linecolor\": \"white\", \"ticks\": \"\"}, \"bgcolor\": \"#E5ECF6\", \"caxis\": {\"gridcolor\": \"white\", \"linecolor\": \"white\", \"ticks\": \"\"}}, \"title\": {\"x\": 0.05}, \"xaxis\": {\"automargin\": true, \"gridcolor\": \"white\", \"linecolor\": \"white\", \"ticks\": \"\", \"title\": {\"standoff\": 15}, \"zerolinecolor\": \"white\", \"zerolinewidth\": 2}, \"yaxis\": {\"automargin\": true, \"gridcolor\": \"white\", \"linecolor\": \"white\", \"ticks\": \"\", \"title\": {\"standoff\": 15}, \"zerolinecolor\": \"white\", \"zerolinewidth\": 2}}}},\n",
              "                        {\"responsive\": true}\n",
              "                    ).then(function(){\n",
              "                            \n",
              "var gd = document.getElementById('23830303-0163-4c02-aa40-f9325804613e');\n",
              "var x = new MutationObserver(function (mutations, observer) {{\n",
              "        var display = window.getComputedStyle(gd).display;\n",
              "        if (!display || display === 'none') {{\n",
              "            console.log([gd, 'removed!']);\n",
              "            Plotly.purge(gd);\n",
              "            observer.disconnect();\n",
              "        }}\n",
              "}});\n",
              "\n",
              "// Listen for the removal of the full notebook cells\n",
              "var notebookContainer = gd.closest('#notebook-container');\n",
              "if (notebookContainer) {{\n",
              "    x.observe(notebookContainer, {childList: true});\n",
              "}}\n",
              "\n",
              "// Listen for the clearing of the current output cell\n",
              "var outputEl = gd.closest('.output');\n",
              "if (outputEl) {{\n",
              "    x.observe(outputEl, {childList: true});\n",
              "}}\n",
              "\n",
              "                        })\n",
              "                };\n",
              "                \n",
              "            </script>\n",
              "        </div>\n",
              "</body>\n",
              "</html>"
            ]
          },
          "metadata": {
            "tags": []
          }
        }
      ]
    },
    {
      "cell_type": "markdown",
      "metadata": {
        "id": "uo95NopBCo6w"
      },
      "source": [
        "## Bonus Section [Optional but carries bonus marks]\n",
        "This dataset is as raw and real as it can get while conducting yearly surveys. You might have observed that the data is not clean and structured and requires some thorough cleaning before deriving meaningful plots. When combined with the power of Plotly and Dash, there are endless possibilities for the insightful visualizations you can create. \n",
        "\n",
        "This section is to let you experiment, explore and create as many visualizations as you’d like. You never know, if we like the creativity and the extra work, you might receive some bonus marks!\n"
      ]
    },
    {
      "cell_type": "code",
      "metadata": {
        "id": "tCY1-a_SFlWq"
      },
      "source": [
        ""
      ],
      "execution_count": null,
      "outputs": []
    },
    {
      "cell_type": "markdown",
      "metadata": {
        "id": "eZhk-3nbFl2n"
      },
      "source": [
        "# Conclusion\n",
        "This brings us to the end of the assignment and to the bootcamp. We hope you had a great learning time. :)\n",
        "\n",
        "Now, you can submit your notebook for assessment. "
      ]
    }
  ]
}