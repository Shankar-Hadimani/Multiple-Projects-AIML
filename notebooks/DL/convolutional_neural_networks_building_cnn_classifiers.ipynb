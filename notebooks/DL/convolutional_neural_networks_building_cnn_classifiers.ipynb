{
  "nbformat": 4,
  "nbformat_minor": 0,
  "metadata": {
    "colab": {
      "name": "convolutional-neural-networks-building-cnn-classifiers-0bedbe033f874486a55a7f35af965205.ipynb",
      "provenance": [],
      "collapsed_sections": [],
      "include_colab_link": true
    },
    "kernelspec": {
      "name": "python3",
      "display_name": "Python 3"
    },
    "accelerator": "GPU"
  },
  "cells": [
    {
      "cell_type": "markdown",
      "metadata": {
        "id": "view-in-github",
        "colab_type": "text"
      },
      "source": [
        "<a href=\"https://colab.research.google.com/github/Shankar-Hadimani/1000_test/blob/master/notebooks/DL/convolutional_neural_networks_building_cnn_classifiers.ipynb\" target=\"_parent\"><img src=\"https://colab.research.google.com/assets/colab-badge.svg\" alt=\"Open In Colab\"/></a>"
      ]
    },
    {
      "cell_type": "markdown",
      "metadata": {
        "id": "fVp8ZuJSRKmv"
      },
      "source": [
        "# Convolutional Neural Networks - Building CNN Classifiers\n",
        "\n",
        "\n",
        "The most popular deep learning models leveraged for computer vision problems are convolutional neural networks (CNNs)!\n",
        "\n",
        "![](https://miro.medium.com/max/2000/1*rO65zGl2k7xVBRhJZggQSA.gif)\n",
        "\n",
        "We will look at how we can build, train and evaluate a multi-class CNN classifier in this notebook.\n",
        "\n",
        "<div style=\"text-align: right\"><i><font size=\"2\">Tutorial by: <a href=\"https://www.linkedin.com/in/dipanzan\" target=\"_parent\">Dipanjan (DJ) Sarkar</a></font></i></div>\n"
      ]
    },
    {
      "cell_type": "markdown",
      "metadata": {
        "id": "1uJjRfcuX1U1"
      },
      "source": [
        "# Load Dependencies \n",
        "\n",
        "This leverages the __`tf.keras`__ API style and hence it is recommended you try this out on TensorFlow 2.x"
      ]
    },
    {
      "cell_type": "code",
      "metadata": {
        "id": "UaPTicsNO_Lf",
        "colab": {
          "base_uri": "https://localhost:8080/"
        },
        "outputId": "0ca9bc0b-1227-40d3-a656-183b55a95288"
      },
      "source": [
        "# to prevent unnecessary warnings\n",
        "import warnings\n",
        "warnings.simplefilter(action='ignore', category=FutureWarning)\n",
        "\n",
        "# TensorFlow and tf.keras\n",
        "import tensorflow as tf\n",
        "\n",
        "# Helper libraries\n",
        "import numpy as np\n",
        "import matplotlib.pyplot as plt\n",
        "import os\n",
        "import subprocess\n",
        "import cv2\n",
        "import json\n",
        "import requests\n",
        "from tqdm import tqdm\n",
        "\n",
        "print(tf.__version__)"
      ],
      "execution_count": 59,
      "outputs": [
        {
          "output_type": "stream",
          "text": [
            "2.5.0\n"
          ],
          "name": "stdout"
        }
      ]
    },
    {
      "cell_type": "markdown",
      "metadata": {
        "id": "xL6OWVLYPI2e"
      },
      "source": [
        "# Main Objective — Building & Deploying an Apparel Classifier\n",
        "\n",
        "We will keep things simple here with regard to the key objective. We will build a simple apparel classifier by training models on the very famous [Fashion MNIST](https://github.com/zalandoresearch/fashion-mnist) dataset based on Zalando’s article images — consisting of a training set of 60,000 examples and a test set of 10,000 examples. Each example is a 28x28 grayscale image, associated with a label from 10 classes. The idea is to classify these images into an apparel category amongst 10 categories on which we will be training our models on.\n",
        "\n",
        "Here's an example how the data looks (each class takes three-rows):\n",
        "\n",
        "<table>\n",
        "  <tr><td>\n",
        "    <img src=\"https://raw.githubusercontent.com/zalandoresearch/fashion-mnist/master/doc/img/fashion-mnist-sprite.png\"\n",
        "         alt=\"Fashion MNIST sprite\"  width=\"600\">\n",
        "  </td></tr>\n",
        "  <tr><td align=\"center\">\n",
        "    <a href=\"https://github.com/zalandoresearch/fashion-mnist\">Fashion-MNIST samples</a> (by Zalando, MIT License).<br/>&nbsp;\n",
        "  </td></tr>\n",
        "</table>\n",
        "\n",
        "Fashion MNIST is intended as a drop-in replacement for the classic [MNIST](http://yann.lecun.com/exdb/mnist/) dataset—often used as the \"Hello, World\" of machine learning programs for computer vision. You can access the Fashion MNIST directly from TensorFlow.\n",
        "\n",
        "__Note:__ Although these are really images, they are loaded as NumPy arrays and not binary image objects."
      ]
    },
    {
      "cell_type": "markdown",
      "metadata": {
        "id": "2zFRln3aPYu-"
      },
      "source": [
        "We will build the following two deep learning CNN (Convolutional Neural Network) classifiers in this notebook.\n",
        "- A simple CNN trained from scratch\n",
        "- Fine-tuning a pre-trained VGG-19 CNN\n",
        "\n",
        "The idea is to look at how to build your own CNN from scratch and also to briefly look at transfer learning where you fine-tune a pre-trained model to adapt it to classify images based on your dataset."
      ]
    },
    {
      "cell_type": "markdown",
      "metadata": {
        "id": "ScxyYAKsPs0f"
      },
      "source": [
        "# Load Dataset\n",
        "Here we will leverage an out of the box dataset to keep things simple as we mentioned earlier by leveraging the Fashion-MNIST dataset."
      ]
    },
    {
      "cell_type": "code",
      "metadata": {
        "id": "q4mT4EByP5hD",
        "colab": {
          "base_uri": "https://localhost:8080/"
        },
        "outputId": "494b1027-df48-4317-f3e5-69a042aa5270"
      },
      "source": [
        "fashion_mnist = tf.keras.datasets.fashion_mnist\n",
        "(train_images, train_labels), (test_images, test_labels) = fashion_mnist.load_data()\n",
        "\n",
        "class_names = ['T-shirt/top', 'Trouser', 'Pullover', 'Dress', 'Coat',\n",
        "               'Sandal', 'Shirt', 'Sneaker', 'Bag', 'Ankle boot']\n",
        "\n",
        "print('\\nTrain_images.shape: {}, of {}'.format(train_images.shape, train_images.dtype))\n",
        "print('Test_images.shape: {}, of {}'.format(test_images.shape, test_images.dtype))"
      ],
      "execution_count": 60,
      "outputs": [
        {
          "output_type": "stream",
          "text": [
            "\n",
            "Train_images.shape: (60000, 28, 28), of uint8\n",
            "Test_images.shape: (10000, 28, 28), of uint8\n"
          ],
          "name": "stdout"
        }
      ]
    },
    {
      "cell_type": "markdown",
      "metadata": {
        "id": "EmorWzlAQAD_"
      },
      "source": [
        "# Brief on CNNs\n",
        "\n",
        "CNNs typically consist of multiple convolution and pooling layers which help the deep learning model in automatically extracting relevant features from visual data like images. Due to this multi-layered architecture, CNNs learn a robust hierarchy of features, which are spatial, rotation, and translation invariant.\n",
        "\n",
        "![](https://miro.medium.com/max/1456/1*NKL76WYQwH5LuqyaQTjBNw.png)\n",
        "\n",
        "The key operations in a CNN model are depicted in the figure above. Any image can be represented as a tensor of pixel values. The convolution layers help in extracting features from this image (forms feature maps). Shallower layers (closer to the input data) in the network learn very generic features like edges, corners and so on. Deeper layers in the network (closer to the output layer) learn very specific features pertaining to the input image. The following graphic helps summarize the key aspects of any CNN model.\n",
        "\n",
        "![](https://miro.medium.com/max/1366/1*nCQeDMjKoTGst1RiCDo9Fw.png)\n",
        "\n",
        "We will be building a CNN from scratch as well as leverage the power of transfer learning, where we use pre-trained deep learning CNNs in this tutorial. "
      ]
    },
    {
      "cell_type": "markdown",
      "metadata": {
        "id": "6lo0d3HmSmgE"
      },
      "source": [
        "# 1. Training a simple CNN Classifier from Scratch\n",
        "\n",
        "In this section, we will train a basic 2-layer CNN model from scratch."
      ]
    },
    {
      "cell_type": "markdown",
      "metadata": {
        "id": "gzH0Vk6hSvJt"
      },
      "source": [
        "## Reshaping Image Data for Modeling\n",
        "\n",
        "We do need to reshape our data before we train our model. Here we will work on grayscale, 1-channel images (image pixel tensors)"
      ]
    },
    {
      "cell_type": "code",
      "metadata": {
        "id": "RypFy7KkS5-0",
        "colab": {
          "base_uri": "https://localhost:8080/"
        },
        "outputId": "60c0a925-af70-4c5f-d810-d607d3766385"
      },
      "source": [
        "# reshape for feeding into the model\n",
        "train_images_gr = train_images.reshape(train_images.shape[0], 28, 28, 1)\n",
        "test_images_gr = test_images.reshape(test_images.shape[0], 28, 28, 1)\n",
        "\n",
        "print('\\nTrain_images.shape: {}, of {}'.format(train_images_gr.shape, train_images_gr.dtype))\n",
        "print('Test_images.shape: {}, of {}'.format(test_images_gr.shape, test_images_gr.dtype))"
      ],
      "execution_count": 61,
      "outputs": [
        {
          "output_type": "stream",
          "text": [
            "\n",
            "Train_images.shape: (60000, 28, 28, 1), of uint8\n",
            "Test_images.shape: (10000, 28, 28, 1), of uint8\n"
          ],
          "name": "stdout"
        }
      ]
    },
    {
      "cell_type": "code",
      "metadata": {
        "id": "P4qdHm7WTIPx",
        "colab": {
          "base_uri": "https://localhost:8080/",
          "height": 357
        },
        "outputId": "17e05ada-88b6-4dd9-e8c2-145f934e5e77"
      },
      "source": [
        "fig, ax = plt.subplots(2, 5, figsize=(12, 6))\n",
        "c = 0\n",
        "for i in range(10):\n",
        "    idx = i // 5\n",
        "    idy = i % 5 \n",
        "    ax[idx, idy].imshow(train_images_gr[i].reshape(28,28))\n",
        "    ax[idx, idy].set_title(class_names[train_labels[i]])"
      ],
      "execution_count": 62,
      "outputs": [
        {
          "output_type": "display_data",
          "data": {
            "image/png": "[encoded data removed]",
            "text/plain": [
              "<Figure size 864x432 with 10 Axes>"
            ]
          },
          "metadata": {
            "tags": [],
            "needs_background": "light"
          }
        }
      ]
    },
    {
      "cell_type": "markdown",
      "metadata": {
        "id": "8h7Lc6PTTeLn"
      },
      "source": [
        "## Build CNN Model Architecture\n",
        "\n",
        "We will now build our basic 2-layer CNN model architecture."
      ]
    },
    {
      "cell_type": "code",
      "metadata": {
        "id": "VynDIiOaUXL3",
        "colab": {
          "base_uri": "https://localhost:8080/"
        },
        "outputId": "083e3a0f-45c9-4985-86c2-01e4dcc49475"
      },
      "source": [
        "# define input shape\n",
        "INPUT_SHAPE = (28, 28, 1)\n",
        "\n",
        "# define sequential model\n",
        "model = tf.keras.models.Sequential()\n",
        "# define conv-pool layers - set 1\n",
        "model.add(tf.keras.layers.Conv2D(filters=16, kernel_size=(3, 3), strides=(1, 1), \n",
        "                                activation='relu', padding='valid', input_shape=INPUT_SHAPE))\n",
        "model.add(tf.keras.layers.MaxPooling2D(pool_size=(2, 2)))\n",
        "# define conv-pool layers - set 2\n",
        "model.add(tf.keras.layers.Conv2D(filters=32, kernel_size=(3, 3), strides=(1, 1), \n",
        "                                activation='relu', padding='valid'))\n",
        "model.add(tf.keras.layers.MaxPooling2D(pool_size=(2, 2)))\n",
        "\n",
        "# add flatten layer\n",
        "model.add(tf.keras.layers.Flatten())\n",
        "\n",
        "# add dense layers with some dropout\n",
        "model.add(tf.keras.layers.Dense(256, activation='relu'))\n",
        "model.add(tf.keras.layers.Dropout(rate=0.3))\n",
        "model.add(tf.keras.layers.Dense(256, activation='relu'))\n",
        "model.add(tf.keras.layers.Dropout(rate=0.3))\n",
        "\n",
        "# add output layer\n",
        "model.add(tf.keras.layers.Dense(10, activation='softmax'))\n",
        "\n",
        "# compile model\n",
        "model.compile(optimizer='adam', \n",
        "              loss='sparse_categorical_crossentropy', \n",
        "              metrics=['accuracy'])\n",
        "\n",
        "# view model layers\n",
        "model.summary()"
      ],
      "execution_count": 63,
      "outputs": [
        {
          "output_type": "stream",
          "text": [
            "Model: \"sequential_2\"\n",
            "_________________________________________________________________\n",
            "Layer (type)                 Output Shape              Param #   \n",
            "=================================================================\n",
            "conv2d_2 (Conv2D)            (None, 26, 26, 16)        160       \n",
            "_________________________________________________________________\n",
            "max_pooling2d_2 (MaxPooling2 (None, 13, 13, 16)        0         \n",
            "_________________________________________________________________\n",
            "conv2d_3 (Conv2D)            (None, 11, 11, 32)        4640      \n",
            "_________________________________________________________________\n",
            "max_pooling2d_3 (MaxPooling2 (None, 5, 5, 32)          0         \n",
            "_________________________________________________________________\n",
            "flatten_2 (Flatten)          (None, 800)               0         \n",
            "_________________________________________________________________\n",
            "dense_6 (Dense)              (None, 256)               205056    \n",
            "_________________________________________________________________\n",
            "dropout_4 (Dropout)          (None, 256)               0         \n",
            "_________________________________________________________________\n",
            "dense_7 (Dense)              (None, 256)               65792     \n",
            "_________________________________________________________________\n",
            "dropout_5 (Dropout)          (None, 256)               0         \n",
            "_________________________________________________________________\n",
            "dense_8 (Dense)              (None, 10)                2570      \n",
            "=================================================================\n",
            "Total params: 278,218\n",
            "Trainable params: 278,218\n",
            "Non-trainable params: 0\n",
            "_________________________________________________________________\n"
          ],
          "name": "stdout"
        }
      ]
    },
    {
      "cell_type": "markdown",
      "metadata": {
        "id": "A-308F78YFoL"
      },
      "source": [
        "## Model Training\n",
        "\n",
        "Let’s train our model for 100 epochs and look at the performance. We do apply an early-stopping to stop the model training immediately once we don't see an improvement in validation-loss over the last 2 epochs using the `EarlyStopping` callback."
      ]
    },
    {
      "cell_type": "code",
      "metadata": {
        "id": "5wwvN3kJYhgD",
        "colab": {
          "base_uri": "https://localhost:8080/"
        },
        "outputId": "0358574b-fc1e-4e9c-afd6-8f124e5a22ba"
      },
      "source": [
        "EPOCHS = 100\n",
        "train_images_scaled = train_images_gr / 255.\n",
        "es_callback = tf.keras.callbacks.EarlyStopping(monitor='val_loss', patience=2, \n",
        "                                               restore_best_weights=True,\n",
        "                                               verbose=1)\n",
        "\n",
        "history = model.fit(train_images_scaled, train_labels,\n",
        "                    batch_size=32,\n",
        "                    callbacks=[es_callback], \n",
        "                    validation_split=0.1, epochs=EPOCHS,\n",
        "                    verbose=1)"
      ],
      "execution_count": 64,
      "outputs": [
        {
          "output_type": "stream",
          "text": [
            "Epoch 1/100\n",
            "1688/1688 [==============================] - 6s 4ms/step - loss: 0.5254 - accuracy: 0.8062 - val_loss: 0.3375 - val_accuracy: 0.8715\n",
            "Epoch 2/100\n",
            "1688/1688 [==============================] - 5s 3ms/step - loss: 0.3341 - accuracy: 0.8763 - val_loss: 0.2913 - val_accuracy: 0.8912\n",
            "Epoch 3/100\n",
            "1688/1688 [==============================] - 5s 3ms/step - loss: 0.2906 - accuracy: 0.8934 - val_loss: 0.2854 - val_accuracy: 0.8970\n",
            "Epoch 4/100\n",
            "1688/1688 [==============================] - 5s 3ms/step - loss: 0.2590 - accuracy: 0.9041 - val_loss: 0.2654 - val_accuracy: 0.8988\n",
            "Epoch 5/100\n",
            "1688/1688 [==============================] - 5s 3ms/step - loss: 0.2391 - accuracy: 0.9119 - val_loss: 0.2639 - val_accuracy: 0.9068\n",
            "Epoch 6/100\n",
            "1688/1688 [==============================] - 5s 3ms/step - loss: 0.2222 - accuracy: 0.9162 - val_loss: 0.2675 - val_accuracy: 0.9035\n",
            "Epoch 7/100\n",
            "1688/1688 [==============================] - 6s 3ms/step - loss: 0.2072 - accuracy: 0.9224 - val_loss: 0.2570 - val_accuracy: 0.9073\n",
            "Epoch 8/100\n",
            "1688/1688 [==============================] - 6s 3ms/step - loss: 0.1951 - accuracy: 0.9261 - val_loss: 0.2601 - val_accuracy: 0.9083\n",
            "Epoch 9/100\n",
            "1688/1688 [==============================] - 6s 3ms/step - loss: 0.1818 - accuracy: 0.9320 - val_loss: 0.2626 - val_accuracy: 0.9087\n",
            "Restoring model weights from the end of the best epoch.\n",
            "Epoch 00009: early stopping\n"
          ],
          "name": "stdout"
        }
      ]
    },
    {
      "cell_type": "markdown",
      "metadata": {
        "id": "owt0MTEmpuLp"
      },
      "source": [
        "## Plot Learning Curves"
      ]
    },
    {
      "cell_type": "code",
      "metadata": {
        "id": "GZ-aI4KOo8DY",
        "colab": {
          "base_uri": "https://localhost:8080/",
          "height": 265
        },
        "outputId": "9af381f9-5c2c-44b2-e169-e327b08e7db8"
      },
      "source": [
        "import pandas as pd\n",
        "\n",
        "fig, ax = plt.subplots(1, 2, figsize=(10, 4))\n",
        "\n",
        "history_df = pd.DataFrame(history.history)\n",
        "history_df[['loss', 'val_loss']].plot(kind='line', ax=ax[0])\n",
        "history_df[['accuracy', 'val_accuracy']].plot(kind='line', ax=ax[1]);"
      ],
      "execution_count": 65,
      "outputs": [
        {
          "output_type": "display_data",
          "data": {
            "image/png": "[encoded data removed]",
            "text/plain": [
              "<Figure size 720x288 with 2 Axes>"
            ]
          },
          "metadata": {
            "tags": [],
            "needs_background": "light"
          }
        }
      ]
    },
    {
      "cell_type": "markdown",
      "metadata": {
        "id": "kkCjHY9maEif"
      },
      "source": [
        "## Evaluate Model Performance on Test Data"
      ]
    },
    {
      "cell_type": "code",
      "metadata": {
        "id": "gRx2oIbVZGO2",
        "colab": {
          "base_uri": "https://localhost:8080/"
        },
        "outputId": "03c4cc9b-44cf-4b11-fb59-4c4a13b74f96"
      },
      "source": [
        "test_images_scaled = test_images_gr / 255.\n",
        "predictions = model.predict(test_images_scaled)\n",
        "predictions[:5]"
      ],
      "execution_count": 66,
      "outputs": [
        {
          "output_type": "execute_result",
          "data": {
            "text/plain": [
              "array([[4.8248344e-10, 2.5360663e-11, 2.6175695e-10, 4.7405805e-11,\n",
              "        2.4629215e-10, 1.3258644e-06, 7.0243922e-10, 1.5746370e-04,\n",
              "        1.2647119e-10, 9.9984121e-01],\n",
              "       [1.8974988e-07, 2.3760388e-13, 9.9997997e-01, 1.2744076e-09,\n",
              "        3.6467782e-06, 3.3959457e-16, 1.6083130e-05, 5.9199575e-18,\n",
              "        3.3784159e-10, 1.2483650e-16],\n",
              "       [1.6564226e-14, 1.0000000e+00, 9.9368281e-18, 4.2687015e-14,\n",
              "        7.1084223e-16, 2.8618170e-22, 1.3202140e-15, 3.8299012e-21,\n",
              "        2.4437389e-20, 5.7726740e-23],\n",
              "       [3.7646687e-13, 1.0000000e+00, 6.2842020e-16, 9.3906870e-13,\n",
              "        9.9945375e-14, 1.9371293e-19, 9.4376919e-14, 6.3030387e-19,\n",
              "        2.8988505e-18, 3.0028592e-20],\n",
              "       [4.7104946e-01, 3.0788320e-05, 6.7171521e-02, 3.5725997e-03,\n",
              "        6.7324792e-03, 2.4486405e-07, 4.5141035e-01, 6.3483377e-08,\n",
              "        3.2438507e-05, 8.2801179e-08]], dtype=float32)"
            ]
          },
          "metadata": {
            "tags": []
          },
          "execution_count": 66
        }
      ]
    },
    {
      "cell_type": "code",
      "metadata": {
        "colab": {
          "base_uri": "https://localhost:8080/"
        },
        "id": "JHTFW1Gp3ElQ",
        "outputId": "c9d0238f-2c08-4373-f59a-a423607317d2"
      },
      "source": [
        "## Test accuracy\n",
        "test_loss, test_acc = model.evaluate(test_images_scaled,  test_labels, verbose=2)\n",
        "print(test_acc)"
      ],
      "execution_count": 67,
      "outputs": [
        {
          "output_type": "stream",
          "text": [
            "313/313 - 0s - loss: 0.2668 - accuracy: 0.9076\n",
            "0.9075999855995178\n"
          ],
          "name": "stdout"
        }
      ]
    },
    {
      "cell_type": "code",
      "metadata": {
        "id": "4tvNhKYQaMMI",
        "colab": {
          "base_uri": "https://localhost:8080/"
        },
        "outputId": "198d2827-1e23-4e2f-8923-62352bcde1fd"
      },
      "source": [
        "prediction_labels = np.argmax(predictions, axis=1)\n",
        "prediction_labels[:5]"
      ],
      "execution_count": 68,
      "outputs": [
        {
          "output_type": "execute_result",
          "data": {
            "text/plain": [
              "array([9, 2, 1, 1, 0])"
            ]
          },
          "metadata": {
            "tags": []
          },
          "execution_count": 68
        }
      ]
    },
    {
      "cell_type": "code",
      "metadata": {
        "id": "n5MxH6THaTOd",
        "colab": {
          "base_uri": "https://localhost:8080/",
          "height": 648
        },
        "outputId": "0be22dcc-0cfd-42fb-b98a-a140b44452e1"
      },
      "source": [
        "from sklearn.metrics import confusion_matrix, classification_report\n",
        "import pandas as pd\n",
        "\n",
        "print(classification_report(test_labels, prediction_labels, target_names=class_names))\n",
        "pd.DataFrame(confusion_matrix(test_labels, prediction_labels), index=class_names, columns=class_names)"
      ],
      "execution_count": 69,
      "outputs": [
        {
          "output_type": "stream",
          "text": [
            "              precision    recall  f1-score   support\n",
            "\n",
            " T-shirt/top       0.83      0.90      0.86      1000\n",
            "     Trouser       1.00      0.97      0.99      1000\n",
            "    Pullover       0.80      0.90      0.85      1000\n",
            "       Dress       0.90      0.93      0.91      1000\n",
            "        Coat       0.87      0.81      0.84      1000\n",
            "      Sandal       0.99      0.97      0.98      1000\n",
            "       Shirt       0.79      0.66      0.72      1000\n",
            "     Sneaker       0.94      0.98      0.96      1000\n",
            "         Bag       0.98      0.97      0.98      1000\n",
            "  Ankle boot       0.98      0.96      0.97      1000\n",
            "\n",
            "    accuracy                           0.91     10000\n",
            "   macro avg       0.91      0.91      0.91     10000\n",
            "weighted avg       0.91      0.91      0.91     10000\n",
            "\n"
          ],
          "name": "stdout"
        },
        {
          "output_type": "execute_result",
          "data": {
            "text/html": [
              "<div>\n",
              "<style scoped>\n",
              "    .dataframe tbody tr th:only-of-type {\n",
              "        vertical-align: middle;\n",
              "    }\n",
              "\n",
              "    .dataframe tbody tr th {\n",
              "        vertical-align: top;\n",
              "    }\n",
              "\n",
              "    .dataframe thead th {\n",
              "        text-align: right;\n",
              "    }\n",
              "</style>\n",
              "<table border=\"1\" class=\"dataframe\">\n",
              "  <thead>\n",
              "    <tr style=\"text-align: right;\">\n",
              "      <th></th>\n",
              "      <th>T-shirt/top</th>\n",
              "      <th>Trouser</th>\n",
              "      <th>Pullover</th>\n",
              "      <th>Dress</th>\n",
              "      <th>Coat</th>\n",
              "      <th>Sandal</th>\n",
              "      <th>Shirt</th>\n",
              "      <th>Sneaker</th>\n",
              "      <th>Bag</th>\n",
              "      <th>Ankle boot</th>\n",
              "    </tr>\n",
              "  </thead>\n",
              "  <tbody>\n",
              "    <tr>\n",
              "      <th>T-shirt/top</th>\n",
              "      <td>903</td>\n",
              "      <td>0</td>\n",
              "      <td>25</td>\n",
              "      <td>17</td>\n",
              "      <td>2</td>\n",
              "      <td>1</td>\n",
              "      <td>48</td>\n",
              "      <td>0</td>\n",
              "      <td>4</td>\n",
              "      <td>0</td>\n",
              "    </tr>\n",
              "    <tr>\n",
              "      <th>Trouser</th>\n",
              "      <td>2</td>\n",
              "      <td>974</td>\n",
              "      <td>0</td>\n",
              "      <td>18</td>\n",
              "      <td>1</td>\n",
              "      <td>0</td>\n",
              "      <td>3</td>\n",
              "      <td>0</td>\n",
              "      <td>2</td>\n",
              "      <td>0</td>\n",
              "    </tr>\n",
              "    <tr>\n",
              "      <th>Pullover</th>\n",
              "      <td>20</td>\n",
              "      <td>0</td>\n",
              "      <td>902</td>\n",
              "      <td>7</td>\n",
              "      <td>37</td>\n",
              "      <td>0</td>\n",
              "      <td>34</td>\n",
              "      <td>0</td>\n",
              "      <td>0</td>\n",
              "      <td>0</td>\n",
              "    </tr>\n",
              "    <tr>\n",
              "      <th>Dress</th>\n",
              "      <td>18</td>\n",
              "      <td>2</td>\n",
              "      <td>10</td>\n",
              "      <td>931</td>\n",
              "      <td>14</td>\n",
              "      <td>0</td>\n",
              "      <td>24</td>\n",
              "      <td>0</td>\n",
              "      <td>1</td>\n",
              "      <td>0</td>\n",
              "    </tr>\n",
              "    <tr>\n",
              "      <th>Coat</th>\n",
              "      <td>1</td>\n",
              "      <td>1</td>\n",
              "      <td>83</td>\n",
              "      <td>35</td>\n",
              "      <td>814</td>\n",
              "      <td>0</td>\n",
              "      <td>64</td>\n",
              "      <td>0</td>\n",
              "      <td>2</td>\n",
              "      <td>0</td>\n",
              "    </tr>\n",
              "    <tr>\n",
              "      <th>Sandal</th>\n",
              "      <td>0</td>\n",
              "      <td>0</td>\n",
              "      <td>0</td>\n",
              "      <td>0</td>\n",
              "      <td>0</td>\n",
              "      <td>969</td>\n",
              "      <td>0</td>\n",
              "      <td>28</td>\n",
              "      <td>1</td>\n",
              "      <td>2</td>\n",
              "    </tr>\n",
              "    <tr>\n",
              "      <th>Shirt</th>\n",
              "      <td>138</td>\n",
              "      <td>0</td>\n",
              "      <td>104</td>\n",
              "      <td>27</td>\n",
              "      <td>62</td>\n",
              "      <td>0</td>\n",
              "      <td>664</td>\n",
              "      <td>0</td>\n",
              "      <td>5</td>\n",
              "      <td>0</td>\n",
              "    </tr>\n",
              "    <tr>\n",
              "      <th>Sneaker</th>\n",
              "      <td>0</td>\n",
              "      <td>0</td>\n",
              "      <td>0</td>\n",
              "      <td>0</td>\n",
              "      <td>0</td>\n",
              "      <td>2</td>\n",
              "      <td>0</td>\n",
              "      <td>985</td>\n",
              "      <td>0</td>\n",
              "      <td>13</td>\n",
              "    </tr>\n",
              "    <tr>\n",
              "      <th>Bag</th>\n",
              "      <td>5</td>\n",
              "      <td>0</td>\n",
              "      <td>6</td>\n",
              "      <td>5</td>\n",
              "      <td>4</td>\n",
              "      <td>1</td>\n",
              "      <td>1</td>\n",
              "      <td>4</td>\n",
              "      <td>974</td>\n",
              "      <td>0</td>\n",
              "    </tr>\n",
              "    <tr>\n",
              "      <th>Ankle boot</th>\n",
              "      <td>1</td>\n",
              "      <td>0</td>\n",
              "      <td>0</td>\n",
              "      <td>0</td>\n",
              "      <td>0</td>\n",
              "      <td>4</td>\n",
              "      <td>0</td>\n",
              "      <td>35</td>\n",
              "      <td>0</td>\n",
              "      <td>960</td>\n",
              "    </tr>\n",
              "  </tbody>\n",
              "</table>\n",
              "</div>"
            ],
            "text/plain": [
              "             T-shirt/top  Trouser  Pullover  ...  Sneaker  Bag  Ankle boot\n",
              "T-shirt/top          903        0        25  ...        0    4           0\n",
              "Trouser                2      974         0  ...        0    2           0\n",
              "Pullover              20        0       902  ...        0    0           0\n",
              "Dress                 18        2        10  ...        0    1           0\n",
              "Coat                   1        1        83  ...        0    2           0\n",
              "Sandal                 0        0         0  ...       28    1           2\n",
              "Shirt                138        0       104  ...        0    5           0\n",
              "Sneaker                0        0         0  ...      985    0          13\n",
              "Bag                    5        0         6  ...        4  974           0\n",
              "Ankle boot             1        0         0  ...       35    0         960\n",
              "\n",
              "[10 rows x 10 columns]"
            ]
          },
          "metadata": {
            "tags": []
          },
          "execution_count": 69
        }
      ]
    },
    {
      "cell_type": "code",
      "metadata": {
        "id": "9ILK-frTaXwT",
        "colab": {
          "base_uri": "https://localhost:8080/"
        },
        "outputId": "3819abab-71b5-4fc6-a09b-c932b080cc16"
      },
      "source": [
        "print(test_labels[:100])"
      ],
      "execution_count": 70,
      "outputs": [
        {
          "output_type": "stream",
          "text": [
            "[9 2 1 1 6 1 4 6 5 7 4 5 7 3 4 1 2 4 8 0 2 5 7 9 1 4 6 0 9 3 8 8 3 3 8 0 7\n",
            " 5 7 9 6 1 3 7 6 7 2 1 2 2 4 4 5 8 2 2 8 4 8 0 7 7 8 5 1 1 2 3 9 8 7 0 2 6\n",
            " 2 3 1 2 8 4 1 8 5 9 5 0 3 2 0 6 5 3 6 7 1 8 0 1 4 2]\n"
          ],
          "name": "stdout"
        }
      ]
    },
    {
      "cell_type": "code",
      "metadata": {
        "id": "HQlhCtz4cOlP",
        "colab": {
          "base_uri": "https://localhost:8080/"
        },
        "outputId": "c25e9497-8866-41c8-920d-40926560ed29"
      },
      "source": [
        "test_labels"
      ],
      "execution_count": 71,
      "outputs": [
        {
          "output_type": "execute_result",
          "data": {
            "text/plain": [
              "array([9, 2, 1, ..., 8, 1, 5], dtype=uint8)"
            ]
          },
          "metadata": {
            "tags": []
          },
          "execution_count": 71
        }
      ]
    },
    {
      "cell_type": "code",
      "metadata": {
        "id": "1ay3mg-CcHQi",
        "colab": {
          "base_uri": "https://localhost:8080/"
        },
        "outputId": "1513203d-0208-4638-f6c6-71fcc5d2ae0a"
      },
      "source": [
        "test_image_idxs = [0, 23, 33]\n",
        "test_labels[test_image_idxs]"
      ],
      "execution_count": 72,
      "outputs": [
        {
          "output_type": "execute_result",
          "data": {
            "text/plain": [
              "array([9, 9, 3], dtype=uint8)"
            ]
          },
          "metadata": {
            "tags": []
          },
          "execution_count": 72
        }
      ]
    },
    {
      "cell_type": "code",
      "metadata": {
        "id": "kD5GkmqRiTAp"
      },
      "source": [
        "layer_outputs = [layer.output for layer in model.layers]\n",
        "activation_model = tf.keras.models.Model(inputs=model.input, outputs=layer_outputs)"
      ],
      "execution_count": 73,
      "outputs": []
    },
    {
      "cell_type": "code",
      "metadata": {
        "id": "CDIYRi8Wf9YJ",
        "colab": {
          "base_uri": "https://localhost:8080/",
          "height": 369
        },
        "outputId": "33fc5137-8b43-44e6-cf63-6be42dc9153f"
      },
      "source": [
        "f, axarr = plt.subplots(3,4, figsize=(8, 5))\n",
        "\n",
        "FIRST_IMAGE=0\n",
        "SECOND_IMAGE=23\n",
        "THIRD_IMAGE=33\n",
        "CONVOLUTION_NUMBER = 13\n",
        "\n",
        "for x in range(0,4):\n",
        "  f1 = activation_model.predict(test_images_scaled[FIRST_IMAGE].reshape(1, 28, 28, 1))[x]\n",
        "  axarr[0,x].imshow(f1[0, : , :, CONVOLUTION_NUMBER], cmap='binary_r')\n",
        "  axarr[0,x].grid(False)\n",
        "  axarr[0,x].set_title(class_names[test_labels[FIRST_IMAGE]])\n",
        "  f2 = activation_model.predict(test_images_scaled[SECOND_IMAGE].reshape(1, 28, 28, 1))[x]\n",
        "  axarr[1,x].imshow(f2[0, : , :, CONVOLUTION_NUMBER], cmap='binary_r')\n",
        "  axarr[1,x].grid(False)\n",
        "  axarr[1,x].set_title(class_names[test_labels[SECOND_IMAGE]])\n",
        "  f3 = activation_model.predict(test_images_scaled[THIRD_IMAGE].reshape(1, 28, 28, 1))[x]\n",
        "  axarr[2,x].imshow(f3[0, : , :, CONVOLUTION_NUMBER], cmap='binary_r')\n",
        "  axarr[2,x].grid(False)\n",
        "  axarr[2,x].set_title(class_names[test_labels[THIRD_IMAGE]])\n",
        "plt.tight_layout()"
      ],
      "execution_count": 74,
      "outputs": [
        {
          "output_type": "display_data",
          "data": {
            "image/png": "[encoded data removed]",
            "text/plain": [
              "<Figure size 576x360 with 12 Axes>"
            ]
          },
          "metadata": {
            "tags": [],
            "needs_background": "light"
          }
        }
      ]
    },
    {
      "cell_type": "code",
      "metadata": {
        "id": "9Hem_7LYbUNR",
        "colab": {
          "base_uri": "https://localhost:8080/",
          "height": 369
        },
        "outputId": "a2100b54-111e-4b55-9151-d47155c1c299"
      },
      "source": [
        "f, axarr = plt.subplots(3,4, figsize=(8, 5))\n",
        "\n",
        "FIRST_IMAGE=2\n",
        "SECOND_IMAGE=3\n",
        "THIRD_IMAGE=5\n",
        "CONVOLUTION_NUMBER = 13\n",
        "\n",
        "for x in range(0,4):\n",
        "  f1 = activation_model.predict(test_images_scaled[FIRST_IMAGE].reshape(1, 28, 28, 1))[x]\n",
        "  axarr[0,x].imshow(f1[0, : , :, CONVOLUTION_NUMBER], cmap='binary_r')\n",
        "  axarr[0,x].grid(False)\n",
        "  axarr[0,x].set_title(class_names[test_labels[FIRST_IMAGE]])\n",
        "  f2 = activation_model.predict(test_images_scaled[SECOND_IMAGE].reshape(1, 28, 28, 1))[x]\n",
        "  axarr[1,x].imshow(f2[0, : , :, CONVOLUTION_NUMBER], cmap='binary_r')\n",
        "  axarr[1,x].grid(False)\n",
        "  axarr[1,x].set_title(class_names[test_labels[SECOND_IMAGE]])\n",
        "  f3 = activation_model.predict(test_images_scaled[THIRD_IMAGE].reshape(1, 28, 28, 1))[x]\n",
        "  axarr[2,x].imshow(f3[0, : , :, CONVOLUTION_NUMBER], cmap='binary_r')\n",
        "  axarr[2,x].grid(False)\n",
        "  axarr[2,x].set_title(class_names[test_labels[THIRD_IMAGE]])\n",
        "plt.tight_layout()"
      ],
      "execution_count": 75,
      "outputs": [
        {
          "output_type": "display_data",
          "data": {
            "image/png": "[encoded data removed]",
            "text/plain": [
              "<Figure size 576x360 with 12 Axes>"
            ]
          },
          "metadata": {
            "tags": [],
            "needs_background": "light"
          }
        }
      ]
    },
    {
      "cell_type": "code",
      "metadata": {
        "id": "xknjemADivmG",
        "colab": {
          "base_uri": "https://localhost:8080/",
          "height": 369
        },
        "outputId": "c6d08af2-7a9d-4bc5-fdb1-57bda7b48bf6"
      },
      "source": [
        "f, axarr = plt.subplots(3,4, figsize=(8, 5))\n",
        "\n",
        "FIRST_IMAGE=2\n",
        "SECOND_IMAGE=3\n",
        "THIRD_IMAGE=5\n",
        "CONVOLUTION_NUMBER = 3\n",
        "\n",
        "for x in range(0,4):\n",
        "  f1 = activation_model.predict(test_images_scaled[FIRST_IMAGE].reshape(1, 28, 28, 1))[x]\n",
        "  axarr[0,x].imshow(f1[0, : , :, CONVOLUTION_NUMBER], cmap='binary_r')\n",
        "  axarr[0,x].grid(False)\n",
        "  axarr[0,x].set_title(class_names[test_labels[FIRST_IMAGE]])\n",
        "  f2 = activation_model.predict(test_images_scaled[SECOND_IMAGE].reshape(1, 28, 28, 1))[x]\n",
        "  axarr[1,x].imshow(f2[0, : , :, CONVOLUTION_NUMBER], cmap='binary_r')\n",
        "  axarr[1,x].grid(False)\n",
        "  axarr[1,x].set_title(class_names[test_labels[SECOND_IMAGE]])\n",
        "  f3 = activation_model.predict(test_images_scaled[THIRD_IMAGE].reshape(1, 28, 28, 1))[x]\n",
        "  axarr[2,x].imshow(f3[0, : , :, CONVOLUTION_NUMBER], cmap='binary_r')\n",
        "  axarr[2,x].grid(False)\n",
        "  axarr[2,x].set_title(class_names[test_labels[THIRD_IMAGE]])\n",
        "plt.tight_layout()"
      ],
      "execution_count": 76,
      "outputs": [
        {
          "output_type": "display_data",
          "data": {
            "image/png": "[encoded data removed]",
            "text/plain": [
              "<Figure size 576x360 with 12 Axes>"
            ]
          },
          "metadata": {
            "tags": [],
            "needs_background": "light"
          }
        }
      ]
    },
    {
      "cell_type": "markdown",
      "metadata": {
        "id": "5wnn1-8VdCkD"
      },
      "source": [
        "# 2. Fine-tuning a pre-trained VGG-19 CNN Model\n",
        "\n",
        "Here, we will use a VGG-19 model which was pre-trained on the ImageNet dataset by fine-tuning it on the Fashion-MNIST dataset. "
      ]
    },
    {
      "cell_type": "markdown",
      "metadata": {
        "id": "xzGbhY3JoDMN"
      },
      "source": [
        "## Transfer Learning\n",
        "\n",
        "![](https://i.imgur.com/WcUabml.png)"
      ]
    },
    {
      "cell_type": "markdown",
      "metadata": {
        "id": "xS5Y0TK-oYUn"
      },
      "source": [
        "## Model Architecture Details\n",
        "\n",
        "![](https://i.imgur.com/1VZ7MlO.png)"
      ]
    },
    {
      "cell_type": "markdown",
      "metadata": {
        "id": "HKlC9s2vo486"
      },
      "source": [
        "## Reshaping Image Data for Modeling\n",
        "\n",
        "We do need to reshape our data before we train our model. Here we will convert the images to 3-channel images (image pixel tensors) as the VGG model was originally trained on RGB images"
      ]
    },
    {
      "cell_type": "code",
      "metadata": {
        "id": "COpBZv4AqETx",
        "colab": {
          "base_uri": "https://localhost:8080/"
        },
        "outputId": "4fffc203-f7b4-4353-ec07-60c8f954e3e2"
      },
      "source": [
        "train_images_3ch = np.stack([train_images]*3, axis=-1)\n",
        "test_images_3ch = np.stack([test_images]*3, axis=-1)\n",
        "\n",
        "print('\\nTrain_images.shape: {}, of {}'.format(train_images_3ch.shape, train_images_3ch.dtype))\n",
        "print('Test_images.shape: {}, of {}'.format(test_images_3ch.shape, test_images_3ch.dtype))"
      ],
      "execution_count": 77,
      "outputs": [
        {
          "output_type": "stream",
          "text": [
            "\n",
            "Train_images.shape: (60000, 28, 28, 3), of uint8\n",
            "Test_images.shape: (10000, 28, 28, 3), of uint8\n"
          ],
          "name": "stdout"
        }
      ]
    },
    {
      "cell_type": "markdown",
      "metadata": {
        "id": "WhZ0rlEEqGm_"
      },
      "source": [
        "## Resizing Image Data for Modeling\n",
        "\n",
        "The minimum image size expected by the VGG model is 32x32 so we need to resize our images"
      ]
    },
    {
      "cell_type": "code",
      "metadata": {
        "id": "wzyKQaYJqLcO"
      },
      "source": [
        "import cv2\n",
        "\n",
        "def resize_image_array(img, img_size_dims):\n",
        "    img = cv2.resize(img, dsize=img_size_dims, \n",
        "                     interpolation=cv2.INTER_CUBIC)\n",
        "    img = np.array(img, dtype=np.float32)\n",
        "    return img"
      ],
      "execution_count": 78,
      "outputs": []
    },
    {
      "cell_type": "code",
      "metadata": {
        "id": "oDqdYoMjqQZg",
        "colab": {
          "base_uri": "https://localhost:8080/"
        },
        "outputId": "0d1ba398-d414-4b3a-a609-ed8a0c6d2adc"
      },
      "source": [
        "%%time\n",
        "\n",
        "IMG_DIMS = (32, 32)\n",
        "\n",
        "train_images_3ch = np.array([resize_image_array(img, img_size_dims=IMG_DIMS) for img in train_images_3ch])\n",
        "test_images_3ch = np.array([resize_image_array(img, img_size_dims=IMG_DIMS) for img in test_images_3ch])\n",
        "\n",
        "print('\\nTrain_images.shape: {}, of {}'.format(train_images_3ch.shape, train_images_3ch.dtype))\n",
        "print('Test_images.shape: {}, of {}'.format(test_images_3ch.shape, test_images_3ch.dtype))"
      ],
      "execution_count": 79,
      "outputs": [
        {
          "output_type": "stream",
          "text": [
            "\n",
            "Train_images.shape: (60000, 32, 32, 3), of float32\n",
            "Test_images.shape: (10000, 32, 32, 3), of float32\n",
            "CPU times: user 1.68 s, sys: 293 ms, total: 1.98 s\n",
            "Wall time: 1.98 s\n"
          ],
          "name": "stdout"
        }
      ]
    },
    {
      "cell_type": "markdown",
      "metadata": {
        "id": "zLNlDxweqTFD"
      },
      "source": [
        "## Build CNN Model Architecture\n",
        "\n",
        "We will now build our CNN model architecture customizing the VGG-19 model."
      ]
    },
    {
      "cell_type": "markdown",
      "metadata": {
        "id": "jyWXrAFtrfkm"
      },
      "source": [
        "### Build Cut-VGG19 Model"
      ]
    },
    {
      "cell_type": "code",
      "metadata": {
        "id": "lkWEAB5cqw0z",
        "colab": {
          "base_uri": "https://localhost:8080/"
        },
        "outputId": "7e72f925-6a91-45ff-cbb2-f81afdfc2785"
      },
      "source": [
        "# define input shape\n",
        "INPUT_SHAPE = (32, 32, 3)\n",
        "\n",
        "# get the VGG19 model\n",
        "vgg_layers = tf.keras.applications.vgg19.VGG19(weights='imagenet', include_top=False, \n",
        "                                               input_shape=INPUT_SHAPE)\n",
        "\n",
        "vgg_layers.summary()"
      ],
      "execution_count": 80,
      "outputs": [
        {
          "output_type": "stream",
          "text": [
            "Model: \"vgg19\"\n",
            "_________________________________________________________________\n",
            "Layer (type)                 Output Shape              Param #   \n",
            "=================================================================\n",
            "input_2 (InputLayer)         [(None, 32, 32, 3)]       0         \n",
            "_________________________________________________________________\n",
            "block1_conv1 (Conv2D)        (None, 32, 32, 64)        1792      \n",
            "_________________________________________________________________\n",
            "block1_conv2 (Conv2D)        (None, 32, 32, 64)        36928     \n",
            "_________________________________________________________________\n",
            "block1_pool (MaxPooling2D)   (None, 16, 16, 64)        0         \n",
            "_________________________________________________________________\n",
            "block2_conv1 (Conv2D)        (None, 16, 16, 128)       73856     \n",
            "_________________________________________________________________\n",
            "block2_conv2 (Conv2D)        (None, 16, 16, 128)       147584    \n",
            "_________________________________________________________________\n",
            "block2_pool (MaxPooling2D)   (None, 8, 8, 128)         0         \n",
            "_________________________________________________________________\n",
            "block3_conv1 (Conv2D)        (None, 8, 8, 256)         295168    \n",
            "_________________________________________________________________\n",
            "block3_conv2 (Conv2D)        (None, 8, 8, 256)         590080    \n",
            "_________________________________________________________________\n",
            "block3_conv3 (Conv2D)        (None, 8, 8, 256)         590080    \n",
            "_________________________________________________________________\n",
            "block3_conv4 (Conv2D)        (None, 8, 8, 256)         590080    \n",
            "_________________________________________________________________\n",
            "block3_pool (MaxPooling2D)   (None, 4, 4, 256)         0         \n",
            "_________________________________________________________________\n",
            "block4_conv1 (Conv2D)        (None, 4, 4, 512)         1180160   \n",
            "_________________________________________________________________\n",
            "block4_conv2 (Conv2D)        (None, 4, 4, 512)         2359808   \n",
            "_________________________________________________________________\n",
            "block4_conv3 (Conv2D)        (None, 4, 4, 512)         2359808   \n",
            "_________________________________________________________________\n",
            "block4_conv4 (Conv2D)        (None, 4, 4, 512)         2359808   \n",
            "_________________________________________________________________\n",
            "block4_pool (MaxPooling2D)   (None, 2, 2, 512)         0         \n",
            "_________________________________________________________________\n",
            "block5_conv1 (Conv2D)        (None, 2, 2, 512)         2359808   \n",
            "_________________________________________________________________\n",
            "block5_conv2 (Conv2D)        (None, 2, 2, 512)         2359808   \n",
            "_________________________________________________________________\n",
            "block5_conv3 (Conv2D)        (None, 2, 2, 512)         2359808   \n",
            "_________________________________________________________________\n",
            "block5_conv4 (Conv2D)        (None, 2, 2, 512)         2359808   \n",
            "_________________________________________________________________\n",
            "block5_pool (MaxPooling2D)   (None, 1, 1, 512)         0         \n",
            "=================================================================\n",
            "Total params: 20,024,384\n",
            "Trainable params: 20,024,384\n",
            "Non-trainable params: 0\n",
            "_________________________________________________________________\n"
          ],
          "name": "stdout"
        }
      ]
    },
    {
      "cell_type": "markdown",
      "metadata": {
        "id": "agsXqdxQrj7u"
      },
      "source": [
        "### Set layers to trainable to enable fine-tuning"
      ]
    },
    {
      "cell_type": "code",
      "metadata": {
        "id": "2CXLl2jDrBEV",
        "colab": {
          "base_uri": "https://localhost:8080/"
        },
        "outputId": "84c5df6c-6f6d-42bb-f10e-af5da0d2839c"
      },
      "source": [
        "# Fine-tune all the layers\n",
        "for layer in vgg_layers.layers:\n",
        "    layer.trainable = True\n",
        "\n",
        "# Check the trainable status of the individual layers\n",
        "for layer in vgg_layers.layers:\n",
        "    print(layer, layer.trainable)"
      ],
      "execution_count": 81,
      "outputs": [
        {
          "output_type": "stream",
          "text": [
            "<tensorflow.python.keras.engine.input_layer.InputLayer object at 0x7f42c0365a90> True\n",
            "<tensorflow.python.keras.layers.convolutional.Conv2D object at 0x7f42cef43910> True\n",
            "<tensorflow.python.keras.layers.convolutional.Conv2D object at 0x7f425e025c50> True\n",
            "<tensorflow.python.keras.layers.pooling.MaxPooling2D object at 0x7f41de8c72d0> True\n",
            "<tensorflow.python.keras.layers.convolutional.Conv2D object at 0x7f425e068350> True\n",
            "<tensorflow.python.keras.layers.convolutional.Conv2D object at 0x7f41de6b5110> True\n",
            "<tensorflow.python.keras.layers.pooling.MaxPooling2D object at 0x7f425e025ad0> True\n",
            "<tensorflow.python.keras.layers.convolutional.Conv2D object at 0x7f41d05baad0> True\n",
            "<tensorflow.python.keras.layers.convolutional.Conv2D object at 0x7f41d0597910> True\n",
            "<tensorflow.python.keras.layers.convolutional.Conv2D object at 0x7f41de23b350> True\n",
            "<tensorflow.python.keras.layers.convolutional.Conv2D object at 0x7f41d0597c10> True\n",
            "<tensorflow.python.keras.layers.pooling.MaxPooling2D object at 0x7f41de3786d0> True\n",
            "<tensorflow.python.keras.layers.convolutional.Conv2D object at 0x7f41de378b10> True\n",
            "<tensorflow.python.keras.layers.convolutional.Conv2D object at 0x7f41d05a9b90> True\n",
            "<tensorflow.python.keras.layers.convolutional.Conv2D object at 0x7f41d03f8050> True\n",
            "<tensorflow.python.keras.layers.convolutional.Conv2D object at 0x7f41d0597510> True\n",
            "<tensorflow.python.keras.layers.pooling.MaxPooling2D object at 0x7f41de2b1950> True\n",
            "<tensorflow.python.keras.layers.convolutional.Conv2D object at 0x7f425e082190> True\n",
            "<tensorflow.python.keras.layers.convolutional.Conv2D object at 0x7f41de28c410> True\n",
            "<tensorflow.python.keras.layers.convolutional.Conv2D object at 0x7f41de36bc90> True\n",
            "<tensorflow.python.keras.layers.convolutional.Conv2D object at 0x7f41de28ce50> True\n",
            "<tensorflow.python.keras.layers.pooling.MaxPooling2D object at 0x7f425e025d10> True\n"
          ],
          "name": "stdout"
        }
      ]
    },
    {
      "cell_type": "markdown",
      "metadata": {
        "id": "u5ZRD7wsrn9Z"
      },
      "source": [
        "### Build CNN model on top of VGG19"
      ]
    },
    {
      "cell_type": "code",
      "metadata": {
        "id": "OVIxVkRLqhNO",
        "colab": {
          "base_uri": "https://localhost:8080/"
        },
        "outputId": "03a5f35a-8ccf-488a-d262-04d6c73fad6a"
      },
      "source": [
        "# define sequential model\n",
        "model = tf.keras.models.Sequential()\n",
        "\n",
        "# Add the vgg convolutional base model\n",
        "model.add(vgg_layers)\n",
        "\n",
        "# add flatten layer\n",
        "model.add(tf.keras.layers.Flatten())\n",
        "\n",
        "# add dense layers with some dropout\n",
        "model.add(tf.keras.layers.Dense(256, activation='relu'))\n",
        "model.add(tf.keras.layers.Dropout(rate=0.3))\n",
        "model.add(tf.keras.layers.Dense(256, activation='relu'))\n",
        "model.add(tf.keras.layers.Dropout(rate=0.3))\n",
        "\n",
        "# add output layer\n",
        "model.add(tf.keras.layers.Dense(10, activation='softmax'))\n",
        "\n",
        "# compile model\n",
        "model.compile(optimizer=tf.keras.optimizers.Adam(learning_rate=2e-5), ### lessen the learning rate  in-order to reapply the weights on VGG pretrined \n",
        "              loss='sparse_categorical_crossentropy', \n",
        "              metrics=['accuracy'])\n",
        "\n",
        "# view model layers\n",
        "model.summary()"
      ],
      "execution_count": 82,
      "outputs": [
        {
          "output_type": "stream",
          "text": [
            "Model: \"sequential_3\"\n",
            "_________________________________________________________________\n",
            "Layer (type)                 Output Shape              Param #   \n",
            "=================================================================\n",
            "vgg19 (Functional)           (None, 1, 1, 512)         20024384  \n",
            "_________________________________________________________________\n",
            "flatten_3 (Flatten)          (None, 512)               0         \n",
            "_________________________________________________________________\n",
            "dense_9 (Dense)              (None, 256)               131328    \n",
            "_________________________________________________________________\n",
            "dropout_6 (Dropout)          (None, 256)               0         \n",
            "_________________________________________________________________\n",
            "dense_10 (Dense)             (None, 256)               65792     \n",
            "_________________________________________________________________\n",
            "dropout_7 (Dropout)          (None, 256)               0         \n",
            "_________________________________________________________________\n",
            "dense_11 (Dense)             (None, 10)                2570      \n",
            "=================================================================\n",
            "Total params: 20,224,074\n",
            "Trainable params: 20,224,074\n",
            "Non-trainable params: 0\n",
            "_________________________________________________________________\n"
          ],
          "name": "stdout"
        }
      ]
    },
    {
      "cell_type": "code",
      "metadata": {
        "id": "KG8QTQDpr5q1",
        "colab": {
          "base_uri": "https://localhost:8080/"
        },
        "outputId": "39cb25d3-76a1-476e-f22a-a8fd4f66a95e"
      },
      "source": [
        "EPOCHS = 100\n",
        "train_images_3ch_scaled = train_images_3ch / 255.\n",
        "es_callback = tf.keras.callbacks.EarlyStopping(monitor='val_loss', patience=2, \n",
        "                                               restore_best_weights=True,\n",
        "                                               verbose=1)\n",
        "\n",
        "history = model.fit(train_images_3ch_scaled, train_labels,\n",
        "                    batch_size=32,\n",
        "                    callbacks=[es_callback], \n",
        "                    validation_split=0.1, epochs=EPOCHS,\n",
        "                    verbose=1)"
      ],
      "execution_count": 83,
      "outputs": [
        {
          "output_type": "stream",
          "text": [
            "Epoch 1/100\n",
            "1688/1688 [==============================] - 65s 38ms/step - loss: 0.5231 - accuracy: 0.8260 - val_loss: 0.3232 - val_accuracy: 0.8857\n",
            "Epoch 2/100\n",
            "1688/1688 [==============================] - 64s 38ms/step - loss: 0.3128 - accuracy: 0.8959 - val_loss: 0.2455 - val_accuracy: 0.9088\n",
            "Epoch 3/100\n",
            "1688/1688 [==============================] - 64s 38ms/step - loss: 0.2617 - accuracy: 0.9109 - val_loss: 0.2534 - val_accuracy: 0.9098\n",
            "Epoch 4/100\n",
            "1688/1688 [==============================] - 64s 38ms/step - loss: 0.2301 - accuracy: 0.9217 - val_loss: 0.2244 - val_accuracy: 0.9172\n",
            "Epoch 5/100\n",
            "1688/1688 [==============================] - 64s 38ms/step - loss: 0.2012 - accuracy: 0.9310 - val_loss: 0.2135 - val_accuracy: 0.9278\n",
            "Epoch 6/100\n",
            "1688/1688 [==============================] - 64s 38ms/step - loss: 0.1797 - accuracy: 0.9384 - val_loss: 0.2181 - val_accuracy: 0.9238\n",
            "Epoch 7/100\n",
            "1688/1688 [==============================] - 64s 38ms/step - loss: 0.1630 - accuracy: 0.9431 - val_loss: 0.2093 - val_accuracy: 0.9258\n",
            "Epoch 8/100\n",
            "1688/1688 [==============================] - 64s 38ms/step - loss: 0.1432 - accuracy: 0.9508 - val_loss: 0.2177 - val_accuracy: 0.9245\n",
            "Epoch 9/100\n",
            "1688/1688 [==============================] - 64s 38ms/step - loss: 0.1274 - accuracy: 0.9559 - val_loss: 0.2070 - val_accuracy: 0.9287\n",
            "Epoch 10/100\n",
            "1688/1688 [==============================] - 64s 38ms/step - loss: 0.1119 - accuracy: 0.9614 - val_loss: 0.2202 - val_accuracy: 0.9290\n",
            "Epoch 11/100\n",
            "1688/1688 [==============================] - 64s 38ms/step - loss: 0.0990 - accuracy: 0.9654 - val_loss: 0.2294 - val_accuracy: 0.9315\n",
            "Restoring model weights from the end of the best epoch.\n",
            "Epoch 00011: early stopping\n"
          ],
          "name": "stdout"
        }
      ]
    },
    {
      "cell_type": "markdown",
      "metadata": {
        "id": "_zoaG0Ensxc_"
      },
      "source": [
        "## Plot Learning Curves"
      ]
    },
    {
      "cell_type": "code",
      "metadata": {
        "id": "avZAjaJZsTsq",
        "colab": {
          "base_uri": "https://localhost:8080/",
          "height": 265
        },
        "outputId": "c1a6e199-a144-4dfc-f90c-5666dfa3f6bb"
      },
      "source": [
        "fig, ax = plt.subplots(1, 2, figsize=(10, 4))\n",
        "\n",
        "history_df = pd.DataFrame(history.history)\n",
        "history_df[['loss', 'val_loss']].plot(kind='line', ax=ax[0])\n",
        "history_df[['accuracy', 'val_accuracy']].plot(kind='line', ax=ax[1]);"
      ],
      "execution_count": 84,
      "outputs": [
        {
          "output_type": "display_data",
          "data": {
            "image/png": "[encoded data removed]",
            "text/plain": [
              "<Figure size 720x288 with 2 Axes>"
            ]
          },
          "metadata": {
            "tags": [],
            "needs_background": "light"
          }
        }
      ]
    },
    {
      "cell_type": "markdown",
      "metadata": {
        "id": "xoJGVnVFs5Bw"
      },
      "source": [
        "## Evaluate Model Performance on Test Data"
      ]
    },
    {
      "cell_type": "code",
      "metadata": {
        "colab": {
          "base_uri": "https://localhost:8080/"
        },
        "id": "hvvbstMJ2hho",
        "outputId": "326fc622-d790-4bc0-b827-23b04b25949c"
      },
      "source": [
        "## Test accuracy\n",
        "test_loss, test_acc = model.evaluate(test_images_3ch_scaled,  test_labels, verbose=2)\n",
        "print(test_acc)"
      ],
      "execution_count": 85,
      "outputs": [
        {
          "output_type": "stream",
          "text": [
            "313/313 - 3s - loss: 0.2283 - accuracy: 0.9273\n",
            "0.927299976348877\n"
          ],
          "name": "stdout"
        }
      ]
    },
    {
      "cell_type": "code",
      "metadata": {
        "id": "DryNyR2Ns__y",
        "colab": {
          "base_uri": "https://localhost:8080/"
        },
        "outputId": "7e87b41e-170f-4627-881d-1b4fb2f8c4ae"
      },
      "source": [
        "test_images_3ch_scaled = test_images_3ch / 255.\n",
        "predictions = model.predict(test_images_3ch_scaled)\n",
        "predictions[:5]"
      ],
      "execution_count": 86,
      "outputs": [
        {
          "output_type": "execute_result",
          "data": {
            "text/plain": [
              "array([[1.5496069e-09, 5.7883492e-10, 2.9210776e-09, 9.6501473e-09,\n",
              "        3.4449967e-09, 1.0686448e-06, 4.5940212e-08, 1.1701724e-05,\n",
              "        9.0203323e-10, 9.9998713e-01],\n",
              "       [4.8797021e-05, 6.6144530e-08, 9.9952888e-01, 2.6496987e-06,\n",
              "        6.9373869e-05, 8.0778840e-08, 3.4886549e-04, 3.9739132e-07,\n",
              "        7.5470473e-07, 2.2569223e-07],\n",
              "       [4.0668676e-17, 1.0000000e+00, 1.3758604e-17, 1.0084056e-13,\n",
              "        3.8404762e-15, 8.9482174e-18, 1.1473589e-15, 7.2754244e-20,\n",
              "        7.8016221e-17, 9.9268973e-19],\n",
              "       [9.3313690e-14, 1.0000000e+00, 3.7608341e-14, 6.0608699e-11,\n",
              "        3.9397162e-12, 2.9656599e-14, 1.4384622e-12, 7.1470872e-16,\n",
              "        1.4875892e-13, 5.2058954e-15],\n",
              "       [1.4262219e-01, 4.6442667e-04, 5.4519009e-03, 5.0761960e-03,\n",
              "        4.7512590e-03, 2.5738665e-04, 8.3986408e-01, 2.6456860e-04,\n",
              "        8.2796719e-04, 4.1990401e-04]], dtype=float32)"
            ]
          },
          "metadata": {
            "tags": []
          },
          "execution_count": 86
        }
      ]
    },
    {
      "cell_type": "code",
      "metadata": {
        "id": "Bv7Ep2FPtEIg",
        "colab": {
          "base_uri": "https://localhost:8080/"
        },
        "outputId": "32cfe364-4b54-4399-a35b-f8b28e9f2734"
      },
      "source": [
        "prediction_labels = np.argmax(predictions, axis=1)\n",
        "prediction_labels[:5]"
      ],
      "execution_count": 87,
      "outputs": [
        {
          "output_type": "execute_result",
          "data": {
            "text/plain": [
              "array([9, 2, 1, 1, 6])"
            ]
          },
          "metadata": {
            "tags": []
          },
          "execution_count": 87
        }
      ]
    },
    {
      "cell_type": "code",
      "metadata": {
        "id": "Y0Q2SkUYtF0O",
        "colab": {
          "base_uri": "https://localhost:8080/",
          "height": 648
        },
        "outputId": "b2938d59-4a63-4611-cdca-2b452a67be14"
      },
      "source": [
        "print(classification_report(test_labels, prediction_labels, target_names=class_names))\n",
        "pd.DataFrame(confusion_matrix(test_labels, prediction_labels), index=class_names, columns=class_names)"
      ],
      "execution_count": 88,
      "outputs": [
        {
          "output_type": "stream",
          "text": [
            "              precision    recall  f1-score   support\n",
            "\n",
            " T-shirt/top       0.93      0.83      0.87      1000\n",
            "     Trouser       1.00      0.99      0.99      1000\n",
            "    Pullover       0.89      0.92      0.90      1000\n",
            "       Dress       0.89      0.96      0.92      1000\n",
            "        Coat       0.86      0.90      0.88      1000\n",
            "      Sandal       0.99      0.99      0.99      1000\n",
            "       Shirt       0.80      0.75      0.77      1000\n",
            "     Sneaker       0.96      0.98      0.97      1000\n",
            "         Bag       0.99      0.99      0.99      1000\n",
            "  Ankle boot       0.98      0.97      0.97      1000\n",
            "\n",
            "    accuracy                           0.93     10000\n",
            "   macro avg       0.93      0.93      0.93     10000\n",
            "weighted avg       0.93      0.93      0.93     10000\n",
            "\n"
          ],
          "name": "stdout"
        },
        {
          "output_type": "execute_result",
          "data": {
            "text/html": [
              "<div>\n",
              "<style scoped>\n",
              "    .dataframe tbody tr th:only-of-type {\n",
              "        vertical-align: middle;\n",
              "    }\n",
              "\n",
              "    .dataframe tbody tr th {\n",
              "        vertical-align: top;\n",
              "    }\n",
              "\n",
              "    .dataframe thead th {\n",
              "        text-align: right;\n",
              "    }\n",
              "</style>\n",
              "<table border=\"1\" class=\"dataframe\">\n",
              "  <thead>\n",
              "    <tr style=\"text-align: right;\">\n",
              "      <th></th>\n",
              "      <th>T-shirt/top</th>\n",
              "      <th>Trouser</th>\n",
              "      <th>Pullover</th>\n",
              "      <th>Dress</th>\n",
              "      <th>Coat</th>\n",
              "      <th>Sandal</th>\n",
              "      <th>Shirt</th>\n",
              "      <th>Sneaker</th>\n",
              "      <th>Bag</th>\n",
              "      <th>Ankle boot</th>\n",
              "    </tr>\n",
              "  </thead>\n",
              "  <tbody>\n",
              "    <tr>\n",
              "      <th>T-shirt/top</th>\n",
              "      <td>827</td>\n",
              "      <td>0</td>\n",
              "      <td>13</td>\n",
              "      <td>29</td>\n",
              "      <td>5</td>\n",
              "      <td>0</td>\n",
              "      <td>120</td>\n",
              "      <td>0</td>\n",
              "      <td>6</td>\n",
              "      <td>0</td>\n",
              "    </tr>\n",
              "    <tr>\n",
              "      <th>Trouser</th>\n",
              "      <td>0</td>\n",
              "      <td>986</td>\n",
              "      <td>0</td>\n",
              "      <td>10</td>\n",
              "      <td>1</td>\n",
              "      <td>0</td>\n",
              "      <td>2</td>\n",
              "      <td>0</td>\n",
              "      <td>1</td>\n",
              "      <td>0</td>\n",
              "    </tr>\n",
              "    <tr>\n",
              "      <th>Pullover</th>\n",
              "      <td>7</td>\n",
              "      <td>1</td>\n",
              "      <td>917</td>\n",
              "      <td>13</td>\n",
              "      <td>33</td>\n",
              "      <td>0</td>\n",
              "      <td>29</td>\n",
              "      <td>0</td>\n",
              "      <td>0</td>\n",
              "      <td>0</td>\n",
              "    </tr>\n",
              "    <tr>\n",
              "      <th>Dress</th>\n",
              "      <td>6</td>\n",
              "      <td>1</td>\n",
              "      <td>4</td>\n",
              "      <td>958</td>\n",
              "      <td>13</td>\n",
              "      <td>0</td>\n",
              "      <td>17</td>\n",
              "      <td>0</td>\n",
              "      <td>1</td>\n",
              "      <td>0</td>\n",
              "    </tr>\n",
              "    <tr>\n",
              "      <th>Coat</th>\n",
              "      <td>1</td>\n",
              "      <td>1</td>\n",
              "      <td>45</td>\n",
              "      <td>28</td>\n",
              "      <td>903</td>\n",
              "      <td>0</td>\n",
              "      <td>22</td>\n",
              "      <td>0</td>\n",
              "      <td>0</td>\n",
              "      <td>0</td>\n",
              "    </tr>\n",
              "    <tr>\n",
              "      <th>Sandal</th>\n",
              "      <td>0</td>\n",
              "      <td>0</td>\n",
              "      <td>0</td>\n",
              "      <td>0</td>\n",
              "      <td>0</td>\n",
              "      <td>986</td>\n",
              "      <td>0</td>\n",
              "      <td>9</td>\n",
              "      <td>1</td>\n",
              "      <td>4</td>\n",
              "    </tr>\n",
              "    <tr>\n",
              "      <th>Shirt</th>\n",
              "      <td>51</td>\n",
              "      <td>0</td>\n",
              "      <td>55</td>\n",
              "      <td>39</td>\n",
              "      <td>99</td>\n",
              "      <td>0</td>\n",
              "      <td>754</td>\n",
              "      <td>0</td>\n",
              "      <td>2</td>\n",
              "      <td>0</td>\n",
              "    </tr>\n",
              "    <tr>\n",
              "      <th>Sneaker</th>\n",
              "      <td>0</td>\n",
              "      <td>0</td>\n",
              "      <td>0</td>\n",
              "      <td>0</td>\n",
              "      <td>0</td>\n",
              "      <td>6</td>\n",
              "      <td>0</td>\n",
              "      <td>980</td>\n",
              "      <td>0</td>\n",
              "      <td>14</td>\n",
              "    </tr>\n",
              "    <tr>\n",
              "      <th>Bag</th>\n",
              "      <td>1</td>\n",
              "      <td>0</td>\n",
              "      <td>1</td>\n",
              "      <td>1</td>\n",
              "      <td>0</td>\n",
              "      <td>1</td>\n",
              "      <td>1</td>\n",
              "      <td>0</td>\n",
              "      <td>995</td>\n",
              "      <td>0</td>\n",
              "    </tr>\n",
              "    <tr>\n",
              "      <th>Ankle boot</th>\n",
              "      <td>0</td>\n",
              "      <td>0</td>\n",
              "      <td>0</td>\n",
              "      <td>0</td>\n",
              "      <td>0</td>\n",
              "      <td>2</td>\n",
              "      <td>1</td>\n",
              "      <td>30</td>\n",
              "      <td>0</td>\n",
              "      <td>967</td>\n",
              "    </tr>\n",
              "  </tbody>\n",
              "</table>\n",
              "</div>"
            ],
            "text/plain": [
              "             T-shirt/top  Trouser  Pullover  ...  Sneaker  Bag  Ankle boot\n",
              "T-shirt/top          827        0        13  ...        0    6           0\n",
              "Trouser                0      986         0  ...        0    1           0\n",
              "Pullover               7        1       917  ...        0    0           0\n",
              "Dress                  6        1         4  ...        0    1           0\n",
              "Coat                   1        1        45  ...        0    0           0\n",
              "Sandal                 0        0         0  ...        9    1           4\n",
              "Shirt                 51        0        55  ...        0    2           0\n",
              "Sneaker                0        0         0  ...      980    0          14\n",
              "Bag                    1        0         1  ...        0  995           0\n",
              "Ankle boot             0        0         0  ...       30    0         967\n",
              "\n",
              "[10 rows x 10 columns]"
            ]
          },
          "metadata": {
            "tags": []
          },
          "execution_count": 88
        }
      ]
    }
  ]
}