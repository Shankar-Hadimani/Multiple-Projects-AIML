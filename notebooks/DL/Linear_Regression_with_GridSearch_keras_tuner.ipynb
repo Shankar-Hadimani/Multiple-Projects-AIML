{
  "nbformat": 4,
  "nbformat_minor": 0,
  "metadata": {
    "colab": {
      "name": "Linear_Regression_with_GridSearch_keras-tuner.ipynb",
      "provenance": [],
      "collapsed_sections": [],
      "include_colab_link": true
    },
    "kernelspec": {
      "name": "python3",
      "display_name": "Python 3"
    },
    "accelerator": "TPU"
  },
  "cells": [
    {
      "cell_type": "markdown",
      "metadata": {
        "id": "view-in-github",
        "colab_type": "text"
      },
      "source": [
        "<a href=\"https://colab.research.google.com/github/Shankar-Hadimani/1000_test/blob/master/notebooks/DL/Linear_Regression_with_GridSearch_keras_tuner.ipynb\" target=\"_parent\"><img src=\"https://colab.research.google.com/assets/colab-badge.svg\" alt=\"Open In Colab\"/></a>"
      ]
    },
    {
      "cell_type": "markdown",
      "metadata": {
        "id": "tmHsf5DWsxr6"
      },
      "source": [
        "# Agenda\n",
        "1. About the Dataset\n",
        "2. Objective\n",
        "3. Loading Libraries\n",
        "4. Loading Data\n",
        "5. View Data\n",
        "6. Separate Input Features and Output Features\n",
        "7. Split The Data into Train and Test Set\n",
        "8. Train the model (The five step model life cycle)\n",
        "  1. Define the model.\n",
        "  2. Compile the model.\n",
        "  3. Fit the model.\n",
        "  4. Evaluate the model\n",
        "    * Hyperparameter Tunning\n",
        "  5. Prediction"
      ]
    },
    {
      "cell_type": "markdown",
      "metadata": {
        "id": "NmP7x85xcxkS"
      },
      "source": [
        "## About the Dataset\n",
        "We will be working on a data set that comes from the real estate industry in Boston (US). This database contains 14 attributes. The target variable refers to the median value of owner-occupied homes in 1000 USD's.\n",
        "\n",
        "* CRIM: per capita crime rate by town\n",
        "* ZN: proportion of residential land zoned for lots over 25,000 sq.ft.\n",
        "* INDUS: proportion of non-retail business acres per town\n",
        "* CHAS: Charles River dummy variable (= 1 if tract bounds river; 0 otherwise)\n",
        "* NOX: nitric oxides concentration (parts per 10 million)\n",
        "* RM: average number of rooms per dwelling\n",
        "* AGE: proportion of owner-occupied units built prior to 1940\n",
        "* DIS: weighted distances to five Boston employment centres\n",
        "* RAD: index of accessibility to radial highways\n",
        "* TAX: full-value property-tax rate per 10,000 USD\n",
        "* PTRATIO: pupil-teacher ratio by town\n",
        "* B: 1000(Bk - 0.63)^2 where Bk is the proportion of blacks by town\n",
        "* LSTAT: lower status of the population (%)\n",
        "* MEDV: Median value of owner-occupied homes in 1000 USD's (Target)\n"
      ]
    },
    {
      "cell_type": "markdown",
      "metadata": {
        "id": "w_c7y3fqWuDX"
      },
      "source": [
        "## Objective\n",
        "The objective is to use linear regression to find the median value of owner-occupied homes in 1000 USD's.\n",
        "\n",
        "We will build a Machine learning model (i.e. Linear Regression) using `tensorflow.keras` (in short `tf.keras`) API."
      ]
    },
    {
      "cell_type": "markdown",
      "metadata": {
        "id": "hvnf8jDeTTvw"
      },
      "source": [
        "You already have all the information about Tensorflow and Keras from earlier modules."
      ]
    },
    {
      "cell_type": "markdown",
      "metadata": {
        "id": "PQeegjzCbXdf"
      },
      "source": [
        "## Loading Libraries\n",
        "All Python capabilities are not loaded to our working environment by default (even they are already installed in your system). So, we import each and every library that we want to use.\n",
        "\n",
        "In data science, numpy and pandas are most commonly used libraries. Numpy is required for calculations like means, medians, square roots, etc. Pandas is used for data processing and data frames. Matplotlib is used for data visualization. We chose alias names for our libraries for the sake of our convenience (numpy --> np and pandas --> pd, matplotlib.pyplot as plt).\n",
        "\n",
        "**pyplot:** pyplot is matplotlib's plotting framework. It is the most used module of matplotlib."
      ]
    },
    {
      "cell_type": "code",
      "metadata": {
        "id": "UEWLuXd7BMrU"
      },
      "source": [
        "# importing packages\n",
        "import numpy as np # to perform calculations \n",
        "import pandas as pd # to read data\n",
        "import matplotlib.pyplot as plt # to visualise"
      ],
      "execution_count": 3,
      "outputs": []
    },
    {
      "cell_type": "markdown",
      "metadata": {
        "id": "fY_eewx0dhHt"
      },
      "source": [
        "## Loading Data\n",
        "Pandas module is used for reading files. We have our data in '.csv' format. We will use 'read_csv()' function for loading the data."
      ]
    },
    {
      "cell_type": "code",
      "metadata": {
        "id": "7zlSaTd2W9rt"
      },
      "source": [
        "# In read_csv() function, we have passed the location to where the file is located at dphi official github page\n",
        "boston_data = pd.read_csv(\"https://raw.githubusercontent.com/dphi-official/Datasets/master/Boston_Housing/Training_set_boston.csv\" )"
      ],
      "execution_count": 4,
      "outputs": []
    },
    {
      "cell_type": "markdown",
      "metadata": {
        "id": "wze8jmpKtBG4"
      },
      "source": [
        "## View Data"
      ]
    },
    {
      "cell_type": "code",
      "metadata": {
        "id": "Nwj5kkDjjQkx",
        "colab": {
          "base_uri": "https://localhost:8080/",
          "height": 206
        },
        "outputId": "44faf010-c6a9-4e2f-d780-1f45812a94c0"
      },
      "source": [
        "boston_data.head()"
      ],
      "execution_count": 5,
      "outputs": [
        {
          "output_type": "execute_result",
          "data": {
            "text/plain": [
              "       CRIM    ZN  INDUS  CHAS     NOX     RM   AGE     DIS   RAD    TAX  \\\n",
              "0  15.02340   0.0  18.10   0.0  0.6140  5.304  97.3  2.1007  24.0  666.0   \n",
              "1   0.62739   0.0   8.14   0.0  0.5380  5.834  56.5  4.4986   4.0  307.0   \n",
              "2   0.03466  35.0   6.06   0.0  0.4379  6.031  23.3  6.6407   1.0  304.0   \n",
              "3   7.05042   0.0  18.10   0.0  0.6140  6.103  85.1  2.0218  24.0  666.0   \n",
              "4   0.72580   0.0   8.14   0.0  0.5380  5.727  69.5  3.7965   4.0  307.0   \n",
              "\n",
              "   PTRATIO       B  LSTAT  MEDV  \n",
              "0     20.2  349.48  24.91  12.0  \n",
              "1     21.0  395.62   8.47  19.9  \n",
              "2     16.9  362.25   7.83  19.4  \n",
              "3     20.2    2.52  23.29  13.4  \n",
              "4     21.0  390.95  11.28  18.2  "
            ],
            "text/html": [
              "\n",
              "  <div id=\"df-b35dbf67-a6e1-4839-99b9-54a34d2b5654\">\n",
              "    <div class=\"colab-df-container\">\n",
              "      <div>\n",
              "<style scoped>\n",
              "    .dataframe tbody tr th:only-of-type {\n",
              "        vertical-align: middle;\n",
              "    }\n",
              "\n",
              "    .dataframe tbody tr th {\n",
              "        vertical-align: top;\n",
              "    }\n",
              "\n",
              "    .dataframe thead th {\n",
              "        text-align: right;\n",
              "    }\n",
              "</style>\n",
              "<table border=\"1\" class=\"dataframe\">\n",
              "  <thead>\n",
              "    <tr style=\"text-align: right;\">\n",
              "      <th></th>\n",
              "      <th>CRIM</th>\n",
              "      <th>ZN</th>\n",
              "      <th>INDUS</th>\n",
              "      <th>CHAS</th>\n",
              "      <th>NOX</th>\n",
              "      <th>RM</th>\n",
              "      <th>AGE</th>\n",
              "      <th>DIS</th>\n",
              "      <th>RAD</th>\n",
              "      <th>TAX</th>\n",
              "      <th>PTRATIO</th>\n",
              "      <th>B</th>\n",
              "      <th>LSTAT</th>\n",
              "      <th>MEDV</th>\n",
              "    </tr>\n",
              "  </thead>\n",
              "  <tbody>\n",
              "    <tr>\n",
              "      <th>0</th>\n",
              "      <td>15.02340</td>\n",
              "      <td>0.0</td>\n",
              "      <td>18.10</td>\n",
              "      <td>0.0</td>\n",
              "      <td>0.6140</td>\n",
              "      <td>5.304</td>\n",
              "      <td>97.3</td>\n",
              "      <td>2.1007</td>\n",
              "      <td>24.0</td>\n",
              "      <td>666.0</td>\n",
              "      <td>20.2</td>\n",
              "      <td>349.48</td>\n",
              "      <td>24.91</td>\n",
              "      <td>12.0</td>\n",
              "    </tr>\n",
              "    <tr>\n",
              "      <th>1</th>\n",
              "      <td>0.62739</td>\n",
              "      <td>0.0</td>\n",
              "      <td>8.14</td>\n",
              "      <td>0.0</td>\n",
              "      <td>0.5380</td>\n",
              "      <td>5.834</td>\n",
              "      <td>56.5</td>\n",
              "      <td>4.4986</td>\n",
              "      <td>4.0</td>\n",
              "      <td>307.0</td>\n",
              "      <td>21.0</td>\n",
              "      <td>395.62</td>\n",
              "      <td>8.47</td>\n",
              "      <td>19.9</td>\n",
              "    </tr>\n",
              "    <tr>\n",
              "      <th>2</th>\n",
              "      <td>0.03466</td>\n",
              "      <td>35.0</td>\n",
              "      <td>6.06</td>\n",
              "      <td>0.0</td>\n",
              "      <td>0.4379</td>\n",
              "      <td>6.031</td>\n",
              "      <td>23.3</td>\n",
              "      <td>6.6407</td>\n",
              "      <td>1.0</td>\n",
              "      <td>304.0</td>\n",
              "      <td>16.9</td>\n",
              "      <td>362.25</td>\n",
              "      <td>7.83</td>\n",
              "      <td>19.4</td>\n",
              "    </tr>\n",
              "    <tr>\n",
              "      <th>3</th>\n",
              "      <td>7.05042</td>\n",
              "      <td>0.0</td>\n",
              "      <td>18.10</td>\n",
              "      <td>0.0</td>\n",
              "      <td>0.6140</td>\n",
              "      <td>6.103</td>\n",
              "      <td>85.1</td>\n",
              "      <td>2.0218</td>\n",
              "      <td>24.0</td>\n",
              "      <td>666.0</td>\n",
              "      <td>20.2</td>\n",
              "      <td>2.52</td>\n",
              "      <td>23.29</td>\n",
              "      <td>13.4</td>\n",
              "    </tr>\n",
              "    <tr>\n",
              "      <th>4</th>\n",
              "      <td>0.72580</td>\n",
              "      <td>0.0</td>\n",
              "      <td>8.14</td>\n",
              "      <td>0.0</td>\n",
              "      <td>0.5380</td>\n",
              "      <td>5.727</td>\n",
              "      <td>69.5</td>\n",
              "      <td>3.7965</td>\n",
              "      <td>4.0</td>\n",
              "      <td>307.0</td>\n",
              "      <td>21.0</td>\n",
              "      <td>390.95</td>\n",
              "      <td>11.28</td>\n",
              "      <td>18.2</td>\n",
              "    </tr>\n",
              "  </tbody>\n",
              "</table>\n",
              "</div>\n",
              "      <button class=\"colab-df-convert\" onclick=\"convertToInteractive('df-b35dbf67-a6e1-4839-99b9-54a34d2b5654')\"\n",
              "              title=\"Convert this dataframe to an interactive table.\"\n",
              "              style=\"display:none;\">\n",
              "        \n",
              "  <svg xmlns=\"http://www.w3.org/2000/svg\" height=\"24px\"viewBox=\"0 0 24 24\"\n",
              "       width=\"24px\">\n",
              "    <path d=\"M0 0h24v24H0V0z\" fill=\"none\"/>\n",
              "    <path d=\"M18.56 5.44l.94 2.06.94-2.06 2.06-.94-2.06-.94-.94-2.06-.94 2.06-2.06.94zm-11 1L8.5 8.5l.94-2.06 2.06-.94-2.06-.94L8.5 2.5l-.94 2.06-2.06.94zm10 10l.94 2.06.94-2.06 2.06-.94-2.06-.94-.94-2.06-.94 2.06-2.06.94z\"/><path d=\"M17.41 7.96l-1.37-1.37c-.4-.4-.92-.59-1.43-.59-.52 0-1.04.2-1.43.59L10.3 9.45l-7.72 7.72c-.78.78-.78 2.05 0 2.83L4 21.41c.39.39.9.59 1.41.59.51 0 1.02-.2 1.41-.59l7.78-7.78 2.81-2.81c.8-.78.8-2.07 0-2.86zM5.41 20L4 18.59l7.72-7.72 1.47 1.35L5.41 20z\"/>\n",
              "  </svg>\n",
              "      </button>\n",
              "      \n",
              "  <style>\n",
              "    .colab-df-container {\n",
              "      display:flex;\n",
              "      flex-wrap:wrap;\n",
              "      gap: 12px;\n",
              "    }\n",
              "\n",
              "    .colab-df-convert {\n",
              "      background-color: #E8F0FE;\n",
              "      border: none;\n",
              "      border-radius: 50%;\n",
              "      cursor: pointer;\n",
              "      display: none;\n",
              "      fill: #1967D2;\n",
              "      height: 32px;\n",
              "      padding: 0 0 0 0;\n",
              "      width: 32px;\n",
              "    }\n",
              "\n",
              "    .colab-df-convert:hover {\n",
              "      background-color: #E2EBFA;\n",
              "      box-shadow: 0px 1px 2px rgba(60, 64, 67, 0.3), 0px 1px 3px 1px rgba(60, 64, 67, 0.15);\n",
              "      fill: #174EA6;\n",
              "    }\n",
              "\n",
              "    [theme=dark] .colab-df-convert {\n",
              "      background-color: #3B4455;\n",
              "      fill: #D2E3FC;\n",
              "    }\n",
              "\n",
              "    [theme=dark] .colab-df-convert:hover {\n",
              "      background-color: #434B5C;\n",
              "      box-shadow: 0px 1px 3px 1px rgba(0, 0, 0, 0.15);\n",
              "      filter: drop-shadow(0px 1px 2px rgba(0, 0, 0, 0.3));\n",
              "      fill: #FFFFFF;\n",
              "    }\n",
              "  </style>\n",
              "\n",
              "      <script>\n",
              "        const buttonEl =\n",
              "          document.querySelector('#df-b35dbf67-a6e1-4839-99b9-54a34d2b5654 button.colab-df-convert');\n",
              "        buttonEl.style.display =\n",
              "          google.colab.kernel.accessAllowed ? 'block' : 'none';\n",
              "\n",
              "        async function convertToInteractive(key) {\n",
              "          const element = document.querySelector('#df-b35dbf67-a6e1-4839-99b9-54a34d2b5654');\n",
              "          const dataTable =\n",
              "            await google.colab.kernel.invokeFunction('convertToInteractive',\n",
              "                                                     [key], {});\n",
              "          if (!dataTable) return;\n",
              "\n",
              "          const docLinkHtml = 'Like what you see? Visit the ' +\n",
              "            '<a target=\"_blank\" href=https://colab.research.google.com/notebooks/data_table.ipynb>data table notebook</a>'\n",
              "            + ' to learn more about interactive tables.';\n",
              "          element.innerHTML = '';\n",
              "          dataTable['output_type'] = 'display_data';\n",
              "          await google.colab.output.renderOutput(dataTable, element);\n",
              "          const docLink = document.createElement('div');\n",
              "          docLink.innerHTML = docLinkHtml;\n",
              "          element.appendChild(docLink);\n",
              "        }\n",
              "      </script>\n",
              "    </div>\n",
              "  </div>\n",
              "  "
            ]
          },
          "metadata": {},
          "execution_count": 5
        }
      ]
    },
    {
      "cell_type": "markdown",
      "metadata": {
        "id": "DBv1fy29jAzm"
      },
      "source": [
        "# Separating Input Features and Output Features\n",
        "Before building any machine learning model, we always separate the input variables and output variables. Input variables are those quantities whose values are changed naturally in an experiment, whereas output variable is the one whose values are dependent on the input variables. So, input variables are also known as independent variables as its values are not dependent on any other quantity, and output variable/s are also known as dependent variables as its values are dependent on other variable i.e. input variables. Like here in this data, we are trying to predict the price of a houce, so this is our target column i.e. 'MEDV'\n",
        "\n",
        "By convention input variables are represented with 'X' and output variables are represented with 'y'."
      ]
    },
    {
      "cell_type": "code",
      "metadata": {
        "id": "ErMptop0jyng"
      },
      "source": [
        "X = boston_data.drop('MEDV', axis = 1)    # Input Variables/features\n",
        "y = boston_data.MEDV      # output variables/features"
      ],
      "execution_count": 6,
      "outputs": []
    },
    {
      "cell_type": "markdown",
      "metadata": {
        "id": "QgXPagiS3YKz"
      },
      "source": [
        "# Splitting the data"
      ]
    },
    {
      "cell_type": "markdown",
      "metadata": {
        "id": "4vOkLlB-Ukjn"
      },
      "source": [
        "We want to check the performance of the model that we built. For this purpose, we always split (both input and output data) the given data into training set which will be used to train the model, and test set which will be used to check how accurately the model is predicting outcomes.\n",
        "\n",
        "For this purpose we have a class called 'train_test_split' in the 'sklearn.model_selection' module.\n",
        "\n",
        "We split 80% of the data to the training set while 20% of the data to test set using below code.\n",
        "The test_size variable is where we actually specify the proportion of the test set.\n",
        "\n",
        "By passing our X and y variables into the train_test_split method, we are able to capture the splits in data by assigning 4 variables to the result."
      ]
    },
    {
      "cell_type": "code",
      "metadata": {
        "id": "1a1OFJmpUl2u"
      },
      "source": [
        "# import train_test_split\n",
        "from sklearn.model_selection import train_test_split \n",
        "\n",
        "# Assign variables to capture train test split output\n",
        "X_train, X_test, y_train, y_test = train_test_split(X, y, test_size=0.2, random_state=42)\n",
        "\n",
        "# X_train: independent/input feature data for training the model\n",
        "# y_train: dependent/output feature data for training the model\n",
        "# X_test: independent/input feature data for testing the model; will be used to predict the output values\n",
        "# y_test: original dependent/output values of X_test; We will compare this values with our predicted values to check the performance of our built model.\n",
        " \n",
        "# test_size = 0.20: 20% of the data will go for test set and 70% of the data will go for train set\n",
        "# random_state = 42: this will fix the split i.e. there will be same split for each time you run the code"
      ],
      "execution_count": 7,
      "outputs": []
    },
    {
      "cell_type": "code",
      "metadata": {
        "id": "UfKNjpJqkPUf",
        "colab": {
          "base_uri": "https://localhost:8080/"
        },
        "outputId": "2622b97f-11ff-4c58-f575-6e5fc20242e4"
      },
      "source": [
        "# find the number of input features\n",
        "n_features = X.shape[1]\n",
        "print(n_features)"
      ],
      "execution_count": 8,
      "outputs": [
        {
          "output_type": "stream",
          "name": "stdout",
          "text": [
            "13\n"
          ]
        }
      ]
    },
    {
      "cell_type": "markdown",
      "metadata": {
        "id": "CwotIN0AU3Ci"
      },
      "source": [
        "# Training our model\n"
      ]
    },
    {
      "cell_type": "markdown",
      "metadata": {
        "id": "5EV_0iiBMBz6"
      },
      "source": [
        "After splitting the data into training and testing sets, it's time to train our first deep learning model. Wait! Before training the deep learning model, let's understand the **Deep Learning Model Life-Cycle**."
      ]
    },
    {
      "cell_type": "markdown",
      "metadata": {
        "id": "j3XXW9NL6H4s"
      },
      "source": [
        "## Neural Network: Architecture\n",
        "Here we are giving you just an overview of the architecture of Neural Network. You will know more about it in next module.\n",
        "\n",
        "Neural Networks consists of an input and output layer with one or more hidden layers.\n",
        "\n",
        "![neural network architecture](https://dphi-courses.s3.ap-south-1.amazonaws.com/Deep+Learning+Bootcamp/nn+arch.png)"
      ]
    },
    {
      "cell_type": "markdown",
      "metadata": {
        "id": "Ymbh14OgMu2Z"
      },
      "source": [
        "## The 5 Step Model Life-Cycle\n",
        "\n",
        "A model has a life-cycle, and this very simple knowledge provides the backbone for both modeling a dataset and understanding the tf.keras API.\n",
        "\n",
        "The five steps in the life-cycle are as follows:\n",
        "\n",
        "1. Define the model.\n",
        "2. Compile the model.\n",
        "3. Fit the model.\n",
        "4. Make predictions on the test data.\n",
        "5. Evaluate the model.\n",
        "\n",
        "We will take closer look into each of the steps and parallely build the deep learning model."
      ]
    },
    {
      "cell_type": "markdown",
      "metadata": {
        "id": "auQ5lPFrN7GN"
      },
      "source": [
        "### 1. Define the model\n",
        "Defining the model requires that you first select the type of model that you need and then choose the architecture or network topology.\n",
        "\n",
        "From an API perspective, this involves defining the layers of the model, configuring each layer with a number of nodes and activation function, and connecting the layers together into a cohesive model.\n",
        "\n",
        "Models can be defined either with the Sequential API or the Functional API (you will know this in later modules). Here we will define the model with Sequential API. Now **what is Sequential API?**\n",
        "\n",
        "**Sequential API**\n",
        "The sequential API is the simplest API to get started with Deep Learning. \n",
        "\n",
        "It is referred to as “sequential” because it involves defining a Sequential class and adding layers to the model one by one in a linear manner, from input to output.\n",
        "\n",
        "The example below defines a Sequential MLP model that accepts one input (i.e. 'YearsExperience'), has one hidden layer with 1 node and then an output layer with one node to predict a numerical value.\n",
        "\n"
      ]
    },
    {
      "cell_type": "code",
      "metadata": {
        "id": "JY303RWVPzkD"
      },
      "source": [
        "from tensorflow.keras import Sequential    # import Sequential from tensorflow.keras\n",
        "from tensorflow.keras.layers import Dense  # import Dense from tensorflow.keras.layers\n",
        "from numpy.random import seed     # seed helps you to fix the randomness in the neural network.  \n",
        "import tensorflow"
      ],
      "execution_count": 9,
      "outputs": []
    },
    {
      "cell_type": "code",
      "metadata": {
        "id": "mMDrQE9gQP6U"
      },
      "source": [
        "# define the model\n",
        "model = Sequential()\n",
        "model.add(Dense(10, activation='relu', input_shape=(n_features,)))\n",
        "model.add(Dense(8, activation='relu'))\n",
        "model.add(Dense(1))"
      ],
      "execution_count": 10,
      "outputs": []
    },
    {
      "cell_type": "markdown",
      "metadata": {
        "id": "93ntHsm1QnLP"
      },
      "source": [
        "Note that the visible layer of the network is defined by the “input_shape” argument on the first hidden layer. That means in the above example, the model expects the input for one sample to be a vector of n_features (i.e. 13) number . \n",
        "\n",
        "The sequential API is easy to use because you keep calling model.add() until you have added all of your layers."
      ]
    },
    {
      "cell_type": "markdown",
      "metadata": {
        "id": "ABBhVYtXRlJq"
      },
      "source": [
        "The activation function we have chosen is **ReLU**, which stands for **rectified linear unit**. Activation function decides, whether a neuron should be activated or not\n",
        "\n",
        "ReLU is defined mathematically as **F(x) = max(0,x)**. In other words, the output is x, if x is greater than 0, and the output is 0 if x is 0 or negative."
      ]
    },
    {
      "cell_type": "markdown",
      "metadata": {
        "id": "D100gBMQSTn8"
      },
      "source": [
        "### 2. Compile the model\n",
        "Compiling the model requires that you first select a loss function that you want to optimize, such as mean squared error or cross-entropy.\n",
        "\n",
        "It also requires that you select an algorithm to perform the optimization procedure. We’re using **RMSprop** as our optimizer here. RMSprop stands for **Root Mean Square Propagation**. It’s one of the most popular gradient descent optimization algorithms for deep learning networks. RMSprop is an optimizer that’s reliable and fast. \n",
        "\n",
        "**Note:** For the time being understand gradient descent as just an optimization algorithm. You will know more about it in the next module.\n",
        "\n",
        "It may also require that you select any performance metrics to keep track of during the model training process. The loss function used here is **mean squared error.** (don't worry if you don't know about the loss function mean squared error, for the time being just know it's a function that helps you know the error or loss your model is giving. You will learn more about loss functions in the coming modules)\n",
        "\n",
        "From an API perspective, this involves calling a function to compile the model with the chosen configuration, which will prepare the appropriate data structures required for the efficient use of the model you have defined."
      ]
    },
    {
      "cell_type": "code",
      "metadata": {
        "id": "doYNy1jJQa7J"
      },
      "source": [
        "# import RMSprop optimizer\n",
        "from tensorflow.keras.optimizers import RMSprop\n",
        "optimizer = RMSprop(0.01)    # 0.01 is the learning rate"
      ],
      "execution_count": 11,
      "outputs": []
    },
    {
      "cell_type": "markdown",
      "metadata": {
        "id": "AiOzHe6K8iaM"
      },
      "source": [
        "**Why learning rate = 0.01?**\n",
        "\n",
        "It is important to find a good value for the learning rate for your model on your training dataset. we cannot analytically calculate the optimal learning rate for a given model on a given dataset. Instead, a good (or good enough) learning rate must be discovered via trial and error.\n",
        "\n",
        "The range of values to consider for the learning rate is less than 1.0 and greater than $10^{-6}$.\n",
        "\n",
        "A traditional default value for the learning rate is 0.1 or 0.01, and this may represent a good starting point on your problem."
      ]
    },
    {
      "cell_type": "code",
      "metadata": {
        "id": "gNxnRf2uUqev"
      },
      "source": [
        "model.compile(loss='mean_squared_error',optimizer=optimizer)    # compile the model"
      ],
      "execution_count": 12,
      "outputs": []
    },
    {
      "cell_type": "markdown",
      "metadata": {
        "id": "GQPPF22pVHMU"
      },
      "source": [
        "### 3. Fitting the model\n",
        "Fitting the model requires that you first select the training configuration, such as the number of epochs (loops through the training dataset) and the batch size (number of samples in an epoch used to estimate model error).\n",
        "\n",
        "Training applies the chosen optimization algorithm to minimize the chosen loss function and updates the model using the backpropagation (don't worry if you don't know this term, you will know it in the next module) of error algorithm.\n",
        "\n",
        "Fitting the model is the slow part of the whole process and can take seconds to hours to days, depending on the complexity of the model, the hardware you’re using, and the size of the training dataset.\n",
        "\n",
        "From an API perspective, this involves calling a function to perform the training process. This function will block (not return) until the training process has finished.\n",
        "\n",
        "While fitting the model, a progress bar will summarize the status of each epoch and the overall training process."
      ]
    },
    {
      "cell_type": "code",
      "metadata": {
        "id": "WnG7pev1UxNs",
        "colab": {
          "base_uri": "https://localhost:8080/"
        },
        "outputId": "27ac3eef-c48a-43bd-e35d-35ff6f07806e"
      },
      "source": [
        "seed_value = 42\n",
        "seed(seed_value)        # If you build the model with given parameters, set_random_seed will help you produce the same result on multiple execution\n",
        "\n",
        "\n",
        "# Recommended by Keras -------------------------------------------------------------------------------------\n",
        "# 1. Set `PYTHONHASHSEED` environment variable at a fixed value\n",
        "import os\n",
        "os.environ['PYTHONHASHSEED']=str(seed_value)\n",
        "\n",
        "# 2. Set `python` built-in pseudo-random generator at a fixed value\n",
        "import random\n",
        "random.seed(seed_value)\n",
        "\n",
        "# 3. Set `numpy` pseudo-random generator at a fixed value\n",
        "import numpy as np\n",
        "np.random.seed(seed_value)\n",
        "# Recommended by Keras -------------------------------------------------------------------------------------\n",
        "\n",
        "\n",
        "# 4. Set the `tensorflow` pseudo-random generator at a fixed value\n",
        "tensorflow.random.set_seed(seed_value) \n",
        "model.fit(X_train, y_train, epochs=10, batch_size=30, verbose = 1)"
      ],
      "execution_count": 13,
      "outputs": [
        {
          "output_type": "stream",
          "name": "stdout",
          "text": [
            "Epoch 1/10\n",
            "11/11 [==============================] - 1s 2ms/step - loss: 613.8560\n",
            "Epoch 2/10\n",
            "11/11 [==============================] - 0s 2ms/step - loss: 147.3782\n",
            "Epoch 3/10\n",
            "11/11 [==============================] - 0s 2ms/step - loss: 232.8793\n",
            "Epoch 4/10\n",
            "11/11 [==============================] - 0s 2ms/step - loss: 237.5471\n",
            "Epoch 5/10\n",
            "11/11 [==============================] - 0s 2ms/step - loss: 141.3186\n",
            "Epoch 6/10\n",
            "11/11 [==============================] - 0s 3ms/step - loss: 169.2771\n",
            "Epoch 7/10\n",
            "11/11 [==============================] - 0s 2ms/step - loss: 90.4408\n",
            "Epoch 8/10\n",
            "11/11 [==============================] - 0s 2ms/step - loss: 177.6832\n",
            "Epoch 9/10\n",
            "11/11 [==============================] - 0s 2ms/step - loss: 122.8584\n",
            "Epoch 10/10\n",
            "11/11 [==============================] - 0s 2ms/step - loss: 154.3088\n"
          ]
        },
        {
          "output_type": "execute_result",
          "data": {
            "text/plain": [
              "<keras.callbacks.History at 0x7f1771ade910>"
            ]
          },
          "metadata": {},
          "execution_count": 13
        }
      ]
    },
    {
      "cell_type": "markdown",
      "metadata": {
        "id": "XZzI8-Kl_Rdg"
      },
      "source": [
        "What is **verbose**?\n",
        "\n",
        "By setting verbose 0, 1 or 2 you just say how do you want to 'see' the training progress for each epoch.\n",
        "\n",
        "`verbose=0` will show you nothing (silent)\n",
        "\n",
        "`verbose=1` will show you an animated progress bar like this:\n",
        "\n",
        "![progres_bar](https://dphi-courses.s3.ap-south-1.amazonaws.com/Deep+Learning+Bootcamp/progress+bar.png)\n",
        "\n",
        "`verbose=2` will just mention the number of epoch like this:\n",
        "\n",
        "![verbose = 2](https://dphi-courses.s3.ap-south-1.amazonaws.com/Deep+Learning+Bootcamp/epoch.png)"
      ]
    },
    {
      "cell_type": "markdown",
      "metadata": {
        "id": "t_tKcVVzhJf8"
      },
      "source": [
        "### 4. Evaluate the model\n",
        "Evaluating the model requires that you first choose a holdout dataset used to evaluate the model. This should be data not used in the training process i.e. the X_test.\n",
        "\n",
        "The speed of model evaluation is proportional to the amount of data you want to use for the evaluation, although it is much faster than training as the model is not changed.\n",
        "\n",
        "From an API perspective, this involves calling a function with the holdout dataset and getting a loss and perhaps other metrics that can be reported."
      ]
    },
    {
      "cell_type": "code",
      "metadata": {
        "id": "qC63QoqchIa1",
        "colab": {
          "base_uri": "https://localhost:8080/"
        },
        "outputId": "8625c266-571d-4550-b11a-bcc7c6b13866"
      },
      "source": [
        "model.evaluate(X_test, y_test)"
      ],
      "execution_count": 14,
      "outputs": [
        {
          "output_type": "stream",
          "name": "stdout",
          "text": [
            "3/3 [==============================] - 0s 3ms/step - loss: 94.9477\n"
          ]
        },
        {
          "output_type": "execute_result",
          "data": {
            "text/plain": [
              "94.94773864746094"
            ]
          },
          "metadata": {},
          "execution_count": 14
        }
      ]
    },
    {
      "cell_type": "markdown",
      "metadata": {
        "id": "gHM4sYEOnD7j"
      },
      "source": [
        "The mean squared error we got here is 64.8. Now, **what does it mean?**\n",
        "\n",
        "When you subtract the predicted values (of X_test data) from the acutal value (of X_test data), then square it and sum all the squares, and finally take a mean (i.e. average) of it, the result you will get is 64.8 in this case.\n",
        "\n",
        "evaluate() does this task automatically. If you want to get the prediciton for X_test you can do **`model.predict(X_test)`**"
      ]
    },
    {
      "cell_type": "markdown",
      "metadata": {
        "id": "li94FIlfnMBB"
      },
      "source": [
        "#### Hyperparameter Tunning\n",
        "The hyperparameters here in this notebook are:\n",
        "1. Learning Rate\n",
        "2. Epochs\n",
        "3. Batch Size\n",
        "\n",
        "We can try and change the values of these parameters and see the performance  of the model (evaluate the model) on X_test data"
      ]
    },
    {
      "cell_type": "markdown",
      "metadata": {
        "id": "XljOzViRoRbp"
      },
      "source": [
        "**Learning Rate**\n",
        "\n",
        "A scalar used to train a model via gradient descent. During each iteration, the **gradient descent** algorithm multiplies the learning rate by the gradient. The resulting product is called the **gradient step**.\n",
        "\n",
        "Learning rate is a key **hyperparameter**."
      ]
    },
    {
      "cell_type": "code",
      "metadata": {
        "id": "puhKnL9KKuZX",
        "colab": {
          "base_uri": "https://localhost:8080/"
        },
        "outputId": "5cb4c286-c4f5-4ea4-ed22-1c01c6821cb7"
      },
      "source": [
        "####################### Complete example to check the performance of the model with different learning rates #######################################\n",
        "# define the model\n",
        "model = Sequential()\n",
        "model.add(Dense(10, activation='relu', input_shape=(n_features,)))\n",
        "model.add(Dense(8, activation='relu'))\n",
        "model.add(Dense(1))\n",
        "\n",
        "optimizer = RMSprop(0.1)    # 0.1 is the learning rate\n",
        "model.compile(loss='mean_squared_error',optimizer=optimizer)    # compile the model\n",
        "\n",
        "# fit the model \n",
        "model.fit(X_train, y_train, epochs=10, batch_size=30, verbose = 1)\n",
        "\n",
        "# evaluate the model\n",
        "print('The MSE value is: ', model.evaluate(X_test, y_test))"
      ],
      "execution_count": 15,
      "outputs": [
        {
          "output_type": "stream",
          "name": "stdout",
          "text": [
            "Epoch 1/10\n",
            "11/11 [==============================] - 1s 2ms/step - loss: 35268.1836\n",
            "Epoch 2/10\n",
            "11/11 [==============================] - 0s 2ms/step - loss: 559.4072\n",
            "Epoch 3/10\n",
            "11/11 [==============================] - 0s 2ms/step - loss: 212.1512\n",
            "Epoch 4/10\n",
            "11/11 [==============================] - 0s 2ms/step - loss: 139.3775\n",
            "Epoch 5/10\n",
            "11/11 [==============================] - 0s 2ms/step - loss: 129.5609\n",
            "Epoch 6/10\n",
            "11/11 [==============================] - 0s 2ms/step - loss: 122.8495\n",
            "Epoch 7/10\n",
            "11/11 [==============================] - 0s 2ms/step - loss: 174.4109\n",
            "Epoch 8/10\n",
            "11/11 [==============================] - 0s 2ms/step - loss: 142.8208\n",
            "Epoch 9/10\n",
            "11/11 [==============================] - 0s 2ms/step - loss: 201.2052\n",
            "Epoch 10/10\n",
            "11/11 [==============================] - 0s 2ms/step - loss: 223.9953\n",
            "3/3 [==============================] - 0s 4ms/step - loss: 122.8359\n",
            "The MSE value is:  122.8359375\n"
          ]
        }
      ]
    },
    {
      "cell_type": "markdown",
      "metadata": {
        "id": "VPneBHxHYxfC"
      },
      "source": [
        "As you can see above, how the loss (cost) i.e. MSE has changed by just changing the learning rate."
      ]
    },
    {
      "cell_type": "markdown",
      "metadata": {
        "id": "fhi50q4rhUiF"
      },
      "source": [
        "### Exercise 1\n",
        "\n",
        "Test several learning rate values to see the impact of varying this value when defining your model."
      ]
    },
    {
      "cell_type": "code",
      "metadata": {
        "id": "k4BqC2Cfo159",
        "colab": {
          "base_uri": "https://localhost:8080/"
        },
        "outputId": "cdaa3dda-015a-4eb3-f6ac-051cfeeaf74d"
      },
      "source": [
        "# Play with learning rate\n",
        "learning_rate = 0.01          # Replace ? with a floating-point number\n",
        "epochs = 10\n",
        "optimizer = RMSprop(learning_rate)\n",
        "model.compile(loss='mean_squared_error',optimizer=optimizer)    # compile the model\n",
        "model.fit(X_train, y_train, epochs=epochs, batch_size=30)     # fit the model\n",
        "model.evaluate(X_test, y_test)       # Evaluate the model"
      ],
      "execution_count": 16,
      "outputs": [
        {
          "output_type": "stream",
          "name": "stdout",
          "text": [
            "Epoch 1/10\n",
            "11/11 [==============================] - 1s 2ms/step - loss: 106.7650\n",
            "Epoch 2/10\n",
            "11/11 [==============================] - 0s 2ms/step - loss: 73.7939\n",
            "Epoch 3/10\n",
            "11/11 [==============================] - 0s 2ms/step - loss: 74.3033\n",
            "Epoch 4/10\n",
            "11/11 [==============================] - 0s 2ms/step - loss: 72.3121\n",
            "Epoch 5/10\n",
            "11/11 [==============================] - 0s 2ms/step - loss: 67.1671\n",
            "Epoch 6/10\n",
            "11/11 [==============================] - 0s 2ms/step - loss: 69.1244\n",
            "Epoch 7/10\n",
            "11/11 [==============================] - 0s 2ms/step - loss: 68.2844\n",
            "Epoch 8/10\n",
            "11/11 [==============================] - 0s 2ms/step - loss: 65.4303\n",
            "Epoch 9/10\n",
            "11/11 [==============================] - 0s 2ms/step - loss: 68.7227\n",
            "Epoch 10/10\n",
            "11/11 [==============================] - 0s 2ms/step - loss: 67.4729\n",
            "3/3 [==============================] - 0s 4ms/step - loss: 47.2497\n"
          ]
        },
        {
          "output_type": "execute_result",
          "data": {
            "text/plain": [
              "47.249664306640625"
            ]
          },
          "metadata": {},
          "execution_count": 16
        }
      ]
    },
    {
      "cell_type": "markdown",
      "metadata": {
        "id": "Mov9-uVwpmkd"
      },
      "source": [
        "**Epochs**\n",
        "\n",
        "A full training pass over the entire dataset such that each example has been seen once. Thus, an epoch represents N/batch size training iterations, where N is the total number of examples."
      ]
    },
    {
      "cell_type": "code",
      "metadata": {
        "id": "zlZv50iKZPqo",
        "colab": {
          "base_uri": "https://localhost:8080/"
        },
        "outputId": "b52a7bda-6677-4262-a83d-729f97e42437"
      },
      "source": [
        "####################### Complete example to check the performance of the model with different epochs and learning rate = 0.01 #######################################\n",
        "# define the model\n",
        "model = Sequential()\n",
        "model.add(Dense(10, activation='relu', input_shape=(n_features,)))\n",
        "model.add(Dense(8, activation='relu'))\n",
        "model.add(Dense(1))\n",
        "\n",
        "optimizer = RMSprop(0.1)    # 0.1 is the learning rate\n",
        "model.compile(loss='mean_squared_error',optimizer=optimizer)    # compile the model\n",
        "\n",
        "# fit the model \n",
        "model.fit(X_train, y_train, epochs=100, batch_size=30, verbose = 1)\n",
        "\n",
        "# evaluate the model\n",
        "print('The MSE value is: ', model.evaluate(X_test, y_test))"
      ],
      "execution_count": 17,
      "outputs": [
        {
          "output_type": "stream",
          "name": "stdout",
          "text": [
            "Epoch 1/100\n",
            "11/11 [==============================] - 1s 2ms/step - loss: 9724.5742\n",
            "Epoch 2/100\n",
            "11/11 [==============================] - 0s 2ms/step - loss: 582.0069\n",
            "Epoch 3/100\n",
            "11/11 [==============================] - 0s 2ms/step - loss: 555.8216\n",
            "Epoch 4/100\n",
            "11/11 [==============================] - 0s 2ms/step - loss: 521.9397\n",
            "Epoch 5/100\n",
            "11/11 [==============================] - 0s 2ms/step - loss: 483.8689\n",
            "Epoch 6/100\n",
            "11/11 [==============================] - 0s 2ms/step - loss: 444.7491\n",
            "Epoch 7/100\n",
            "11/11 [==============================] - 0s 2ms/step - loss: 406.9054\n",
            "Epoch 8/100\n",
            "11/11 [==============================] - 0s 2ms/step - loss: 371.2612\n",
            "Epoch 9/100\n",
            "11/11 [==============================] - 0s 2ms/step - loss: 337.6587\n",
            "Epoch 10/100\n",
            "11/11 [==============================] - 0s 2ms/step - loss: 306.2268\n",
            "Epoch 11/100\n",
            "11/11 [==============================] - 0s 2ms/step - loss: 277.0800\n",
            "Epoch 12/100\n",
            "11/11 [==============================] - 0s 2ms/step - loss: 250.4167\n",
            "Epoch 13/100\n",
            "11/11 [==============================] - 0s 2ms/step - loss: 225.5309\n",
            "Epoch 14/100\n",
            "11/11 [==============================] - 0s 2ms/step - loss: 202.9859\n",
            "Epoch 15/100\n",
            "11/11 [==============================] - 0s 2ms/step - loss: 182.7787\n",
            "Epoch 16/100\n",
            "11/11 [==============================] - 0s 2ms/step - loss: 164.8227\n",
            "Epoch 17/100\n",
            "11/11 [==============================] - 0s 2ms/step - loss: 148.9729\n",
            "Epoch 18/100\n",
            "11/11 [==============================] - 0s 2ms/step - loss: 135.4988\n",
            "Epoch 19/100\n",
            "11/11 [==============================] - 0s 2ms/step - loss: 123.8988\n",
            "Epoch 20/100\n",
            "11/11 [==============================] - 0s 2ms/step - loss: 114.1056\n",
            "Epoch 21/100\n",
            "11/11 [==============================] - 0s 2ms/step - loss: 106.0993\n",
            "Epoch 22/100\n",
            "11/11 [==============================] - 0s 2ms/step - loss: 100.3444\n",
            "Epoch 23/100\n",
            "11/11 [==============================] - 0s 2ms/step - loss: 96.4450\n",
            "Epoch 24/100\n",
            "11/11 [==============================] - 0s 2ms/step - loss: 93.5845\n",
            "Epoch 25/100\n",
            "11/11 [==============================] - 0s 2ms/step - loss: 92.0008\n",
            "Epoch 26/100\n",
            "11/11 [==============================] - 0s 2ms/step - loss: 91.3616\n",
            "Epoch 27/100\n",
            "11/11 [==============================] - 0s 2ms/step - loss: 91.0118\n",
            "Epoch 28/100\n",
            "11/11 [==============================] - 0s 2ms/step - loss: 91.1522\n",
            "Epoch 29/100\n",
            "11/11 [==============================] - 0s 2ms/step - loss: 91.0371\n",
            "Epoch 30/100\n",
            "11/11 [==============================] - 0s 2ms/step - loss: 91.0573\n",
            "Epoch 31/100\n",
            "11/11 [==============================] - 0s 2ms/step - loss: 90.9193\n",
            "Epoch 32/100\n",
            "11/11 [==============================] - 0s 2ms/step - loss: 91.0018\n",
            "Epoch 33/100\n",
            "11/11 [==============================] - 0s 2ms/step - loss: 90.9787\n",
            "Epoch 34/100\n",
            "11/11 [==============================] - 0s 2ms/step - loss: 90.9684\n",
            "Epoch 35/100\n",
            "11/11 [==============================] - 0s 2ms/step - loss: 91.0983\n",
            "Epoch 36/100\n",
            "11/11 [==============================] - 0s 2ms/step - loss: 90.9732\n",
            "Epoch 37/100\n",
            "11/11 [==============================] - 0s 2ms/step - loss: 90.9472\n",
            "Epoch 38/100\n",
            "11/11 [==============================] - 0s 2ms/step - loss: 90.9128\n",
            "Epoch 39/100\n",
            "11/11 [==============================] - 0s 2ms/step - loss: 91.0360\n",
            "Epoch 40/100\n",
            "11/11 [==============================] - 0s 2ms/step - loss: 90.9132\n",
            "Epoch 41/100\n",
            "11/11 [==============================] - 0s 3ms/step - loss: 90.9193\n",
            "Epoch 42/100\n",
            "11/11 [==============================] - 0s 2ms/step - loss: 90.9364\n",
            "Epoch 43/100\n",
            "11/11 [==============================] - 0s 2ms/step - loss: 90.8977\n",
            "Epoch 44/100\n",
            "11/11 [==============================] - 0s 2ms/step - loss: 90.9577\n",
            "Epoch 45/100\n",
            "11/11 [==============================] - 0s 2ms/step - loss: 90.9994\n",
            "Epoch 46/100\n",
            "11/11 [==============================] - 0s 2ms/step - loss: 91.0100\n",
            "Epoch 47/100\n",
            "11/11 [==============================] - 0s 2ms/step - loss: 91.0025\n",
            "Epoch 48/100\n",
            "11/11 [==============================] - 0s 3ms/step - loss: 91.0074\n",
            "Epoch 49/100\n",
            "11/11 [==============================] - 0s 2ms/step - loss: 90.9457\n",
            "Epoch 50/100\n",
            "11/11 [==============================] - 0s 3ms/step - loss: 91.0306\n",
            "Epoch 51/100\n",
            "11/11 [==============================] - 0s 2ms/step - loss: 91.1645\n",
            "Epoch 52/100\n",
            "11/11 [==============================] - 0s 2ms/step - loss: 90.9211\n",
            "Epoch 53/100\n",
            "11/11 [==============================] - 0s 2ms/step - loss: 90.9330\n",
            "Epoch 54/100\n",
            "11/11 [==============================] - 0s 2ms/step - loss: 90.8901\n",
            "Epoch 55/100\n",
            "11/11 [==============================] - 0s 3ms/step - loss: 91.0190\n",
            "Epoch 56/100\n",
            "11/11 [==============================] - 0s 2ms/step - loss: 91.0044\n",
            "Epoch 57/100\n",
            "11/11 [==============================] - 0s 2ms/step - loss: 91.0272\n",
            "Epoch 58/100\n",
            "11/11 [==============================] - 0s 2ms/step - loss: 91.0088\n",
            "Epoch 59/100\n",
            "11/11 [==============================] - 0s 20ms/step - loss: 91.0335\n",
            "Epoch 60/100\n",
            "11/11 [==============================] - 0s 2ms/step - loss: 90.8989\n",
            "Epoch 61/100\n",
            "11/11 [==============================] - 0s 2ms/step - loss: 91.0687\n",
            "Epoch 62/100\n",
            "11/11 [==============================] - 0s 2ms/step - loss: 90.9590\n",
            "Epoch 63/100\n",
            "11/11 [==============================] - 0s 2ms/step - loss: 90.9457\n",
            "Epoch 64/100\n",
            "11/11 [==============================] - 0s 2ms/step - loss: 90.9054\n",
            "Epoch 65/100\n",
            "11/11 [==============================] - 0s 2ms/step - loss: 91.0399\n",
            "Epoch 66/100\n",
            "11/11 [==============================] - 0s 2ms/step - loss: 90.9739\n",
            "Epoch 67/100\n",
            "11/11 [==============================] - 0s 2ms/step - loss: 90.9935\n",
            "Epoch 68/100\n",
            "11/11 [==============================] - 0s 2ms/step - loss: 90.9428\n",
            "Epoch 69/100\n",
            "11/11 [==============================] - 0s 2ms/step - loss: 90.9365\n",
            "Epoch 70/100\n",
            "11/11 [==============================] - 0s 3ms/step - loss: 90.9752\n",
            "Epoch 71/100\n",
            "11/11 [==============================] - 0s 2ms/step - loss: 90.9980\n",
            "Epoch 72/100\n",
            "11/11 [==============================] - 0s 2ms/step - loss: 91.0044\n",
            "Epoch 73/100\n",
            "11/11 [==============================] - 0s 2ms/step - loss: 91.0282\n",
            "Epoch 74/100\n",
            "11/11 [==============================] - 0s 3ms/step - loss: 91.0151\n",
            "Epoch 75/100\n",
            "11/11 [==============================] - 0s 2ms/step - loss: 90.9688\n",
            "Epoch 76/100\n",
            "11/11 [==============================] - 0s 2ms/step - loss: 90.9369\n",
            "Epoch 77/100\n",
            "11/11 [==============================] - 0s 2ms/step - loss: 91.0542\n",
            "Epoch 78/100\n",
            "11/11 [==============================] - 0s 2ms/step - loss: 90.9409\n",
            "Epoch 79/100\n",
            "11/11 [==============================] - 0s 2ms/step - loss: 91.1157\n",
            "Epoch 80/100\n",
            "11/11 [==============================] - 0s 2ms/step - loss: 90.9322\n",
            "Epoch 81/100\n",
            "11/11 [==============================] - 0s 2ms/step - loss: 91.0418\n",
            "Epoch 82/100\n",
            "11/11 [==============================] - 0s 2ms/step - loss: 90.9078\n",
            "Epoch 83/100\n",
            "11/11 [==============================] - 0s 2ms/step - loss: 90.9901\n",
            "Epoch 84/100\n",
            "11/11 [==============================] - 0s 2ms/step - loss: 91.0322\n",
            "Epoch 85/100\n",
            "11/11 [==============================] - 0s 2ms/step - loss: 91.0187\n",
            "Epoch 86/100\n",
            "11/11 [==============================] - 0s 2ms/step - loss: 90.9214\n",
            "Epoch 87/100\n",
            "11/11 [==============================] - 0s 2ms/step - loss: 91.0568\n",
            "Epoch 88/100\n",
            "11/11 [==============================] - 0s 2ms/step - loss: 90.8874\n",
            "Epoch 89/100\n",
            "11/11 [==============================] - 0s 2ms/step - loss: 90.9281\n",
            "Epoch 90/100\n",
            "11/11 [==============================] - 0s 3ms/step - loss: 91.0325\n",
            "Epoch 91/100\n",
            "11/11 [==============================] - 0s 2ms/step - loss: 90.9906\n",
            "Epoch 92/100\n",
            "11/11 [==============================] - 0s 2ms/step - loss: 91.0670\n",
            "Epoch 93/100\n",
            "11/11 [==============================] - 0s 2ms/step - loss: 90.8633\n",
            "Epoch 94/100\n",
            "11/11 [==============================] - 0s 2ms/step - loss: 90.9740\n",
            "Epoch 95/100\n",
            "11/11 [==============================] - 0s 2ms/step - loss: 91.0710\n",
            "Epoch 96/100\n",
            "11/11 [==============================] - 0s 2ms/step - loss: 90.9303\n",
            "Epoch 97/100\n",
            "11/11 [==============================] - 0s 2ms/step - loss: 90.9599\n",
            "Epoch 98/100\n",
            "11/11 [==============================] - 0s 2ms/step - loss: 90.9305\n",
            "Epoch 99/100\n",
            "11/11 [==============================] - 0s 2ms/step - loss: 91.0165\n",
            "Epoch 100/100\n",
            "11/11 [==============================] - 0s 2ms/step - loss: 90.9525\n",
            "3/3 [==============================] - 0s 5ms/step - loss: 71.1146\n",
            "The MSE value is:  71.11458587646484\n"
          ]
        }
      ]
    },
    {
      "cell_type": "markdown",
      "metadata": {
        "id": "CPakaxBaZZNA"
      },
      "source": [
        "You can see above how the loss (cost) i.e. MSE has changed just by changing the epochs and keeping the learning rate same as 0.01 (i.e. the first model we built)"
      ]
    },
    {
      "cell_type": "markdown",
      "metadata": {
        "id": "6WoG362ohrQF"
      },
      "source": [
        "### Exercise 2\n",
        "\n",
        "Test several epoch values to see the impact of varying this value when defining your model."
      ]
    },
    {
      "cell_type": "code",
      "metadata": {
        "id": "QUmO4ehKqC2_",
        "colab": {
          "base_uri": "https://localhost:8080/"
        },
        "outputId": "1b2f058f-440e-4797-e8fb-dc7546208cbf"
      },
      "source": [
        "# Play with epochs\n",
        "learning_rate = 0.01         \n",
        "epochs = 25             # Replace ? with an integer\n",
        "optimizer = RMSprop(learning_rate)\n",
        "model.compile(loss='mean_squared_error',optimizer=optimizer)    # compile the model\n",
        "model.fit(X_train, y_train, epochs=epochs, batch_size=30)     # fit the model\n",
        "model.evaluate(X_test, y_test)       # Evaluate the model"
      ],
      "execution_count": 18,
      "outputs": [
        {
          "output_type": "stream",
          "name": "stdout",
          "text": [
            "Epoch 1/25\n",
            "11/11 [==============================] - 1s 4ms/step - loss: 90.8950\n",
            "Epoch 2/25\n",
            "11/11 [==============================] - 0s 3ms/step - loss: 90.8589\n",
            "Epoch 3/25\n",
            "11/11 [==============================] - 0s 4ms/step - loss: 90.8528\n",
            "Epoch 4/25\n",
            "11/11 [==============================] - 0s 3ms/step - loss: 90.8618\n",
            "Epoch 5/25\n",
            "11/11 [==============================] - 0s 3ms/step - loss: 90.8457\n",
            "Epoch 6/25\n",
            "11/11 [==============================] - 0s 3ms/step - loss: 90.8506\n",
            "Epoch 7/25\n",
            "11/11 [==============================] - 0s 4ms/step - loss: 90.8558\n",
            "Epoch 8/25\n",
            "11/11 [==============================] - 0s 3ms/step - loss: 90.8523\n",
            "Epoch 9/25\n",
            "11/11 [==============================] - 0s 3ms/step - loss: 90.8504\n",
            "Epoch 10/25\n",
            "11/11 [==============================] - 0s 3ms/step - loss: 90.8458\n",
            "Epoch 11/25\n",
            "11/11 [==============================] - 0s 2ms/step - loss: 90.8458\n",
            "Epoch 12/25\n",
            "11/11 [==============================] - 0s 3ms/step - loss: 90.8447\n",
            "Epoch 13/25\n",
            "11/11 [==============================] - 0s 3ms/step - loss: 90.8563\n",
            "Epoch 14/25\n",
            "11/11 [==============================] - 0s 2ms/step - loss: 90.8644\n",
            "Epoch 15/25\n",
            "11/11 [==============================] - 0s 3ms/step - loss: 90.8415\n",
            "Epoch 16/25\n",
            "11/11 [==============================] - 0s 3ms/step - loss: 90.8447\n",
            "Epoch 17/25\n",
            "11/11 [==============================] - 0s 2ms/step - loss: 90.8458\n",
            "Epoch 18/25\n",
            "11/11 [==============================] - 0s 3ms/step - loss: 90.8387\n",
            "Epoch 19/25\n",
            "11/11 [==============================] - 0s 2ms/step - loss: 90.8452\n",
            "Epoch 20/25\n",
            "11/11 [==============================] - 0s 3ms/step - loss: 90.8412\n",
            "Epoch 21/25\n",
            "11/11 [==============================] - 0s 3ms/step - loss: 90.8522\n",
            "Epoch 22/25\n",
            "11/11 [==============================] - 0s 3ms/step - loss: 90.8416\n",
            "Epoch 23/25\n",
            "11/11 [==============================] - 0s 3ms/step - loss: 90.8450\n",
            "Epoch 24/25\n",
            "11/11 [==============================] - 0s 4ms/step - loss: 90.8410\n",
            "Epoch 25/25\n",
            "11/11 [==============================] - 0s 3ms/step - loss: 90.8437\n",
            "WARNING:tensorflow:5 out of the last 13 calls to <function Model.make_test_function.<locals>.test_function at 0x7f177784d0e0> triggered tf.function retracing. Tracing is expensive and the excessive number of tracings could be due to (1) creating @tf.function repeatedly in a loop, (2) passing tensors with different shapes, (3) passing Python objects instead of tensors. For (1), please define your @tf.function outside of the loop. For (2), @tf.function has experimental_relax_shapes=True option that relaxes argument shapes that can avoid unnecessary retracing. For (3), please refer to https://www.tensorflow.org/guide/function#controlling_retracing and https://www.tensorflow.org/api_docs/python/tf/function for  more details.\n",
            "3/3 [==============================] - 0s 4ms/step - loss: 71.1082\n"
          ]
        },
        {
          "output_type": "execute_result",
          "data": {
            "text/plain": [
              "71.108154296875"
            ]
          },
          "metadata": {},
          "execution_count": 18
        }
      ]
    },
    {
      "cell_type": "markdown",
      "metadata": {
        "id": "K6cx5vbtqdeD"
      },
      "source": [
        "### Exercise 3\n",
        "\n",
        "Find the best possible combination of *learning rate* and *epochs* while testing some combinations"
      ]
    },
    {
      "cell_type": "code",
      "metadata": {
        "id": "n8RUGIklqxKS",
        "colab": {
          "base_uri": "https://localhost:8080/"
        },
        "outputId": "c03107a0-1d02-4050-9a1f-0d440d1d2d6c"
      },
      "source": [
        "# play with learning rate and epochs\n",
        "learning_rate = 0.01        # Replace ? with a floating-point number\n",
        "epochs = 150             # Replace ? with an integer\n",
        "optimizer = RMSprop(learning_rate)\n",
        "model.compile(loss='mean_squared_error',optimizer=optimizer)    # compile the model\n",
        "model.fit(X_train, y_train, epochs=epochs, batch_size=30)     # fit the model\n",
        "model.evaluate(X_test, y_test)       # Evaluate the model"
      ],
      "execution_count": 19,
      "outputs": [
        {
          "output_type": "stream",
          "name": "stdout",
          "text": [
            "Epoch 1/150\n",
            "11/11 [==============================] - 1s 2ms/step - loss: 90.8886\n",
            "Epoch 2/150\n",
            "11/11 [==============================] - 0s 3ms/step - loss: 90.8529\n",
            "Epoch 3/150\n",
            "11/11 [==============================] - 0s 2ms/step - loss: 90.8475\n",
            "Epoch 4/150\n",
            "11/11 [==============================] - 0s 2ms/step - loss: 90.8571\n",
            "Epoch 5/150\n",
            "11/11 [==============================] - 0s 2ms/step - loss: 90.8414\n",
            "Epoch 6/150\n",
            "11/11 [==============================] - 0s 2ms/step - loss: 90.8471\n",
            "Epoch 7/150\n",
            "11/11 [==============================] - 0s 2ms/step - loss: 90.8527\n",
            "Epoch 8/150\n",
            "11/11 [==============================] - 0s 2ms/step - loss: 90.8496\n",
            "Epoch 9/150\n",
            "11/11 [==============================] - 0s 2ms/step - loss: 90.8482\n",
            "Epoch 10/150\n",
            "11/11 [==============================] - 0s 2ms/step - loss: 90.8437\n",
            "Epoch 11/150\n",
            "11/11 [==============================] - 0s 2ms/step - loss: 90.8440\n",
            "Epoch 12/150\n",
            "11/11 [==============================] - 0s 2ms/step - loss: 90.8430\n",
            "Epoch 13/150\n",
            "11/11 [==============================] - 0s 2ms/step - loss: 90.8546\n",
            "Epoch 14/150\n",
            "11/11 [==============================] - 0s 2ms/step - loss: 90.8630\n",
            "Epoch 15/150\n",
            "11/11 [==============================] - 0s 2ms/step - loss: 90.8403\n",
            "Epoch 16/150\n",
            "11/11 [==============================] - 0s 2ms/step - loss: 90.8437\n",
            "Epoch 17/150\n",
            "11/11 [==============================] - 0s 2ms/step - loss: 90.8450\n",
            "Epoch 18/150\n",
            "11/11 [==============================] - 0s 2ms/step - loss: 90.8380\n",
            "Epoch 19/150\n",
            "11/11 [==============================] - 0s 3ms/step - loss: 90.8444\n",
            "Epoch 20/150\n",
            "11/11 [==============================] - 0s 3ms/step - loss: 90.8405\n",
            "Epoch 21/150\n",
            "11/11 [==============================] - 0s 2ms/step - loss: 90.8515\n",
            "Epoch 22/150\n",
            "11/11 [==============================] - 0s 2ms/step - loss: 90.8410\n",
            "Epoch 23/150\n",
            "11/11 [==============================] - 0s 2ms/step - loss: 90.8444\n",
            "Epoch 24/150\n",
            "11/11 [==============================] - 0s 2ms/step - loss: 90.8405\n",
            "Epoch 25/150\n",
            "11/11 [==============================] - 0s 2ms/step - loss: 90.8433\n",
            "Epoch 26/150\n",
            "11/11 [==============================] - 0s 2ms/step - loss: 90.8379\n",
            "Epoch 27/150\n",
            "11/11 [==============================] - 0s 2ms/step - loss: 90.8382\n",
            "Epoch 28/150\n",
            "11/11 [==============================] - 0s 2ms/step - loss: 90.8630\n",
            "Epoch 29/150\n",
            "11/11 [==============================] - 0s 2ms/step - loss: 90.8504\n",
            "Epoch 30/150\n",
            "11/11 [==============================] - 0s 2ms/step - loss: 90.8521\n",
            "Epoch 31/150\n",
            "11/11 [==============================] - 0s 2ms/step - loss: 90.8394\n",
            "Epoch 32/150\n",
            "11/11 [==============================] - 0s 2ms/step - loss: 90.8475\n",
            "Epoch 33/150\n",
            "11/11 [==============================] - 0s 2ms/step - loss: 90.8440\n",
            "Epoch 34/150\n",
            "11/11 [==============================] - 0s 2ms/step - loss: 90.8435\n",
            "Epoch 35/150\n",
            "11/11 [==============================] - 0s 2ms/step - loss: 90.8567\n",
            "Epoch 36/150\n",
            "11/11 [==============================] - 0s 2ms/step - loss: 90.8447\n",
            "Epoch 37/150\n",
            "11/11 [==============================] - 0s 2ms/step - loss: 90.8411\n",
            "Epoch 38/150\n",
            "11/11 [==============================] - 0s 2ms/step - loss: 90.8382\n",
            "Epoch 39/150\n",
            "11/11 [==============================] - 0s 2ms/step - loss: 90.8507\n",
            "Epoch 40/150\n",
            "11/11 [==============================] - 0s 2ms/step - loss: 90.8388\n",
            "Epoch 41/150\n",
            "11/11 [==============================] - 0s 2ms/step - loss: 90.8400\n",
            "Epoch 42/150\n",
            "11/11 [==============================] - 0s 2ms/step - loss: 90.8418\n",
            "Epoch 43/150\n",
            "11/11 [==============================] - 0s 2ms/step - loss: 90.8364\n",
            "Epoch 44/150\n",
            "11/11 [==============================] - 0s 2ms/step - loss: 90.8425\n",
            "Epoch 45/150\n",
            "11/11 [==============================] - 0s 2ms/step - loss: 90.8465\n",
            "Epoch 46/150\n",
            "11/11 [==============================] - 0s 2ms/step - loss: 90.8488\n",
            "Epoch 47/150\n",
            "11/11 [==============================] - 0s 2ms/step - loss: 90.8474\n",
            "Epoch 48/150\n",
            "11/11 [==============================] - 0s 2ms/step - loss: 90.8499\n",
            "Epoch 49/150\n",
            "11/11 [==============================] - 0s 2ms/step - loss: 90.8410\n",
            "Epoch 50/150\n",
            "11/11 [==============================] - 0s 2ms/step - loss: 90.8498\n",
            "Epoch 51/150\n",
            "11/11 [==============================] - 0s 2ms/step - loss: 90.8638\n",
            "Epoch 52/150\n",
            "11/11 [==============================] - 0s 2ms/step - loss: 90.8385\n",
            "Epoch 53/150\n",
            "11/11 [==============================] - 0s 2ms/step - loss: 90.8401\n",
            "Epoch 54/150\n",
            "11/11 [==============================] - 0s 2ms/step - loss: 90.8355\n",
            "Epoch 55/150\n",
            "11/11 [==============================] - 0s 2ms/step - loss: 90.8490\n",
            "Epoch 56/150\n",
            "11/11 [==============================] - 0s 3ms/step - loss: 90.8477\n",
            "Epoch 57/150\n",
            "11/11 [==============================] - 0s 2ms/step - loss: 90.8487\n",
            "Epoch 58/150\n",
            "11/11 [==============================] - 0s 2ms/step - loss: 90.8476\n",
            "Epoch 59/150\n",
            "11/11 [==============================] - 0s 2ms/step - loss: 90.8493\n",
            "Epoch 60/150\n",
            "11/11 [==============================] - 0s 2ms/step - loss: 90.8362\n",
            "Epoch 61/150\n",
            "11/11 [==============================] - 0s 2ms/step - loss: 90.8540\n",
            "Epoch 62/150\n",
            "11/11 [==============================] - 0s 2ms/step - loss: 90.8425\n",
            "Epoch 63/150\n",
            "11/11 [==============================] - 0s 2ms/step - loss: 90.8402\n",
            "Epoch 64/150\n",
            "11/11 [==============================] - 0s 2ms/step - loss: 90.8360\n",
            "Epoch 65/150\n",
            "11/11 [==============================] - 0s 2ms/step - loss: 90.8528\n",
            "Epoch 66/150\n",
            "11/11 [==============================] - 0s 2ms/step - loss: 90.8429\n",
            "Epoch 67/150\n",
            "11/11 [==============================] - 0s 2ms/step - loss: 90.8457\n",
            "Epoch 68/150\n",
            "11/11 [==============================] - 0s 2ms/step - loss: 90.8425\n",
            "Epoch 69/150\n",
            "11/11 [==============================] - 0s 2ms/step - loss: 90.8403\n",
            "Epoch 70/150\n",
            "11/11 [==============================] - 0s 2ms/step - loss: 90.8460\n",
            "Epoch 71/150\n",
            "11/11 [==============================] - 0s 2ms/step - loss: 90.8457\n",
            "Epoch 72/150\n",
            "11/11 [==============================] - 0s 2ms/step - loss: 90.8460\n",
            "Epoch 73/150\n",
            "11/11 [==============================] - 0s 3ms/step - loss: 90.8486\n",
            "Epoch 74/150\n",
            "11/11 [==============================] - 0s 2ms/step - loss: 90.8472\n",
            "Epoch 75/150\n",
            "11/11 [==============================] - 0s 2ms/step - loss: 90.8435\n",
            "Epoch 76/150\n",
            "11/11 [==============================] - 0s 2ms/step - loss: 90.8402\n",
            "Epoch 77/150\n",
            "11/11 [==============================] - 0s 2ms/step - loss: 90.8511\n",
            "Epoch 78/150\n",
            "11/11 [==============================] - 0s 2ms/step - loss: 90.8391\n",
            "Epoch 79/150\n",
            "11/11 [==============================] - 0s 2ms/step - loss: 90.8578\n",
            "Epoch 80/150\n",
            "11/11 [==============================] - 0s 2ms/step - loss: 90.8403\n",
            "Epoch 81/150\n",
            "11/11 [==============================] - 0s 2ms/step - loss: 90.8504\n",
            "Epoch 82/150\n",
            "11/11 [==============================] - 0s 2ms/step - loss: 90.8371\n",
            "Epoch 83/150\n",
            "11/11 [==============================] - 0s 2ms/step - loss: 90.8459\n",
            "Epoch 84/150\n",
            "11/11 [==============================] - 0s 3ms/step - loss: 90.8494\n",
            "Epoch 85/150\n",
            "11/11 [==============================] - 0s 2ms/step - loss: 90.8490\n",
            "Epoch 86/150\n",
            "11/11 [==============================] - 0s 2ms/step - loss: 90.8382\n",
            "Epoch 87/150\n",
            "11/11 [==============================] - 0s 2ms/step - loss: 90.8556\n",
            "Epoch 88/150\n",
            "11/11 [==============================] - 0s 2ms/step - loss: 90.8349\n",
            "Epoch 89/150\n",
            "11/11 [==============================] - 0s 2ms/step - loss: 90.8389\n",
            "Epoch 90/150\n",
            "11/11 [==============================] - 0s 2ms/step - loss: 90.8503\n",
            "Epoch 91/150\n",
            "11/11 [==============================] - 0s 4ms/step - loss: 90.8451\n",
            "Epoch 92/150\n",
            "11/11 [==============================] - 0s 2ms/step - loss: 90.8567\n",
            "Epoch 93/150\n",
            "11/11 [==============================] - 0s 2ms/step - loss: 90.8324\n",
            "Epoch 94/150\n",
            "11/11 [==============================] - 0s 3ms/step - loss: 90.8435\n",
            "Epoch 95/150\n",
            "11/11 [==============================] - 0s 2ms/step - loss: 90.8540\n",
            "Epoch 96/150\n",
            "11/11 [==============================] - 0s 2ms/step - loss: 90.8418\n",
            "Epoch 97/150\n",
            "11/11 [==============================] - 0s 2ms/step - loss: 90.8413\n",
            "Epoch 98/150\n",
            "11/11 [==============================] - 0s 2ms/step - loss: 90.8410\n",
            "Epoch 99/150\n",
            "11/11 [==============================] - 0s 2ms/step - loss: 90.8476\n",
            "Epoch 100/150\n",
            "11/11 [==============================] - 0s 2ms/step - loss: 90.8415\n",
            "Epoch 101/150\n",
            "11/11 [==============================] - 0s 2ms/step - loss: 90.8560\n",
            "Epoch 102/150\n",
            "11/11 [==============================] - 0s 2ms/step - loss: 90.8413\n",
            "Epoch 103/150\n",
            "11/11 [==============================] - 0s 3ms/step - loss: 90.8439\n",
            "Epoch 104/150\n",
            "11/11 [==============================] - 0s 2ms/step - loss: 90.8447\n",
            "Epoch 105/150\n",
            "11/11 [==============================] - 0s 2ms/step - loss: 90.8442\n",
            "Epoch 106/150\n",
            "11/11 [==============================] - 0s 2ms/step - loss: 90.8474\n",
            "Epoch 107/150\n",
            "11/11 [==============================] - 0s 2ms/step - loss: 90.8459\n",
            "Epoch 108/150\n",
            "11/11 [==============================] - 0s 2ms/step - loss: 90.8402\n",
            "Epoch 109/150\n",
            "11/11 [==============================] - 0s 2ms/step - loss: 90.8538\n",
            "Epoch 110/150\n",
            "11/11 [==============================] - 0s 2ms/step - loss: 90.8466\n",
            "Epoch 111/150\n",
            "11/11 [==============================] - 0s 2ms/step - loss: 90.8538\n",
            "Epoch 112/150\n",
            "11/11 [==============================] - 0s 2ms/step - loss: 90.8428\n",
            "Epoch 113/150\n",
            "11/11 [==============================] - 0s 2ms/step - loss: 90.8450\n",
            "Epoch 114/150\n",
            "11/11 [==============================] - 0s 2ms/step - loss: 90.8390\n",
            "Epoch 115/150\n",
            "11/11 [==============================] - 0s 2ms/step - loss: 90.8503\n",
            "Epoch 116/150\n",
            "11/11 [==============================] - 0s 2ms/step - loss: 90.8381\n",
            "Epoch 117/150\n",
            "11/11 [==============================] - 0s 2ms/step - loss: 90.8440\n",
            "Epoch 118/150\n",
            "11/11 [==============================] - 0s 2ms/step - loss: 90.8471\n",
            "Epoch 119/150\n",
            "11/11 [==============================] - 0s 2ms/step - loss: 90.8456\n",
            "Epoch 120/150\n",
            "11/11 [==============================] - 0s 2ms/step - loss: 90.8501\n",
            "Epoch 121/150\n",
            "11/11 [==============================] - 0s 2ms/step - loss: 90.8370\n",
            "Epoch 122/150\n",
            "11/11 [==============================] - 0s 2ms/step - loss: 90.8449\n",
            "Epoch 123/150\n",
            "11/11 [==============================] - 0s 2ms/step - loss: 90.8407\n",
            "Epoch 124/150\n",
            "11/11 [==============================] - 0s 2ms/step - loss: 90.8431\n",
            "Epoch 125/150\n",
            "11/11 [==============================] - 0s 2ms/step - loss: 90.8437\n",
            "Epoch 126/150\n",
            "11/11 [==============================] - 0s 2ms/step - loss: 90.8447\n",
            "Epoch 127/150\n",
            "11/11 [==============================] - 0s 2ms/step - loss: 90.8532\n",
            "Epoch 128/150\n",
            "11/11 [==============================] - 0s 2ms/step - loss: 90.8429\n",
            "Epoch 129/150\n",
            "11/11 [==============================] - 0s 2ms/step - loss: 90.8532\n",
            "Epoch 130/150\n",
            "11/11 [==============================] - 0s 2ms/step - loss: 90.8397\n",
            "Epoch 131/150\n",
            "11/11 [==============================] - 0s 2ms/step - loss: 90.8448\n",
            "Epoch 132/150\n",
            "11/11 [==============================] - 0s 2ms/step - loss: 90.8414\n",
            "Epoch 133/150\n",
            "11/11 [==============================] - 0s 2ms/step - loss: 90.8389\n",
            "Epoch 134/150\n",
            "11/11 [==============================] - 0s 2ms/step - loss: 90.8533\n",
            "Epoch 135/150\n",
            "11/11 [==============================] - 0s 2ms/step - loss: 90.8540\n",
            "Epoch 136/150\n",
            "11/11 [==============================] - 0s 2ms/step - loss: 90.8397\n",
            "Epoch 137/150\n",
            "11/11 [==============================] - 0s 2ms/step - loss: 90.8437\n",
            "Epoch 138/150\n",
            "11/11 [==============================] - 0s 2ms/step - loss: 90.8511\n",
            "Epoch 139/150\n",
            "11/11 [==============================] - 0s 2ms/step - loss: 90.8438\n",
            "Epoch 140/150\n",
            "11/11 [==============================] - 0s 2ms/step - loss: 90.8354\n",
            "Epoch 141/150\n",
            "11/11 [==============================] - 0s 2ms/step - loss: 90.8458\n",
            "Epoch 142/150\n",
            "11/11 [==============================] - 0s 2ms/step - loss: 90.8483\n",
            "Epoch 143/150\n",
            "11/11 [==============================] - 0s 3ms/step - loss: 90.8408\n",
            "Epoch 144/150\n",
            "11/11 [==============================] - 0s 2ms/step - loss: 90.8386\n",
            "Epoch 145/150\n",
            "11/11 [==============================] - 0s 2ms/step - loss: 90.8401\n",
            "Epoch 146/150\n",
            "11/11 [==============================] - 0s 2ms/step - loss: 90.8520\n",
            "Epoch 147/150\n",
            "11/11 [==============================] - 0s 2ms/step - loss: 90.8417\n",
            "Epoch 148/150\n",
            "11/11 [==============================] - 0s 2ms/step - loss: 90.8413\n",
            "Epoch 149/150\n",
            "11/11 [==============================] - 0s 2ms/step - loss: 90.8414\n",
            "Epoch 150/150\n",
            "11/11 [==============================] - 0s 2ms/step - loss: 90.8575\n",
            "WARNING:tensorflow:5 out of the last 13 calls to <function Model.make_test_function.<locals>.test_function at 0x7f17717b43b0> triggered tf.function retracing. Tracing is expensive and the excessive number of tracings could be due to (1) creating @tf.function repeatedly in a loop, (2) passing tensors with different shapes, (3) passing Python objects instead of tensors. For (1), please define your @tf.function outside of the loop. For (2), @tf.function has experimental_relax_shapes=True option that relaxes argument shapes that can avoid unnecessary retracing. For (3), please refer to https://www.tensorflow.org/guide/function#controlling_retracing and https://www.tensorflow.org/api_docs/python/tf/function for  more details.\n",
            "3/3 [==============================] - 0s 5ms/step - loss: 71.1050\n"
          ]
        },
        {
          "output_type": "execute_result",
          "data": {
            "text/plain": [
              "71.10501861572266"
            ]
          },
          "metadata": {},
          "execution_count": 19
        }
      ]
    },
    {
      "cell_type": "markdown",
      "metadata": {
        "id": "kcn3gB3Uq7u6"
      },
      "source": [
        "**Batch Size**\n",
        "\n",
        "The number of examples in a batch."
      ]
    },
    {
      "cell_type": "code",
      "metadata": {
        "id": "DTSP63PTZ8hv",
        "colab": {
          "base_uri": "https://localhost:8080/"
        },
        "outputId": "0dc7f2f3-497b-4a59-ace9-0539f3319489"
      },
      "source": [
        "####################### Complete example to check the performance of the model with different batch size while keeping epochs as 30 and learning rate as 0.01 #######################################\n",
        "# define the model\n",
        "model = Sequential()\n",
        "model.add(Dense(10, activation='relu', input_shape=(n_features,)))\n",
        "model.add(Dense(8, activation='relu'))\n",
        "model.add(Dense(1))\n",
        "\n",
        "optimizer = RMSprop(0.1)    # 0.1 is the learning rate\n",
        "model.compile(loss='mean_squared_error',optimizer=optimizer)    # compile the model\n",
        "\n",
        "# fit the model \n",
        "model.fit(X_train, y_train, epochs=10, batch_size=40, verbose = 1)\n",
        "\n",
        "# evaluate the model\n",
        "print('The MSE value is: ', model.evaluate(X_test, y_test))"
      ],
      "execution_count": 20,
      "outputs": [
        {
          "output_type": "stream",
          "name": "stdout",
          "text": [
            "Epoch 1/10\n",
            "9/9 [==============================] - 1s 2ms/step - loss: 27410.0859\n",
            "Epoch 2/10\n",
            "9/9 [==============================] - 0s 2ms/step - loss: 211.4276\n",
            "Epoch 3/10\n",
            "9/9 [==============================] - 0s 2ms/step - loss: 187.7308\n",
            "Epoch 4/10\n",
            "9/9 [==============================] - 0s 2ms/step - loss: 157.6277\n",
            "Epoch 5/10\n",
            "9/9 [==============================] - 0s 2ms/step - loss: 133.5318\n",
            "Epoch 6/10\n",
            "9/9 [==============================] - 0s 2ms/step - loss: 206.0188\n",
            "Epoch 7/10\n",
            "9/9 [==============================] - 0s 2ms/step - loss: 335.1153\n",
            "Epoch 8/10\n",
            "9/9 [==============================] - 0s 2ms/step - loss: 166.5187\n",
            "Epoch 9/10\n",
            "9/9 [==============================] - 0s 2ms/step - loss: 194.7235\n",
            "Epoch 10/10\n",
            "9/9 [==============================] - 0s 2ms/step - loss: 181.1689\n",
            "3/3 [==============================] - 0s 4ms/step - loss: 441.9723\n",
            "The MSE value is:  441.9723205566406\n"
          ]
        }
      ]
    },
    {
      "cell_type": "markdown",
      "metadata": {
        "id": "r7xoMXoVaJy5"
      },
      "source": [
        "You can see above the cost(loss) value i.e. MSE for batch size 40 while keeping epochs as 10 and learning rate as 0.01"
      ]
    },
    {
      "cell_type": "markdown",
      "metadata": {
        "id": "y9VcjhruiIxd"
      },
      "source": [
        "### Exercise 4\n",
        "\n",
        "Test several batch size values to see the impact of varying this value when defining your model."
      ]
    },
    {
      "cell_type": "code",
      "metadata": {
        "id": "WKik9O5grNa1",
        "colab": {
          "base_uri": "https://localhost:8080/"
        },
        "outputId": "775ccf3b-d6c6-4013-9d59-cc06c9aa7d9c"
      },
      "source": [
        "# play with batch size\n",
        "learning_rate = 0.01        \n",
        "epochs = 150         \n",
        "batch = 50      # Replace ? with an integer    \n",
        "optimizer = RMSprop(learning_rate)\n",
        "model.compile(loss='mean_squared_error',optimizer=optimizer)    # compile the model\n",
        "model.fit(X_train, y_train, epochs=epochs, batch_size=batch)     # fit the model\n",
        "model.evaluate(X_test, y_test)       # Evaluate the model"
      ],
      "execution_count": 21,
      "outputs": [
        {
          "output_type": "stream",
          "name": "stdout",
          "text": [
            "Epoch 1/150\n",
            "7/7 [==============================] - 1s 3ms/step - loss: 176.7595\n",
            "Epoch 2/150\n",
            "7/7 [==============================] - 0s 2ms/step - loss: 64.6431\n",
            "Epoch 3/150\n",
            "7/7 [==============================] - 0s 2ms/step - loss: 63.6470\n",
            "Epoch 4/150\n",
            "7/7 [==============================] - 0s 2ms/step - loss: 64.2489\n",
            "Epoch 5/150\n",
            "7/7 [==============================] - 0s 2ms/step - loss: 61.7175\n",
            "Epoch 6/150\n",
            "7/7 [==============================] - 0s 2ms/step - loss: 61.0594\n",
            "Epoch 7/150\n",
            "7/7 [==============================] - 0s 2ms/step - loss: 57.4647\n",
            "Epoch 8/150\n",
            "7/7 [==============================] - 0s 3ms/step - loss: 58.2108\n",
            "Epoch 9/150\n",
            "7/7 [==============================] - 0s 2ms/step - loss: 57.6310\n",
            "Epoch 10/150\n",
            "7/7 [==============================] - 0s 2ms/step - loss: 54.6607\n",
            "Epoch 11/150\n",
            "7/7 [==============================] - 0s 2ms/step - loss: 56.2106\n",
            "Epoch 12/150\n",
            "7/7 [==============================] - 0s 2ms/step - loss: 56.6478\n",
            "Epoch 13/150\n",
            "7/7 [==============================] - 0s 2ms/step - loss: 52.2437\n",
            "Epoch 14/150\n",
            "7/7 [==============================] - 0s 2ms/step - loss: 61.8768\n",
            "Epoch 15/150\n",
            "7/7 [==============================] - 0s 2ms/step - loss: 52.6523\n",
            "Epoch 16/150\n",
            "7/7 [==============================] - 0s 3ms/step - loss: 54.8875\n",
            "Epoch 17/150\n",
            "7/7 [==============================] - 0s 2ms/step - loss: 49.5265\n",
            "Epoch 18/150\n",
            "7/7 [==============================] - 0s 2ms/step - loss: 52.2361\n",
            "Epoch 19/150\n",
            "7/7 [==============================] - 0s 3ms/step - loss: 51.3686\n",
            "Epoch 20/150\n",
            "7/7 [==============================] - 0s 2ms/step - loss: 50.3657\n",
            "Epoch 21/150\n",
            "7/7 [==============================] - 0s 2ms/step - loss: 50.4893\n",
            "Epoch 22/150\n",
            "7/7 [==============================] - 0s 2ms/step - loss: 44.5485\n",
            "Epoch 23/150\n",
            "7/7 [==============================] - 0s 3ms/step - loss: 55.2103\n",
            "Epoch 24/150\n",
            "7/7 [==============================] - 0s 2ms/step - loss: 47.5307\n",
            "Epoch 25/150\n",
            "7/7 [==============================] - 0s 2ms/step - loss: 44.3766\n",
            "Epoch 26/150\n",
            "7/7 [==============================] - 0s 2ms/step - loss: 45.4588\n",
            "Epoch 27/150\n",
            "7/7 [==============================] - 0s 2ms/step - loss: 52.7680\n",
            "Epoch 28/150\n",
            "7/7 [==============================] - 0s 2ms/step - loss: 46.1702\n",
            "Epoch 29/150\n",
            "7/7 [==============================] - 0s 2ms/step - loss: 45.9180\n",
            "Epoch 30/150\n",
            "7/7 [==============================] - 0s 2ms/step - loss: 43.7877\n",
            "Epoch 31/150\n",
            "7/7 [==============================] - 0s 2ms/step - loss: 44.2457\n",
            "Epoch 32/150\n",
            "7/7 [==============================] - 0s 2ms/step - loss: 48.0003\n",
            "Epoch 33/150\n",
            "7/7 [==============================] - 0s 3ms/step - loss: 48.9977\n",
            "Epoch 34/150\n",
            "7/7 [==============================] - 0s 2ms/step - loss: 44.8338\n",
            "Epoch 35/150\n",
            "7/7 [==============================] - 0s 3ms/step - loss: 44.7436\n",
            "Epoch 36/150\n",
            "7/7 [==============================] - 0s 3ms/step - loss: 48.5660\n",
            "Epoch 37/150\n",
            "7/7 [==============================] - 0s 3ms/step - loss: 44.1847\n",
            "Epoch 38/150\n",
            "7/7 [==============================] - 0s 3ms/step - loss: 44.8207\n",
            "Epoch 39/150\n",
            "7/7 [==============================] - 0s 3ms/step - loss: 41.7788\n",
            "Epoch 40/150\n",
            "7/7 [==============================] - 0s 4ms/step - loss: 39.9121\n",
            "Epoch 41/150\n",
            "7/7 [==============================] - 0s 4ms/step - loss: 48.6787\n",
            "Epoch 42/150\n",
            "7/7 [==============================] - 0s 3ms/step - loss: 39.9852\n",
            "Epoch 43/150\n",
            "7/7 [==============================] - 0s 3ms/step - loss: 45.2121\n",
            "Epoch 44/150\n",
            "7/7 [==============================] - 0s 3ms/step - loss: 46.1991\n",
            "Epoch 45/150\n",
            "7/7 [==============================] - 0s 3ms/step - loss: 43.1747\n",
            "Epoch 46/150\n",
            "7/7 [==============================] - 0s 3ms/step - loss: 41.0635\n",
            "Epoch 47/150\n",
            "7/7 [==============================] - 0s 4ms/step - loss: 38.1119\n",
            "Epoch 48/150\n",
            "7/7 [==============================] - 0s 3ms/step - loss: 42.6494\n",
            "Epoch 49/150\n",
            "7/7 [==============================] - 0s 3ms/step - loss: 44.5098\n",
            "Epoch 50/150\n",
            "7/7 [==============================] - 0s 3ms/step - loss: 43.1111\n",
            "Epoch 51/150\n",
            "7/7 [==============================] - 0s 3ms/step - loss: 39.1378\n",
            "Epoch 52/150\n",
            "7/7 [==============================] - 0s 3ms/step - loss: 44.4645\n",
            "Epoch 53/150\n",
            "7/7 [==============================] - 0s 3ms/step - loss: 37.7474\n",
            "Epoch 54/150\n",
            "7/7 [==============================] - 0s 3ms/step - loss: 43.1741\n",
            "Epoch 55/150\n",
            "7/7 [==============================] - 0s 4ms/step - loss: 45.2690\n",
            "Epoch 56/150\n",
            "7/7 [==============================] - 0s 4ms/step - loss: 41.1167\n",
            "Epoch 57/150\n",
            "7/7 [==============================] - 0s 3ms/step - loss: 42.6673\n",
            "Epoch 58/150\n",
            "7/7 [==============================] - 0s 3ms/step - loss: 37.9158\n",
            "Epoch 59/150\n",
            "7/7 [==============================] - 0s 3ms/step - loss: 35.5497\n",
            "Epoch 60/150\n",
            "7/7 [==============================] - 0s 2ms/step - loss: 41.2223\n",
            "Epoch 61/150\n",
            "7/7 [==============================] - 0s 3ms/step - loss: 43.7124\n",
            "Epoch 62/150\n",
            "7/7 [==============================] - 0s 2ms/step - loss: 49.6249\n",
            "Epoch 63/150\n",
            "7/7 [==============================] - 0s 2ms/step - loss: 37.4928\n",
            "Epoch 64/150\n",
            "7/7 [==============================] - 0s 2ms/step - loss: 41.0165\n",
            "Epoch 65/150\n",
            "7/7 [==============================] - 0s 2ms/step - loss: 37.8010\n",
            "Epoch 66/150\n",
            "7/7 [==============================] - 0s 3ms/step - loss: 36.0863\n",
            "Epoch 67/150\n",
            "7/7 [==============================] - 0s 3ms/step - loss: 35.3603\n",
            "Epoch 68/150\n",
            "7/7 [==============================] - 0s 2ms/step - loss: 45.7014\n",
            "Epoch 69/150\n",
            "7/7 [==============================] - 0s 3ms/step - loss: 36.9376\n",
            "Epoch 70/150\n",
            "7/7 [==============================] - 0s 3ms/step - loss: 43.7069\n",
            "Epoch 71/150\n",
            "7/7 [==============================] - 0s 3ms/step - loss: 44.2614\n",
            "Epoch 72/150\n",
            "7/7 [==============================] - 0s 3ms/step - loss: 38.8524\n",
            "Epoch 73/150\n",
            "7/7 [==============================] - 0s 3ms/step - loss: 35.7765\n",
            "Epoch 74/150\n",
            "7/7 [==============================] - 0s 3ms/step - loss: 46.4785\n",
            "Epoch 75/150\n",
            "7/7 [==============================] - 0s 3ms/step - loss: 36.6284\n",
            "Epoch 76/150\n",
            "7/7 [==============================] - 0s 3ms/step - loss: 38.0586\n",
            "Epoch 77/150\n",
            "7/7 [==============================] - 0s 4ms/step - loss: 36.6192\n",
            "Epoch 78/150\n",
            "7/7 [==============================] - 0s 4ms/step - loss: 35.4889\n",
            "Epoch 79/150\n",
            "7/7 [==============================] - 0s 3ms/step - loss: 40.0022\n",
            "Epoch 80/150\n",
            "7/7 [==============================] - 0s 4ms/step - loss: 43.2655\n",
            "Epoch 81/150\n",
            "7/7 [==============================] - 0s 3ms/step - loss: 36.3222\n",
            "Epoch 82/150\n",
            "7/7 [==============================] - 0s 4ms/step - loss: 38.6674\n",
            "Epoch 83/150\n",
            "7/7 [==============================] - 0s 4ms/step - loss: 33.9099\n",
            "Epoch 84/150\n",
            "7/7 [==============================] - 0s 3ms/step - loss: 38.7894\n",
            "Epoch 85/150\n",
            "7/7 [==============================] - 0s 3ms/step - loss: 42.7732\n",
            "Epoch 86/150\n",
            "7/7 [==============================] - 0s 3ms/step - loss: 32.6634\n",
            "Epoch 87/150\n",
            "7/7 [==============================] - 0s 3ms/step - loss: 41.7617\n",
            "Epoch 88/150\n",
            "7/7 [==============================] - 0s 4ms/step - loss: 40.1326\n",
            "Epoch 89/150\n",
            "7/7 [==============================] - 0s 4ms/step - loss: 36.3237\n",
            "Epoch 90/150\n",
            "7/7 [==============================] - 0s 4ms/step - loss: 43.5376\n",
            "Epoch 91/150\n",
            "7/7 [==============================] - 0s 3ms/step - loss: 41.5775\n",
            "Epoch 92/150\n",
            "7/7 [==============================] - 0s 3ms/step - loss: 34.6010\n",
            "Epoch 93/150\n",
            "7/7 [==============================] - 0s 3ms/step - loss: 39.8059\n",
            "Epoch 94/150\n",
            "7/7 [==============================] - 0s 4ms/step - loss: 42.3778\n",
            "Epoch 95/150\n",
            "7/7 [==============================] - 0s 3ms/step - loss: 34.4402\n",
            "Epoch 96/150\n",
            "7/7 [==============================] - 0s 3ms/step - loss: 33.2611\n",
            "Epoch 97/150\n",
            "7/7 [==============================] - 0s 4ms/step - loss: 31.7768\n",
            "Epoch 98/150\n",
            "7/7 [==============================] - 0s 3ms/step - loss: 46.0129\n",
            "Epoch 99/150\n",
            "7/7 [==============================] - 0s 3ms/step - loss: 36.1872\n",
            "Epoch 100/150\n",
            "7/7 [==============================] - 0s 3ms/step - loss: 34.5527\n",
            "Epoch 101/150\n",
            "7/7 [==============================] - 0s 3ms/step - loss: 33.1851\n",
            "Epoch 102/150\n",
            "7/7 [==============================] - 0s 3ms/step - loss: 42.9641\n",
            "Epoch 103/150\n",
            "7/7 [==============================] - 0s 3ms/step - loss: 31.5020\n",
            "Epoch 104/150\n",
            "7/7 [==============================] - 0s 3ms/step - loss: 42.7676\n",
            "Epoch 105/150\n",
            "7/7 [==============================] - 0s 4ms/step - loss: 30.5293\n",
            "Epoch 106/150\n",
            "7/7 [==============================] - 0s 2ms/step - loss: 33.4243\n",
            "Epoch 107/150\n",
            "7/7 [==============================] - 0s 4ms/step - loss: 38.3944\n",
            "Epoch 108/150\n",
            "7/7 [==============================] - 0s 4ms/step - loss: 32.6499\n",
            "Epoch 109/150\n",
            "7/7 [==============================] - 0s 3ms/step - loss: 31.0466\n",
            "Epoch 110/150\n",
            "7/7 [==============================] - 0s 3ms/step - loss: 40.6425\n",
            "Epoch 111/150\n",
            "7/7 [==============================] - 0s 5ms/step - loss: 34.4210\n",
            "Epoch 112/150\n",
            "7/7 [==============================] - 0s 4ms/step - loss: 32.7482\n",
            "Epoch 113/150\n",
            "7/7 [==============================] - 0s 3ms/step - loss: 42.9050\n",
            "Epoch 114/150\n",
            "7/7 [==============================] - 0s 3ms/step - loss: 30.7540\n",
            "Epoch 115/150\n",
            "7/7 [==============================] - 0s 3ms/step - loss: 40.7553\n",
            "Epoch 116/150\n",
            "7/7 [==============================] - 0s 3ms/step - loss: 33.1101\n",
            "Epoch 117/150\n",
            "7/7 [==============================] - 0s 3ms/step - loss: 33.3414\n",
            "Epoch 118/150\n",
            "7/7 [==============================] - 0s 2ms/step - loss: 35.2885\n",
            "Epoch 119/150\n",
            "7/7 [==============================] - 0s 2ms/step - loss: 31.5620\n",
            "Epoch 120/150\n",
            "7/7 [==============================] - 0s 2ms/step - loss: 40.0100\n",
            "Epoch 121/150\n",
            "7/7 [==============================] - 0s 2ms/step - loss: 28.9856\n",
            "Epoch 122/150\n",
            "7/7 [==============================] - 0s 3ms/step - loss: 37.7957\n",
            "Epoch 123/150\n",
            "7/7 [==============================] - 0s 2ms/step - loss: 36.3037\n",
            "Epoch 124/150\n",
            "7/7 [==============================] - 0s 2ms/step - loss: 34.2733\n",
            "Epoch 125/150\n",
            "7/7 [==============================] - 0s 3ms/step - loss: 30.8178\n",
            "Epoch 126/150\n",
            "7/7 [==============================] - 0s 3ms/step - loss: 30.6622\n",
            "Epoch 127/150\n",
            "7/7 [==============================] - 0s 3ms/step - loss: 40.4034\n",
            "Epoch 128/150\n",
            "7/7 [==============================] - 0s 2ms/step - loss: 29.9244\n",
            "Epoch 129/150\n",
            "7/7 [==============================] - 0s 2ms/step - loss: 35.0179\n",
            "Epoch 130/150\n",
            "7/7 [==============================] - 0s 2ms/step - loss: 30.6357\n",
            "Epoch 131/150\n",
            "7/7 [==============================] - 0s 2ms/step - loss: 42.9932\n",
            "Epoch 132/150\n",
            "7/7 [==============================] - 0s 2ms/step - loss: 31.8312\n",
            "Epoch 133/150\n",
            "7/7 [==============================] - 0s 2ms/step - loss: 27.6561\n",
            "Epoch 134/150\n",
            "7/7 [==============================] - 0s 2ms/step - loss: 36.9070\n",
            "Epoch 135/150\n",
            "7/7 [==============================] - 0s 3ms/step - loss: 33.9564\n",
            "Epoch 136/150\n",
            "7/7 [==============================] - 0s 2ms/step - loss: 31.3307\n",
            "Epoch 137/150\n",
            "7/7 [==============================] - 0s 2ms/step - loss: 37.4618\n",
            "Epoch 138/150\n",
            "7/7 [==============================] - 0s 3ms/step - loss: 29.0144\n",
            "Epoch 139/150\n",
            "7/7 [==============================] - 0s 2ms/step - loss: 25.9494\n",
            "Epoch 140/150\n",
            "7/7 [==============================] - 0s 2ms/step - loss: 38.5284\n",
            "Epoch 141/150\n",
            "7/7 [==============================] - 0s 2ms/step - loss: 42.1695\n",
            "Epoch 142/150\n",
            "7/7 [==============================] - 0s 2ms/step - loss: 29.0711\n",
            "Epoch 143/150\n",
            "7/7 [==============================] - 0s 3ms/step - loss: 26.0745\n",
            "Epoch 144/150\n",
            "7/7 [==============================] - 0s 2ms/step - loss: 39.1252\n",
            "Epoch 145/150\n",
            "7/7 [==============================] - 0s 2ms/step - loss: 33.5039\n",
            "Epoch 146/150\n",
            "7/7 [==============================] - 0s 2ms/step - loss: 29.5325\n",
            "Epoch 147/150\n",
            "7/7 [==============================] - 0s 2ms/step - loss: 34.1721\n",
            "Epoch 148/150\n",
            "7/7 [==============================] - 0s 2ms/step - loss: 27.9662\n",
            "Epoch 149/150\n",
            "7/7 [==============================] - 0s 2ms/step - loss: 36.6631\n",
            "Epoch 150/150\n",
            "7/7 [==============================] - 0s 3ms/step - loss: 27.2525\n",
            "3/3 [==============================] - 0s 5ms/step - loss: 30.8792\n"
          ]
        },
        {
          "output_type": "execute_result",
          "data": {
            "text/plain": [
              "30.879192352294922"
            ]
          },
          "metadata": {},
          "execution_count": 21
        }
      ]
    },
    {
      "cell_type": "markdown",
      "metadata": {
        "id": "wQV6zkKXrwR0"
      },
      "source": [
        "#### **Summary of hyperparameter tuning**\n",
        "Most machine learning problems require a lot of hyperparameter tuning. Unfortunately, we can't provide concrete tuning rules for every model. Lowering the learning rate can help one model converge efficiently but make another model converge much too slowly. You must experiment to find the best set of hyperparameters for your dataset. That said, here are a few rules of thumb:\n",
        "\n",
        "*  Training loss should steadily decrease, steeply at first, and then more slowly until the slope of the curve reaches or approaches zero.\n",
        "*  If the training loss does not converge, train for more epochs.\n",
        "*  If the training loss decreases too slowly, increase the learning rate. Note that setting the learning rate too high may also prevent training loss from converging.\n",
        "*  If the training loss varies wildly (that is, the training loss jumps around), decrease the learning rate.\n",
        "*  Lowering the learning rate while increasing the number of epochs or the batch size is often a good combination.\n",
        "*  Setting the batch size to a very small batch number can also cause instability. First, try large batch size values. Then, decrease the batch size until you see degradation.\n",
        "*  For real-world datasets consisting of a very large number of examples, the entire dataset might not fit into memory. In such cases, you'll need to reduce the batch size to enable a batch to fit into memory.\n",
        "\n",
        "Remember: the ideal combination of hyperparameters is data dependent, so you must always experiment and verify."
      ]
    },
    {
      "cell_type": "markdown",
      "metadata": {
        "id": "1GDb-EBTFuX9"
      },
      "source": [
        "We can do a hyperparameter tuning procedure in two ways:\n",
        "1. Implementing hyperparameter tuning with Sklearn\n",
        "2. Implementing hyperparameter tuning with Keras"
      ]
    },
    {
      "cell_type": "markdown",
      "metadata": {
        "id": "sHo4yEC44ucs"
      },
      "source": [
        "#### **Implementing hyperparameter tuning with Sklearn**\n",
        "Well, we can automate the hyperparameter tunning using **GridSearCV**. GridSearchCV is a hyperparameter search procedure that is done over a defined grid of hyperparameters. Each one of the hyperparameter combinations is used for training a new model, while a cross-validation process is executed to measure the performance of the provisional models. Once the process is done, the hyperparameters and the model with the best performance are chosen.\n"
      ]
    },
    {
      "cell_type": "markdown",
      "metadata": {
        "id": "Hcbe1A171evn"
      },
      "source": [
        "Let's first take a look at the implementation of GridSearchCV with Sklearn, following the steps:\n",
        "1. Define the general architecture of the model\n",
        "2. Define the hyperparameters grid to be validated\n",
        "3. Run the GridSearchCV process\n",
        "4. Print the results of the best model"
      ]
    },
    {
      "cell_type": "code",
      "source": [
        "try:\n",
        "    import scikeras\n",
        "except ImportError:\n",
        "    !python -m pip install scikeras"
      ],
      "metadata": {
        "colab": {
          "base_uri": "https://localhost:8080/"
        },
        "id": "sCk_zZLy4NoC",
        "outputId": "280d4f95-99fe-4eee-fcca-85f50a48cf53"
      },
      "execution_count": 23,
      "outputs": [
        {
          "output_type": "stream",
          "name": "stdout",
          "text": [
            "Collecting scikeras\n",
            "  Downloading scikeras-0.6.1-py3-none-any.whl (27 kB)\n",
            "Collecting importlib-metadata<4,>=3\n",
            "  Downloading importlib_metadata-3.10.1-py3-none-any.whl (14 kB)\n",
            "Requirement already satisfied: packaging<22.0,>=0.21 in /usr/local/lib/python3.7/dist-packages (from scikeras) (21.3)\n",
            "Requirement already satisfied: scikit-learn>=1.0.0 in /usr/local/lib/python3.7/dist-packages (from scikeras) (1.0.2)\n",
            "Requirement already satisfied: typing-extensions>=3.6.4 in /usr/local/lib/python3.7/dist-packages (from importlib-metadata<4,>=3->scikeras) (4.1.1)\n",
            "Requirement already satisfied: zipp>=0.5 in /usr/local/lib/python3.7/dist-packages (from importlib-metadata<4,>=3->scikeras) (3.8.0)\n",
            "Requirement already satisfied: pyparsing!=3.0.5,>=2.0.2 in /usr/local/lib/python3.7/dist-packages (from packaging<22.0,>=0.21->scikeras) (3.0.8)\n",
            "Requirement already satisfied: threadpoolctl>=2.0.0 in /usr/local/lib/python3.7/dist-packages (from scikit-learn>=1.0.0->scikeras) (3.1.0)\n",
            "Requirement already satisfied: scipy>=1.1.0 in /usr/local/lib/python3.7/dist-packages (from scikit-learn>=1.0.0->scikeras) (1.4.1)\n",
            "Requirement already satisfied: numpy>=1.14.6 in /usr/local/lib/python3.7/dist-packages (from scikit-learn>=1.0.0->scikeras) (1.21.5)\n",
            "Requirement already satisfied: joblib>=0.11 in /usr/local/lib/python3.7/dist-packages (from scikit-learn>=1.0.0->scikeras) (1.1.0)\n",
            "Installing collected packages: importlib-metadata, scikeras\n",
            "  Attempting uninstall: importlib-metadata\n",
            "    Found existing installation: importlib-metadata 4.11.3\n",
            "    Uninstalling importlib-metadata-4.11.3:\n",
            "      Successfully uninstalled importlib-metadata-4.11.3\n",
            "\u001b[31mERROR: pip's dependency resolver does not currently take into account all the packages that are installed. This behaviour is the source of the following dependency conflicts.\n",
            "markdown 3.3.6 requires importlib-metadata>=4.4; python_version < \"3.10\", but you have importlib-metadata 3.10.1 which is incompatible.\u001b[0m\n",
            "Successfully installed importlib-metadata-3.10.1 scikeras-0.6.1\n"
          ]
        }
      ]
    },
    {
      "cell_type": "code",
      "source": [
        "import warnings\n",
        "from tensorflow import get_logger\n",
        "get_logger().setLevel('ERROR')\n",
        "warnings.filterwarnings(\"ignore\", message=\"Setting the random state for TF\")"
      ],
      "metadata": {
        "id": "ubDYcs_t4TGA"
      },
      "execution_count": 24,
      "outputs": []
    },
    {
      "cell_type": "code",
      "source": [
        "import numpy as np\n",
        "from scikeras.wrappers import KerasClassifier, KerasRegressor\n",
        "from tensorflow import keras"
      ],
      "metadata": {
        "id": "g9Kht9Ma4Wgm"
      },
      "execution_count": 25,
      "outputs": []
    },
    {
      "cell_type": "code",
      "metadata": {
        "id": "ofZvGK5eb8Zg",
        "colab": {
          "base_uri": "https://localhost:8080/",
          "height": 415
        },
        "outputId": "9ed607d3-e0df-4a5a-ee8d-82191e8c7350"
      },
      "source": [
        "# Import the GridSearchCV class\n",
        "from sklearn.model_selection import GridSearchCV\n",
        "\n",
        "# 1. Define the model's architecture\n",
        "model = Sequential()\n",
        "model.add(Dense(10, activation='relu', input_shape=(n_features,)))\n",
        "model.add(Dense(8, activation='relu'))\n",
        "model.add(Dense(1))\n",
        "optimizer = RMSprop(0.1)    # 0.1 is the learning rate\n",
        "model.compile(loss='mean_squared_error',optimizer=optimizer)    # compile the model\n",
        "\n",
        "# 2. Define the hyperparameters grid to be validated\n",
        "batch_size = [10, 20, 40, 60, 80, 100]\n",
        "epochs = [10, 50, 100]\n",
        "param_grid = dict(batch_size=batch_size, epochs=epochs)\n",
        "grid = GridSearchCV(estimator=model, param_grid=param_grid, scoring='neg_mean_squared_error', n_jobs=-1)\n",
        "\n",
        "# 3. Run the GridSearchCV process\n",
        "grid_result = grid.fit(X_train, y_train)\n",
        "\n",
        "# 4. Print the results of the best model\n",
        "# print(\"Best: %f using %s\" % (grid_result.best_score_, grid_result.best_params_))"
      ],
      "execution_count": 28,
      "outputs": [
        {
          "output_type": "error",
          "ename": "TypeError",
          "evalue": "ignored",
          "traceback": [
            "\u001b[0;31m---------------------------------------------------------------------------\u001b[0m",
            "\u001b[0;31mTypeError\u001b[0m                                 Traceback (most recent call last)",
            "\u001b[0;32m<ipython-input-28-d5041a19372f>\u001b[0m in \u001b[0;36m<module>\u001b[0;34m()\u001b[0m\n\u001b[1;32m     17\u001b[0m \u001b[0;34m\u001b[0m\u001b[0m\n\u001b[1;32m     18\u001b[0m \u001b[0;31m# 3. Run the GridSearchCV process\u001b[0m\u001b[0;34m\u001b[0m\u001b[0;34m\u001b[0m\u001b[0;34m\u001b[0m\u001b[0m\n\u001b[0;32m---> 19\u001b[0;31m \u001b[0mgrid_result\u001b[0m \u001b[0;34m=\u001b[0m \u001b[0mgrid\u001b[0m\u001b[0;34m.\u001b[0m\u001b[0mfit\u001b[0m\u001b[0;34m(\u001b[0m\u001b[0mX_train\u001b[0m\u001b[0;34m,\u001b[0m \u001b[0my_train\u001b[0m\u001b[0;34m)\u001b[0m\u001b[0;34m\u001b[0m\u001b[0;34m\u001b[0m\u001b[0m\n\u001b[0m\u001b[1;32m     20\u001b[0m \u001b[0;34m\u001b[0m\u001b[0m\n\u001b[1;32m     21\u001b[0m \u001b[0;31m# 4. Print the results of the best model\u001b[0m\u001b[0;34m\u001b[0m\u001b[0;34m\u001b[0m\u001b[0;34m\u001b[0m\u001b[0m\n",
            "\u001b[0;32m/usr/local/lib/python3.7/dist-packages/sklearn/model_selection/_search.py\u001b[0m in \u001b[0;36mfit\u001b[0;34m(self, X, y, groups, **fit_params)\u001b[0m\n\u001b[1;32m    803\u001b[0m         \u001b[0mn_splits\u001b[0m \u001b[0;34m=\u001b[0m \u001b[0mcv_orig\u001b[0m\u001b[0;34m.\u001b[0m\u001b[0mget_n_splits\u001b[0m\u001b[0;34m(\u001b[0m\u001b[0mX\u001b[0m\u001b[0;34m,\u001b[0m \u001b[0my\u001b[0m\u001b[0;34m,\u001b[0m \u001b[0mgroups\u001b[0m\u001b[0;34m)\u001b[0m\u001b[0;34m\u001b[0m\u001b[0;34m\u001b[0m\u001b[0m\n\u001b[1;32m    804\u001b[0m \u001b[0;34m\u001b[0m\u001b[0m\n\u001b[0;32m--> 805\u001b[0;31m         \u001b[0mbase_estimator\u001b[0m \u001b[0;34m=\u001b[0m \u001b[0mclone\u001b[0m\u001b[0;34m(\u001b[0m\u001b[0mself\u001b[0m\u001b[0;34m.\u001b[0m\u001b[0mestimator\u001b[0m\u001b[0;34m)\u001b[0m\u001b[0;34m\u001b[0m\u001b[0;34m\u001b[0m\u001b[0m\n\u001b[0m\u001b[1;32m    806\u001b[0m \u001b[0;34m\u001b[0m\u001b[0m\n\u001b[1;32m    807\u001b[0m         \u001b[0mparallel\u001b[0m \u001b[0;34m=\u001b[0m \u001b[0mParallel\u001b[0m\u001b[0;34m(\u001b[0m\u001b[0mn_jobs\u001b[0m\u001b[0;34m=\u001b[0m\u001b[0mself\u001b[0m\u001b[0;34m.\u001b[0m\u001b[0mn_jobs\u001b[0m\u001b[0;34m,\u001b[0m \u001b[0mpre_dispatch\u001b[0m\u001b[0;34m=\u001b[0m\u001b[0mself\u001b[0m\u001b[0;34m.\u001b[0m\u001b[0mpre_dispatch\u001b[0m\u001b[0;34m)\u001b[0m\u001b[0;34m\u001b[0m\u001b[0;34m\u001b[0m\u001b[0m\n",
            "\u001b[0;32m/usr/local/lib/python3.7/dist-packages/sklearn/base.py\u001b[0m in \u001b[0;36mclone\u001b[0;34m(estimator, safe)\u001b[0m\n\u001b[1;32m     78\u001b[0m                     \u001b[0;34m\"it does not seem to be a scikit-learn \"\u001b[0m\u001b[0;34m\u001b[0m\u001b[0;34m\u001b[0m\u001b[0m\n\u001b[1;32m     79\u001b[0m                     \u001b[0;34m\"estimator as it does not implement a \"\u001b[0m\u001b[0;34m\u001b[0m\u001b[0;34m\u001b[0m\u001b[0m\n\u001b[0;32m---> 80\u001b[0;31m                     \u001b[0;34m\"'get_params' method.\"\u001b[0m \u001b[0;34m%\u001b[0m \u001b[0;34m(\u001b[0m\u001b[0mrepr\u001b[0m\u001b[0;34m(\u001b[0m\u001b[0mestimator\u001b[0m\u001b[0;34m)\u001b[0m\u001b[0;34m,\u001b[0m \u001b[0mtype\u001b[0m\u001b[0;34m(\u001b[0m\u001b[0mestimator\u001b[0m\u001b[0;34m)\u001b[0m\u001b[0;34m)\u001b[0m\u001b[0;34m\u001b[0m\u001b[0;34m\u001b[0m\u001b[0m\n\u001b[0m\u001b[1;32m     81\u001b[0m                 )\n\u001b[1;32m     82\u001b[0m \u001b[0;34m\u001b[0m\u001b[0m\n",
            "\u001b[0;31mTypeError\u001b[0m: Cannot clone object '<keras.engine.sequential.Sequential object at 0x7f176a0f9d90>' (type <class 'keras.engine.sequential.Sequential'>): it does not seem to be a scikit-learn estimator as it does not implement a 'get_params' method."
          ]
        }
      ]
    },
    {
      "cell_type": "markdown",
      "metadata": {
        "id": "4K6RVW_D4JEC"
      },
      "source": [
        "We can observe an error in the hyperparameter tuning procedure using native Sklearn, because the defined model is a Sequential model implemented by Keras, not a scikit-learn estimator. In order to correct this error, we will integrate Sklearn and Keras properly, by (a) creating a `create_model` function that allows to create the model in an automated way, and (b) defining a `KerasRegressor` model which is an implementation of the scikit-learn regressor API for Keras."
      ]
    },
    {
      "cell_type": "code",
      "metadata": {
        "id": "KBqYpM4bXCCK",
        "colab": {
          "base_uri": "https://localhost:8080/"
        },
        "outputId": "32d05435-be65-4a50-ec89-2ba1731667e6"
      },
      "source": [
        "# ----------------------------- Functional Tuning - Option 1: using Sklearn  ------------------------------\n",
        "# Goal: tune the batch size and epochs\n",
        "\n",
        "# Import KerasRegressor class\n",
        "from keras.wrappers.scikit_learn import KerasRegressor\n",
        "\n",
        "# Define the model trhough a user-defined function\n",
        "def create_model(optimizer=RMSprop(0.01)):\n",
        "  model = Sequential()\n",
        "  model.add(Dense(10, activation='relu', input_shape=(n_features,)))\n",
        "  model.add(Dense(8, activation='relu'))\n",
        "  model.add(Dense(1))\n",
        "  model.compile(loss='mse', metrics=['mse'], optimizer=optimizer)    # compile the model\n",
        "  return model\n",
        "model = KerasRegressor(build_fn=create_model, verbose=1)\n",
        "\n",
        "# Define the hyperparameters grid to be validated\n",
        "batch_size = [10, 20, 30, 40, 60, 80, 100]\n",
        "epochs = [10, 50, 100]\n",
        "param_grid = dict(batch_size=batch_size, nb_epoch=epochs)\n",
        "model = KerasRegressor(build_fn=create_model, verbose=1)\n",
        "grid = GridSearchCV(estimator=model, param_grid=param_grid, cv=5, n_jobs=-1)\n",
        "\n",
        "# Run the GridSearchCV process\n",
        "grid_result = grid.fit(X_train, y_train, verbose = 1)\n",
        "\n",
        "# Print the results of the best model\n",
        "print('Best params: ' + str(grid_result.best_params_))"
      ],
      "execution_count": 29,
      "outputs": [
        {
          "output_type": "stream",
          "name": "stdout",
          "text": [
            "17/17 [==============================] - 1s 2ms/step - loss: 2679.1899 - mse: 2679.1899\n",
            "Best params: {'batch_size': 20, 'nb_epoch': 50}\n"
          ]
        }
      ]
    },
    {
      "cell_type": "code",
      "metadata": {
        "id": "x5yqTxcWd2tY",
        "colab": {
          "base_uri": "https://localhost:8080/"
        },
        "outputId": "36705788-a984-4ae4-85ca-5e7980ecfaf9"
      },
      "source": [
        "# Import the cross validation evaluator\n",
        "from sklearn.model_selection import cross_val_score\n",
        "\n",
        "# Measure the model's performance\n",
        "results = cross_val_score(grid.best_estimator_, X_test, y_test, cv=5)\n",
        "print('Results: \\n  * Mean:', -results.mean(), '\\n  * Std:', results.std())"
      ],
      "execution_count": 30,
      "outputs": [
        {
          "output_type": "stream",
          "name": "stdout",
          "text": [
            "4/4 [==============================] - 1s 7ms/step - loss: 438.8916 - mse: 438.8916\n",
            "1/1 [==============================] - 0s 404ms/step - loss: 163.4272 - mse: 163.4272\n",
            "4/4 [==============================] - 1s 4ms/step - loss: 1939.9105 - mse: 1939.9105\n",
            "1/1 [==============================] - 0s 254ms/step - loss: 483.4652 - mse: 483.4652\n",
            "4/4 [==============================] - 1s 5ms/step - loss: 161.6975 - mse: 161.6975\n",
            "1/1 [==============================] - 0s 221ms/step - loss: 81.0626 - mse: 81.0626\n",
            "4/4 [==============================] - 1s 3ms/step - loss: 29385.1738 - mse: 29385.1738\n",
            "1/1 [==============================] - 0s 274ms/step - loss: 3937.5222 - mse: 3937.5222\n",
            "4/4 [==============================] - 1s 10ms/step - loss: 4786.6836 - mse: 4786.6836\n",
            "1/1 [==============================] - 0s 268ms/step - loss: 245.9926 - mse: 245.9926\n",
            "Results: \n",
            "  * Mean: 982.2939865112305 \n",
            "  * Std: 1483.718600582129\n"
          ]
        }
      ]
    },
    {
      "cell_type": "markdown",
      "metadata": {
        "id": "QwjqAqid476m"
      },
      "source": [
        "#### **Implementing hyperparameter tuning with Keras**\n",
        "Now we will go through the process of automating hyperparameter tuning using **Random Search** and **Keras**. Random Search is a hyperparameter search procedure that is performed on a defined grid of hyperparameters. However, not all hyperparameter combinations are used to train a new model, only some selected randomly, while a process of cross-validation to measure the performance of temporal models. Once the process is complete, the hyperparameters and the best performing model are chosen.\n",
        "\n",
        "Let's take a look at the implementation of Random Search with Keras, following the steps:\n",
        "\n",
        "0. Install and import all the packages needed\n",
        "1. Define the general architecture of the model through a creation function\n",
        "2. Define the hyperparameters grid to be validated\n",
        "3. Run the GridSearchCV process\n",
        "4. Print the results of the best model\n",
        "\n",
        "To execute the hyperparameter tuning procedure we will use the `keras-tuner`, a library that helps you pick the optimal set of hyperparameters for your TensorFlow model."
      ]
    },
    {
      "cell_type": "code",
      "metadata": {
        "id": "inRKd7kY2NEY",
        "colab": {
          "base_uri": "https://localhost:8080/"
        },
        "outputId": "23439d57-e6a5-4071-bb77-c59139461abd"
      },
      "source": [
        "# ----------------------------- Functional Tuning - Option 2: using Keras Tuner ------------------------------\n",
        "# Goal: tune the learning rate\n",
        "\n",
        "# 0. Install and import all the packages needed\n",
        "!pip install -q -U keras-tuner\n",
        "import kerastuner as kt\n",
        "\n",
        "# 1. Define the general architecture of the model through a creation user-defined function\n",
        "def model_builder(hp):\n",
        "  model = Sequential()\n",
        "  model.add(Dense(10, activation='relu', input_shape=(n_features,)))\n",
        "  model.add(Dense(8, activation='relu'))\n",
        "  model.add(Dense(1))\n",
        "  hp_learning_rate = hp.Choice('learning_rate', values = [1e-1, 1e-2, 1e-3, 1e-4]) # Tuning the learning rate (four different values to test: 0.1, 0.01, 0.001, 0.0001)\n",
        "  optimizer = RMSprop(learning_rate = hp_learning_rate)                            # Defining the optimizer\n",
        "  model.compile(loss='mse',metrics=['mse'], optimizer=optimizer)                   # Compiling the model \n",
        "  return model                                                                     # Returning the defined model\n",
        "\n",
        "# 2. Define the hyperparameters grid to be validated\n",
        "tuner_rs = kt.RandomSearch(\n",
        "              model_builder,                # Takes hyperparameters (hp) and returns a Model instance\n",
        "              objective = 'mse',            # Name of model metric to minimize or maximize\n",
        "              seed = 42,                    # Random seed for replication purposes\n",
        "              max_trials = 5,               # Total number of trials (model configurations) to test at most. Note that the oracle may interrupt the search before max_trial models have been tested.\n",
        "              directory='random_search')    # Path to the working directory (relative).\n",
        "\n",
        "# 3. Run the GridSearchCV process\n",
        "tuner_rs.search(X_train, y_train, epochs=10, validation_split=0.2, verbose=1)"
      ],
      "execution_count": 31,
      "outputs": [
        {
          "output_type": "stream",
          "name": "stdout",
          "text": [
            "Trial 4 Complete [00h 00m 01s]\n",
            "mse: 85.44087219238281\n",
            "\n",
            "Best mse So Far: 84.019775390625\n",
            "Total elapsed time: 00h 00m 07s\n"
          ]
        }
      ]
    },
    {
      "cell_type": "code",
      "metadata": {
        "id": "gRy9Aaby_dQt",
        "colab": {
          "base_uri": "https://localhost:8080/"
        },
        "outputId": "72ec316e-8809-47a3-f8a2-5f0c660af13f"
      },
      "source": [
        "# 4.1. Print the summary results of the hyperparameter tuning procedure\n",
        "tuner_rs.results_summary()"
      ],
      "execution_count": 32,
      "outputs": [
        {
          "output_type": "stream",
          "name": "stdout",
          "text": [
            "Results summary\n",
            "Results in random_search/untitled_project\n",
            "Showing 10 best trials\n",
            "<keras_tuner.engine.objective.Objective object at 0x7f176eff5a10>\n",
            "Trial summary\n",
            "Hyperparameters:\n",
            "learning_rate: 0.001\n",
            "Score: 84.019775390625\n",
            "Trial summary\n",
            "Hyperparameters:\n",
            "learning_rate: 0.01\n",
            "Score: 85.44087219238281\n",
            "Trial summary\n",
            "Hyperparameters:\n",
            "learning_rate: 0.1\n",
            "Score: 111.56798553466797\n",
            "Trial summary\n",
            "Hyperparameters:\n",
            "learning_rate: 0.0001\n",
            "Score: 595.8735961914062\n"
          ]
        }
      ]
    },
    {
      "cell_type": "code",
      "metadata": {
        "id": "Rq_625b19g6P",
        "colab": {
          "base_uri": "https://localhost:8080/"
        },
        "outputId": "429f5a8d-65f5-4a04-fc92-cfa49df3ac69"
      },
      "source": [
        "# 4.2. Print the results of the best model\n",
        "best_model = tuner_rs.get_best_models(num_models=1)[0]\n",
        "best_model.evaluate(X_test, y_test)"
      ],
      "execution_count": 33,
      "outputs": [
        {
          "output_type": "stream",
          "name": "stdout",
          "text": [
            "3/3 [==============================] - 0s 3ms/step - loss: 64.5753 - mse: 64.5753\n"
          ]
        },
        {
          "output_type": "execute_result",
          "data": {
            "text/plain": [
              "[64.57527923583984, 64.57527923583984]"
            ]
          },
          "metadata": {},
          "execution_count": 33
        }
      ]
    },
    {
      "cell_type": "code",
      "metadata": {
        "id": "gBxM4hL6r9Vz",
        "colab": {
          "base_uri": "https://localhost:8080/"
        },
        "outputId": "462e7914-2b93-4bf5-8493-04557e764a44"
      },
      "source": [
        "# 4.3. Print the best model's architecture\n",
        "best_model.summary()"
      ],
      "execution_count": 34,
      "outputs": [
        {
          "output_type": "stream",
          "name": "stdout",
          "text": [
            "Model: \"sequential\"\n",
            "_________________________________________________________________\n",
            " Layer (type)                Output Shape              Param #   \n",
            "=================================================================\n",
            " dense (Dense)               (None, 10)                140       \n",
            "                                                                 \n",
            " dense_1 (Dense)             (None, 8)                 88        \n",
            "                                                                 \n",
            " dense_2 (Dense)             (None, 1)                 9         \n",
            "                                                                 \n",
            "=================================================================\n",
            "Total params: 237\n",
            "Trainable params: 237\n",
            "Non-trainable params: 0\n",
            "_________________________________________________________________\n"
          ]
        }
      ]
    },
    {
      "cell_type": "markdown",
      "metadata": {
        "id": "3wYL0qp4fTv-"
      },
      "source": [
        "#### 5. Make a Prediction\n",
        "Making a prediction is the final step in the life-cycle. It is why we wanted the model in the first place.\n",
        "\n",
        "It requires you have new data for which a prediction is required, e.g. where you do not have the target values.\n",
        "\n",
        "From an API perspective, you simply call a function to make a prediction of a class label, probability, or numerical value: whatever you designed your model to predict.\n",
        "\n",
        "We have our new test data located at the given github location:\n",
        "\n",
        "https://raw.githubusercontent.com/dphi-official/Datasets/master/Boston_Housing/Testing_set_boston.csv\n",
        "\n"
      ]
    },
    {
      "cell_type": "code",
      "metadata": {
        "id": "s-fWHtrMe8U_"
      },
      "source": [
        "# Load new test data\n",
        "new_test_data = pd.read_csv('https://raw.githubusercontent.com/dphi-official/Datasets/master/Boston_Housing/Testing_set_boston.csv')"
      ],
      "execution_count": 35,
      "outputs": []
    },
    {
      "cell_type": "code",
      "metadata": {
        "id": "crRYu0YtiO5G",
        "colab": {
          "base_uri": "https://localhost:8080/",
          "height": 317
        },
        "outputId": "31ceab20-c168-46a0-d7e3-e95272a9b601"
      },
      "source": [
        "# make a prediction\n",
        "model.predict(new_test_data)"
      ],
      "execution_count": 36,
      "outputs": [
        {
          "output_type": "error",
          "ename": "AttributeError",
          "evalue": "ignored",
          "traceback": [
            "\u001b[0;31m---------------------------------------------------------------------------\u001b[0m",
            "\u001b[0;31mAttributeError\u001b[0m                            Traceback (most recent call last)",
            "\u001b[0;32m<ipython-input-36-f63dfeeb583a>\u001b[0m in \u001b[0;36m<module>\u001b[0;34m()\u001b[0m\n\u001b[1;32m      1\u001b[0m \u001b[0;31m# make a prediction\u001b[0m\u001b[0;34m\u001b[0m\u001b[0;34m\u001b[0m\u001b[0;34m\u001b[0m\u001b[0m\n\u001b[0;32m----> 2\u001b[0;31m \u001b[0mmodel\u001b[0m\u001b[0;34m.\u001b[0m\u001b[0mpredict\u001b[0m\u001b[0;34m(\u001b[0m\u001b[0mnew_test_data\u001b[0m\u001b[0;34m)\u001b[0m\u001b[0;34m\u001b[0m\u001b[0;34m\u001b[0m\u001b[0m\n\u001b[0m",
            "\u001b[0;32m/usr/local/lib/python3.7/dist-packages/keras/wrappers/scikit_learn.py\u001b[0m in \u001b[0;36mpredict\u001b[0;34m(self, x, **kwargs)\u001b[0m\n\u001b[1;32m    362\u001b[0m     \"\"\"\n\u001b[1;32m    363\u001b[0m     \u001b[0mkwargs\u001b[0m \u001b[0;34m=\u001b[0m \u001b[0mself\u001b[0m\u001b[0;34m.\u001b[0m\u001b[0mfilter_sk_params\u001b[0m\u001b[0;34m(\u001b[0m\u001b[0mSequential\u001b[0m\u001b[0;34m.\u001b[0m\u001b[0mpredict\u001b[0m\u001b[0;34m,\u001b[0m \u001b[0mkwargs\u001b[0m\u001b[0;34m)\u001b[0m\u001b[0;34m\u001b[0m\u001b[0;34m\u001b[0m\u001b[0m\n\u001b[0;32m--> 364\u001b[0;31m     \u001b[0;32mreturn\u001b[0m \u001b[0mnp\u001b[0m\u001b[0;34m.\u001b[0m\u001b[0msqueeze\u001b[0m\u001b[0;34m(\u001b[0m\u001b[0mself\u001b[0m\u001b[0;34m.\u001b[0m\u001b[0mmodel\u001b[0m\u001b[0;34m.\u001b[0m\u001b[0mpredict\u001b[0m\u001b[0;34m(\u001b[0m\u001b[0mx\u001b[0m\u001b[0;34m,\u001b[0m \u001b[0;34m**\u001b[0m\u001b[0mkwargs\u001b[0m\u001b[0;34m)\u001b[0m\u001b[0;34m)\u001b[0m\u001b[0;34m\u001b[0m\u001b[0;34m\u001b[0m\u001b[0m\n\u001b[0m\u001b[1;32m    365\u001b[0m \u001b[0;34m\u001b[0m\u001b[0m\n\u001b[1;32m    366\u001b[0m   \u001b[0;32mdef\u001b[0m \u001b[0mscore\u001b[0m\u001b[0;34m(\u001b[0m\u001b[0mself\u001b[0m\u001b[0;34m,\u001b[0m \u001b[0mx\u001b[0m\u001b[0;34m,\u001b[0m \u001b[0my\u001b[0m\u001b[0;34m,\u001b[0m \u001b[0;34m**\u001b[0m\u001b[0mkwargs\u001b[0m\u001b[0;34m)\u001b[0m\u001b[0;34m:\u001b[0m\u001b[0;34m\u001b[0m\u001b[0;34m\u001b[0m\u001b[0m\n",
            "\u001b[0;31mAttributeError\u001b[0m: 'KerasRegressor' object has no attribute 'model'"
          ]
        }
      ]
    },
    {
      "cell_type": "markdown",
      "metadata": {
        "id": "UuoFhNRrn623"
      },
      "source": [
        "\n",
        "**Congratulations! You have successfully build your first deep learning model and predicted the output (i.e. MEDV) of new test data.**"
      ]
    },
    {
      "cell_type": "markdown",
      "metadata": {
        "id": "c-SLnxZxp02g"
      },
      "source": [
        "#### Resources\n",
        "*  [https://machinelearningmastery.com/tensorflow-tutorial-deep-learning-with-tf-keras/](https://machinelearningmastery.com/tensorflow-tutorial-deep-learning-with-tf-keras/)\n",
        "*  [https://heartbeat.fritz.ai/linear-regression-using-keras-and-python-7cee2819a60c](https://heartbeat.fritz.ai/linear-regression-using-keras-and-python-7cee2819a60c)\n",
        "*  Google Machine Learning Crash Course"
      ]
    }
  ]
}