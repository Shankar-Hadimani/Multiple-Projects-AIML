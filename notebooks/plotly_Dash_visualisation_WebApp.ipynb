{
  "nbformat": 4,
  "nbformat_minor": 0,
  "metadata": {
    "colab": {
      "name": "plotly-Dash-visualisation-WebApp.ipynb",
      "provenance": [],
      "authorship_tag": "ABX9TyNJOqwh4qukfTf0D0L7vTC8",
      "include_colab_link": true
    },
    "kernelspec": {
      "name": "python3",
      "display_name": "Python 3"
    }
  },
  "cells": [
    {
      "cell_type": "markdown",
      "metadata": {
        "id": "view-in-github",
        "colab_type": "text"
      },
      "source": [
        "<a href=\"https://colab.research.google.com/github/Shankar-Hadimani/1000-dphi/blob/master/notebooks/plotly_Dash_visualisation_WebApp.ipynb\" target=\"_parent\"><img src=\"https://colab.research.google.com/assets/colab-badge.svg\" alt=\"Open In Colab\"/></a>"
      ]
    },
    {
      "cell_type": "code",
      "metadata": {
        "colab": {
          "base_uri": "https://localhost:8080/"
        },
        "id": "F3UEBsfiGDEh",
        "outputId": "c888dfb9-30e8-46a7-ae98-89080b9f9a4e"
      },
      "source": [
        "!pip install dash"
      ],
      "execution_count": 11,
      "outputs": [
        {
          "output_type": "stream",
          "text": [
            "Requirement already satisfied: dash in /usr/local/lib/python3.7/dist-packages (1.19.0)\n",
            "Requirement already satisfied: dash-renderer==1.9.0 in /usr/local/lib/python3.7/dist-packages (from dash) (1.9.0)\n",
            "Requirement already satisfied: dash-table==4.11.2 in /usr/local/lib/python3.7/dist-packages (from dash) (4.11.2)\n",
            "Requirement already satisfied: flask-compress in /usr/local/lib/python3.7/dist-packages (from dash) (1.9.0)\n",
            "Requirement already satisfied: future in /usr/local/lib/python3.7/dist-packages (from dash) (0.16.0)\n",
            "Requirement already satisfied: dash-html-components==1.1.2 in /usr/local/lib/python3.7/dist-packages (from dash) (1.1.2)\n",
            "Requirement already satisfied: plotly in /usr/local/lib/python3.7/dist-packages (from dash) (4.4.1)\n",
            "Requirement already satisfied: Flask>=1.0.4 in /usr/local/lib/python3.7/dist-packages (from dash) (1.1.2)\n",
            "Requirement already satisfied: dash-core-components==1.15.0 in /usr/local/lib/python3.7/dist-packages (from dash) (1.15.0)\n",
            "Requirement already satisfied: brotli in /usr/local/lib/python3.7/dist-packages (from flask-compress->dash) (1.0.9)\n",
            "Requirement already satisfied: six in /usr/local/lib/python3.7/dist-packages (from plotly->dash) (1.15.0)\n",
            "Requirement already satisfied: retrying>=1.3.3 in /usr/local/lib/python3.7/dist-packages (from plotly->dash) (1.3.3)\n",
            "Requirement already satisfied: Werkzeug>=0.15 in /usr/local/lib/python3.7/dist-packages (from Flask>=1.0.4->dash) (1.0.1)\n",
            "Requirement already satisfied: Jinja2>=2.10.1 in /usr/local/lib/python3.7/dist-packages (from Flask>=1.0.4->dash) (2.11.3)\n",
            "Requirement already satisfied: click>=5.1 in /usr/local/lib/python3.7/dist-packages (from Flask>=1.0.4->dash) (7.1.2)\n",
            "Requirement already satisfied: itsdangerous>=0.24 in /usr/local/lib/python3.7/dist-packages (from Flask>=1.0.4->dash) (1.1.0)\n",
            "Requirement already satisfied: MarkupSafe>=0.23 in /usr/local/lib/python3.7/dist-packages (from Jinja2>=2.10.1->Flask>=1.0.4->dash) (1.1.1)\n"
          ],
          "name": "stdout"
        }
      ]
    },
    {
      "cell_type": "code",
      "metadata": {
        "id": "kJ2BC1mIF8P8"
      },
      "source": [
        "# import the libraries----------------------------------------------------\n",
        "import plotly.express as px\n",
        "import pandas as pd\n",
        "\n",
        "import dash\n",
        "import dash_core_components as dcc\n",
        "import dash_html_components as html\n",
        "from dash.dependencies import Output, Input"
      ],
      "execution_count": 12,
      "outputs": []
    },
    {
      "cell_type": "code",
      "metadata": {
        "id": "dFUBDtKhGMvI"
      },
      "source": [
        "# read, clean, and filter the data----------------------------------------\n",
        "# data source: https://mappingpoliceviolence.org/aboutthedata\n",
        "df = pd.read_csv(\"https://raw.githubusercontent.com/Coding-with-Adam/Dash-by-Plotly/master/Other/DPhi%20Presentation/MPVDataset.csv\")\n",
        "\n",
        "df = df[df[\"Victim's race\"].isin([\"White\", \"Black\", \"Hispanic\", \"Asian\"])]\n",
        "df[\"Victim's age\"] = pd.to_numeric(df[\"Victim's age\"], errors='coerce')"
      ],
      "execution_count": 13,
      "outputs": []
    },
    {
      "cell_type": "code",
      "metadata": {
        "id": "eqpFHXtkGQ30"
      },
      "source": [
        "# app layout--------------------------------------------------------------\n",
        "app = dash.Dash(__name__)\n",
        "app.layout = html.Div([\n",
        "    html.Div([\n",
        "        dcc.Dropdown(id='gender', multi=False, clearable=False,\n",
        "                     options=[{'label': x, 'value': x} for x in\n",
        "                              sorted(df[\"Victim's gender\"].unique())],\n",
        "                     value=\"Male\")\n",
        "    ], style={'width': '50%'}),\n",
        "\n",
        "    html.Div([\n",
        "        dcc.Graph(id='my-barplot', figure={})\n",
        "    ])\n",
        "    ,\n",
        "    # html.Div(id='content-container', children='')\n",
        "])"
      ],
      "execution_count": 6,
      "outputs": []
    },
    {
      "cell_type": "code",
      "metadata": {
        "id": "ypnf27XEGXEw"
      },
      "source": [
        "# Callback - app interactivity section------------------------------------\n",
        "@app.callback(\n",
        "    Output(component_id='my-barplot', component_property='figure'),\n",
        "    # Output(component_id='content-container', component_property='children'),\n",
        "    Input(component_id='gender', component_property='value'),\n",
        ")\n",
        "def update_graph(gender_chosen):\n",
        "    print(gender_chosen)\n",
        "    # build the graph\n",
        "    dff = df[df[\"Victim's gender\"] == gender_chosen]\n",
        "    dff = dff.groupby([\"Victim's race\", \"Geography\"])[\n",
        "        [\"Victim's age\"]].mean()\n",
        "    dff = dff.reset_index()\n",
        "    fig = px.bar(\n",
        "        data_frame=dff,\n",
        "        x=\"Victim's race\",\n",
        "        y=\"Victim's age\",\n",
        "        color=\"Geography\",\n",
        "        barmode=\"group\"\n",
        "    )\n",
        "    return fig  # gender_chosen\n",
        "\n",
        "\n",
        "\"\"\"\n",
        "Add one more output in callback with component_id='content-container', which will have children as 'gender chosen'\n",
        "from call back function.\n",
        "This wil display add html.Div with id='content-container' to display string 'gender chosen' as text in the Web Plot/App. \n",
        "\"\"\"\n"
      ],
      "execution_count": 8,
      "outputs": []
    },
    {
      "cell_type": "code",
      "metadata": {
        "colab": {
          "base_uri": "https://localhost:8080/"
        },
        "id": "_RoTUYQhGbPm",
        "outputId": "8bb66e9a-7d15-4199-c644-28cccb55efb7"
      },
      "source": [
        "if __name__=='__main__':\n",
        "    app.run_server(debug=False, port=8002)   #Debug set to True, in local IDE eg: pycharm, VSCode etc"
      ],
      "execution_count": 10,
      "outputs": [
        {
          "output_type": "stream",
          "text": [
            "Dash is running on http://127.0.0.1:8002/\n",
            "\n",
            "Dash is running on http://127.0.0.1:8002/\n",
            "\n",
            " * Serving Flask app \"__main__\" (lazy loading)\n",
            " * Environment: production\n",
            "\u001b[31m   WARNING: This is a development server. Do not use it in a production deployment.\u001b[0m\n",
            "\u001b[2m   Use a production WSGI server instead.\u001b[0m\n",
            " * Debug mode: off\n"
          ],
          "name": "stdout"
        }
      ]
    }
  ]
}