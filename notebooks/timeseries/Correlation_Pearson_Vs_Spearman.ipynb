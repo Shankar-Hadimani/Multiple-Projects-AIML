{
  "nbformat": 4,
  "nbformat_minor": 0,
  "metadata": {
    "colab": {
      "name": "Correlation - Pearson Vs Spearman.ipynb",
      "provenance": [],
      "authorship_tag": "ABX9TyOjMazZe0Ts1O38fsj8DCP2",
      "include_colab_link": true
    },
    "kernelspec": {
      "name": "python3",
      "display_name": "Python 3"
    },
    "language_info": {
      "name": "python"
    }
  },
  "cells": [
    {
      "cell_type": "markdown",
      "metadata": {
        "id": "view-in-github",
        "colab_type": "text"
      },
      "source": [
        "<a href=\"https://colab.research.google.com/github/Shankar-Hadimani/1000_test/blob/master/notebooks/timeseries/Correlation_Pearson_Vs_Spearman.ipynb\" target=\"_parent\"><img src=\"https://colab.research.google.com/assets/colab-badge.svg\" alt=\"Open In Colab\"/></a>"
      ]
    },
    {
      "cell_type": "code",
      "metadata": {
        "colab": {
          "base_uri": "https://localhost:8080/"
        },
        "id": "JB9kyAGsBk0W",
        "outputId": "9ef261a8-5bca-462b-c04d-e3ad9d5b5975"
      },
      "source": [
        "# calculate the covariance between two variables\n",
        "from numpy.random import randn\n",
        "from numpy.random import seed\n",
        "from numpy import cov\n",
        "# seed random number generator\n",
        "seed(1)\n",
        "# prepare data\n",
        "data1 = 20 * randn(1000) + 100\n",
        "data2 = data1 + (10 * randn(1000) + 50)\n",
        "# calculate covariance matrix\n",
        "covariance = cov(data1, data2)\n",
        "print(covariance)"
      ],
      "execution_count": null,
      "outputs": [
        {
          "output_type": "stream",
          "text": [
            "[[385.33297729 389.7545618 ]\n",
            " [389.7545618  500.38006058]]\n"
          ],
          "name": "stdout"
        }
      ]
    },
    {
      "cell_type": "markdown",
      "metadata": {
        "id": "ACCSiE-qDdCi"
      },
      "source": [
        "##Pearson's Correlation\n",
        "\n",
        "Normalization of the CoVariance between variables to get an interpretable score, is termed as Pearson's correlation coefficient.\n",
        "Range of Pearson's correlation coefficient is : -1 to 1\n"
      ]
    },
    {
      "cell_type": "code",
      "metadata": {
        "colab": {
          "base_uri": "https://localhost:8080/"
        },
        "id": "S56bZcwEDb77",
        "outputId": "6ea63e67-6e37-41d0-a0d2-568971a61614"
      },
      "source": [
        "\n",
        "12\n",
        "# calculate the Pearson's correlation between two variables\n",
        "from numpy.random import randn\n",
        "from numpy.random import seed\n",
        "from scipy.stats import pearsonr\n",
        "# seed random number generator\n",
        "seed(1)\n",
        "# prepare data\n",
        "data1 = 20 * randn(1000) + 100\n",
        "data2 = data1 + (10 * randn(1000) + 50)\n",
        "# calculate Pearson's correlation\n",
        "corr, _ = pearsonr(data1, data2)\n",
        "print('Pearsons correlation: %.3f' % corr)"
      ],
      "execution_count": null,
      "outputs": [
        {
          "output_type": "stream",
          "text": [
            "Pearsons correlation: 0.888\n"
          ],
          "name": "stdout"
        }
      ]
    },
    {
      "cell_type": "markdown",
      "metadata": {
        "id": "qz0MEbrQFtp1"
      },
      "source": [
        "##Spearman's Correlation\n",
        "assuming no Gauusian like distribution bteween variables, coefficent of spearman's correlation is calculated using covariance of ranks rather variance of variables themselves."
      ]
    },
    {
      "cell_type": "code",
      "metadata": {
        "colab": {
          "base_uri": "https://localhost:8080/"
        },
        "id": "Be9EXrj-EGTS",
        "outputId": "2407e2b1-13ec-4f3a-9877-5dbe7997e98c"
      },
      "source": [
        "# calculate the spearmans's correlation between two variables\n",
        "from numpy.random import randn\n",
        "from numpy.random import seed\n",
        "from scipy.stats import spearmanr\n",
        "# seed random number generator\n",
        "seed(1)\n",
        "# prepare data\n",
        "data1 = 20 * randn(1000) + 100\n",
        "data2 = data1 + (10 * randn(1000) + 50)\n",
        "# calculate spearman's correlation\n",
        "corr, _ = spearmanr(data1, data2)\n",
        "print('Spearmans correlation: %.3f' % corr)"
      ],
      "execution_count": null,
      "outputs": [
        {
          "output_type": "stream",
          "text": [
            "Spearmans correlation: 0.872\n"
          ],
          "name": "stdout"
        }
      ]
    },
    {
      "cell_type": "code",
      "metadata": {
        "id": "JVN8c17DGRYT"
      },
      "source": [
        ""
      ],
      "execution_count": null,
      "outputs": []
    }
  ]
}