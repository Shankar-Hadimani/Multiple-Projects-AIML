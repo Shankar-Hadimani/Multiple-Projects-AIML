{
  "nbformat": 4,
  "nbformat_minor": 0,
  "metadata": {
    "colab": {
      "name": "tensor-operations-basics-examples.ipynb",
      "provenance": [],
      "collapsed_sections": [],
      "include_colab_link": true
    },
    "kernelspec": {
      "display_name": "Python 3",
      "name": "python3"
    }
  },
  "cells": [
    {
      "cell_type": "markdown",
      "metadata": {
        "id": "view-in-github",
        "colab_type": "text"
      },
      "source": [
        "<a href=\"https://colab.research.google.com/github/Shankar-Hadimani/1000_test/blob/master/notebooks/tensor_operations_basics_examples.ipynb\" target=\"_parent\"><img src=\"https://colab.research.google.com/assets/colab-badge.svg\" alt=\"Open In Colab\"/></a>"
      ]
    },
    {
      "cell_type": "markdown",
      "metadata": {
        "id": "qFdPvlXBOdUN"
      },
      "source": [
        "# Introduction to Tensors"
      ]
    },
    {
      "cell_type": "code",
      "metadata": {
        "id": "AL2hzxorJiWy"
      },
      "source": [
        "import tensorflow as tf\n",
        "import numpy as np"
      ],
      "execution_count": null,
      "outputs": []
    },
    {
      "cell_type": "markdown",
      "metadata": {
        "id": "VQ3s2J8Vgowq"
      },
      "source": [
        "Tensors are multi-dimensional arrays with a uniform type (called a `dtype`).  You can see all supported `dtypes` at `tf.dtypes.DType`.\n",
        "\n",
        "If you're familiar with [NumPy](https://dphi.tech/lms/learn/introduction-to-numpy), tensors are (kind of) like `np.arrays`.\n",
        "\n",
        "All tensors are immutable like Python numbers and strings: you can never update the contents of a tensor, only create a new one.\n"
      ]
    },
    {
      "cell_type": "markdown",
      "metadata": {
        "id": "DRK5-9EpYbzG"
      },
      "source": [
        "## Basics\n",
        "\n",
        "Before creating basic tensors, let's understand some basics. "
      ]
    },
    {
      "cell_type": "markdown",
      "metadata": {
        "id": "gC1tqBu7MFAP"
      },
      "source": [
        "### **Scalar, Vector, Matrix 101**\n",
        "\n",
        "\n",
        "![image name](https://dphi-courses.s3.ap-south-1.amazonaws.com/tensor.jpeg)\n",
        "\n",
        "* A scalar is a single number\n",
        "* A vector is an array of numbers.\n",
        "* A matrix is a 2-D array\n",
        "* A tensor is a n-dimensional array with n >2\n",
        "\n"
      ]
    },
    {
      "cell_type": "markdown",
      "metadata": {
        "id": "b1RGlZmv4bQb"
      },
      "source": [
        "###  **Understanding Dimension - Indexes - Rank - Axes - Shape**\n",
        "\n",
        "1.   List item\n",
        "2.   List item\n",
        "\n"
      ]
    },
    {
      "cell_type": "markdown",
      "metadata": {
        "id": "Qlpin3u1mc-a"
      },
      "source": [
        "####**Dimension:** \n",
        "\n",
        "Let’s take an example of box to explain this. A simple box can have three dimensions width, length and depth (or height). Similarly, in data science we will be working “N” dimensional datasets. “N” could be any number.\n",
        "\n",
        "\n",
        "![image name](https://dphi-courses.s3.ap-south-1.amazonaws.com/introduction-to-numpy/dimensions.png)\n",
        "\n"
      ]
    },
    {
      "cell_type": "markdown",
      "metadata": {
        "id": "EbgF-cNp3N1q"
      },
      "source": [
        "\n",
        "####**Indexes:** \n",
        "\n",
        "Indexes are required to access an element in a Data Structure.\n",
        "\n",
        "![image name](https://dphi-courses.s3.ap-south-1.amazonaws.com/introduction-to-numpy/index+humans+and+python.png)"
      ]
    },
    {
      "cell_type": "markdown",
      "metadata": {
        "id": "oVqWEpQzmqv1"
      },
      "source": [
        "For example, suppose we have this array:"
      ]
    },
    {
      "cell_type": "code",
      "metadata": {
        "id": "MIWfP4Lik6dN"
      },
      "source": [
        "a = [1,2,3,4]"
      ],
      "execution_count": null,
      "outputs": []
    },
    {
      "cell_type": "markdown",
      "metadata": {
        "id": "9NigILGSlE48"
      },
      "source": [
        "Now, suppose we want to access (refer to) the number 3 in this data structure. We can do it using a single index like so:\n"
      ]
    },
    {
      "cell_type": "code",
      "metadata": {
        "id": "0eczFHQflIT1",
        "colab": {
          "base_uri": "https://localhost:8080/"
        },
        "outputId": "dbd46c87-d205-482a-f880-ae1f0ade69a7"
      },
      "source": [
        "a[2]"
      ],
      "execution_count": null,
      "outputs": [
        {
          "output_type": "execute_result",
          "data": {
            "text/plain": [
              "3"
            ]
          },
          "metadata": {
            "tags": []
          },
          "execution_count": 3
        }
      ]
    },
    {
      "cell_type": "code",
      "metadata": {
        "id": "gSAXNeR4mF_M"
      },
      "source": [
        "#As another example, suppose we have this 2d-array:\n",
        " \n",
        "dd = [\n",
        "[1,2,3],\n",
        "[4,5,6],\n",
        "[7,8,9]\n",
        "] "
      ],
      "execution_count": null,
      "outputs": []
    },
    {
      "cell_type": "markdown",
      "metadata": {
        "id": "HC00vVscmLIP"
      },
      "source": [
        "Now, suppose we want to access (refer to) the number 3 in this data structure. In this case, we need two indexes to locate the specific element."
      ]
    },
    {
      "cell_type": "code",
      "metadata": {
        "id": "mlaLIpKdmQXT",
        "colab": {
          "base_uri": "https://localhost:8080/"
        },
        "outputId": "666b2a82-2c2a-434d-a82e-7ea93a51d516"
      },
      "source": [
        "dd[0][2]"
      ],
      "execution_count": null,
      "outputs": [
        {
          "output_type": "execute_result",
          "data": {
            "text/plain": [
              "3"
            ]
          },
          "metadata": {
            "tags": []
          },
          "execution_count": 5
        }
      ]
    },
    {
      "cell_type": "markdown",
      "metadata": {
        "id": "cqAsnbKDk9tV"
      },
      "source": [
        "\n",
        "\n",
        "\n",
        "#### **Rank:**\n",
        "\n",
        "\n",
        "The rank of a tensor refers to the number of dimensions present within the tensor.\n",
        "\n",
        "\n",
        "**Rank & Indexes:**\n",
        "\n",
        "The rank of a tensor tells us how many indexes are required to access (refer to) a specific data element contained within the tensor data structure.\n",
        "\n",
        "A tensor's rank tells us how many indexes are needed to refer to a specific element within the tensor."
      ]
    },
    {
      "cell_type": "markdown",
      "metadata": {
        "id": "JQVfVCCnnLoG"
      },
      "source": [
        "####**Tensor Axes Example**\n",
        "Let's look at some examples to make this solid. We'll consider the same tensor dd as before:"
      ]
    },
    {
      "cell_type": "code",
      "metadata": {
        "id": "5taicCVynI-q"
      },
      "source": [
        "dd = [\n",
        "[1,2,3],\n",
        "[4,5,6],\n",
        "[7,8,9]\n",
        "]"
      ],
      "execution_count": null,
      "outputs": []
    },
    {
      "cell_type": "markdown",
      "metadata": {
        "id": "HTM0AWnHnXz9"
      },
      "source": [
        "Each element along the first axis, is an array:"
      ]
    },
    {
      "cell_type": "code",
      "metadata": {
        "id": "Vi3x_huDnbmO",
        "colab": {
          "base_uri": "https://localhost:8080/"
        },
        "outputId": "2079bdd8-2542-4408-ae83-65e4b9d89566"
      },
      "source": [
        "dd[0]"
      ],
      "execution_count": null,
      "outputs": [
        {
          "output_type": "execute_result",
          "data": {
            "text/plain": [
              "[1, 2, 3]"
            ]
          },
          "metadata": {
            "tags": []
          },
          "execution_count": 3
        }
      ]
    },
    {
      "cell_type": "code",
      "metadata": {
        "id": "6gFrQ3iAnftJ",
        "colab": {
          "base_uri": "https://localhost:8080/"
        },
        "outputId": "51265aaf-347a-4866-dda8-919c08722d25"
      },
      "source": [
        "dd[1]"
      ],
      "execution_count": null,
      "outputs": [
        {
          "output_type": "execute_result",
          "data": {
            "text/plain": [
              "[4, 5, 6]"
            ]
          },
          "metadata": {
            "tags": []
          },
          "execution_count": 4
        }
      ]
    },
    {
      "cell_type": "code",
      "metadata": {
        "id": "sLyrskronhGT",
        "colab": {
          "base_uri": "https://localhost:8080/"
        },
        "outputId": "a3176bcd-ca99-4f61-8a13-894162f4ce14"
      },
      "source": [
        "dd[2]"
      ],
      "execution_count": null,
      "outputs": [
        {
          "output_type": "execute_result",
          "data": {
            "text/plain": [
              "[7, 8, 9]"
            ]
          },
          "metadata": {
            "tags": []
          },
          "execution_count": 5
        }
      ]
    },
    {
      "cell_type": "markdown",
      "metadata": {
        "id": "yDEMCy-wnmUU"
      },
      "source": [
        "Each element along the second axis, is a number:"
      ]
    },
    {
      "cell_type": "code",
      "metadata": {
        "id": "UeQbTugrnp_B",
        "colab": {
          "base_uri": "https://localhost:8080/"
        },
        "outputId": "60b2c46a-35b7-4604-fd85-4de086d88fad"
      },
      "source": [
        "dd[0][0]"
      ],
      "execution_count": null,
      "outputs": [
        {
          "output_type": "execute_result",
          "data": {
            "text/plain": [
              "1"
            ]
          },
          "metadata": {
            "tags": []
          },
          "execution_count": 6
        }
      ]
    },
    {
      "cell_type": "code",
      "metadata": {
        "id": "d_ffimfUnuEu",
        "colab": {
          "base_uri": "https://localhost:8080/"
        },
        "outputId": "f75f9f91-4f9d-42d7-e835-ae13b05113f0"
      },
      "source": [
        "dd[1][0]"
      ],
      "execution_count": null,
      "outputs": [
        {
          "output_type": "execute_result",
          "data": {
            "text/plain": [
              "4"
            ]
          },
          "metadata": {
            "tags": []
          },
          "execution_count": 7
        }
      ]
    },
    {
      "cell_type": "code",
      "metadata": {
        "id": "e-1zZWL1oDHp",
        "colab": {
          "base_uri": "https://localhost:8080/"
        },
        "outputId": "0d388249-02cc-4dcf-fc3c-9098b7777978"
      },
      "source": [
        "dd[2][0]"
      ],
      "execution_count": null,
      "outputs": [
        {
          "output_type": "execute_result",
          "data": {
            "text/plain": [
              "7"
            ]
          },
          "metadata": {
            "tags": []
          },
          "execution_count": 8
        }
      ]
    },
    {
      "cell_type": "code",
      "metadata": {
        "id": "HxQB_EvnoFLD",
        "colab": {
          "base_uri": "https://localhost:8080/"
        },
        "outputId": "af0eb5b3-e77d-4f9c-e7ae-27e754482c1d"
      },
      "source": [
        "dd[0][1]"
      ],
      "execution_count": null,
      "outputs": [
        {
          "output_type": "execute_result",
          "data": {
            "text/plain": [
              "2"
            ]
          },
          "metadata": {
            "tags": []
          },
          "execution_count": 9
        }
      ]
    },
    {
      "cell_type": "code",
      "metadata": {
        "id": "hde4G959oHCG",
        "colab": {
          "base_uri": "https://localhost:8080/"
        },
        "outputId": "c2ad6a0e-b12e-4623-b968-dc27e440bd45"
      },
      "source": [
        "dd[1][1]"
      ],
      "execution_count": null,
      "outputs": [
        {
          "output_type": "execute_result",
          "data": {
            "text/plain": [
              "5"
            ]
          },
          "metadata": {
            "tags": []
          },
          "execution_count": 10
        }
      ]
    },
    {
      "cell_type": "code",
      "metadata": {
        "id": "Q3AJ53k7oJBt",
        "colab": {
          "base_uri": "https://localhost:8080/"
        },
        "outputId": "b943717b-2705-498c-8e5d-dc5e2d6821b6"
      },
      "source": [
        "dd[2][1]"
      ],
      "execution_count": null,
      "outputs": [
        {
          "output_type": "execute_result",
          "data": {
            "text/plain": [
              "8"
            ]
          },
          "metadata": {
            "tags": []
          },
          "execution_count": 11
        }
      ]
    },
    {
      "cell_type": "code",
      "metadata": {
        "id": "EpFk6rA-oLu6",
        "colab": {
          "base_uri": "https://localhost:8080/"
        },
        "outputId": "42861b55-3f76-4950-e0d1-8c0d9b9b4148"
      },
      "source": [
        "dd[0][2]"
      ],
      "execution_count": null,
      "outputs": [
        {
          "output_type": "execute_result",
          "data": {
            "text/plain": [
              "3"
            ]
          },
          "metadata": {
            "tags": []
          },
          "execution_count": 12
        }
      ]
    },
    {
      "cell_type": "code",
      "metadata": {
        "id": "pTI6JgqpoNdv",
        "colab": {
          "base_uri": "https://localhost:8080/"
        },
        "outputId": "31e74a6c-2b18-410a-d27a-00b7f4bba9e7"
      },
      "source": [
        "dd[1][2]"
      ],
      "execution_count": null,
      "outputs": [
        {
          "output_type": "execute_result",
          "data": {
            "text/plain": [
              "6"
            ]
          },
          "metadata": {
            "tags": []
          },
          "execution_count": 14
        }
      ]
    },
    {
      "cell_type": "code",
      "metadata": {
        "id": "POtrABg_oPhy",
        "colab": {
          "base_uri": "https://localhost:8080/"
        },
        "outputId": "d54c1d85-e3e9-47b6-c77c-ac13aefe154f"
      },
      "source": [
        "dd[2][2]"
      ],
      "execution_count": null,
      "outputs": [
        {
          "output_type": "execute_result",
          "data": {
            "text/plain": [
              "9"
            ]
          },
          "metadata": {
            "tags": []
          },
          "execution_count": 13
        }
      ]
    },
    {
      "cell_type": "markdown",
      "metadata": {
        "id": "8wcAMOtWoabU"
      },
      "source": [
        "Note that, with tensors, the elements of the last axis are always numbers. Every other axis will contain n-dimensional arrays. This is what we see in this example, but this idea generalizes.\n",
        "\n",
        "The rank of a tensor tells us how many axes a tensor has, and the length of these axes leads us to the very important concept known as the shape of a tensor."
      ]
    },
    {
      "cell_type": "markdown",
      "metadata": {
        "id": "z5eNCBLTogsK"
      },
      "source": [
        "### **Shape of a Tensor**\n",
        "\n",
        "The shape of a tensor is determined by the length of each axis, so if we know the shape of a given tensor, then we know the length of each axis, and this tells us how many indexes are available along each axis.\n",
        "\n",
        "The shape of a tensor gives us the length of each axis of the tensor.\n",
        "Let’s consider the same tensor dd as before:"
      ]
    },
    {
      "cell_type": "code",
      "metadata": {
        "id": "RmGm59LLoh38"
      },
      "source": [
        "# Let's say we have a 2D array\n",
        "dd = [\n",
        "[1,2,3],\n",
        "[4,5,6],\n",
        "[7,8,9]\n",
        "]"
      ],
      "execution_count": null,
      "outputs": []
    },
    {
      "cell_type": "code",
      "metadata": {
        "id": "vfVhTkuWoxUT",
        "colab": {
          "base_uri": "https://localhost:8080/"
        },
        "outputId": "915c6d97-1930-426e-bbd7-1a078f5a9d4c"
      },
      "source": [
        "#To work with this tensor's shape, we’ll create a tensor object like so:\n",
        "\n",
        "t = tf.constant(dd)      # constant() is a function that helps you create a constant tensor\n",
        "t"
      ],
      "execution_count": null,
      "outputs": [
        {
          "output_type": "execute_result",
          "data": {
            "text/plain": [
              "<tf.Tensor: shape=(3, 3), dtype=int32, numpy=\n",
              "array([[1, 2, 3],\n",
              "       [4, 5, 6],\n",
              "       [7, 8, 9]], dtype=int32)>"
            ]
          },
          "metadata": {
            "tags": []
          },
          "execution_count": 16
        }
      ]
    },
    {
      "cell_type": "code",
      "metadata": {
        "id": "YUol5cwJwwu6",
        "colab": {
          "base_uri": "https://localhost:8080/"
        },
        "outputId": "dcbcf787-c50a-4c9b-97ed-dc7e598f3e03"
      },
      "source": [
        "type(t)   # To get the type of object t"
      ],
      "execution_count": null,
      "outputs": [
        {
          "output_type": "execute_result",
          "data": {
            "text/plain": [
              "tensorflow.python.framework.ops.EagerTensor"
            ]
          },
          "metadata": {
            "tags": []
          },
          "execution_count": 17
        }
      ]
    },
    {
      "cell_type": "code",
      "metadata": {
        "id": "vi5Fx8_co_Mc",
        "colab": {
          "base_uri": "https://localhost:8080/"
        },
        "outputId": "1db2d035-a7f3-4ab7-d087-761cc7632f11"
      },
      "source": [
        "# Now, we have a Tensor object, and so we can ask to see the tensor's shape:\n",
        "\n",
        "t.shape"
      ],
      "execution_count": null,
      "outputs": [
        {
          "output_type": "execute_result",
          "data": {
            "text/plain": [
              "TensorShape([3, 3])"
            ]
          },
          "metadata": {
            "tags": []
          },
          "execution_count": 18
        }
      ]
    },
    {
      "cell_type": "markdown",
      "metadata": {
        "id": "P8JEb0w7q46f"
      },
      "source": [
        "# Tensor Operation Types\n",
        "Before we dive in with specific tensor operations, let’s get a quick overview of the landscape by looking at the main operation categories that encompass the operations we’ll cover. We have the following high-level categories of operations:\n",
        "\n",
        "1. Reshaping operations\n",
        "2. Element-wise operations\n",
        "3. Reduction operations\n",
        "4. Access operations"
      ]
    },
    {
      "cell_type": "markdown",
      "metadata": {
        "id": "D9h1U1JjrMw2"
      },
      "source": [
        "## Reshaping A Tensor In TensorFlow\n",
        "Let’s look now at all the ways in which this tensor t can be reshaped without changing the rank:"
      ]
    },
    {
      "cell_type": "markdown",
      "metadata": {
        "id": "xBEAAKPOrd7X"
      },
      "source": [
        "Suppose that we have the following tensor:"
      ]
    },
    {
      "cell_type": "code",
      "metadata": {
        "id": "hTuY3m3hracX"
      },
      "source": [
        "t = tf.constant([\n",
        "    [1,1,1,1],\n",
        "    [2,2,2,2],\n",
        "    [3,3,3,3]\n",
        "], dtype=tf.float32)    # can also mention the type of the element we want in the tensor"
      ],
      "execution_count": null,
      "outputs": []
    },
    {
      "cell_type": "code",
      "metadata": {
        "id": "gKadLQDTrPJG",
        "colab": {
          "base_uri": "https://localhost:8080/"
        },
        "outputId": "5a914018-8bc2-4162-823d-4b465f8b8993"
      },
      "source": [
        "reshaped_tensor = tf.reshape(t, [1,12])     # reshape is a function that helps to reshaping any ndarray or ndtensor\n",
        "print(reshaped_tensor)"
      ],
      "execution_count": null,
      "outputs": [
        {
          "output_type": "stream",
          "text": [
            "tf.Tensor([[1. 1. 1. 1. 2. 2. 2. 2. 3. 3. 3. 3.]], shape=(1, 12), dtype=float32)\n"
          ],
          "name": "stdout"
        }
      ]
    },
    {
      "cell_type": "code",
      "metadata": {
        "id": "yhRlCLL0rTZu",
        "colab": {
          "base_uri": "https://localhost:8080/"
        },
        "outputId": "01c81093-a01a-4ec8-ab4b-b635f824e541"
      },
      "source": [
        "reshaped_tensor = tf.reshape(t, [2,6])\n",
        "print(reshaped_tensor)"
      ],
      "execution_count": null,
      "outputs": [
        {
          "output_type": "stream",
          "text": [
            "tf.Tensor(\n",
            "[[1. 1. 1. 1. 2. 2.]\n",
            " [2. 2. 3. 3. 3. 3.]], shape=(2, 6), dtype=float32)\n"
          ],
          "name": "stdout"
        }
      ]
    },
    {
      "cell_type": "code",
      "metadata": {
        "id": "4eCFm3WXrj3s",
        "colab": {
          "base_uri": "https://localhost:8080/"
        },
        "outputId": "89375211-4b65-4692-cf68-4bd2e414b2d2"
      },
      "source": [
        "reshaped_tensor = tf.reshape(t, [3,4])\n",
        "print(reshaped_tensor)"
      ],
      "execution_count": null,
      "outputs": [
        {
          "output_type": "stream",
          "text": [
            "tf.Tensor(\n",
            "[[1. 1. 1. 1.]\n",
            " [2. 2. 2. 2.]\n",
            " [3. 3. 3. 3.]], shape=(3, 4), dtype=float32)\n"
          ],
          "name": "stdout"
        }
      ]
    },
    {
      "cell_type": "markdown",
      "metadata": {
        "id": "SyM79z5nrouW"
      },
      "source": [
        "Using the `reshape()` function, we can specify the `row x column` shape that we are seeking. Notice how all of the shapes have to account for the number of elements in the tensor. In our example this is:\n",
        "\n",
        "\n",
        "\n",
        "```\n",
        "rows * columns = 12 elements\n",
        "```\n",
        "\n"
      ]
    },
    {
      "cell_type": "markdown",
      "metadata": {
        "id": "HaFhqZAGr4u8"
      },
      "source": [
        "We can use the intuitive words rows and columns when we are dealing with a rank 2 tensor. The underlying logic is the same for higher dimensional tenors even though we may not be able to use the intuition of rows and columns in higher dimensional spaces. For example:"
      ]
    },
    {
      "cell_type": "code",
      "metadata": {
        "id": "5hUcfpbUr8m0",
        "colab": {
          "base_uri": "https://localhost:8080/"
        },
        "outputId": "c717cd58-a630-4ef7-f980-135fbcffc273"
      },
      "source": [
        "reshaped_tensor = tf.reshape(t, [2,2,3])\n",
        "print(reshaped_tensor)"
      ],
      "execution_count": null,
      "outputs": [
        {
          "output_type": "stream",
          "text": [
            "tf.Tensor(\n",
            "[[[1. 1. 1.]\n",
            "  [1. 2. 2.]]\n",
            "\n",
            " [[2. 2. 3.]\n",
            "  [3. 3. 3.]]], shape=(2, 2, 3), dtype=float32)\n"
          ],
          "name": "stdout"
        }
      ]
    },
    {
      "cell_type": "markdown",
      "metadata": {
        "id": "8mR14GbJsHrD"
      },
      "source": [
        "In this example, we increase the rank to 3, and so we lose the rows and columns concept. However, the product of the shape's components (2,2,3) still has to be equal to the number of elements in the original tensor ( 12)."
      ]
    },
    {
      "cell_type": "markdown",
      "metadata": {
        "id": "bH18ROyCsOYx"
      },
      "source": [
        "## Changing Shape By Squeezing And Unsqueezing\n",
        "The next way we can change the shape of our tensors is by squeezing and unsqueezing them.\n",
        "\n",
        "1. Squeezing a tensor removes the dimensions or axes that have a length of one.\n",
        "2. Unsqueezing a tensor adds a dimension with a length of one.\n",
        "\n",
        "These functions allow us to expand or shrink the rank (number of dimensions) of our tensor. Let’s see this in action."
      ]
    },
    {
      "cell_type": "code",
      "metadata": {
        "id": "vnxnybFDsbAi",
        "colab": {
          "base_uri": "https://localhost:8080/"
        },
        "outputId": "ce3a11ad-5ecd-4223-c8cf-01e9394eeb1e"
      },
      "source": [
        "print(tf.reshape(t, [1,12]))"
      ],
      "execution_count": null,
      "outputs": [
        {
          "output_type": "stream",
          "text": [
            "tf.Tensor([[1. 1. 1. 1. 2. 2. 2. 2. 3. 3. 3. 3.]], shape=(1, 12), dtype=float32)\n"
          ],
          "name": "stdout"
        }
      ]
    },
    {
      "cell_type": "code",
      "metadata": {
        "id": "EzRm2kBqsbwY",
        "colab": {
          "base_uri": "https://localhost:8080/"
        },
        "outputId": "1ec96bfc-7338-4e52-e870-5a3c3b820468"
      },
      "source": [
        "print(tf.reshape(t, [1,12]).shape)"
      ],
      "execution_count": null,
      "outputs": [
        {
          "output_type": "stream",
          "text": [
            "(1, 12)\n"
          ],
          "name": "stdout"
        }
      ]
    },
    {
      "cell_type": "code",
      "metadata": {
        "id": "OuytZnoMsf20",
        "colab": {
          "base_uri": "https://localhost:8080/"
        },
        "outputId": "92579210-e600-4dd9-b447-b7d3efcb88ab"
      },
      "source": [
        "print(tf.squeeze(tf.reshape(t, [1,12])))"
      ],
      "execution_count": null,
      "outputs": [
        {
          "output_type": "stream",
          "text": [
            "tf.Tensor([1. 1. 1. 1. 2. 2. 2. 2. 3. 3. 3. 3.], shape=(12,), dtype=float32)\n"
          ],
          "name": "stdout"
        }
      ]
    },
    {
      "cell_type": "code",
      "metadata": {
        "id": "-9YdRE4PsiQj",
        "colab": {
          "base_uri": "https://localhost:8080/"
        },
        "outputId": "aea5c670-c88f-4335-b18d-4f01dbec255a"
      },
      "source": [
        "print(tf.squeeze(tf.reshape(t, [1,12])).shape)"
      ],
      "execution_count": null,
      "outputs": [
        {
          "output_type": "stream",
          "text": [
            "(12,)\n"
          ],
          "name": "stdout"
        }
      ]
    },
    {
      "cell_type": "markdown",
      "metadata": {
        "id": "ddubrHu1swqE"
      },
      "source": [
        "\n",
        "Let’s look at a common use case for squeezing a tensor by building a flatten function.\n",
        "\n",
        "## Flatten A Tensor\n",
        "A flatten operation on a tensor reshapes the tensor to have a shape that is equal to the number of elements contained in the tensor. This is the same thing as a 1d-array of elements.\n",
        "\n",
        "\n",
        "\n",
        "```\n",
        "Flattening a tensor means to remove all of the dimensions except for one.\n",
        "```\n",
        "\n"
      ]
    },
    {
      "cell_type": "markdown",
      "metadata": {
        "id": "N3mb5Slps7fg"
      },
      "source": [
        "Let’s create a Python function called `flatten()`:"
      ]
    },
    {
      "cell_type": "code",
      "metadata": {
        "id": "Lr3z01VVtATw"
      },
      "source": [
        "def flatten(t):\n",
        "    t = tf.reshape(t, [1, -1])\n",
        "    t = tf.squeeze(t)\n",
        "    return t"
      ],
      "execution_count": null,
      "outputs": []
    },
    {
      "cell_type": "markdown",
      "metadata": {
        "id": "teqAjgCYtDcn"
      },
      "source": [
        "The flatten() function takes in a tensor t as an argument."
      ]
    },
    {
      "cell_type": "markdown",
      "metadata": {
        "id": "fhVS-WRgtHaE"
      },
      "source": [
        "Since the argument t can be any tensor, we pass -1 as the second argument to the reshape() function. In TensorFlow, the -1 tells the reshape() function to figure out what the value should be based on the number of elements contained within the tensor. Remember, the shape must equal the product of the shape's component values. This is how TensorFlow can figure out what the value should be, given a 1 as the first argument.\n",
        "\n",
        "Since our tensor t has 12 elements, the reshape() function is able to figure out that a 12 is required for the length of the second axis.\n",
        "\n",
        "After squeezing, the first axis (axis-0) is removed, and we obtain our desired result, a 1d-array of length 12.\n",
        "\n",
        "Here's an example of this in action:"
      ]
    },
    {
      "cell_type": "code",
      "metadata": {
        "id": "l77_ZqottKim",
        "colab": {
          "base_uri": "https://localhost:8080/"
        },
        "outputId": "388921fc-d350-4a98-dd51-fc1814e374ce"
      },
      "source": [
        "t = tf.ones([4, 3])\n",
        "t"
      ],
      "execution_count": null,
      "outputs": [
        {
          "output_type": "execute_result",
          "data": {
            "text/plain": [
              "<tf.Tensor: shape=(4, 3), dtype=float32, numpy=\n",
              "array([[1., 1., 1.],\n",
              "       [1., 1., 1.],\n",
              "       [1., 1., 1.],\n",
              "       [1., 1., 1.]], dtype=float32)>"
            ]
          },
          "metadata": {
            "tags": []
          },
          "execution_count": 29
        }
      ]
    },
    {
      "cell_type": "code",
      "metadata": {
        "id": "TLRudZRvtNir",
        "colab": {
          "base_uri": "https://localhost:8080/"
        },
        "outputId": "e8e8fde3-6dcf-4728-f9dd-14cdee9a3097"
      },
      "source": [
        "flatten(t)"
      ],
      "execution_count": null,
      "outputs": [
        {
          "output_type": "execute_result",
          "data": {
            "text/plain": [
              "<tf.Tensor: shape=(12,), dtype=float32, numpy=array([1., 1., 1., 1., 1., 1., 1., 1., 1., 1., 1., 1.], dtype=float32)>"
            ]
          },
          "metadata": {
            "tags": []
          },
          "execution_count": 30
        }
      ]
    },
    {
      "cell_type": "markdown",
      "metadata": {
        "id": "DGelUFNhtUdE"
      },
      "source": [
        "## Concatenating Tensors\n",
        "We combine tensors using the `concat()` function, and the resulting tensor will have a shape that depends on the shape of the two input tensors.\n",
        "\n",
        "Suppose we have two tensors:"
      ]
    },
    {
      "cell_type": "code",
      "metadata": {
        "id": "xh149w9Xtb8B"
      },
      "source": [
        "t1 = tf.constant([\n",
        "    [1,2],\n",
        "    [3,4]\n",
        "])\n",
        "\n",
        "t2 = tf.constant([\n",
        "    [5,6],\n",
        "    [7,8]\n",
        "])"
      ],
      "execution_count": null,
      "outputs": []
    },
    {
      "cell_type": "markdown",
      "metadata": {
        "id": "GmoMicRPthkY"
      },
      "source": [
        "We can combine t1 and t2 row-wise (axis-0) in the following way:"
      ]
    },
    {
      "cell_type": "code",
      "metadata": {
        "id": "vdk3MiUktkY7",
        "colab": {
          "base_uri": "https://localhost:8080/"
        },
        "outputId": "674b6e80-e371-4ebd-bc2e-0fc00072b69a"
      },
      "source": [
        "tf.concat((t1, t2), axis = 0)  # concat() helps you to concatenate two tensors according to the given axis"
      ],
      "execution_count": null,
      "outputs": [
        {
          "output_type": "execute_result",
          "data": {
            "text/plain": [
              "<tf.Tensor: shape=(4, 2), dtype=int32, numpy=\n",
              "array([[1, 2],\n",
              "       [3, 4],\n",
              "       [5, 6],\n",
              "       [7, 8]], dtype=int32)>"
            ]
          },
          "metadata": {
            "tags": []
          },
          "execution_count": 33
        }
      ]
    },
    {
      "cell_type": "markdown",
      "metadata": {
        "id": "oRGRXkvQtmuf"
      },
      "source": [
        "We can combine them column-wise (axis-1) like this:"
      ]
    },
    {
      "cell_type": "code",
      "metadata": {
        "id": "uUs5bMGOtpID",
        "colab": {
          "base_uri": "https://localhost:8080/"
        },
        "outputId": "53fa2120-12f2-4220-d4f5-2b889212e9fc"
      },
      "source": [
        "tf.concat((t1, t2), axis = 1)"
      ],
      "execution_count": null,
      "outputs": [
        {
          "output_type": "execute_result",
          "data": {
            "text/plain": [
              "<tf.Tensor: shape=(2, 4), dtype=int32, numpy=\n",
              "array([[1, 2, 5, 6],\n",
              "       [3, 4, 7, 8]], dtype=int32)>"
            ]
          },
          "metadata": {
            "tags": []
          },
          "execution_count": 34
        }
      ]
    },
    {
      "cell_type": "markdown",
      "metadata": {
        "id": "HRUWHLgCts20"
      },
      "source": [
        "When we concatenate tensors, we increase the number of elements contained within the resulting tensor. This causes the component values within the shape (lengths of the axes) to adjust to account for the additional elements."
      ]
    },
    {
      "cell_type": "code",
      "metadata": {
        "id": "U6uPgjPatvz6",
        "colab": {
          "base_uri": "https://localhost:8080/"
        },
        "outputId": "95bb0593-2d1d-4a3d-9a00-fcb92116cd28"
      },
      "source": [
        "tf.concat((t1, t2), axis = 0).shape"
      ],
      "execution_count": null,
      "outputs": [
        {
          "output_type": "execute_result",
          "data": {
            "text/plain": [
              "TensorShape([4, 2])"
            ]
          },
          "metadata": {
            "tags": []
          },
          "execution_count": 35
        }
      ]
    },
    {
      "cell_type": "code",
      "metadata": {
        "id": "16P6eplXtx5G",
        "colab": {
          "base_uri": "https://localhost:8080/"
        },
        "outputId": "6fe8fe8c-2be7-4b84-b39f-863e8e25704a"
      },
      "source": [
        "tf.concat((t1, t2), axis = 1).shape"
      ],
      "execution_count": null,
      "outputs": [
        {
          "output_type": "execute_result",
          "data": {
            "text/plain": [
              "TensorShape([2, 4])"
            ]
          },
          "metadata": {
            "tags": []
          },
          "execution_count": 36
        }
      ]
    },
    {
      "cell_type": "markdown",
      "metadata": {
        "id": "Z42XLIvSt48P"
      },
      "source": [
        "# Conclusion About Reshaping Tensors\n",
        "We should now have a good understanding of what it means to reshape a tensor. Any time we change a tensor's shape, we are said to be reshaping the tensor."
      ]
    },
    {
      "cell_type": "markdown",
      "metadata": {
        "id": "xZRIIp3Y5T4f"
      },
      "source": [
        "Reference: Deeplizard"
      ]
    }
  ]
}