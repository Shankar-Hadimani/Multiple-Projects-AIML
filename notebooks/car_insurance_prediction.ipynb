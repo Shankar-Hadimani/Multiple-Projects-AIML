{
  "nbformat": 4,
  "nbformat_minor": 0,
  "metadata": {
    "colab": {
      "name": "car-insurance-prediction.ipynb",
      "provenance": [],
      "include_colab_link": true
    },
    "kernelspec": {
      "name": "python3",
      "display_name": "Python 3"
    },
    "language_info": {
      "name": "python"
    }
  },
  "cells": [
    {
      "cell_type": "markdown",
      "metadata": {
        "id": "view-in-github",
        "colab_type": "text"
      },
      "source": [
        "<a href=\"https://colab.research.google.com/github/Shankar-Hadimani/1000-dphi/blob/master/notebooks/car_insurance_prediction.ipynb\" target=\"_parent\"><img src=\"https://colab.research.google.com/assets/colab-badge.svg\" alt=\"Open In Colab\"/></a>"
      ]
    },
    {
      "cell_type": "markdown",
      "metadata": {
        "id": "kq5h6Q8rqnc_"
      },
      "source": [
        "# Import Libraries\n",
        "You can import all the libraries required here or you can import the libraries wherever you require on the go."
      ]
    },
    {
      "cell_type": "code",
      "metadata": {
        "id": "NOH08Fh2I0Sq"
      },
      "source": [
        "###  sklearn libraries\n",
        "from sklearn.metrics import plot_confusion_matrix, accuracy_score, roc_auc_score, classification_report, confusion_matrix\n",
        "from sklearn.model_selection import train_test_split, RandomizedSearchCV, GridSearchCV\n",
        "from sklearn.preprocessing import StandardScaler, OneHotEncoder\n",
        "from sklearn.impute import SimpleImputer\n",
        "from sklearn.compose import ColumnTransformer\n",
        "from sklearn.pipeline import Pipeline\n",
        "from sklearn.linear_model import LogisticRegression\n",
        "from sklearn.ensemble import RandomForestClassifier\n",
        "\n",
        "###  MS lightGBM\n",
        "from lightgbm import LGBMClassifier\n",
        "\n",
        "###  pythonic libraries\n",
        "from datetime import datetime\n",
        "from time import strptime\n",
        "import pandas as pd\n",
        "import numpy as np\n",
        "\n",
        "##  google libraries\n",
        "from google.colab import drive\n",
        "\n",
        "###  visulaization libraries\n",
        "import matplotlib.pyplot as plt\n",
        "import seaborn as sns "
      ],
      "execution_count": 101,
      "outputs": []
    },
    {
      "cell_type": "markdown",
      "metadata": {
        "id": "oUB78Mpzq6XS"
      },
      "source": [
        "# Load the Dataset\n",
        "Load the required train or test datasets here."
      ]
    },
    {
      "cell_type": "code",
      "metadata": {
        "id": "JmG_p6kLrAuy",
        "colab": {
          "base_uri": "https://localhost:8080/"
        },
        "outputId": "ec1648c3-0bca-4eb1-98e5-cf3a10f12f60"
      },
      "source": [
        "drive.mount('/content/gdrive')"
      ],
      "execution_count": 102,
      "outputs": [
        {
          "output_type": "stream",
          "text": [
            "Drive already mounted at /content/gdrive; to attempt to forcibly remount, call drive.mount(\"/content/gdrive\", force_remount=True).\n"
          ],
          "name": "stdout"
        }
      ]
    },
    {
      "cell_type": "code",
      "metadata": {
        "colab": {
          "base_uri": "https://localhost:8080/"
        },
        "id": "8eAPeAaTKrgL",
        "outputId": "6404ffce-d17e-407f-af55-9fb0c0c74bf4"
      },
      "source": [
        "!ls -ltr gdrive/MyDrive/ai-ml-datasets/"
      ],
      "execution_count": 103,
      "outputs": [
        {
          "output_type": "stream",
          "text": [
            "total 5501\n",
            "-rw------- 1 root root 5275912 Nov 23 19:37 5-celebrity-faces-dataset.zip\n",
            "-rw------- 1 root root  275129 Apr 19 22:00 Train_data.csv\n",
            "-rw------- 1 root root   81346 Apr 19 22:00 Test_data.csv\n"
          ],
          "name": "stdout"
        }
      ]
    },
    {
      "cell_type": "code",
      "metadata": {
        "id": "p0DDnUneKsXZ"
      },
      "source": [
        "train_data = pd.read_csv('gdrive/MyDrive/ai-ml-datasets/Train_data.csv')\n",
        "test_data = pd.read_csv('gdrive/MyDrive/ai-ml-datasets/Test_data.csv')"
      ],
      "execution_count": 104,
      "outputs": []
    },
    {
      "cell_type": "markdown",
      "metadata": {
        "id": "mLUotaSkrBjN"
      },
      "source": [
        "# Exploratory Data Analysis (EDA)\n",
        "Perform all the exploratory data analysis steps here."
      ]
    },
    {
      "cell_type": "code",
      "metadata": {
        "id": "98wP1Ex_rIY0",
        "colab": {
          "base_uri": "https://localhost:8080/",
          "height": 222
        },
        "outputId": "43337b37-2ef5-45c9-a941-95915f924cdd"
      },
      "source": [
        "train_data.head()"
      ],
      "execution_count": 105,
      "outputs": [
        {
          "output_type": "execute_result",
          "data": {
            "text/html": [
              "<div>\n",
              "<style scoped>\n",
              "    .dataframe tbody tr th:only-of-type {\n",
              "        vertical-align: middle;\n",
              "    }\n",
              "\n",
              "    .dataframe tbody tr th {\n",
              "        vertical-align: top;\n",
              "    }\n",
              "\n",
              "    .dataframe thead th {\n",
              "        text-align: right;\n",
              "    }\n",
              "</style>\n",
              "<table border=\"1\" class=\"dataframe\">\n",
              "  <thead>\n",
              "    <tr style=\"text-align: right;\">\n",
              "      <th></th>\n",
              "      <th>age</th>\n",
              "      <th>job_type</th>\n",
              "      <th>marital_status</th>\n",
              "      <th>education_level</th>\n",
              "      <th>default_or_not</th>\n",
              "      <th>balance_amt</th>\n",
              "      <th>household_insurance</th>\n",
              "      <th>car_loan</th>\n",
              "      <th>communication</th>\n",
              "      <th>last_contact_day</th>\n",
              "      <th>last_contact_month</th>\n",
              "      <th>no_of_contacts</th>\n",
              "      <th>days_passed</th>\n",
              "      <th>prev_attempts</th>\n",
              "      <th>Outcome</th>\n",
              "      <th>call_start</th>\n",
              "      <th>call_end</th>\n",
              "      <th>car_insurance</th>\n",
              "    </tr>\n",
              "  </thead>\n",
              "  <tbody>\n",
              "    <tr>\n",
              "      <th>0</th>\n",
              "      <td>47.000000</td>\n",
              "      <td>blue-collar</td>\n",
              "      <td>married</td>\n",
              "      <td>primary</td>\n",
              "      <td>0</td>\n",
              "      <td>1112.000000</td>\n",
              "      <td>1</td>\n",
              "      <td>0</td>\n",
              "      <td>cellular</td>\n",
              "      <td>13</td>\n",
              "      <td>may</td>\n",
              "      <td>1</td>\n",
              "      <td>-1</td>\n",
              "      <td>0</td>\n",
              "      <td>NaN</td>\n",
              "      <td>10:22:20</td>\n",
              "      <td>10:24:29</td>\n",
              "      <td>0</td>\n",
              "    </tr>\n",
              "    <tr>\n",
              "      <th>1</th>\n",
              "      <td>46.031442</td>\n",
              "      <td>management</td>\n",
              "      <td>married</td>\n",
              "      <td>tertiary</td>\n",
              "      <td>0</td>\n",
              "      <td>1.312372</td>\n",
              "      <td>0</td>\n",
              "      <td>1</td>\n",
              "      <td>cellular</td>\n",
              "      <td>15</td>\n",
              "      <td>may</td>\n",
              "      <td>3</td>\n",
              "      <td>219</td>\n",
              "      <td>1</td>\n",
              "      <td>other</td>\n",
              "      <td>09:06:30</td>\n",
              "      <td>13:59:48</td>\n",
              "      <td>1</td>\n",
              "    </tr>\n",
              "    <tr>\n",
              "      <th>2</th>\n",
              "      <td>36.000000</td>\n",
              "      <td>services</td>\n",
              "      <td>single</td>\n",
              "      <td>NaN</td>\n",
              "      <td>0</td>\n",
              "      <td>281.000000</td>\n",
              "      <td>1</td>\n",
              "      <td>0</td>\n",
              "      <td>NaN</td>\n",
              "      <td>16</td>\n",
              "      <td>may</td>\n",
              "      <td>1</td>\n",
              "      <td>-1</td>\n",
              "      <td>0</td>\n",
              "      <td>NaN</td>\n",
              "      <td>13:18:41</td>\n",
              "      <td>13:27:16</td>\n",
              "      <td>1</td>\n",
              "    </tr>\n",
              "    <tr>\n",
              "      <th>3</th>\n",
              "      <td>32.000000</td>\n",
              "      <td>technician</td>\n",
              "      <td>single</td>\n",
              "      <td>secondary</td>\n",
              "      <td>0</td>\n",
              "      <td>540.000000</td>\n",
              "      <td>0</td>\n",
              "      <td>1</td>\n",
              "      <td>cellular</td>\n",
              "      <td>29</td>\n",
              "      <td>jan</td>\n",
              "      <td>1</td>\n",
              "      <td>-1</td>\n",
              "      <td>0</td>\n",
              "      <td>NaN</td>\n",
              "      <td>10:09:18</td>\n",
              "      <td>10:21:48</td>\n",
              "      <td>1</td>\n",
              "    </tr>\n",
              "    <tr>\n",
              "      <th>4</th>\n",
              "      <td>30.000000</td>\n",
              "      <td>admin.</td>\n",
              "      <td>single</td>\n",
              "      <td>secondary</td>\n",
              "      <td>0</td>\n",
              "      <td>315.000000</td>\n",
              "      <td>1</td>\n",
              "      <td>0</td>\n",
              "      <td>cellular</td>\n",
              "      <td>14</td>\n",
              "      <td>may</td>\n",
              "      <td>3</td>\n",
              "      <td>346</td>\n",
              "      <td>4</td>\n",
              "      <td>failure</td>\n",
              "      <td>12:12:30</td>\n",
              "      <td>12:27:14</td>\n",
              "      <td>1</td>\n",
              "    </tr>\n",
              "  </tbody>\n",
              "</table>\n",
              "</div>"
            ],
            "text/plain": [
              "         age     job_type marital_status  ... call_start  call_end  car_insurance\n",
              "0  47.000000  blue-collar        married  ...   10:22:20  10:24:29              0\n",
              "1  46.031442   management        married  ...   09:06:30  13:59:48              1\n",
              "2  36.000000     services         single  ...   13:18:41  13:27:16              1\n",
              "3  32.000000   technician         single  ...   10:09:18  10:21:48              1\n",
              "4  30.000000       admin.         single  ...   12:12:30  12:27:14              1\n",
              "\n",
              "[5 rows x 18 columns]"
            ]
          },
          "metadata": {
            "tags": []
          },
          "execution_count": 105
        }
      ]
    },
    {
      "cell_type": "code",
      "metadata": {
        "id": "6ShPmXR7rJN3",
        "colab": {
          "base_uri": "https://localhost:8080/",
          "height": 222
        },
        "outputId": "75117f34-805f-4d9f-8129-9c32ba7b4c0a"
      },
      "source": [
        "test_data.head()"
      ],
      "execution_count": 106,
      "outputs": [
        {
          "output_type": "execute_result",
          "data": {
            "text/html": [
              "<div>\n",
              "<style scoped>\n",
              "    .dataframe tbody tr th:only-of-type {\n",
              "        vertical-align: middle;\n",
              "    }\n",
              "\n",
              "    .dataframe tbody tr th {\n",
              "        vertical-align: top;\n",
              "    }\n",
              "\n",
              "    .dataframe thead th {\n",
              "        text-align: right;\n",
              "    }\n",
              "</style>\n",
              "<table border=\"1\" class=\"dataframe\">\n",
              "  <thead>\n",
              "    <tr style=\"text-align: right;\">\n",
              "      <th></th>\n",
              "      <th>age</th>\n",
              "      <th>job_type</th>\n",
              "      <th>marital_status</th>\n",
              "      <th>education_level</th>\n",
              "      <th>default_or_not</th>\n",
              "      <th>balance_amt</th>\n",
              "      <th>household_insurance</th>\n",
              "      <th>car_loan</th>\n",
              "      <th>communication</th>\n",
              "      <th>last_contact_day</th>\n",
              "      <th>last_contact_month</th>\n",
              "      <th>no_of_contacts</th>\n",
              "      <th>days_passed</th>\n",
              "      <th>prev_attempts</th>\n",
              "      <th>Outcome</th>\n",
              "      <th>call_start</th>\n",
              "      <th>call_end</th>\n",
              "    </tr>\n",
              "  </thead>\n",
              "  <tbody>\n",
              "    <tr>\n",
              "      <th>0</th>\n",
              "      <td>65.000000</td>\n",
              "      <td>retired</td>\n",
              "      <td>married</td>\n",
              "      <td>secondary</td>\n",
              "      <td>0</td>\n",
              "      <td>20806.0</td>\n",
              "      <td>0</td>\n",
              "      <td>0</td>\n",
              "      <td>telephone</td>\n",
              "      <td>8</td>\n",
              "      <td>apr</td>\n",
              "      <td>2</td>\n",
              "      <td>-1</td>\n",
              "      <td>0</td>\n",
              "      <td>NaN</td>\n",
              "      <td>12:22:13</td>\n",
              "      <td>12:30:56</td>\n",
              "    </tr>\n",
              "    <tr>\n",
              "      <th>1</th>\n",
              "      <td>36.000000</td>\n",
              "      <td>management</td>\n",
              "      <td>married</td>\n",
              "      <td>tertiary</td>\n",
              "      <td>0</td>\n",
              "      <td>900.0</td>\n",
              "      <td>1</td>\n",
              "      <td>0</td>\n",
              "      <td>NaN</td>\n",
              "      <td>15</td>\n",
              "      <td>may</td>\n",
              "      <td>2</td>\n",
              "      <td>-1</td>\n",
              "      <td>0</td>\n",
              "      <td>NaN</td>\n",
              "      <td>17:59:45</td>\n",
              "      <td>18:07:40</td>\n",
              "    </tr>\n",
              "    <tr>\n",
              "      <th>2</th>\n",
              "      <td>37.000000</td>\n",
              "      <td>management</td>\n",
              "      <td>married</td>\n",
              "      <td>tertiary</td>\n",
              "      <td>0</td>\n",
              "      <td>6771.0</td>\n",
              "      <td>0</td>\n",
              "      <td>0</td>\n",
              "      <td>cellular</td>\n",
              "      <td>7</td>\n",
              "      <td>sep</td>\n",
              "      <td>1</td>\n",
              "      <td>186</td>\n",
              "      <td>1</td>\n",
              "      <td>success</td>\n",
              "      <td>14:05:19</td>\n",
              "      <td>14:10:56</td>\n",
              "    </tr>\n",
              "    <tr>\n",
              "      <th>3</th>\n",
              "      <td>30.065066</td>\n",
              "      <td>management</td>\n",
              "      <td>single</td>\n",
              "      <td>tertiary</td>\n",
              "      <td>0</td>\n",
              "      <td>0.0</td>\n",
              "      <td>0</td>\n",
              "      <td>0</td>\n",
              "      <td>cellular</td>\n",
              "      <td>14</td>\n",
              "      <td>may</td>\n",
              "      <td>2</td>\n",
              "      <td>-1</td>\n",
              "      <td>0</td>\n",
              "      <td>NaN</td>\n",
              "      <td>17:33:27</td>\n",
              "      <td>09:47:54</td>\n",
              "    </tr>\n",
              "    <tr>\n",
              "      <th>4</th>\n",
              "      <td>41.000000</td>\n",
              "      <td>management</td>\n",
              "      <td>married</td>\n",
              "      <td>tertiary</td>\n",
              "      <td>0</td>\n",
              "      <td>328.0</td>\n",
              "      <td>1</td>\n",
              "      <td>0</td>\n",
              "      <td>cellular</td>\n",
              "      <td>29</td>\n",
              "      <td>jul</td>\n",
              "      <td>12</td>\n",
              "      <td>-1</td>\n",
              "      <td>0</td>\n",
              "      <td>NaN</td>\n",
              "      <td>14:40:26</td>\n",
              "      <td>14:41:31</td>\n",
              "    </tr>\n",
              "  </tbody>\n",
              "</table>\n",
              "</div>"
            ],
            "text/plain": [
              "         age    job_type marital_status  ...  Outcome  call_start  call_end\n",
              "0  65.000000     retired        married  ...      NaN    12:22:13  12:30:56\n",
              "1  36.000000  management        married  ...      NaN    17:59:45  18:07:40\n",
              "2  37.000000  management        married  ...  success    14:05:19  14:10:56\n",
              "3  30.065066  management         single  ...      NaN    17:33:27  09:47:54\n",
              "4  41.000000  management        married  ...      NaN    14:40:26  14:41:31\n",
              "\n",
              "[5 rows x 17 columns]"
            ]
          },
          "metadata": {
            "tags": []
          },
          "execution_count": 106
        }
      ]
    },
    {
      "cell_type": "code",
      "metadata": {
        "id": "i7haAUoBrJ0q",
        "colab": {
          "base_uri": "https://localhost:8080/"
        },
        "outputId": "4fc63b75-5a43-4eee-b9cb-f49c16ca7b9c"
      },
      "source": [
        "print('shape of the training dataset is {}'.format(train_data.shape))\n",
        "print('shape of the test dataset is {}'.format(test_data.shape))"
      ],
      "execution_count": 107,
      "outputs": [
        {
          "output_type": "stream",
          "text": [
            "shape of the training dataset is (3102, 18)\n",
            "shape of the test dataset is (935, 17)\n"
          ],
          "name": "stdout"
        }
      ]
    },
    {
      "cell_type": "code",
      "metadata": {
        "colab": {
          "base_uri": "https://localhost:8080/",
          "height": 314
        },
        "id": "kOBg_mMb7SJS",
        "outputId": "f4fcee2a-a483-462d-9d2e-712947c61b76"
      },
      "source": [
        "train_data.describe()"
      ],
      "execution_count": 108,
      "outputs": [
        {
          "output_type": "execute_result",
          "data": {
            "text/html": [
              "<div>\n",
              "<style scoped>\n",
              "    .dataframe tbody tr th:only-of-type {\n",
              "        vertical-align: middle;\n",
              "    }\n",
              "\n",
              "    .dataframe tbody tr th {\n",
              "        vertical-align: top;\n",
              "    }\n",
              "\n",
              "    .dataframe thead th {\n",
              "        text-align: right;\n",
              "    }\n",
              "</style>\n",
              "<table border=\"1\" class=\"dataframe\">\n",
              "  <thead>\n",
              "    <tr style=\"text-align: right;\">\n",
              "      <th></th>\n",
              "      <th>age</th>\n",
              "      <th>default_or_not</th>\n",
              "      <th>balance_amt</th>\n",
              "      <th>household_insurance</th>\n",
              "      <th>car_loan</th>\n",
              "      <th>last_contact_day</th>\n",
              "      <th>no_of_contacts</th>\n",
              "      <th>days_passed</th>\n",
              "      <th>prev_attempts</th>\n",
              "      <th>car_insurance</th>\n",
              "    </tr>\n",
              "  </thead>\n",
              "  <tbody>\n",
              "    <tr>\n",
              "      <th>count</th>\n",
              "      <td>3102.000000</td>\n",
              "      <td>3102.000000</td>\n",
              "      <td>3102.000000</td>\n",
              "      <td>3102.000000</td>\n",
              "      <td>3102.000000</td>\n",
              "      <td>3102.000000</td>\n",
              "      <td>3102.000000</td>\n",
              "      <td>3102.000000</td>\n",
              "      <td>3102.000000</td>\n",
              "      <td>3102.000000</td>\n",
              "    </tr>\n",
              "    <tr>\n",
              "      <th>mean</th>\n",
              "      <td>41.325847</td>\n",
              "      <td>0.014507</td>\n",
              "      <td>1543.067240</td>\n",
              "      <td>0.465184</td>\n",
              "      <td>0.114442</td>\n",
              "      <td>15.353965</td>\n",
              "      <td>2.356867</td>\n",
              "      <td>52.419084</td>\n",
              "      <td>0.792392</td>\n",
              "      <td>0.567376</td>\n",
              "    </tr>\n",
              "    <tr>\n",
              "      <th>std</th>\n",
              "      <td>11.517698</td>\n",
              "      <td>0.119587</td>\n",
              "      <td>3301.474598</td>\n",
              "      <td>0.498867</td>\n",
              "      <td>0.318399</td>\n",
              "      <td>8.164255</td>\n",
              "      <td>2.594238</td>\n",
              "      <td>109.231364</td>\n",
              "      <td>2.224740</td>\n",
              "      <td>0.495520</td>\n",
              "    </tr>\n",
              "    <tr>\n",
              "      <th>min</th>\n",
              "      <td>18.000000</td>\n",
              "      <td>0.000000</td>\n",
              "      <td>-3058.000000</td>\n",
              "      <td>0.000000</td>\n",
              "      <td>0.000000</td>\n",
              "      <td>1.000000</td>\n",
              "      <td>1.000000</td>\n",
              "      <td>-1.000000</td>\n",
              "      <td>0.000000</td>\n",
              "      <td>0.000000</td>\n",
              "    </tr>\n",
              "    <tr>\n",
              "      <th>25%</th>\n",
              "      <td>32.000000</td>\n",
              "      <td>0.000000</td>\n",
              "      <td>123.821352</td>\n",
              "      <td>0.000000</td>\n",
              "      <td>0.000000</td>\n",
              "      <td>8.000000</td>\n",
              "      <td>1.000000</td>\n",
              "      <td>-1.000000</td>\n",
              "      <td>0.000000</td>\n",
              "      <td>0.000000</td>\n",
              "    </tr>\n",
              "    <tr>\n",
              "      <th>50%</th>\n",
              "      <td>39.000000</td>\n",
              "      <td>0.000000</td>\n",
              "      <td>589.000000</td>\n",
              "      <td>0.000000</td>\n",
              "      <td>0.000000</td>\n",
              "      <td>15.000000</td>\n",
              "      <td>2.000000</td>\n",
              "      <td>-1.000000</td>\n",
              "      <td>0.000000</td>\n",
              "      <td>1.000000</td>\n",
              "    </tr>\n",
              "    <tr>\n",
              "      <th>75%</th>\n",
              "      <td>49.000000</td>\n",
              "      <td>0.000000</td>\n",
              "      <td>1696.000000</td>\n",
              "      <td>1.000000</td>\n",
              "      <td>0.000000</td>\n",
              "      <td>21.000000</td>\n",
              "      <td>3.000000</td>\n",
              "      <td>56.750000</td>\n",
              "      <td>1.000000</td>\n",
              "      <td>1.000000</td>\n",
              "    </tr>\n",
              "    <tr>\n",
              "      <th>max</th>\n",
              "      <td>92.000000</td>\n",
              "      <td>1.000000</td>\n",
              "      <td>52587.000000</td>\n",
              "      <td>1.000000</td>\n",
              "      <td>1.000000</td>\n",
              "      <td>31.000000</td>\n",
              "      <td>43.000000</td>\n",
              "      <td>854.000000</td>\n",
              "      <td>58.000000</td>\n",
              "      <td>1.000000</td>\n",
              "    </tr>\n",
              "  </tbody>\n",
              "</table>\n",
              "</div>"
            ],
            "text/plain": [
              "               age  default_or_not  ...  prev_attempts  car_insurance\n",
              "count  3102.000000     3102.000000  ...    3102.000000    3102.000000\n",
              "mean     41.325847        0.014507  ...       0.792392       0.567376\n",
              "std      11.517698        0.119587  ...       2.224740       0.495520\n",
              "min      18.000000        0.000000  ...       0.000000       0.000000\n",
              "25%      32.000000        0.000000  ...       0.000000       0.000000\n",
              "50%      39.000000        0.000000  ...       0.000000       1.000000\n",
              "75%      49.000000        0.000000  ...       1.000000       1.000000\n",
              "max      92.000000        1.000000  ...      58.000000       1.000000\n",
              "\n",
              "[8 rows x 10 columns]"
            ]
          },
          "metadata": {
            "tags": []
          },
          "execution_count": 108
        }
      ]
    },
    {
      "cell_type": "code",
      "metadata": {
        "colab": {
          "base_uri": "https://localhost:8080/"
        },
        "id": "Bk-NWhPcSBZR",
        "outputId": "5fb935cb-ff48-4fb3-d56d-daa14166b2cb"
      },
      "source": [
        "train_data.info()"
      ],
      "execution_count": 109,
      "outputs": [
        {
          "output_type": "stream",
          "text": [
            "<class 'pandas.core.frame.DataFrame'>\n",
            "RangeIndex: 3102 entries, 0 to 3101\n",
            "Data columns (total 18 columns):\n",
            " #   Column               Non-Null Count  Dtype  \n",
            "---  ------               --------------  -----  \n",
            " 0   age                  3102 non-null   float64\n",
            " 1   job_type             3091 non-null   object \n",
            " 2   marital_status       3102 non-null   object \n",
            " 3   education_level      2989 non-null   object \n",
            " 4   default_or_not       3102 non-null   int64  \n",
            " 5   balance_amt          3102 non-null   float64\n",
            " 6   household_insurance  3102 non-null   int64  \n",
            " 7   car_loan             3102 non-null   int64  \n",
            " 8   communication        2559 non-null   object \n",
            " 9   last_contact_day     3102 non-null   int64  \n",
            " 10  last_contact_month   3102 non-null   object \n",
            " 11  no_of_contacts       3102 non-null   int64  \n",
            " 12  days_passed          3102 non-null   int64  \n",
            " 13  prev_attempts        3102 non-null   int64  \n",
            " 14  Outcome              751 non-null    object \n",
            " 15  call_start           3102 non-null   object \n",
            " 16  call_end             3102 non-null   object \n",
            " 17  car_insurance        3102 non-null   int64  \n",
            "dtypes: float64(2), int64(8), object(8)\n",
            "memory usage: 436.3+ KB\n"
          ],
          "name": "stdout"
        }
      ]
    },
    {
      "cell_type": "code",
      "metadata": {
        "colab": {
          "base_uri": "https://localhost:8080/"
        },
        "id": "PCkVf3RKwmNM",
        "outputId": "6f9535f6-9884-4b7e-e0aa-55c140ac75bc"
      },
      "source": [
        "train_data.isnull().sum()"
      ],
      "execution_count": 110,
      "outputs": [
        {
          "output_type": "execute_result",
          "data": {
            "text/plain": [
              "age                       0\n",
              "job_type                 11\n",
              "marital_status            0\n",
              "education_level         113\n",
              "default_or_not            0\n",
              "balance_amt               0\n",
              "household_insurance       0\n",
              "car_loan                  0\n",
              "communication           543\n",
              "last_contact_day          0\n",
              "last_contact_month        0\n",
              "no_of_contacts            0\n",
              "days_passed               0\n",
              "prev_attempts             0\n",
              "Outcome                2351\n",
              "call_start                0\n",
              "call_end                  0\n",
              "car_insurance             0\n",
              "dtype: int64"
            ]
          },
          "metadata": {
            "tags": []
          },
          "execution_count": 110
        }
      ]
    },
    {
      "cell_type": "code",
      "metadata": {
        "colab": {
          "base_uri": "https://localhost:8080/"
        },
        "id": "28GCdbUzR33G",
        "outputId": "9cc39bb0-18f1-4d63-ac78-b5455d639d35"
      },
      "source": [
        "train_data['last_contact_month'].value_counts()"
      ],
      "execution_count": 111,
      "outputs": [
        {
          "output_type": "execute_result",
          "data": {
            "text/plain": [
              "may    770\n",
              "aug    449\n",
              "jul    412\n",
              "jun    330\n",
              "apr    286\n",
              "nov    254\n",
              "feb    218\n",
              "oct     99\n",
              "sep     98\n",
              "jan     94\n",
              "mar     66\n",
              "dec     26\n",
              "Name: last_contact_month, dtype: int64"
            ]
          },
          "metadata": {
            "tags": []
          },
          "execution_count": 111
        }
      ]
    },
    {
      "cell_type": "code",
      "metadata": {
        "colab": {
          "base_uri": "https://localhost:8080/"
        },
        "id": "8fbm4aSeweUR",
        "outputId": "5d052ee8-3901-4e7e-e1ac-3c19cf7fb0c9"
      },
      "source": [
        "train_data['job_type'].value_counts()"
      ],
      "execution_count": 112,
      "outputs": [
        {
          "output_type": "execute_result",
          "data": {
            "text/plain": [
              "management       724\n",
              "blue-collar      544\n",
              "technician       526\n",
              "admin.           346\n",
              "services         231\n",
              "retired          193\n",
              "unemployed       146\n",
              "student          119\n",
              "self-employed    106\n",
              "housemaid         80\n",
              "entrepreneur      76\n",
              "Name: job_type, dtype: int64"
            ]
          },
          "metadata": {
            "tags": []
          },
          "execution_count": 112
        }
      ]
    },
    {
      "cell_type": "code",
      "metadata": {
        "colab": {
          "base_uri": "https://localhost:8080/"
        },
        "id": "AUQXcRRYwyQB",
        "outputId": "dd74a2c5-7d8a-4df0-b9b8-c8fe50ac67de"
      },
      "source": [
        "train_data['education_level'].value_counts()"
      ],
      "execution_count": 113,
      "outputs": [
        {
          "output_type": "execute_result",
          "data": {
            "text/plain": [
              "secondary    1569\n",
              "tertiary     1030\n",
              "primary       390\n",
              "Name: education_level, dtype: int64"
            ]
          },
          "metadata": {
            "tags": []
          },
          "execution_count": 113
        }
      ]
    },
    {
      "cell_type": "code",
      "metadata": {
        "colab": {
          "base_uri": "https://localhost:8080/"
        },
        "id": "Csdq1QRdxFbw",
        "outputId": "f42f1163-f216-4330-ee9a-889c34a50ac2"
      },
      "source": [
        "train_data['communication'].value_counts()"
      ],
      "execution_count": 114,
      "outputs": [
        {
          "output_type": "execute_result",
          "data": {
            "text/plain": [
              "cellular     2397\n",
              "telephone     162\n",
              "Name: communication, dtype: int64"
            ]
          },
          "metadata": {
            "tags": []
          },
          "execution_count": 114
        }
      ]
    },
    {
      "cell_type": "code",
      "metadata": {
        "colab": {
          "base_uri": "https://localhost:8080/"
        },
        "id": "fmGHul-YxQvU",
        "outputId": "df7d4fbe-4e1f-4e12-f757-06e6c33ed110"
      },
      "source": [
        "train_data['Outcome'].value_counts()"
      ],
      "execution_count": 115,
      "outputs": [
        {
          "output_type": "execute_result",
          "data": {
            "text/plain": [
              "failure    309\n",
              "success    299\n",
              "other      143\n",
              "Name: Outcome, dtype: int64"
            ]
          },
          "metadata": {
            "tags": []
          },
          "execution_count": 115
        }
      ]
    },
    {
      "cell_type": "code",
      "metadata": {
        "colab": {
          "base_uri": "https://localhost:8080/",
          "height": 583
        },
        "id": "NqqyumeqPNFC",
        "outputId": "a27de38e-c8fc-4e46-dd36-7cb10791ea7f"
      },
      "source": [
        "plt.figure(figsize=(18,8))\n",
        "sns.heatmap(train_data.corr(), annot=True,cmap=plt.cm.RdYlGn_r)   \n",
        "plt.show()"
      ],
      "execution_count": 116,
      "outputs": [
        {
          "output_type": "display_data",
          "data": {
            "image/png": "[encoded data removed]",
            "text/plain": [
              "<Figure size 1296x576 with 2 Axes>"
            ]
          },
          "metadata": {
            "tags": [],
            "needs_background": "light"
          }
        }
      ]
    },
    {
      "cell_type": "markdown",
      "metadata": {
        "id": "fGnUSIBcrKXR"
      },
      "source": [
        "# Data Cleaning and Data Preprocessing\n",
        "Perform all the data cleaning and data preprocessing steps here."
      ]
    },
    {
      "cell_type": "code",
      "metadata": {
        "id": "DF-NA51nHOmS"
      },
      "source": [
        "### calculate call duration from start and end dates\n",
        "start_time = pd.to_datetime(train_data['call_start'].astype(str))\n",
        "end_time = pd.to_datetime(train_data['call_end'].astype(str))\n",
        "train_data['call_duration_mins']= end_time.sub(start_time).dt.total_seconds().div(60)"
      ],
      "execution_count": 117,
      "outputs": []
    },
    {
      "cell_type": "code",
      "metadata": {
        "id": "_96OPGD6WRXY"
      },
      "source": [
        "# convert month names to month number \n",
        "train_data['last_contact_month']=train_data['last_contact_month'].str.capitalize()\n",
        "train_data['last_contact_month_num']=train_data['last_contact_month'].apply(lambda x:strptime( x,'%b').tm_mon)"
      ],
      "execution_count": 118,
      "outputs": []
    },
    {
      "cell_type": "code",
      "metadata": {
        "id": "COyZ7xISY3IR"
      },
      "source": [
        "# drop columns\n",
        "train_data.drop(columns=['call_start','call_end','last_contact_month'], inplace=True)"
      ],
      "execution_count": 119,
      "outputs": []
    },
    {
      "cell_type": "code",
      "metadata": {
        "id": "bsZGdhqop_7D"
      },
      "source": [
        "# segregate label and depedent variables \n",
        "X = train_data.drop(['car_insurance'],axis=1)\n",
        "y = train_data['car_insurance']"
      ],
      "execution_count": 120,
      "outputs": []
    },
    {
      "cell_type": "code",
      "metadata": {
        "colab": {
          "base_uri": "https://localhost:8080/"
        },
        "id": "4iUDFKI6PmNb",
        "outputId": "cc7333a6-c055-4ecb-aa18-a5a01b53c6c1"
      },
      "source": [
        "### check for class imbalance\n",
        "train_data['car_insurance'].value_counts()"
      ],
      "execution_count": 121,
      "outputs": [
        {
          "output_type": "execute_result",
          "data": {
            "text/plain": [
              "1    1760\n",
              "0    1342\n",
              "Name: car_insurance, dtype: int64"
            ]
          },
          "metadata": {
            "tags": []
          },
          "execution_count": 121
        }
      ]
    },
    {
      "cell_type": "code",
      "metadata": {
        "colab": {
          "base_uri": "https://localhost:8080/"
        },
        "id": "wb7FdjN9q8wQ",
        "outputId": "4a62905f-737d-45e6-fce7-2a866f3b0f06"
      },
      "source": [
        "print('shape of the features', X.shape)\n",
        "print('shape of the labels', y.shape)"
      ],
      "execution_count": 122,
      "outputs": [
        {
          "output_type": "stream",
          "text": [
            "shape of the features (3102, 16)\n",
            "shape of the labels (3102,)\n"
          ],
          "name": "stdout"
        }
      ]
    },
    {
      "cell_type": "code",
      "metadata": {
        "id": "WkacnekInVvO"
      },
      "source": [
        "#classify categorical and numeric features\n",
        "numeric_features = X.select_dtypes(exclude=[object]).columns\n",
        "categorical_features = X.select_dtypes(include=[object]).columns"
      ],
      "execution_count": 123,
      "outputs": []
    },
    {
      "cell_type": "code",
      "metadata": {
        "colab": {
          "base_uri": "https://localhost:8080/"
        },
        "id": "fs60D_pWYh92",
        "outputId": "e7aa9ea5-7b3a-4a5e-ccac-6f0f0c9fa4e2"
      },
      "source": [
        "### list of the numerical features\n",
        "numeric_features"
      ],
      "execution_count": 124,
      "outputs": [
        {
          "output_type": "execute_result",
          "data": {
            "text/plain": [
              "Index(['age', 'default_or_not', 'balance_amt', 'household_insurance',\n",
              "       'car_loan', 'last_contact_day', 'no_of_contacts', 'days_passed',\n",
              "       'prev_attempts', 'call_duration_mins', 'last_contact_month_num'],\n",
              "      dtype='object')"
            ]
          },
          "metadata": {
            "tags": []
          },
          "execution_count": 124
        }
      ]
    },
    {
      "cell_type": "code",
      "metadata": {
        "colab": {
          "base_uri": "https://localhost:8080/"
        },
        "id": "soYGQvrtYkzh",
        "outputId": "c686917c-a14b-42e9-be6a-ba6513e36fdf"
      },
      "source": [
        "### list of the categorical features\n",
        "categorical_features"
      ],
      "execution_count": 125,
      "outputs": [
        {
          "output_type": "execute_result",
          "data": {
            "text/plain": [
              "Index(['job_type', 'marital_status', 'education_level', 'communication',\n",
              "       'Outcome'],\n",
              "      dtype='object')"
            ]
          },
          "metadata": {
            "tags": []
          },
          "execution_count": 125
        }
      ]
    },
    {
      "cell_type": "code",
      "metadata": {
        "id": "Xfi77URKnwtZ"
      },
      "source": [
        "### setup pipeline for numerical features\n",
        "numeric_transformer = Pipeline(steps=[\n",
        "    ('imputer', SimpleImputer(strategy='median')),\n",
        "    ('scaler', StandardScaler())\n",
        "    ])"
      ],
      "execution_count": 126,
      "outputs": []
    },
    {
      "cell_type": "code",
      "metadata": {
        "id": "zeDeFr0AX-E7"
      },
      "source": [
        "### setup pipeline for categorical features\n",
        "categorical_transformer = Pipeline(steps=[\n",
        "    ('imputer', SimpleImputer(missing_values=np.NaN, strategy='constant', fill_value='most_frequent')),\n",
        "    ('oneHot', OneHotEncoder(handle_unknown='ignore'))])"
      ],
      "execution_count": 127,
      "outputs": []
    },
    {
      "cell_type": "code",
      "metadata": {
        "id": "z9FE99rWpDSp"
      },
      "source": [
        "### setup column transformer\n",
        "preprocessor = ColumnTransformer(\n",
        "    transformers=[\n",
        "        ('num', numeric_transformer, numeric_features),\n",
        "        ('cat', categorical_transformer, categorical_features)])"
      ],
      "execution_count": 128,
      "outputs": []
    },
    {
      "cell_type": "markdown",
      "metadata": {
        "id": "gUbtKo3BrVpO"
      },
      "source": [
        "# Build Machine Learning Model & Evaluate it\n",
        "Build your all the machine learning model and check their performance on the validation dataset (i.e. the test dataset that you splitted using ***train_test_split***) here."
      ]
    },
    {
      "cell_type": "markdown",
      "metadata": {
        "id": "U2xFTxHaY9Dy"
      },
      "source": [
        "# **BaseLine Model**"
      ]
    },
    {
      "cell_type": "markdown",
      "metadata": {
        "id": "fx4R51aVeomt"
      },
      "source": [
        "# **Logistic Regression**"
      ]
    },
    {
      "cell_type": "code",
      "metadata": {
        "id": "BUUEKtmnpPPq",
        "colab": {
          "base_uri": "https://localhost:8080/"
        },
        "outputId": "39bdc0ce-64d6-4a53-9a14-6dd8ff0abf7d"
      },
      "source": [
        "# Append classifier to preprocessing pipeline.\n",
        "# Now we have a full prediction pipeline.\n",
        "clf = Pipeline(steps=[('preprocessor', preprocessor),\n",
        "                      ('classifier', LogisticRegression())])\n",
        "X_train, X_test, y_train, y_test = train_test_split(X, y, test_size=0.33, random_state=42)\n",
        "clf.fit(X_train, y_train)\n",
        "print(\"model score: %.3f\" % clf.score(X_test, y_test))"
      ],
      "execution_count": 129,
      "outputs": [
        {
          "output_type": "stream",
          "text": [
            "model score: 0.675\n"
          ],
          "name": "stdout"
        }
      ]
    },
    {
      "cell_type": "code",
      "metadata": {
        "colab": {
          "base_uri": "https://localhost:8080/",
          "height": 522
        },
        "id": "ah-HvFxtusRY",
        "outputId": "47fdc90c-f295-4ea4-cb46-798cc27962ee"
      },
      "source": [
        "y_pred = clf.predict(X_test)\n",
        "\n",
        "print(confusion_matrix(y_test, y_pred, ))\n",
        "print(classification_report(y_test, y_pred,))\n",
        "print('training score....', accuracy_score(y_train, clf.predict(X_train)))\n",
        "print('test score....', accuracy_score(y_test, clf.predict(X_test)))\n",
        "print('AUC ROC, area under the curve...', roc_auc_score(y_test,clf.predict(X_test) ))\n",
        "\n",
        "\n",
        "plot_confusion_matrix(clf, X_test, y_test,normalize='all') \n",
        "plt.show()"
      ],
      "execution_count": 130,
      "outputs": [
        {
          "output_type": "stream",
          "text": [
            "[[251 192]\n",
            " [141 440]]\n",
            "              precision    recall  f1-score   support\n",
            "\n",
            "           0       0.64      0.57      0.60       443\n",
            "           1       0.70      0.76      0.73       581\n",
            "\n",
            "    accuracy                           0.67      1024\n",
            "   macro avg       0.67      0.66      0.66      1024\n",
            "weighted avg       0.67      0.67      0.67      1024\n",
            "\n",
            "training score.... 0.6713185755534168\n",
            "test score.... 0.6748046875\n",
            "AUC ROC, area under the curve... 0.6619531981521701\n"
          ],
          "name": "stdout"
        },
        {
          "output_type": "display_data",
          "data": {
            "image/png": "[encoded data removed]",
            "text/plain": [
              "<Figure size 432x288 with 2 Axes>"
            ]
          },
          "metadata": {
            "tags": [],
            "needs_background": "light"
          }
        }
      ]
    },
    {
      "cell_type": "markdown",
      "metadata": {
        "id": "mXHwePLXe22V"
      },
      "source": [
        "# **RandomForest Classifier**"
      ]
    },
    {
      "cell_type": "code",
      "metadata": {
        "colab": {
          "base_uri": "https://localhost:8080/",
          "height": 487
        },
        "id": "5UbkrYDD_ZYY",
        "outputId": "2d6200e6-1be6-4c24-ab50-5a3a73ed233f"
      },
      "source": [
        "# Append classifier to preprocessing pipeline.\n",
        "# Now we have a full prediction pipeline.\n",
        "rfc = Pipeline(steps=[('preprocessor', preprocessor),\n",
        "                      ('classifier', RandomForestClassifier(n_estimators=150, max_depth=32, random_state=42))])\n",
        "\n",
        "X_train, X_test, y_train, y_test = train_test_split(X, y, test_size=0.33, random_state=42)\n",
        "rfc.fit(X_train, y_train)\n",
        "y_pred_rfc = rfc.predict(X_test)\n",
        "\n",
        "print(classification_report(y_test, y_pred_rfc,))\n",
        "print('training score....', accuracy_score(y_train, rfc.predict(X_train)))\n",
        "print('test score....', accuracy_score(y_test, rfc.predict(X_test)))\n",
        "print('AUC ROC, area under the curve...', roc_auc_score(y_test,rfc.predict(X_test) ))\n",
        "\n",
        "\n",
        "plot_confusion_matrix(rfc, X_test, y_test,normalize='all') \n",
        "plt.show()"
      ],
      "execution_count": 131,
      "outputs": [
        {
          "output_type": "stream",
          "text": [
            "              precision    recall  f1-score   support\n",
            "\n",
            "           0       0.86      0.85      0.86       443\n",
            "           1       0.89      0.90      0.89       581\n",
            "\n",
            "    accuracy                           0.88      1024\n",
            "   macro avg       0.88      0.88      0.88      1024\n",
            "weighted avg       0.88      0.88      0.88      1024\n",
            "\n",
            "training score.... 1.0\n",
            "test score.... 0.8779296875\n",
            "AUC ROC, area under the curve... 0.8750014569726827\n"
          ],
          "name": "stdout"
        },
        {
          "output_type": "display_data",
          "data": {
            "image/png": "[encoded data removed]",
            "text/plain": [
              "<Figure size 432x288 with 2 Axes>"
            ]
          },
          "metadata": {
            "tags": [],
            "needs_background": "light"
          }
        }
      ]
    },
    {
      "cell_type": "markdown",
      "metadata": {
        "id": "sdGDpeTsfF5z"
      },
      "source": [
        "# **LightGBM Classifier**"
      ]
    },
    {
      "cell_type": "code",
      "metadata": {
        "colab": {
          "base_uri": "https://localhost:8080/",
          "height": 490
        },
        "id": "-D4HxtH_AHwX",
        "outputId": "d327c729-4f1f-403e-86a5-21d146efce20"
      },
      "source": [
        "# Append classifier to preprocessing pipeline.\n",
        "# Now we have a full prediction pipeline.\n",
        "\n",
        "lgbm = Pipeline(steps=[('preprocessor', preprocessor),\n",
        "                      ('classifier', LGBMClassifier(learning_rate= 0.3, max_depth=32,n_estimators=150, num_leaves=70, random_state=42))])\n",
        "\n",
        "X_train, X_test, y_train, y_test = train_test_split(X, y, test_size=0.33, random_state=42)\n",
        "\n",
        "lgbm.fit(X_train, y_train)\n",
        "y_pred_lgb = lgbm.predict(X_test)\n",
        "print(classification_report(y_test, y_pred_lgb,))\n",
        "print('training score....', accuracy_score(y_train, lgbm.predict(X_train)))\n",
        "print('test score....', accuracy_score(y_test, lgbm.predict(X_test)))\n",
        "\n",
        "print('AUC ROC, area under the curve...', roc_auc_score(y_test,lgbm.predict(X_test) ))\n",
        "\n",
        "plot_confusion_matrix(lgbm, X_test, y_test,normalize='all') \n",
        "plt.show()\n"
      ],
      "execution_count": 132,
      "outputs": [
        {
          "output_type": "stream",
          "text": [
            "              precision    recall  f1-score   support\n",
            "\n",
            "           0       0.85      0.87      0.86       443\n",
            "           1       0.90      0.89      0.89       581\n",
            "\n",
            "    accuracy                           0.88      1024\n",
            "   macro avg       0.88      0.88      0.88      1024\n",
            "weighted avg       0.88      0.88      0.88      1024\n",
            "\n",
            "training score.... 1.0\n",
            "test score.... 0.87890625\n",
            "AUC ROC, area under the curve... 0.8777386229859779\n"
          ],
          "name": "stdout"
        },
        {
          "output_type": "display_data",
          "data": {
            "image/png": "[encoded data removed]",
            "text/plain": [
              "<Figure size 432x288 with 2 Axes>"
            ]
          },
          "metadata": {
            "tags": [],
            "needs_background": "light"
          }
        }
      ]
    },
    {
      "cell_type": "markdown",
      "metadata": {
        "id": "wnk1aSlGrwB4"
      },
      "source": [
        "# Prediction for Test Dataset (Provided by DPhi)\n",
        "Predict if the customer would buy the car insurance or not on the test data provided by DPhi here.\n"
      ]
    },
    {
      "cell_type": "code",
      "metadata": {
        "id": "HofM00_osRut"
      },
      "source": [
        "# read test data .., provided\n",
        "test_data = pd.read_csv('gdrive/MyDrive/ai-ml-datasets/Test_data.csv')"
      ],
      "execution_count": 133,
      "outputs": []
    },
    {
      "cell_type": "code",
      "metadata": {
        "colab": {
          "base_uri": "https://localhost:8080/",
          "height": 222
        },
        "id": "JcGIHed3lhP3",
        "outputId": "aa993fa8-11b3-4e76-a0d8-ec9a13027d7f"
      },
      "source": [
        "test_data.head()"
      ],
      "execution_count": 134,
      "outputs": [
        {
          "output_type": "execute_result",
          "data": {
            "text/html": [
              "<div>\n",
              "<style scoped>\n",
              "    .dataframe tbody tr th:only-of-type {\n",
              "        vertical-align: middle;\n",
              "    }\n",
              "\n",
              "    .dataframe tbody tr th {\n",
              "        vertical-align: top;\n",
              "    }\n",
              "\n",
              "    .dataframe thead th {\n",
              "        text-align: right;\n",
              "    }\n",
              "</style>\n",
              "<table border=\"1\" class=\"dataframe\">\n",
              "  <thead>\n",
              "    <tr style=\"text-align: right;\">\n",
              "      <th></th>\n",
              "      <th>age</th>\n",
              "      <th>job_type</th>\n",
              "      <th>marital_status</th>\n",
              "      <th>education_level</th>\n",
              "      <th>default_or_not</th>\n",
              "      <th>balance_amt</th>\n",
              "      <th>household_insurance</th>\n",
              "      <th>car_loan</th>\n",
              "      <th>communication</th>\n",
              "      <th>last_contact_day</th>\n",
              "      <th>last_contact_month</th>\n",
              "      <th>no_of_contacts</th>\n",
              "      <th>days_passed</th>\n",
              "      <th>prev_attempts</th>\n",
              "      <th>Outcome</th>\n",
              "      <th>call_start</th>\n",
              "      <th>call_end</th>\n",
              "    </tr>\n",
              "  </thead>\n",
              "  <tbody>\n",
              "    <tr>\n",
              "      <th>0</th>\n",
              "      <td>65.000000</td>\n",
              "      <td>retired</td>\n",
              "      <td>married</td>\n",
              "      <td>secondary</td>\n",
              "      <td>0</td>\n",
              "      <td>20806.0</td>\n",
              "      <td>0</td>\n",
              "      <td>0</td>\n",
              "      <td>telephone</td>\n",
              "      <td>8</td>\n",
              "      <td>apr</td>\n",
              "      <td>2</td>\n",
              "      <td>-1</td>\n",
              "      <td>0</td>\n",
              "      <td>NaN</td>\n",
              "      <td>12:22:13</td>\n",
              "      <td>12:30:56</td>\n",
              "    </tr>\n",
              "    <tr>\n",
              "      <th>1</th>\n",
              "      <td>36.000000</td>\n",
              "      <td>management</td>\n",
              "      <td>married</td>\n",
              "      <td>tertiary</td>\n",
              "      <td>0</td>\n",
              "      <td>900.0</td>\n",
              "      <td>1</td>\n",
              "      <td>0</td>\n",
              "      <td>NaN</td>\n",
              "      <td>15</td>\n",
              "      <td>may</td>\n",
              "      <td>2</td>\n",
              "      <td>-1</td>\n",
              "      <td>0</td>\n",
              "      <td>NaN</td>\n",
              "      <td>17:59:45</td>\n",
              "      <td>18:07:40</td>\n",
              "    </tr>\n",
              "    <tr>\n",
              "      <th>2</th>\n",
              "      <td>37.000000</td>\n",
              "      <td>management</td>\n",
              "      <td>married</td>\n",
              "      <td>tertiary</td>\n",
              "      <td>0</td>\n",
              "      <td>6771.0</td>\n",
              "      <td>0</td>\n",
              "      <td>0</td>\n",
              "      <td>cellular</td>\n",
              "      <td>7</td>\n",
              "      <td>sep</td>\n",
              "      <td>1</td>\n",
              "      <td>186</td>\n",
              "      <td>1</td>\n",
              "      <td>success</td>\n",
              "      <td>14:05:19</td>\n",
              "      <td>14:10:56</td>\n",
              "    </tr>\n",
              "    <tr>\n",
              "      <th>3</th>\n",
              "      <td>30.065066</td>\n",
              "      <td>management</td>\n",
              "      <td>single</td>\n",
              "      <td>tertiary</td>\n",
              "      <td>0</td>\n",
              "      <td>0.0</td>\n",
              "      <td>0</td>\n",
              "      <td>0</td>\n",
              "      <td>cellular</td>\n",
              "      <td>14</td>\n",
              "      <td>may</td>\n",
              "      <td>2</td>\n",
              "      <td>-1</td>\n",
              "      <td>0</td>\n",
              "      <td>NaN</td>\n",
              "      <td>17:33:27</td>\n",
              "      <td>09:47:54</td>\n",
              "    </tr>\n",
              "    <tr>\n",
              "      <th>4</th>\n",
              "      <td>41.000000</td>\n",
              "      <td>management</td>\n",
              "      <td>married</td>\n",
              "      <td>tertiary</td>\n",
              "      <td>0</td>\n",
              "      <td>328.0</td>\n",
              "      <td>1</td>\n",
              "      <td>0</td>\n",
              "      <td>cellular</td>\n",
              "      <td>29</td>\n",
              "      <td>jul</td>\n",
              "      <td>12</td>\n",
              "      <td>-1</td>\n",
              "      <td>0</td>\n",
              "      <td>NaN</td>\n",
              "      <td>14:40:26</td>\n",
              "      <td>14:41:31</td>\n",
              "    </tr>\n",
              "  </tbody>\n",
              "</table>\n",
              "</div>"
            ],
            "text/plain": [
              "         age    job_type marital_status  ...  Outcome  call_start  call_end\n",
              "0  65.000000     retired        married  ...      NaN    12:22:13  12:30:56\n",
              "1  36.000000  management        married  ...      NaN    17:59:45  18:07:40\n",
              "2  37.000000  management        married  ...  success    14:05:19  14:10:56\n",
              "3  30.065066  management         single  ...      NaN    17:33:27  09:47:54\n",
              "4  41.000000  management        married  ...      NaN    14:40:26  14:41:31\n",
              "\n",
              "[5 rows x 17 columns]"
            ]
          },
          "metadata": {
            "tags": []
          },
          "execution_count": 134
        }
      ]
    },
    {
      "cell_type": "code",
      "metadata": {
        "id": "c5be7o4Io-Bf"
      },
      "source": [
        "### calculate call duration from start and end dates\n",
        "start_time = pd.to_datetime(test_data['call_start'].astype(str))\n",
        "end_time = pd.to_datetime(test_data['call_end'].astype(str))\n",
        "test_data['call_duration_mins']= end_time.sub(start_time).dt.total_seconds().div(60)\n",
        "\n",
        "\n",
        "# convert month names to month number \n",
        "test_data['last_contact_month']=test_data['last_contact_month'].str.capitalize()\n",
        "test_data['last_contact_month_num']=test_data['last_contact_month'].apply(lambda x:strptime( x,'%b').tm_mon)\n",
        "\n",
        "\n",
        "\n",
        "# drop columns\n",
        "test_data.drop(columns=['call_start','call_end','last_contact_month'], inplace=True)\n",
        "\n",
        "#classify categorical and numeric features\n",
        "numeric_features = test_data.select_dtypes(exclude=[object]).columns\n",
        "categorical_features = test_data.select_dtypes(include=[object]).columns"
      ],
      "execution_count": 135,
      "outputs": []
    },
    {
      "cell_type": "code",
      "metadata": {
        "id": "sYHv-D9Npa77"
      },
      "source": [
        "predictions = lgbm.predict(test_data)"
      ],
      "execution_count": 136,
      "outputs": []
    },
    {
      "cell_type": "markdown",
      "metadata": {
        "id": "qz-bZ_EDsTH0"
      },
      "source": [
        "# Saving Prediction File"
      ]
    },
    {
      "cell_type": "code",
      "metadata": {
        "id": "K7MYfhgIuk1I",
        "colab": {
          "base_uri": "https://localhost:8080/",
          "height": 17
        },
        "outputId": "631e3db3-45e0-4185-9100-be30c64ab00d"
      },
      "source": [
        "# create Dataframe of predicted value with index\n",
        "res = pd.DataFrame(predictions) \n",
        "res.index = test_data.index \n",
        "res.columns = [\"prediction\"]\n",
        "\n",
        "# To download the csv file locally\n",
        "from google.colab import files\n",
        "res.to_csv('car_insurance_prediction_results.csv')         \n",
        "files.download('car_insurance_prediction_results.csv')"
      ],
      "execution_count": 137,
      "outputs": [
        {
          "output_type": "display_data",
          "data": {
            "application/javascript": [
              "\n",
              "    async function download(id, filename, size) {\n",
              "      if (!google.colab.kernel.accessAllowed) {\n",
              "        return;\n",
              "      }\n",
              "      const div = document.createElement('div');\n",
              "      const label = document.createElement('label');\n",
              "      label.textContent = `Downloading \"${filename}\": `;\n",
              "      div.appendChild(label);\n",
              "      const progress = document.createElement('progress');\n",
              "      progress.max = size;\n",
              "      div.appendChild(progress);\n",
              "      document.body.appendChild(div);\n",
              "\n",
              "      const buffers = [];\n",
              "      let downloaded = 0;\n",
              "\n",
              "      const channel = await google.colab.kernel.comms.open(id);\n",
              "      // Send a message to notify the kernel that we're ready.\n",
              "      channel.send({})\n",
              "\n",
              "      for await (const message of channel.messages) {\n",
              "        // Send a message to notify the kernel that we're ready.\n",
              "        channel.send({})\n",
              "        if (message.buffers) {\n",
              "          for (const buffer of message.buffers) {\n",
              "            buffers.push(buffer);\n",
              "            downloaded += buffer.byteLength;\n",
              "            progress.value = downloaded;\n",
              "          }\n",
              "        }\n",
              "      }\n",
              "      const blob = new Blob(buffers, {type: 'application/binary'});\n",
              "      const a = document.createElement('a');\n",
              "      a.href = window.URL.createObjectURL(blob);\n",
              "      a.download = filename;\n",
              "      div.appendChild(a);\n",
              "      a.click();\n",
              "      div.remove();\n",
              "    }\n",
              "  "
            ],
            "text/plain": [
              "<IPython.core.display.Javascript object>"
            ]
          },
          "metadata": {
            "tags": []
          }
        },
        {
          "output_type": "display_data",
          "data": {
            "application/javascript": [
              "download(\"download_0f51d3af-5689-41bb-bc80-fe1fdae17782\", \"car_insurance_prediction_results.csv\", 5512)"
            ],
            "text/plain": [
              "<IPython.core.display.Javascript object>"
            ]
          },
          "metadata": {
            "tags": []
          }
        }
      ]
    }
  ]
}