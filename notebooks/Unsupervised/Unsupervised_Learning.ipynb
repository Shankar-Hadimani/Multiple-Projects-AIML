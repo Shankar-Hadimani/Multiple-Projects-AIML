{
  "nbformat": 4,
  "nbformat_minor": 0,
  "metadata": {
    "colab": {
      "name": "Unsupervised Learning.ipynb",
      "provenance": [],
      "authorship_tag": "ABX9TyPcKaceBPq65Lnf10+3Bx+5",
      "include_colab_link": true
    },
    "kernelspec": {
      "name": "python3",
      "display_name": "Python 3"
    },
    "language_info": {
      "name": "python"
    }
  },
  "cells": [
    {
      "cell_type": "markdown",
      "metadata": {
        "id": "view-in-github",
        "colab_type": "text"
      },
      "source": [
        "<a href=\"https://colab.research.google.com/github/Shankar-Hadimani/1000_test/blob/master/notebooks/Unsupervised/Unsupervised_Learning.ipynb\" target=\"_parent\"><img src=\"https://colab.research.google.com/assets/colab-badge.svg\" alt=\"Open In Colab\"/></a>"
      ]
    },
    {
      "cell_type": "code",
      "metadata": {
        "id": "zbPTq7YuWzsq"
      },
      "source": [
        "import pandas as pd\n",
        "import io\n",
        "import requests"
      ],
      "execution_count": 129,
      "outputs": []
    },
    {
      "cell_type": "markdown",
      "metadata": {
        "id": "Qcs6Mmv4XjB-"
      },
      "source": [
        "Load the data file into a dataframe object"
      ]
    },
    {
      "cell_type": "code",
      "metadata": {
        "colab": {
          "base_uri": "https://localhost:8080/",
          "height": 226
        },
        "id": "YCG8IkxtXHsm",
        "outputId": "6e90848e-35e6-4485-f5bc-9583c8ebef7a"
      },
      "source": [
        "url=\"https://archive.ics.uci.edu/ml/machine-learning-databases/00488/Live_20210128.csv\"\n",
        "s=requests.get(url).content\n",
        "df=pd.read_csv(io.StringIO(s.decode('utf-8')))\n",
        "df.head()"
      ],
      "execution_count": 130,
      "outputs": [
        {
          "output_type": "execute_result",
          "data": {
            "text/html": [
              "<div>\n",
              "<style scoped>\n",
              "    .dataframe tbody tr th:only-of-type {\n",
              "        vertical-align: middle;\n",
              "    }\n",
              "\n",
              "    .dataframe tbody tr th {\n",
              "        vertical-align: top;\n",
              "    }\n",
              "\n",
              "    .dataframe thead th {\n",
              "        text-align: right;\n",
              "    }\n",
              "</style>\n",
              "<table border=\"1\" class=\"dataframe\">\n",
              "  <thead>\n",
              "    <tr style=\"text-align: right;\">\n",
              "      <th></th>\n",
              "      <th>status_id</th>\n",
              "      <th>status_type</th>\n",
              "      <th>status_published</th>\n",
              "      <th>num_reactions</th>\n",
              "      <th>num_comments</th>\n",
              "      <th>num_shares</th>\n",
              "      <th>num_likes</th>\n",
              "      <th>num_loves</th>\n",
              "      <th>num_wows</th>\n",
              "      <th>num_hahas</th>\n",
              "      <th>num_sads</th>\n",
              "      <th>num_angrys</th>\n",
              "      <th>Column1</th>\n",
              "      <th>Column2</th>\n",
              "      <th>Column3</th>\n",
              "      <th>Column4</th>\n",
              "    </tr>\n",
              "  </thead>\n",
              "  <tbody>\n",
              "    <tr>\n",
              "      <th>0</th>\n",
              "      <td>1</td>\n",
              "      <td>video</td>\n",
              "      <td>4/22/2018 6:00</td>\n",
              "      <td>529</td>\n",
              "      <td>512</td>\n",
              "      <td>262</td>\n",
              "      <td>432</td>\n",
              "      <td>92</td>\n",
              "      <td>3</td>\n",
              "      <td>1</td>\n",
              "      <td>1</td>\n",
              "      <td>0</td>\n",
              "      <td>NaN</td>\n",
              "      <td>NaN</td>\n",
              "      <td>NaN</td>\n",
              "      <td>NaN</td>\n",
              "    </tr>\n",
              "    <tr>\n",
              "      <th>1</th>\n",
              "      <td>2</td>\n",
              "      <td>photo</td>\n",
              "      <td>4/21/2018 22:45</td>\n",
              "      <td>150</td>\n",
              "      <td>0</td>\n",
              "      <td>0</td>\n",
              "      <td>150</td>\n",
              "      <td>0</td>\n",
              "      <td>0</td>\n",
              "      <td>0</td>\n",
              "      <td>0</td>\n",
              "      <td>0</td>\n",
              "      <td>NaN</td>\n",
              "      <td>NaN</td>\n",
              "      <td>NaN</td>\n",
              "      <td>NaN</td>\n",
              "    </tr>\n",
              "    <tr>\n",
              "      <th>2</th>\n",
              "      <td>3</td>\n",
              "      <td>video</td>\n",
              "      <td>4/21/2018 6:17</td>\n",
              "      <td>227</td>\n",
              "      <td>236</td>\n",
              "      <td>57</td>\n",
              "      <td>204</td>\n",
              "      <td>21</td>\n",
              "      <td>1</td>\n",
              "      <td>1</td>\n",
              "      <td>0</td>\n",
              "      <td>0</td>\n",
              "      <td>NaN</td>\n",
              "      <td>NaN</td>\n",
              "      <td>NaN</td>\n",
              "      <td>NaN</td>\n",
              "    </tr>\n",
              "    <tr>\n",
              "      <th>3</th>\n",
              "      <td>4</td>\n",
              "      <td>photo</td>\n",
              "      <td>4/21/2018 2:29</td>\n",
              "      <td>111</td>\n",
              "      <td>0</td>\n",
              "      <td>0</td>\n",
              "      <td>111</td>\n",
              "      <td>0</td>\n",
              "      <td>0</td>\n",
              "      <td>0</td>\n",
              "      <td>0</td>\n",
              "      <td>0</td>\n",
              "      <td>NaN</td>\n",
              "      <td>NaN</td>\n",
              "      <td>NaN</td>\n",
              "      <td>NaN</td>\n",
              "    </tr>\n",
              "    <tr>\n",
              "      <th>4</th>\n",
              "      <td>5</td>\n",
              "      <td>photo</td>\n",
              "      <td>4/18/2018 3:22</td>\n",
              "      <td>213</td>\n",
              "      <td>0</td>\n",
              "      <td>0</td>\n",
              "      <td>204</td>\n",
              "      <td>9</td>\n",
              "      <td>0</td>\n",
              "      <td>0</td>\n",
              "      <td>0</td>\n",
              "      <td>0</td>\n",
              "      <td>NaN</td>\n",
              "      <td>NaN</td>\n",
              "      <td>NaN</td>\n",
              "      <td>NaN</td>\n",
              "    </tr>\n",
              "  </tbody>\n",
              "</table>\n",
              "</div>"
            ],
            "text/plain": [
              "   status_id status_type status_published  ...  Column2  Column3  Column4\n",
              "0          1       video   4/22/2018 6:00  ...      NaN      NaN      NaN\n",
              "1          2       photo  4/21/2018 22:45  ...      NaN      NaN      NaN\n",
              "2          3       video   4/21/2018 6:17  ...      NaN      NaN      NaN\n",
              "3          4       photo   4/21/2018 2:29  ...      NaN      NaN      NaN\n",
              "4          5       photo   4/18/2018 3:22  ...      NaN      NaN      NaN\n",
              "\n",
              "[5 rows x 16 columns]"
            ]
          },
          "metadata": {},
          "execution_count": 130
        }
      ]
    },
    {
      "cell_type": "markdown",
      "metadata": {
        "id": "eu4XIqEUXqa4"
      },
      "source": [
        "**Display the first 5 observation of the dataset**"
      ]
    },
    {
      "cell_type": "code",
      "metadata": {
        "colab": {
          "base_uri": "https://localhost:8080/",
          "height": 226
        },
        "id": "wFVKa-iHXLTk",
        "outputId": "dbbe7363-e756-428d-e295-4060a91f2a87"
      },
      "source": [
        "df.head(5)"
      ],
      "execution_count": 131,
      "outputs": [
        {
          "output_type": "execute_result",
          "data": {
            "text/html": [
              "<div>\n",
              "<style scoped>\n",
              "    .dataframe tbody tr th:only-of-type {\n",
              "        vertical-align: middle;\n",
              "    }\n",
              "\n",
              "    .dataframe tbody tr th {\n",
              "        vertical-align: top;\n",
              "    }\n",
              "\n",
              "    .dataframe thead th {\n",
              "        text-align: right;\n",
              "    }\n",
              "</style>\n",
              "<table border=\"1\" class=\"dataframe\">\n",
              "  <thead>\n",
              "    <tr style=\"text-align: right;\">\n",
              "      <th></th>\n",
              "      <th>status_id</th>\n",
              "      <th>status_type</th>\n",
              "      <th>status_published</th>\n",
              "      <th>num_reactions</th>\n",
              "      <th>num_comments</th>\n",
              "      <th>num_shares</th>\n",
              "      <th>num_likes</th>\n",
              "      <th>num_loves</th>\n",
              "      <th>num_wows</th>\n",
              "      <th>num_hahas</th>\n",
              "      <th>num_sads</th>\n",
              "      <th>num_angrys</th>\n",
              "      <th>Column1</th>\n",
              "      <th>Column2</th>\n",
              "      <th>Column3</th>\n",
              "      <th>Column4</th>\n",
              "    </tr>\n",
              "  </thead>\n",
              "  <tbody>\n",
              "    <tr>\n",
              "      <th>0</th>\n",
              "      <td>1</td>\n",
              "      <td>video</td>\n",
              "      <td>4/22/2018 6:00</td>\n",
              "      <td>529</td>\n",
              "      <td>512</td>\n",
              "      <td>262</td>\n",
              "      <td>432</td>\n",
              "      <td>92</td>\n",
              "      <td>3</td>\n",
              "      <td>1</td>\n",
              "      <td>1</td>\n",
              "      <td>0</td>\n",
              "      <td>NaN</td>\n",
              "      <td>NaN</td>\n",
              "      <td>NaN</td>\n",
              "      <td>NaN</td>\n",
              "    </tr>\n",
              "    <tr>\n",
              "      <th>1</th>\n",
              "      <td>2</td>\n",
              "      <td>photo</td>\n",
              "      <td>4/21/2018 22:45</td>\n",
              "      <td>150</td>\n",
              "      <td>0</td>\n",
              "      <td>0</td>\n",
              "      <td>150</td>\n",
              "      <td>0</td>\n",
              "      <td>0</td>\n",
              "      <td>0</td>\n",
              "      <td>0</td>\n",
              "      <td>0</td>\n",
              "      <td>NaN</td>\n",
              "      <td>NaN</td>\n",
              "      <td>NaN</td>\n",
              "      <td>NaN</td>\n",
              "    </tr>\n",
              "    <tr>\n",
              "      <th>2</th>\n",
              "      <td>3</td>\n",
              "      <td>video</td>\n",
              "      <td>4/21/2018 6:17</td>\n",
              "      <td>227</td>\n",
              "      <td>236</td>\n",
              "      <td>57</td>\n",
              "      <td>204</td>\n",
              "      <td>21</td>\n",
              "      <td>1</td>\n",
              "      <td>1</td>\n",
              "      <td>0</td>\n",
              "      <td>0</td>\n",
              "      <td>NaN</td>\n",
              "      <td>NaN</td>\n",
              "      <td>NaN</td>\n",
              "      <td>NaN</td>\n",
              "    </tr>\n",
              "    <tr>\n",
              "      <th>3</th>\n",
              "      <td>4</td>\n",
              "      <td>photo</td>\n",
              "      <td>4/21/2018 2:29</td>\n",
              "      <td>111</td>\n",
              "      <td>0</td>\n",
              "      <td>0</td>\n",
              "      <td>111</td>\n",
              "      <td>0</td>\n",
              "      <td>0</td>\n",
              "      <td>0</td>\n",
              "      <td>0</td>\n",
              "      <td>0</td>\n",
              "      <td>NaN</td>\n",
              "      <td>NaN</td>\n",
              "      <td>NaN</td>\n",
              "      <td>NaN</td>\n",
              "    </tr>\n",
              "    <tr>\n",
              "      <th>4</th>\n",
              "      <td>5</td>\n",
              "      <td>photo</td>\n",
              "      <td>4/18/2018 3:22</td>\n",
              "      <td>213</td>\n",
              "      <td>0</td>\n",
              "      <td>0</td>\n",
              "      <td>204</td>\n",
              "      <td>9</td>\n",
              "      <td>0</td>\n",
              "      <td>0</td>\n",
              "      <td>0</td>\n",
              "      <td>0</td>\n",
              "      <td>NaN</td>\n",
              "      <td>NaN</td>\n",
              "      <td>NaN</td>\n",
              "      <td>NaN</td>\n",
              "    </tr>\n",
              "  </tbody>\n",
              "</table>\n",
              "</div>"
            ],
            "text/plain": [
              "   status_id status_type status_published  ...  Column2  Column3  Column4\n",
              "0          1       video   4/22/2018 6:00  ...      NaN      NaN      NaN\n",
              "1          2       photo  4/21/2018 22:45  ...      NaN      NaN      NaN\n",
              "2          3       video   4/21/2018 6:17  ...      NaN      NaN      NaN\n",
              "3          4       photo   4/21/2018 2:29  ...      NaN      NaN      NaN\n",
              "4          5       photo   4/18/2018 3:22  ...      NaN      NaN      NaN\n",
              "\n",
              "[5 rows x 16 columns]"
            ]
          },
          "metadata": {},
          "execution_count": 131
        }
      ]
    },
    {
      "cell_type": "markdown",
      "metadata": {
        "id": "Flyx2jOTXyng"
      },
      "source": [
        "**Display a concise summary**"
      ]
    },
    {
      "cell_type": "code",
      "metadata": {
        "colab": {
          "base_uri": "https://localhost:8080/"
        },
        "id": "v1YapqXkXtbY",
        "outputId": "23f8be00-70c5-4965-c76c-25ef142461c2"
      },
      "source": [
        "df.info()"
      ],
      "execution_count": 132,
      "outputs": [
        {
          "output_type": "stream",
          "name": "stdout",
          "text": [
            "<class 'pandas.core.frame.DataFrame'>\n",
            "RangeIndex: 7050 entries, 0 to 7049\n",
            "Data columns (total 16 columns):\n",
            " #   Column            Non-Null Count  Dtype  \n",
            "---  ------            --------------  -----  \n",
            " 0   status_id         7050 non-null   int64  \n",
            " 1   status_type       7050 non-null   object \n",
            " 2   status_published  7050 non-null   object \n",
            " 3   num_reactions     7050 non-null   int64  \n",
            " 4   num_comments      7050 non-null   int64  \n",
            " 5   num_shares        7050 non-null   int64  \n",
            " 6   num_likes         7050 non-null   int64  \n",
            " 7   num_loves         7050 non-null   int64  \n",
            " 8   num_wows          7050 non-null   int64  \n",
            " 9   num_hahas         7050 non-null   int64  \n",
            " 10  num_sads          7050 non-null   int64  \n",
            " 11  num_angrys        7050 non-null   int64  \n",
            " 12  Column1           0 non-null      float64\n",
            " 13  Column2           0 non-null      float64\n",
            " 14  Column3           0 non-null      float64\n",
            " 15  Column4           0 non-null      float64\n",
            "dtypes: float64(4), int64(10), object(2)\n",
            "memory usage: 881.4+ KB\n"
          ]
        }
      ]
    },
    {
      "cell_type": "markdown",
      "metadata": {
        "id": "1OQqnbmjd6Sk"
      },
      "source": [
        "**Exploitory Data Analysis**"
      ]
    },
    {
      "cell_type": "code",
      "metadata": {
        "colab": {
          "base_uri": "https://localhost:8080/",
          "height": 320
        },
        "id": "T7OGuWkqYBwR",
        "outputId": "fdb98f78-1799-4fc8-94c7-7408613ebcb7"
      },
      "source": [
        "df.describe()"
      ],
      "execution_count": 133,
      "outputs": [
        {
          "output_type": "execute_result",
          "data": {
            "text/html": [
              "<div>\n",
              "<style scoped>\n",
              "    .dataframe tbody tr th:only-of-type {\n",
              "        vertical-align: middle;\n",
              "    }\n",
              "\n",
              "    .dataframe tbody tr th {\n",
              "        vertical-align: top;\n",
              "    }\n",
              "\n",
              "    .dataframe thead th {\n",
              "        text-align: right;\n",
              "    }\n",
              "</style>\n",
              "<table border=\"1\" class=\"dataframe\">\n",
              "  <thead>\n",
              "    <tr style=\"text-align: right;\">\n",
              "      <th></th>\n",
              "      <th>status_id</th>\n",
              "      <th>num_reactions</th>\n",
              "      <th>num_comments</th>\n",
              "      <th>num_shares</th>\n",
              "      <th>num_likes</th>\n",
              "      <th>num_loves</th>\n",
              "      <th>num_wows</th>\n",
              "      <th>num_hahas</th>\n",
              "      <th>num_sads</th>\n",
              "      <th>num_angrys</th>\n",
              "      <th>Column1</th>\n",
              "      <th>Column2</th>\n",
              "      <th>Column3</th>\n",
              "      <th>Column4</th>\n",
              "    </tr>\n",
              "  </thead>\n",
              "  <tbody>\n",
              "    <tr>\n",
              "      <th>count</th>\n",
              "      <td>7050.000000</td>\n",
              "      <td>7050.000000</td>\n",
              "      <td>7050.000000</td>\n",
              "      <td>7050.000000</td>\n",
              "      <td>7050.000000</td>\n",
              "      <td>7050.000000</td>\n",
              "      <td>7050.000000</td>\n",
              "      <td>7050.000000</td>\n",
              "      <td>7050.000000</td>\n",
              "      <td>7050.000000</td>\n",
              "      <td>0.0</td>\n",
              "      <td>0.0</td>\n",
              "      <td>0.0</td>\n",
              "      <td>0.0</td>\n",
              "    </tr>\n",
              "    <tr>\n",
              "      <th>mean</th>\n",
              "      <td>3525.500000</td>\n",
              "      <td>230.117163</td>\n",
              "      <td>224.356028</td>\n",
              "      <td>40.022553</td>\n",
              "      <td>215.043121</td>\n",
              "      <td>12.728652</td>\n",
              "      <td>1.289362</td>\n",
              "      <td>0.696454</td>\n",
              "      <td>0.243688</td>\n",
              "      <td>0.113191</td>\n",
              "      <td>NaN</td>\n",
              "      <td>NaN</td>\n",
              "      <td>NaN</td>\n",
              "      <td>NaN</td>\n",
              "    </tr>\n",
              "    <tr>\n",
              "      <th>std</th>\n",
              "      <td>2035.304031</td>\n",
              "      <td>462.625309</td>\n",
              "      <td>889.636820</td>\n",
              "      <td>131.599965</td>\n",
              "      <td>449.472357</td>\n",
              "      <td>39.972930</td>\n",
              "      <td>8.719650</td>\n",
              "      <td>3.957183</td>\n",
              "      <td>1.597156</td>\n",
              "      <td>0.726812</td>\n",
              "      <td>NaN</td>\n",
              "      <td>NaN</td>\n",
              "      <td>NaN</td>\n",
              "      <td>NaN</td>\n",
              "    </tr>\n",
              "    <tr>\n",
              "      <th>min</th>\n",
              "      <td>1.000000</td>\n",
              "      <td>0.000000</td>\n",
              "      <td>0.000000</td>\n",
              "      <td>0.000000</td>\n",
              "      <td>0.000000</td>\n",
              "      <td>0.000000</td>\n",
              "      <td>0.000000</td>\n",
              "      <td>0.000000</td>\n",
              "      <td>0.000000</td>\n",
              "      <td>0.000000</td>\n",
              "      <td>NaN</td>\n",
              "      <td>NaN</td>\n",
              "      <td>NaN</td>\n",
              "      <td>NaN</td>\n",
              "    </tr>\n",
              "    <tr>\n",
              "      <th>25%</th>\n",
              "      <td>1763.250000</td>\n",
              "      <td>17.000000</td>\n",
              "      <td>0.000000</td>\n",
              "      <td>0.000000</td>\n",
              "      <td>17.000000</td>\n",
              "      <td>0.000000</td>\n",
              "      <td>0.000000</td>\n",
              "      <td>0.000000</td>\n",
              "      <td>0.000000</td>\n",
              "      <td>0.000000</td>\n",
              "      <td>NaN</td>\n",
              "      <td>NaN</td>\n",
              "      <td>NaN</td>\n",
              "      <td>NaN</td>\n",
              "    </tr>\n",
              "    <tr>\n",
              "      <th>50%</th>\n",
              "      <td>3525.500000</td>\n",
              "      <td>59.500000</td>\n",
              "      <td>4.000000</td>\n",
              "      <td>0.000000</td>\n",
              "      <td>58.000000</td>\n",
              "      <td>0.000000</td>\n",
              "      <td>0.000000</td>\n",
              "      <td>0.000000</td>\n",
              "      <td>0.000000</td>\n",
              "      <td>0.000000</td>\n",
              "      <td>NaN</td>\n",
              "      <td>NaN</td>\n",
              "      <td>NaN</td>\n",
              "      <td>NaN</td>\n",
              "    </tr>\n",
              "    <tr>\n",
              "      <th>75%</th>\n",
              "      <td>5287.750000</td>\n",
              "      <td>219.000000</td>\n",
              "      <td>23.000000</td>\n",
              "      <td>4.000000</td>\n",
              "      <td>184.750000</td>\n",
              "      <td>3.000000</td>\n",
              "      <td>0.000000</td>\n",
              "      <td>0.000000</td>\n",
              "      <td>0.000000</td>\n",
              "      <td>0.000000</td>\n",
              "      <td>NaN</td>\n",
              "      <td>NaN</td>\n",
              "      <td>NaN</td>\n",
              "      <td>NaN</td>\n",
              "    </tr>\n",
              "    <tr>\n",
              "      <th>max</th>\n",
              "      <td>7050.000000</td>\n",
              "      <td>4710.000000</td>\n",
              "      <td>20990.000000</td>\n",
              "      <td>3424.000000</td>\n",
              "      <td>4710.000000</td>\n",
              "      <td>657.000000</td>\n",
              "      <td>278.000000</td>\n",
              "      <td>157.000000</td>\n",
              "      <td>51.000000</td>\n",
              "      <td>31.000000</td>\n",
              "      <td>NaN</td>\n",
              "      <td>NaN</td>\n",
              "      <td>NaN</td>\n",
              "      <td>NaN</td>\n",
              "    </tr>\n",
              "  </tbody>\n",
              "</table>\n",
              "</div>"
            ],
            "text/plain": [
              "         status_id  num_reactions  num_comments  ...  Column2  Column3  Column4\n",
              "count  7050.000000    7050.000000   7050.000000  ...      0.0      0.0      0.0\n",
              "mean   3525.500000     230.117163    224.356028  ...      NaN      NaN      NaN\n",
              "std    2035.304031     462.625309    889.636820  ...      NaN      NaN      NaN\n",
              "min       1.000000       0.000000      0.000000  ...      NaN      NaN      NaN\n",
              "25%    1763.250000      17.000000      0.000000  ...      NaN      NaN      NaN\n",
              "50%    3525.500000      59.500000      4.000000  ...      NaN      NaN      NaN\n",
              "75%    5287.750000     219.000000     23.000000  ...      NaN      NaN      NaN\n",
              "max    7050.000000    4710.000000  20990.000000  ...      NaN      NaN      NaN\n",
              "\n",
              "[8 rows x 14 columns]"
            ]
          },
          "metadata": {},
          "execution_count": 133
        }
      ]
    },
    {
      "cell_type": "code",
      "metadata": {
        "colab": {
          "base_uri": "https://localhost:8080/"
        },
        "id": "am8adly4YLXg",
        "outputId": "14ddd473-9439-4841-bbc5-2cc5bbc59a52"
      },
      "source": [
        "print('{0} Total number of observation in dataframe.'.format( df.count()))\n",
        "print('{0} #of nulls in column {1}.'.format( df['Column1'].isnull().sum(), 'column1'))\n",
        "print('{0} #of nulls in column {1}.'.format( df['Column2'].isnull().sum(), 'column2'))\n",
        "print('{0} #of nulls in column {1}.'.format( df['Column3'].isnull().sum(), 'column3'))"
      ],
      "execution_count": 134,
      "outputs": [
        {
          "output_type": "stream",
          "name": "stdout",
          "text": [
            "status_id           7050\n",
            "status_type         7050\n",
            "status_published    7050\n",
            "num_reactions       7050\n",
            "num_comments        7050\n",
            "num_shares          7050\n",
            "num_likes           7050\n",
            "num_loves           7050\n",
            "num_wows            7050\n",
            "num_hahas           7050\n",
            "num_sads            7050\n",
            "num_angrys          7050\n",
            "Column1                0\n",
            "Column2                0\n",
            "Column3                0\n",
            "Column4                0\n",
            "dtype: int64 Total number of observation in dataframe.\n",
            "7050 #of nulls in column column1.\n",
            "7050 #of nulls in column column2.\n",
            "7050 #of nulls in column column3.\n"
          ]
        }
      ]
    },
    {
      "cell_type": "code",
      "metadata": {
        "colab": {
          "base_uri": "https://localhost:8080/"
        },
        "id": "GK6lDyWP1gpc",
        "outputId": "b86e1626-0b5c-4fe5-d04b-946b4b12d312"
      },
      "source": [
        "df.isnull().values.any()"
      ],
      "execution_count": 135,
      "outputs": [
        {
          "output_type": "execute_result",
          "data": {
            "text/plain": [
              "True"
            ]
          },
          "metadata": {},
          "execution_count": 135
        }
      ]
    },
    {
      "cell_type": "code",
      "metadata": {
        "colab": {
          "base_uri": "https://localhost:8080/"
        },
        "id": "0RTrw-Vy1jzi",
        "outputId": "e1cb6039-0d35-4d13-a9ee-46f707c3e70f"
      },
      "source": [
        "df.isnull().any()"
      ],
      "execution_count": 136,
      "outputs": [
        {
          "output_type": "execute_result",
          "data": {
            "text/plain": [
              "status_id           False\n",
              "status_type         False\n",
              "status_published    False\n",
              "num_reactions       False\n",
              "num_comments        False\n",
              "num_shares          False\n",
              "num_likes           False\n",
              "num_loves           False\n",
              "num_wows            False\n",
              "num_hahas           False\n",
              "num_sads            False\n",
              "num_angrys          False\n",
              "Column1              True\n",
              "Column2              True\n",
              "Column3              True\n",
              "Column4              True\n",
              "dtype: bool"
            ]
          },
          "metadata": {},
          "execution_count": 136
        }
      ]
    },
    {
      "cell_type": "code",
      "metadata": {
        "colab": {
          "base_uri": "https://localhost:8080/"
        },
        "id": "ldCmf2CJYXnT",
        "outputId": "34a22fd2-3a5a-4390-a2e8-0e9864b356e6"
      },
      "source": [
        "# drop missing value columns\n",
        "print('columns before: ', df.columns)\n",
        "df.drop(['Column1', 'Column2', 'Column3','Column4','status_id'], axis=1, inplace=True)\n",
        "\n",
        "print('number of columns, after: ', df.columns)"
      ],
      "execution_count": 137,
      "outputs": [
        {
          "output_type": "stream",
          "name": "stdout",
          "text": [
            "columns before:  Index(['status_id', 'status_type', 'status_published', 'num_reactions',\n",
            "       'num_comments', 'num_shares', 'num_likes', 'num_loves', 'num_wows',\n",
            "       'num_hahas', 'num_sads', 'num_angrys', 'Column1', 'Column2', 'Column3',\n",
            "       'Column4'],\n",
            "      dtype='object')\n",
            "number of columns, after:  Index(['status_type', 'status_published', 'num_reactions', 'num_comments',\n",
            "       'num_shares', 'num_likes', 'num_loves', 'num_wows', 'num_hahas',\n",
            "       'num_sads', 'num_angrys'],\n",
            "      dtype='object')\n"
          ]
        }
      ]
    },
    {
      "cell_type": "markdown",
      "metadata": {
        "id": "vZO8U4q51ztv"
      },
      "source": [
        "Display all the unique status_type"
      ]
    },
    {
      "cell_type": "code",
      "metadata": {
        "colab": {
          "base_uri": "https://localhost:8080/"
        },
        "id": "VEznQjer1x8w",
        "outputId": "e17b6d22-9671-4eef-907b-42722c89f36f"
      },
      "source": [
        "df.nunique()"
      ],
      "execution_count": 138,
      "outputs": [
        {
          "output_type": "execute_result",
          "data": {
            "text/plain": [
              "status_type            4\n",
              "status_published    6913\n",
              "num_reactions       1067\n",
              "num_comments         993\n",
              "num_shares           501\n",
              "num_likes           1044\n",
              "num_loves            229\n",
              "num_wows              65\n",
              "num_hahas             42\n",
              "num_sads              24\n",
              "num_angrys            14\n",
              "dtype: int64"
            ]
          },
          "metadata": {},
          "execution_count": 138
        }
      ]
    },
    {
      "cell_type": "code",
      "metadata": {
        "colab": {
          "base_uri": "https://localhost:8080/"
        },
        "id": "5UiVun2g1-1V",
        "outputId": "3073f562-ed3c-41bb-afbe-39d120e8006b"
      },
      "source": [
        "df['status_type'].unique()"
      ],
      "execution_count": 139,
      "outputs": [
        {
          "output_type": "execute_result",
          "data": {
            "text/plain": [
              "array(['video', 'photo', 'link', 'status'], dtype=object)"
            ]
          },
          "metadata": {},
          "execution_count": 139
        }
      ]
    },
    {
      "cell_type": "code",
      "metadata": {
        "colab": {
          "base_uri": "https://localhost:8080/",
          "height": 365
        },
        "id": "dRNbNvFR4Nl-",
        "outputId": "c132db8e-0dec-4a28-de16-a0d0b2d77807"
      },
      "source": [
        "import matplotlib.pyplot as plt\n",
        "\n",
        "plt.figure(figsize=(8,5))\n",
        "df.groupby('status_type')['num_reactions'].max().plot(kind='bar')\n",
        "plt.legend()\n",
        "plt.title('reactions')\n",
        "plt.show()"
      ],
      "execution_count": 140,
      "outputs": [
        {
          "output_type": "display_data",
          "data": {
            "image/png": "[encoded data removed]",
            "text/plain": [
              "<Figure size 576x360 with 1 Axes>"
            ]
          },
          "metadata": {
            "needs_background": "light"
          }
        }
      ]
    },
    {
      "cell_type": "code",
      "metadata": {
        "colab": {
          "base_uri": "https://localhost:8080/"
        },
        "id": "nSNkX0u6eXwf",
        "outputId": "2b5fbdc9-0266-45a6-d975-ebb0c04a1f2c"
      },
      "source": [
        "# convert object types\n",
        "#Label Encoding for object to numeric conversion\n",
        "from sklearn.preprocessing import LabelEncoder\n",
        "le = LabelEncoder()\n",
        "\n",
        "df['status_type'] = le.fit_transform(df['status_type'].astype(str))\n",
        "print (df.info())"
      ],
      "execution_count": 141,
      "outputs": [
        {
          "output_type": "stream",
          "name": "stdout",
          "text": [
            "<class 'pandas.core.frame.DataFrame'>\n",
            "RangeIndex: 7050 entries, 0 to 7049\n",
            "Data columns (total 11 columns):\n",
            " #   Column            Non-Null Count  Dtype \n",
            "---  ------            --------------  ----- \n",
            " 0   status_type       7050 non-null   int64 \n",
            " 1   status_published  7050 non-null   object\n",
            " 2   num_reactions     7050 non-null   int64 \n",
            " 3   num_comments      7050 non-null   int64 \n",
            " 4   num_shares        7050 non-null   int64 \n",
            " 5   num_likes         7050 non-null   int64 \n",
            " 6   num_loves         7050 non-null   int64 \n",
            " 7   num_wows          7050 non-null   int64 \n",
            " 8   num_hahas         7050 non-null   int64 \n",
            " 9   num_sads          7050 non-null   int64 \n",
            " 10  num_angrys        7050 non-null   int64 \n",
            "dtypes: int64(10), object(1)\n",
            "memory usage: 606.0+ KB\n",
            "None\n"
          ]
        }
      ]
    },
    {
      "cell_type": "code",
      "metadata": {
        "colab": {
          "base_uri": "https://localhost:8080/"
        },
        "id": "ZhoYxVS_2Kqh",
        "outputId": "97f50e6a-302f-49b0-c3be-a1748868e274"
      },
      "source": [
        "df['status_type'].unique()"
      ],
      "execution_count": 142,
      "outputs": [
        {
          "output_type": "execute_result",
          "data": {
            "text/plain": [
              "array([3, 1, 0, 2])"
            ]
          },
          "metadata": {},
          "execution_count": 142
        }
      ]
    },
    {
      "cell_type": "code",
      "metadata": {
        "colab": {
          "base_uri": "https://localhost:8080/",
          "height": 226
        },
        "id": "_SvOLL7fmxih",
        "outputId": "dd17be0c-172e-40dd-b0b6-ac0a769117ea"
      },
      "source": [
        "#  convert date feature onto integer\n",
        "df['status_published'] = pd.to_datetime(df['status_published'], format=\"%m/%d/%Y %H:%M\")\n",
        "df['status_published'] = pd.to_datetime(df['status_published']).astype(int) / 10 ** 9\n",
        "\n",
        "df.head()"
      ],
      "execution_count": 143,
      "outputs": [
        {
          "output_type": "execute_result",
          "data": {
            "text/html": [
              "<div>\n",
              "<style scoped>\n",
              "    .dataframe tbody tr th:only-of-type {\n",
              "        vertical-align: middle;\n",
              "    }\n",
              "\n",
              "    .dataframe tbody tr th {\n",
              "        vertical-align: top;\n",
              "    }\n",
              "\n",
              "    .dataframe thead th {\n",
              "        text-align: right;\n",
              "    }\n",
              "</style>\n",
              "<table border=\"1\" class=\"dataframe\">\n",
              "  <thead>\n",
              "    <tr style=\"text-align: right;\">\n",
              "      <th></th>\n",
              "      <th>status_type</th>\n",
              "      <th>status_published</th>\n",
              "      <th>num_reactions</th>\n",
              "      <th>num_comments</th>\n",
              "      <th>num_shares</th>\n",
              "      <th>num_likes</th>\n",
              "      <th>num_loves</th>\n",
              "      <th>num_wows</th>\n",
              "      <th>num_hahas</th>\n",
              "      <th>num_sads</th>\n",
              "      <th>num_angrys</th>\n",
              "    </tr>\n",
              "  </thead>\n",
              "  <tbody>\n",
              "    <tr>\n",
              "      <th>0</th>\n",
              "      <td>3</td>\n",
              "      <td>1.524377e+09</td>\n",
              "      <td>529</td>\n",
              "      <td>512</td>\n",
              "      <td>262</td>\n",
              "      <td>432</td>\n",
              "      <td>92</td>\n",
              "      <td>3</td>\n",
              "      <td>1</td>\n",
              "      <td>1</td>\n",
              "      <td>0</td>\n",
              "    </tr>\n",
              "    <tr>\n",
              "      <th>1</th>\n",
              "      <td>1</td>\n",
              "      <td>1.524351e+09</td>\n",
              "      <td>150</td>\n",
              "      <td>0</td>\n",
              "      <td>0</td>\n",
              "      <td>150</td>\n",
              "      <td>0</td>\n",
              "      <td>0</td>\n",
              "      <td>0</td>\n",
              "      <td>0</td>\n",
              "      <td>0</td>\n",
              "    </tr>\n",
              "    <tr>\n",
              "      <th>2</th>\n",
              "      <td>3</td>\n",
              "      <td>1.524291e+09</td>\n",
              "      <td>227</td>\n",
              "      <td>236</td>\n",
              "      <td>57</td>\n",
              "      <td>204</td>\n",
              "      <td>21</td>\n",
              "      <td>1</td>\n",
              "      <td>1</td>\n",
              "      <td>0</td>\n",
              "      <td>0</td>\n",
              "    </tr>\n",
              "    <tr>\n",
              "      <th>3</th>\n",
              "      <td>1</td>\n",
              "      <td>1.524278e+09</td>\n",
              "      <td>111</td>\n",
              "      <td>0</td>\n",
              "      <td>0</td>\n",
              "      <td>111</td>\n",
              "      <td>0</td>\n",
              "      <td>0</td>\n",
              "      <td>0</td>\n",
              "      <td>0</td>\n",
              "      <td>0</td>\n",
              "    </tr>\n",
              "    <tr>\n",
              "      <th>4</th>\n",
              "      <td>1</td>\n",
              "      <td>1.524022e+09</td>\n",
              "      <td>213</td>\n",
              "      <td>0</td>\n",
              "      <td>0</td>\n",
              "      <td>204</td>\n",
              "      <td>9</td>\n",
              "      <td>0</td>\n",
              "      <td>0</td>\n",
              "      <td>0</td>\n",
              "      <td>0</td>\n",
              "    </tr>\n",
              "  </tbody>\n",
              "</table>\n",
              "</div>"
            ],
            "text/plain": [
              "   status_type  status_published  ...  num_sads  num_angrys\n",
              "0            3      1.524377e+09  ...         1           0\n",
              "1            1      1.524351e+09  ...         0           0\n",
              "2            3      1.524291e+09  ...         0           0\n",
              "3            1      1.524278e+09  ...         0           0\n",
              "4            1      1.524022e+09  ...         0           0\n",
              "\n",
              "[5 rows x 11 columns]"
            ]
          },
          "metadata": {},
          "execution_count": 143
        }
      ]
    },
    {
      "cell_type": "code",
      "metadata": {
        "colab": {
          "base_uri": "https://localhost:8080/"
        },
        "id": "0bkHg2IFqt1q",
        "outputId": "b43e2314-e0c0-4172-9cb9-b37497a2b917"
      },
      "source": [
        "df.info()"
      ],
      "execution_count": 144,
      "outputs": [
        {
          "output_type": "stream",
          "name": "stdout",
          "text": [
            "<class 'pandas.core.frame.DataFrame'>\n",
            "RangeIndex: 7050 entries, 0 to 7049\n",
            "Data columns (total 11 columns):\n",
            " #   Column            Non-Null Count  Dtype  \n",
            "---  ------            --------------  -----  \n",
            " 0   status_type       7050 non-null   int64  \n",
            " 1   status_published  7050 non-null   float64\n",
            " 2   num_reactions     7050 non-null   int64  \n",
            " 3   num_comments      7050 non-null   int64  \n",
            " 4   num_shares        7050 non-null   int64  \n",
            " 5   num_likes         7050 non-null   int64  \n",
            " 6   num_loves         7050 non-null   int64  \n",
            " 7   num_wows          7050 non-null   int64  \n",
            " 8   num_hahas         7050 non-null   int64  \n",
            " 9   num_sads          7050 non-null   int64  \n",
            " 10  num_angrys        7050 non-null   int64  \n",
            "dtypes: float64(1), int64(10)\n",
            "memory usage: 606.0 KB\n"
          ]
        }
      ]
    },
    {
      "cell_type": "code",
      "metadata": {
        "id": "ZmuomDPl5Nki"
      },
      "source": [
        "# normalize and scale\n",
        "from sklearn.preprocessing import MinMaxScaler\n",
        "scaler = MinMaxScaler()\n",
        "\n",
        "scaled_data = scaler.fit_transform(df)"
      ],
      "execution_count": 145,
      "outputs": []
    },
    {
      "cell_type": "code",
      "metadata": {
        "colab": {
          "base_uri": "https://localhost:8080/"
        },
        "id": "XZ3gkqvr2gVj",
        "outputId": "69c667a9-122c-417c-907d-3b9249f08442"
      },
      "source": [
        "scaled_data[0:5]"
      ],
      "execution_count": 146,
      "outputs": [
        {
          "output_type": "execute_result",
          "data": {
            "text/plain": [
              "array([[1.        , 0.97600665, 0.11231423, 0.02439257, 0.07651869,\n",
              "        0.09171975, 0.14003044, 0.01079137, 0.00636943, 0.01960784,\n",
              "        0.        ],\n",
              "       [0.33333333, 0.97586672, 0.03184713, 0.        , 0.        ,\n",
              "        0.03184713, 0.        , 0.        , 0.        , 0.        ,\n",
              "        0.        ],\n",
              "       [1.        , 0.97554892, 0.04819533, 0.01124345, 0.0166472 ,\n",
              "        0.0433121 , 0.03196347, 0.00359712, 0.00636943, 0.        ,\n",
              "        0.        ],\n",
              "       [0.33333333, 0.97547558, 0.02356688, 0.        , 0.        ,\n",
              "        0.02356688, 0.        , 0.        , 0.        , 0.        ,\n",
              "        0.        ],\n",
              "       [0.33333333, 0.97410306, 0.04522293, 0.        , 0.        ,\n",
              "        0.0433121 , 0.01369863, 0.        , 0.        , 0.        ,\n",
              "        0.        ]])"
            ]
          },
          "metadata": {},
          "execution_count": 146
        }
      ]
    },
    {
      "cell_type": "markdown",
      "metadata": {
        "id": "14f6-NyDYXPg"
      },
      "source": [
        "**Baseline Model**"
      ]
    },
    {
      "cell_type": "markdown",
      "metadata": {
        "id": "DMSZqFxS5op4"
      },
      "source": [
        "**Elbow method to determine the number of cluster**"
      ]
    },
    {
      "cell_type": "code",
      "metadata": {
        "id": "sYWrFRyV5gj_"
      },
      "source": [
        "from sklearn.cluster import KMeans\n",
        "\n",
        "sse = []\n",
        "k_range = range(1,11)\n",
        "for k in k_range:\n",
        "  km = KMeans(n_clusters=k, n_init=10, init='k-means++', max_iter=100, random_state=42)\n",
        "  km.fit(scaled_data)\n",
        "  sse.append(km.inertia_)\n"
      ],
      "execution_count": 147,
      "outputs": []
    },
    {
      "cell_type": "code",
      "metadata": {
        "colab": {
          "base_uri": "https://localhost:8080/",
          "height": 367
        },
        "id": "yymC771gYI7N",
        "outputId": "a2e25c85-b497-4280-fae4-57e935a72e90"
      },
      "source": [
        "plt.figure(figsize=(8,5))\n",
        "plt.title('SSE vs K')\n",
        "plt.plot(k_range, sse, 'bx-')\n",
        "plt.xlabel('Sum Of Squared Errors')\n",
        "plt.ylabel('num of clusters (K)')\n"
      ],
      "execution_count": 148,
      "outputs": [
        {
          "output_type": "execute_result",
          "data": {
            "text/plain": [
              "Text(0, 0.5, 'num of clusters (K)')"
            ]
          },
          "metadata": {},
          "execution_count": 148
        },
        {
          "output_type": "display_data",
          "data": {
            "image/png": "[encoded data removed]",
            "text/plain": [
              "<Figure size 576x360 with 1 Axes>"
            ]
          },
          "metadata": {
            "needs_background": "light"
          }
        }
      ]
    },
    {
      "cell_type": "code",
      "metadata": {
        "colab": {
          "base_uri": "https://localhost:8080/",
          "height": 312
        },
        "id": "ebt3NW8f12MW",
        "outputId": "51e3b904-48bb-41a6-896c-3e398057d8ff"
      },
      "source": [
        "from yellowbrick.cluster import KElbowVisualizer\n",
        "\n",
        "visualizer = KElbowVisualizer(km, k=k_range)\n",
        " \n",
        "visualizer.fit(scaled_data)        # Fit the data to the visualizer\n",
        "visualizer.show()        # Finalize and render the figure"
      ],
      "execution_count": 149,
      "outputs": [
        {
          "output_type": "display_data",
          "data": {
            "image/png": "[encoded data removed]",
            "text/plain": [
              "<Figure size 432x288 with 2 Axes>"
            ]
          },
          "metadata": {}
        },
        {
          "output_type": "execute_result",
          "data": {
            "text/plain": [
              "<matplotlib.axes._subplots.AxesSubplot at 0x7f1020d06890>"
            ]
          },
          "metadata": {},
          "execution_count": 149
        }
      ]
    },
    {
      "cell_type": "markdown",
      "metadata": {
        "id": "xWepcjL_uGdQ"
      },
      "source": [
        "**Verify using silhouette scores**"
      ]
    },
    {
      "cell_type": "code",
      "metadata": {
        "id": "7Da3E-HosBFF"
      },
      "source": [
        "from sklearn.metrics import silhouette_score\n",
        "sil = []\n",
        "s_range = range(2,12)\n",
        "for k in s_range:\n",
        "  km = KMeans(n_clusters=k, n_init=10, init='k-means++', max_iter=100, random_state=42).fit(scaled_data)\n",
        "  labels = km.labels_\n",
        "  sil.append(silhouette_score(scaled_data, labels))"
      ],
      "execution_count": 150,
      "outputs": []
    },
    {
      "cell_type": "code",
      "metadata": {
        "colab": {
          "base_uri": "https://localhost:8080/",
          "height": 367
        },
        "id": "ZfHXeuJfw4RR",
        "outputId": "b7587809-a940-4648-e617-926d019ef97b"
      },
      "source": [
        "plt.figure(figsize=(8,5))\n",
        "plt.title('Silhouette Score vs K')\n",
        "plt.plot(s_range,sil)\n",
        "plt.xlabel('num of clusters (K)')\n",
        "plt.ylabel('Silhouette scores')\n"
      ],
      "execution_count": 151,
      "outputs": [
        {
          "output_type": "execute_result",
          "data": {
            "text/plain": [
              "Text(0, 0.5, 'Silhouette scores')"
            ]
          },
          "metadata": {},
          "execution_count": 151
        },
        {
          "output_type": "display_data",
          "data": {
            "image/png": "[encoded data removed]",
            "text/plain": [
              "<Figure size 576x360 with 1 Axes>"
            ]
          },
          "metadata": {
            "needs_background": "light"
          }
        }
      ]
    },
    {
      "cell_type": "code",
      "metadata": {
        "colab": {
          "base_uri": "https://localhost:8080/",
          "height": 483
        },
        "id": "df0XX-tCzg3L",
        "outputId": "47774c42-c06e-4a1a-a77b-bf72af930704"
      },
      "source": [
        "from yellowbrick.cluster import SilhouetteVisualizer\n",
        "\n",
        "fig, ax = plt.subplots(5, 2, figsize=(15,8))\n",
        "for i in s_range:\n",
        "    # Create KMeans instance for different number of clusters\n",
        "    km = KMeans(n_clusters=i, n_init=10, init='k-means++', max_iter=100, random_state=42)\n",
        "    q, mod = divmod(i, 2)\n",
        "    # Create SilhouetteVisualizer instance with KMeans instance    Fit the visualizer\n",
        "    visualizer = SilhouetteVisualizer(km, colors='yellowbrick', ax=ax[q-1][mod])\n",
        "    visualizer.fit(scaled_data)"
      ],
      "execution_count": 152,
      "outputs": [
        {
          "output_type": "display_data",
          "data": {
            "image/png": "[encoded data removed]",
            "text/plain": [
              "<Figure size 1080x576 with 10 Axes>"
            ]
          },
          "metadata": {
            "needs_background": "light"
          }
        }
      ]
    },
    {
      "cell_type": "code",
      "metadata": {
        "colab": {
          "base_uri": "https://localhost:8080/"
        },
        "id": "to4Qq-Et3M2y",
        "outputId": "de63eacf-6118-4d24-8f4d-9522ba1a586c"
      },
      "source": [
        "from sklearn.cluster import KMeans\n",
        "\n",
        "km = KMeans(n_clusters=3, n_init=10, init='k-means++', max_iter=100, random_state=42)\n",
        "y_pred = km.fit_predict(scaled_data)\n",
        "y_pred\n"
      ],
      "execution_count": 153,
      "outputs": [
        {
          "output_type": "execute_result",
          "data": {
            "text/plain": [
              "array([2, 1, 2, ..., 1, 1, 1], dtype=int32)"
            ]
          },
          "metadata": {},
          "execution_count": 153
        }
      ]
    },
    {
      "cell_type": "markdown",
      "metadata": {
        "id": "GgLvc3_jL33i"
      },
      "source": [
        "**Assigning cluster label to each instance of the dataframe**"
      ]
    },
    {
      "cell_type": "code",
      "metadata": {
        "colab": {
          "base_uri": "https://localhost:8080/",
          "height": 226
        },
        "id": "dCBZy1MLHgCG",
        "outputId": "13b6ebed-60c1-4190-d5bf-00adb7ce1db8"
      },
      "source": [
        "df['clusters_4'] = y_pred\n",
        "df.head()"
      ],
      "execution_count": 154,
      "outputs": [
        {
          "output_type": "execute_result",
          "data": {
            "text/html": [
              "<div>\n",
              "<style scoped>\n",
              "    .dataframe tbody tr th:only-of-type {\n",
              "        vertical-align: middle;\n",
              "    }\n",
              "\n",
              "    .dataframe tbody tr th {\n",
              "        vertical-align: top;\n",
              "    }\n",
              "\n",
              "    .dataframe thead th {\n",
              "        text-align: right;\n",
              "    }\n",
              "</style>\n",
              "<table border=\"1\" class=\"dataframe\">\n",
              "  <thead>\n",
              "    <tr style=\"text-align: right;\">\n",
              "      <th></th>\n",
              "      <th>status_type</th>\n",
              "      <th>status_published</th>\n",
              "      <th>num_reactions</th>\n",
              "      <th>num_comments</th>\n",
              "      <th>num_shares</th>\n",
              "      <th>num_likes</th>\n",
              "      <th>num_loves</th>\n",
              "      <th>num_wows</th>\n",
              "      <th>num_hahas</th>\n",
              "      <th>num_sads</th>\n",
              "      <th>num_angrys</th>\n",
              "      <th>clusters_4</th>\n",
              "    </tr>\n",
              "  </thead>\n",
              "  <tbody>\n",
              "    <tr>\n",
              "      <th>0</th>\n",
              "      <td>3</td>\n",
              "      <td>1.524377e+09</td>\n",
              "      <td>529</td>\n",
              "      <td>512</td>\n",
              "      <td>262</td>\n",
              "      <td>432</td>\n",
              "      <td>92</td>\n",
              "      <td>3</td>\n",
              "      <td>1</td>\n",
              "      <td>1</td>\n",
              "      <td>0</td>\n",
              "      <td>2</td>\n",
              "    </tr>\n",
              "    <tr>\n",
              "      <th>1</th>\n",
              "      <td>1</td>\n",
              "      <td>1.524351e+09</td>\n",
              "      <td>150</td>\n",
              "      <td>0</td>\n",
              "      <td>0</td>\n",
              "      <td>150</td>\n",
              "      <td>0</td>\n",
              "      <td>0</td>\n",
              "      <td>0</td>\n",
              "      <td>0</td>\n",
              "      <td>0</td>\n",
              "      <td>1</td>\n",
              "    </tr>\n",
              "    <tr>\n",
              "      <th>2</th>\n",
              "      <td>3</td>\n",
              "      <td>1.524291e+09</td>\n",
              "      <td>227</td>\n",
              "      <td>236</td>\n",
              "      <td>57</td>\n",
              "      <td>204</td>\n",
              "      <td>21</td>\n",
              "      <td>1</td>\n",
              "      <td>1</td>\n",
              "      <td>0</td>\n",
              "      <td>0</td>\n",
              "      <td>2</td>\n",
              "    </tr>\n",
              "    <tr>\n",
              "      <th>3</th>\n",
              "      <td>1</td>\n",
              "      <td>1.524278e+09</td>\n",
              "      <td>111</td>\n",
              "      <td>0</td>\n",
              "      <td>0</td>\n",
              "      <td>111</td>\n",
              "      <td>0</td>\n",
              "      <td>0</td>\n",
              "      <td>0</td>\n",
              "      <td>0</td>\n",
              "      <td>0</td>\n",
              "      <td>1</td>\n",
              "    </tr>\n",
              "    <tr>\n",
              "      <th>4</th>\n",
              "      <td>1</td>\n",
              "      <td>1.524022e+09</td>\n",
              "      <td>213</td>\n",
              "      <td>0</td>\n",
              "      <td>0</td>\n",
              "      <td>204</td>\n",
              "      <td>9</td>\n",
              "      <td>0</td>\n",
              "      <td>0</td>\n",
              "      <td>0</td>\n",
              "      <td>0</td>\n",
              "      <td>1</td>\n",
              "    </tr>\n",
              "  </tbody>\n",
              "</table>\n",
              "</div>"
            ],
            "text/plain": [
              "   status_type  status_published  ...  num_angrys  clusters_4\n",
              "0            3      1.524377e+09  ...           0           2\n",
              "1            1      1.524351e+09  ...           0           1\n",
              "2            3      1.524291e+09  ...           0           2\n",
              "3            1      1.524278e+09  ...           0           1\n",
              "4            1      1.524022e+09  ...           0           1\n",
              "\n",
              "[5 rows x 12 columns]"
            ]
          },
          "metadata": {},
          "execution_count": 154
        }
      ]
    },
    {
      "cell_type": "code",
      "metadata": {
        "colab": {
          "base_uri": "https://localhost:8080/",
          "height": 265
        },
        "id": "RaWgPLu-H6Rb",
        "outputId": "59b0fd9f-b0ea-4e32-b279-204998ec8b78"
      },
      "source": [
        "plt.scatter(df['clusters_4'], df['num_reactions'])\n",
        "plt.show()"
      ],
      "execution_count": 155,
      "outputs": [
        {
          "output_type": "display_data",
          "data": {
            "image/png": "[encoded data removed]",
            "text/plain": [
              "<Figure size 432x288 with 1 Axes>"
            ]
          },
          "metadata": {
            "needs_background": "light"
          }
        }
      ]
    },
    {
      "cell_type": "code",
      "metadata": {
        "colab": {
          "base_uri": "https://localhost:8080/",
          "height": 265
        },
        "id": "cJPdqoS4Ijad",
        "outputId": "2cac3f7a-b2d5-4569-b15a-9b8959064818"
      },
      "source": [
        "\n",
        "plt.scatter(df['clusters_4'], df['status_type'])\n",
        "plt.show()"
      ],
      "execution_count": 156,
      "outputs": [
        {
          "output_type": "display_data",
          "data": {
            "image/png": "[encoded data removed]",
            "text/plain": [
              "<Figure size 432x288 with 1 Axes>"
            ]
          },
          "metadata": {
            "needs_background": "light"
          }
        }
      ]
    },
    {
      "cell_type": "code",
      "metadata": {
        "colab": {
          "base_uri": "https://localhost:8080/",
          "height": 265
        },
        "id": "5yvD_mAAJaDv",
        "outputId": "3a643080-8d1b-4a86-b9b1-8a5190f0b546"
      },
      "source": [
        "plt.scatter(df['clusters_4'], df['num_sads'])\n",
        "plt.show()"
      ],
      "execution_count": 157,
      "outputs": [
        {
          "output_type": "display_data",
          "data": {
            "image/png": "[encoded data removed]",
            "text/plain": [
              "<Figure size 432x288 with 1 Axes>"
            ]
          },
          "metadata": {
            "needs_background": "light"
          }
        }
      ]
    },
    {
      "cell_type": "code",
      "metadata": {
        "colab": {
          "base_uri": "https://localhost:8080/"
        },
        "id": "VeCaLNBXLVA_",
        "outputId": "73a04398-8ab1-4470-92be-76c1e18a27b1"
      },
      "source": [
        "print('lowest Sum of Squared Errors: ' + str(km.inertia_))"
      ],
      "execution_count": 158,
      "outputs": [
        {
          "output_type": "stream",
          "name": "stdout",
          "text": [
            "lowest Sum of Squared Errors: 441.1305600162456\n"
          ]
        }
      ]
    },
    {
      "cell_type": "markdown",
      "metadata": {
        "id": "BH7dG5fpMbJT"
      },
      "source": [
        "**external cluster validation approaches**"
      ]
    },
    {
      "cell_type": "code",
      "metadata": {
        "colab": {
          "base_uri": "https://localhost:8080/"
        },
        "id": "P3TOPqnjLhax",
        "outputId": "061d9243-3028-458a-9094-e029899cf609"
      },
      "source": [
        "from sklearn.metrics import adjusted_rand_score, rand_score\n",
        "\n",
        "print(\"there's no actaul labels available. so adjusted rand score need actual labels\")"
      ],
      "execution_count": 159,
      "outputs": [
        {
          "output_type": "stream",
          "name": "stdout",
          "text": [
            "there's no actaul labels available. so adjusted rand score need actual labels\n"
          ]
        }
      ]
    },
    {
      "cell_type": "markdown",
      "metadata": {
        "id": "js_olTghjGMc"
      },
      "source": [
        "### **Task 3: PCA on Fruit Data**"
      ]
    },
    {
      "cell_type": "code",
      "metadata": {
        "colab": {
          "base_uri": "https://localhost:8080/",
          "height": 206
        },
        "id": "Wkn2nMFcjG6e",
        "outputId": "99024b58-759a-4360-8e90-71576926f6e2"
      },
      "source": [
        "url=\"https://raw.githubusercontent.com/dphi-official/Datasets/master/fruit_data.csv\"\n",
        "s=requests.get(url).content\n",
        "df=pd.read_csv(io.StringIO(s.decode('utf-8')))\n",
        "df.head()"
      ],
      "execution_count": 160,
      "outputs": [
        {
          "output_type": "execute_result",
          "data": {
            "text/html": [
              "<div>\n",
              "<style scoped>\n",
              "    .dataframe tbody tr th:only-of-type {\n",
              "        vertical-align: middle;\n",
              "    }\n",
              "\n",
              "    .dataframe tbody tr th {\n",
              "        vertical-align: top;\n",
              "    }\n",
              "\n",
              "    .dataframe thead th {\n",
              "        text-align: right;\n",
              "    }\n",
              "</style>\n",
              "<table border=\"1\" class=\"dataframe\">\n",
              "  <thead>\n",
              "    <tr style=\"text-align: right;\">\n",
              "      <th></th>\n",
              "      <th>fruit_label</th>\n",
              "      <th>mass</th>\n",
              "      <th>width</th>\n",
              "      <th>height</th>\n",
              "      <th>color_score</th>\n",
              "    </tr>\n",
              "  </thead>\n",
              "  <tbody>\n",
              "    <tr>\n",
              "      <th>0</th>\n",
              "      <td>1</td>\n",
              "      <td>192</td>\n",
              "      <td>8.4</td>\n",
              "      <td>7.3</td>\n",
              "      <td>0.55</td>\n",
              "    </tr>\n",
              "    <tr>\n",
              "      <th>1</th>\n",
              "      <td>1</td>\n",
              "      <td>180</td>\n",
              "      <td>8.0</td>\n",
              "      <td>6.8</td>\n",
              "      <td>0.59</td>\n",
              "    </tr>\n",
              "    <tr>\n",
              "      <th>2</th>\n",
              "      <td>1</td>\n",
              "      <td>176</td>\n",
              "      <td>7.4</td>\n",
              "      <td>7.2</td>\n",
              "      <td>0.60</td>\n",
              "    </tr>\n",
              "    <tr>\n",
              "      <th>3</th>\n",
              "      <td>2</td>\n",
              "      <td>86</td>\n",
              "      <td>6.2</td>\n",
              "      <td>4.7</td>\n",
              "      <td>0.80</td>\n",
              "    </tr>\n",
              "    <tr>\n",
              "      <th>4</th>\n",
              "      <td>2</td>\n",
              "      <td>84</td>\n",
              "      <td>6.0</td>\n",
              "      <td>4.6</td>\n",
              "      <td>0.79</td>\n",
              "    </tr>\n",
              "  </tbody>\n",
              "</table>\n",
              "</div>"
            ],
            "text/plain": [
              "   fruit_label  mass  width  height  color_score\n",
              "0            1   192    8.4     7.3         0.55\n",
              "1            1   180    8.0     6.8         0.59\n",
              "2            1   176    7.4     7.2         0.60\n",
              "3            2    86    6.2     4.7         0.80\n",
              "4            2    84    6.0     4.6         0.79"
            ]
          },
          "metadata": {},
          "execution_count": 160
        }
      ]
    },
    {
      "cell_type": "code",
      "metadata": {
        "colab": {
          "base_uri": "https://localhost:8080/"
        },
        "id": "KNDMjnhU3O_m",
        "outputId": "43286b72-d37c-4782-f35e-435916d67635"
      },
      "source": [
        "df.isnull().values.any()"
      ],
      "execution_count": 161,
      "outputs": [
        {
          "output_type": "execute_result",
          "data": {
            "text/plain": [
              "False"
            ]
          },
          "metadata": {},
          "execution_count": 161
        }
      ]
    },
    {
      "cell_type": "code",
      "metadata": {
        "colab": {
          "base_uri": "https://localhost:8080/",
          "height": 300
        },
        "id": "_sKjGFbo3LoV",
        "outputId": "f7d276ee-2b9f-4d78-eb5c-60bb4fa3e26d"
      },
      "source": [
        "df.describe()"
      ],
      "execution_count": 162,
      "outputs": [
        {
          "output_type": "execute_result",
          "data": {
            "text/html": [
              "<div>\n",
              "<style scoped>\n",
              "    .dataframe tbody tr th:only-of-type {\n",
              "        vertical-align: middle;\n",
              "    }\n",
              "\n",
              "    .dataframe tbody tr th {\n",
              "        vertical-align: top;\n",
              "    }\n",
              "\n",
              "    .dataframe thead th {\n",
              "        text-align: right;\n",
              "    }\n",
              "</style>\n",
              "<table border=\"1\" class=\"dataframe\">\n",
              "  <thead>\n",
              "    <tr style=\"text-align: right;\">\n",
              "      <th></th>\n",
              "      <th>fruit_label</th>\n",
              "      <th>mass</th>\n",
              "      <th>width</th>\n",
              "      <th>height</th>\n",
              "      <th>color_score</th>\n",
              "    </tr>\n",
              "  </thead>\n",
              "  <tbody>\n",
              "    <tr>\n",
              "      <th>count</th>\n",
              "      <td>59.000000</td>\n",
              "      <td>59.000000</td>\n",
              "      <td>59.000000</td>\n",
              "      <td>59.000000</td>\n",
              "      <td>59.000000</td>\n",
              "    </tr>\n",
              "    <tr>\n",
              "      <th>mean</th>\n",
              "      <td>2.542373</td>\n",
              "      <td>163.118644</td>\n",
              "      <td>7.105085</td>\n",
              "      <td>7.693220</td>\n",
              "      <td>0.762881</td>\n",
              "    </tr>\n",
              "    <tr>\n",
              "      <th>std</th>\n",
              "      <td>1.208048</td>\n",
              "      <td>55.018832</td>\n",
              "      <td>0.816938</td>\n",
              "      <td>1.361017</td>\n",
              "      <td>0.076857</td>\n",
              "    </tr>\n",
              "    <tr>\n",
              "      <th>min</th>\n",
              "      <td>1.000000</td>\n",
              "      <td>76.000000</td>\n",
              "      <td>5.800000</td>\n",
              "      <td>4.000000</td>\n",
              "      <td>0.550000</td>\n",
              "    </tr>\n",
              "    <tr>\n",
              "      <th>25%</th>\n",
              "      <td>1.000000</td>\n",
              "      <td>140.000000</td>\n",
              "      <td>6.600000</td>\n",
              "      <td>7.200000</td>\n",
              "      <td>0.720000</td>\n",
              "    </tr>\n",
              "    <tr>\n",
              "      <th>50%</th>\n",
              "      <td>3.000000</td>\n",
              "      <td>158.000000</td>\n",
              "      <td>7.200000</td>\n",
              "      <td>7.600000</td>\n",
              "      <td>0.750000</td>\n",
              "    </tr>\n",
              "    <tr>\n",
              "      <th>75%</th>\n",
              "      <td>4.000000</td>\n",
              "      <td>177.000000</td>\n",
              "      <td>7.500000</td>\n",
              "      <td>8.200000</td>\n",
              "      <td>0.810000</td>\n",
              "    </tr>\n",
              "    <tr>\n",
              "      <th>max</th>\n",
              "      <td>4.000000</td>\n",
              "      <td>362.000000</td>\n",
              "      <td>9.600000</td>\n",
              "      <td>10.500000</td>\n",
              "      <td>0.930000</td>\n",
              "    </tr>\n",
              "  </tbody>\n",
              "</table>\n",
              "</div>"
            ],
            "text/plain": [
              "       fruit_label        mass      width     height  color_score\n",
              "count    59.000000   59.000000  59.000000  59.000000    59.000000\n",
              "mean      2.542373  163.118644   7.105085   7.693220     0.762881\n",
              "std       1.208048   55.018832   0.816938   1.361017     0.076857\n",
              "min       1.000000   76.000000   5.800000   4.000000     0.550000\n",
              "25%       1.000000  140.000000   6.600000   7.200000     0.720000\n",
              "50%       3.000000  158.000000   7.200000   7.600000     0.750000\n",
              "75%       4.000000  177.000000   7.500000   8.200000     0.810000\n",
              "max       4.000000  362.000000   9.600000  10.500000     0.930000"
            ]
          },
          "metadata": {},
          "execution_count": 162
        }
      ]
    },
    {
      "cell_type": "code",
      "metadata": {
        "id": "M9MwC4JAkEQO"
      },
      "source": [
        "from sklearn.decomposition import PCA, IncrementalPCA, KernelPCA, TruncatedSVD\n",
        "from sklearn.decomposition import FastICA, MiniBatchDictionaryLearning,SparsePCA\n",
        "from sklearn.neighbors import (KNeighborsClassifier,NeighborhoodComponentsAnalysis)\n",
        "\n",
        "from sklearn.pipeline import make_pipeline\n",
        "from sklearn.preprocessing import StandardScaler\n",
        "from sklearn.model_selection import train_test_split\n",
        "import pandas as pd\n",
        "import numpy as np\n",
        "import matplotlib.pyplot as plt\n",
        "\n",
        "\n",
        "%matplotlib inline"
      ],
      "execution_count": 163,
      "outputs": []
    },
    {
      "cell_type": "markdown",
      "metadata": {
        "id": "wpsxy3y-9XJ4"
      },
      "source": [
        "**train test Split**"
      ]
    },
    {
      "cell_type": "code",
      "metadata": {
        "id": "lOdS_MmGlNLO"
      },
      "source": [
        "X = df.drop(\"fruit_label\",1)   #Feature Matrix\n",
        "y = df[\"fruit_label\"]          #Target Variable\n",
        "\n",
        "# Parameters\n",
        "dim = len(X.iloc[0])\n",
        "n_classes = len(np.unique(y))\n",
        "n_neighbors = 3\n",
        "random_state = 42\n",
        "\n",
        "# Split into train/test\n",
        "X_train, X_test, y_train, y_test = train_test_split(X, y, test_size=0.5, stratify=y,random_state=random_state)"
      ],
      "execution_count": 164,
      "outputs": []
    },
    {
      "cell_type": "code",
      "metadata": {
        "colab": {
          "base_uri": "https://localhost:8080/"
        },
        "id": "7BP72lmf5pEL",
        "outputId": "c5a4453c-6f52-487b-83ee-a7ec58170434"
      },
      "source": [
        "print(X_train.shape)\n",
        "print(y_train.shape)"
      ],
      "execution_count": 165,
      "outputs": [
        {
          "output_type": "stream",
          "name": "stdout",
          "text": [
            "(29, 4)\n",
            "(29,)\n"
          ]
        }
      ]
    },
    {
      "cell_type": "markdown",
      "metadata": {
        "id": "ZZrEc4wc9TQf"
      },
      "source": [
        "**Make Pipeline**"
      ]
    },
    {
      "cell_type": "code",
      "metadata": {
        "id": "85EyMRxl32Li"
      },
      "source": [
        "pca_2 = make_pipeline(StandardScaler(),\n",
        "                    PCA(n_components=2,random_state=random_state)\n",
        "                    )"
      ],
      "execution_count": 166,
      "outputs": []
    },
    {
      "cell_type": "markdown",
      "metadata": {
        "id": "uAX8ifYK7rG_"
      },
      "source": [
        "###**PCA to find the first TWO principal components**"
      ]
    },
    {
      "cell_type": "code",
      "metadata": {
        "colab": {
          "base_uri": "https://localhost:8080/"
        },
        "id": "JCQX5UzF6ElP",
        "outputId": "0e63405f-b124-495e-e20a-f0f4c023c981"
      },
      "source": [
        "pca_2.fit(X_train,y_train)"
      ],
      "execution_count": 167,
      "outputs": [
        {
          "output_type": "execute_result",
          "data": {
            "text/plain": [
              "Pipeline(steps=[('standardscaler', StandardScaler()),\n",
              "                ('pca', PCA(n_components=2, random_state=42))])"
            ]
          },
          "metadata": {},
          "execution_count": 167
        }
      ]
    },
    {
      "cell_type": "code",
      "metadata": {
        "colab": {
          "base_uri": "https://localhost:8080/"
        },
        "id": "ctznywb48kpS",
        "outputId": "ed3dbb4e-dfa4-4107-c82e-722981e0089d"
      },
      "source": [
        "pca_2.transform(X_train)"
      ],
      "execution_count": 168,
      "outputs": [
        {
          "output_type": "execute_result",
          "data": {
            "text/plain": [
              "array([[ 0.16920264,  0.70552323],\n",
              "       [-0.30046055,  0.62626163],\n",
              "       [-3.06471144,  0.35582788],\n",
              "       [ 1.47236476,  2.2424987 ],\n",
              "       [-0.19580687, -1.22137899],\n",
              "       [ 0.79523052, -0.9693483 ],\n",
              "       [-1.06464203,  0.57497377],\n",
              "       [ 3.85561443, -0.86527488],\n",
              "       [ 0.77687441,  0.40998821],\n",
              "       [ 1.11753396,  0.36330523],\n",
              "       [-1.07852215,  0.7828481 ],\n",
              "       [ 1.04863477, -0.29679585],\n",
              "       [-0.45813348, -0.55794978],\n",
              "       [ 3.63803663, -0.78316527],\n",
              "       [-3.30581915, -0.11021461],\n",
              "       [ 1.02642111,  0.45145416],\n",
              "       [-0.29114743, -0.95455017],\n",
              "       [-0.79962954, -2.00391665],\n",
              "       [ 1.27735331,  0.62931166],\n",
              "       [-0.95463833,  0.89355072],\n",
              "       [-0.10361288, -0.09450297],\n",
              "       [ 0.79968687,  1.85823177],\n",
              "       [-0.75136843,  0.63199257],\n",
              "       [-0.29132906, -0.33655757],\n",
              "       [ 0.30690097,  1.05320469],\n",
              "       [-0.38508604, -0.48411304],\n",
              "       [-0.23475392, -0.87412152],\n",
              "       [-2.66124721, -0.07515831],\n",
              "       [-0.34294586, -1.95192441]])"
            ]
          },
          "metadata": {},
          "execution_count": 168
        }
      ]
    },
    {
      "cell_type": "markdown",
      "metadata": {
        "id": "zuwffwa3EtD4"
      },
      "source": [
        "###**RESULTS**"
      ]
    },
    {
      "cell_type": "code",
      "metadata": {
        "colab": {
          "base_uri": "https://localhost:8080/"
        },
        "id": "d3qn7Gv48j3n",
        "outputId": "e082cd83-eb62-4ce3-8609-99100b4328fc"
      },
      "source": [
        "pca_2.named_steps['pca'].explained_variance_ratio_"
      ],
      "execution_count": 169,
      "outputs": [
        {
          "output_type": "execute_result",
          "data": {
            "text/plain": [
              "array([0.60306772, 0.23893983])"
            ]
          },
          "metadata": {},
          "execution_count": 169
        }
      ]
    },
    {
      "cell_type": "code",
      "metadata": {
        "colab": {
          "base_uri": "https://localhost:8080/"
        },
        "id": "y8Roiv9ICBgn",
        "outputId": "8918fee4-b725-41b1-b81c-783ee4b93091"
      },
      "source": [
        "print(pca_2.named_steps['pca'].components_)"
      ],
      "execution_count": 170,
      "outputs": [
        {
          "output_type": "stream",
          "name": "stdout",
          "text": [
            "[[ 0.60853756  0.58186008  0.50057061 -0.20137021]\n",
            " [-0.22762217 -0.10931266  0.01458086 -0.96748452]]\n"
          ]
        }
      ]
    },
    {
      "cell_type": "code",
      "metadata": {
        "colab": {
          "base_uri": "https://localhost:8080/"
        },
        "id": "isUuuMaK7tKw",
        "outputId": "9fa9306a-a0a4-4648-fd4b-0279dd694a94"
      },
      "source": [
        "print(pca_2.named_steps['pca'].explained_variance_)"
      ],
      "execution_count": 171,
      "outputs": [
        {
          "output_type": "stream",
          "name": "stdout",
          "text": [
            "[2.4984234  0.98989357]\n"
          ]
        }
      ]
    },
    {
      "cell_type": "code",
      "metadata": {
        "colab": {
          "base_uri": "https://localhost:8080/"
        },
        "id": "-LySq3X0Edud",
        "outputId": "ddce6509-a140-47bf-ccb3-5e426b48e4a9"
      },
      "source": [
        "print(np.cumsum(pca_2.named_steps['pca'].explained_variance_ratio_))"
      ],
      "execution_count": 172,
      "outputs": [
        {
          "output_type": "stream",
          "name": "stdout",
          "text": [
            "[0.60306772 0.84200754]\n"
          ]
        }
      ]
    },
    {
      "cell_type": "code",
      "metadata": {
        "colab": {
          "base_uri": "https://localhost:8080/",
          "height": 285
        },
        "id": "pGUAxTdOEX3Q",
        "outputId": "f4065e01-d1ea-4bd5-d7d0-7f1dcbfe6842"
      },
      "source": [
        "plt.plot(np.cumsum(pca_2.named_steps['pca'].explained_variance_ratio_))"
      ],
      "execution_count": 173,
      "outputs": [
        {
          "output_type": "execute_result",
          "data": {
            "text/plain": [
              "[<matplotlib.lines.Line2D at 0x7f1020711210>]"
            ]
          },
          "metadata": {},
          "execution_count": 173
        },
        {
          "output_type": "display_data",
          "data": {
            "image/png": "[encoded data removed]",
            "text/plain": [
              "<Figure size 432x288 with 1 Axes>"
            ]
          },
          "metadata": {
            "needs_background": "light"
          }
        }
      ]
    },
    {
      "cell_type": "markdown",
      "metadata": {
        "id": "P5_Vm9mfCug3"
      },
      "source": [
        "###**PCA to find the first FOUR principal components**"
      ]
    },
    {
      "cell_type": "code",
      "metadata": {
        "id": "4EwgMBdW7LAX"
      },
      "source": [
        "pca_4 = make_pipeline(StandardScaler(),\n",
        "                    PCA(n_components=4,random_state=random_state)\n",
        "                    )"
      ],
      "execution_count": 174,
      "outputs": []
    },
    {
      "cell_type": "code",
      "metadata": {
        "colab": {
          "base_uri": "https://localhost:8080/"
        },
        "id": "UQrmecFDC8a_",
        "outputId": "7727b46f-1cd1-486c-cb3e-1a682b3ef260"
      },
      "source": [
        "pca_4.fit(X_train,y_train)"
      ],
      "execution_count": 175,
      "outputs": [
        {
          "output_type": "execute_result",
          "data": {
            "text/plain": [
              "Pipeline(steps=[('standardscaler', StandardScaler()),\n",
              "                ('pca', PCA(n_components=4, random_state=42))])"
            ]
          },
          "metadata": {},
          "execution_count": 175
        }
      ]
    },
    {
      "cell_type": "code",
      "metadata": {
        "colab": {
          "base_uri": "https://localhost:8080/"
        },
        "id": "ELwI611DC_bU",
        "outputId": "63093879-3672-4d3d-eeea-c2b29af4a7f6"
      },
      "source": [
        "pca_4.transform(X_train)"
      ],
      "execution_count": 176,
      "outputs": [
        {
          "output_type": "execute_result",
          "data": {
            "text/plain": [
              "array([[ 1.69202643e-01,  7.05523233e-01,  1.49887039e-01,\n",
              "        -7.87812177e-02],\n",
              "       [-3.00460546e-01,  6.26261631e-01, -8.52120516e-01,\n",
              "         2.40251162e-01],\n",
              "       [-3.06471144e+00,  3.55827877e-01,  8.03419889e-01,\n",
              "         4.12609169e-01],\n",
              "       [ 1.47236476e+00,  2.24249870e+00,  1.33362908e+00,\n",
              "        -3.13002645e-01],\n",
              "       [-1.95806870e-01, -1.22137899e+00,  1.56396482e-01,\n",
              "        -4.63291793e-01],\n",
              "       [ 7.95230518e-01, -9.69348296e-01,  2.57111628e-01,\n",
              "        -8.76887971e-02],\n",
              "       [-1.06464203e+00,  5.74973773e-01, -1.22164448e+00,\n",
              "         2.10425433e-01],\n",
              "       [ 3.85561443e+00, -8.65274885e-01,  9.55421100e-01,\n",
              "         5.85326136e-01],\n",
              "       [ 7.76874414e-01,  4.09988210e-01, -7.18265942e-01,\n",
              "         3.01940252e-02],\n",
              "       [ 1.11753396e+00,  3.63305230e-01, -9.09112574e-01,\n",
              "         6.93272027e-03],\n",
              "       [-1.07852215e+00,  7.82848105e-01, -6.28564919e-01,\n",
              "         5.86763321e-02],\n",
              "       [ 1.04863477e+00, -2.96795848e-01, -5.50436688e-01,\n",
              "        -3.99936415e-02],\n",
              "       [-4.58133483e-01, -5.57949777e-01, -2.65278648e-02,\n",
              "        -2.00023517e-03],\n",
              "       [ 3.63803663e+00, -7.83165273e-01,  6.80222695e-01,\n",
              "         5.34573338e-01],\n",
              "       [-3.30581915e+00, -1.10214610e-01,  9.06194769e-01,\n",
              "         3.53039810e-01],\n",
              "       [ 1.02642111e+00,  4.51454158e-01, -1.19676690e+00,\n",
              "        -3.24623999e-01],\n",
              "       [-2.91147435e-01, -9.54550170e-01,  1.66874022e-01,\n",
              "        -3.96236024e-01],\n",
              "       [-7.99629535e-01, -2.00391665e+00, -1.77454057e-01,\n",
              "         5.14334514e-03],\n",
              "       [ 1.27735331e+00,  6.29311665e-01, -1.28611499e+00,\n",
              "        -1.45122246e-03],\n",
              "       [-9.54638328e-01,  8.93550719e-01, -1.03995983e+00,\n",
              "         4.03286480e-01],\n",
              "       [-1.03612878e-01, -9.45029705e-02, -7.98624353e-02,\n",
              "        -1.83968975e-01],\n",
              "       [ 7.99686867e-01,  1.85823177e+00,  1.28028132e+00,\n",
              "        -1.38772127e-01],\n",
              "       [-7.51368433e-01,  6.31992571e-01,  2.27275326e-02,\n",
              "         1.39003046e-01],\n",
              "       [-2.91329057e-01, -3.36557568e-01,  2.23795353e-01,\n",
              "        -2.64706120e-01],\n",
              "       [ 3.06900967e-01,  1.05320469e+00,  4.64231274e-01,\n",
              "        -3.38894375e-01],\n",
              "       [-3.85086044e-01, -4.84113040e-01,  3.45966770e-01,\n",
              "        -3.40270464e-02],\n",
              "       [-2.34753916e-01, -8.74121518e-01,  4.27528366e-01,\n",
              "        -3.41464890e-01],\n",
              "       [-2.66124721e+00, -7.51583132e-02,  8.00754697e-01,\n",
              "         8.56587732e-02],\n",
              "       [-3.42945860e-01, -1.95192441e+00, -2.87610821e-01,\n",
              "        -5.62166654e-02]])"
            ]
          },
          "metadata": {},
          "execution_count": 176
        }
      ]
    },
    {
      "cell_type": "markdown",
      "metadata": {
        "id": "g35zRfI2Eym-"
      },
      "source": [
        "####**RESULTS**"
      ]
    },
    {
      "cell_type": "code",
      "metadata": {
        "colab": {
          "base_uri": "https://localhost:8080/"
        },
        "id": "cIC68Xj9DEmy",
        "outputId": "ad87a14c-17cd-4740-eab3-fdd4e3c2a14b"
      },
      "source": [
        "pca_4.named_steps['pca'].explained_variance_ratio_"
      ],
      "execution_count": 177,
      "outputs": [
        {
          "output_type": "execute_result",
          "data": {
            "text/plain": [
              "array([0.60306772, 0.23893983, 0.13929919, 0.01869327])"
            ]
          },
          "metadata": {},
          "execution_count": 177
        }
      ]
    },
    {
      "cell_type": "code",
      "metadata": {
        "colab": {
          "base_uri": "https://localhost:8080/"
        },
        "id": "Lf6lzQDzDLTD",
        "outputId": "d3daeed6-5bba-48aa-a778-fd86709e6f07"
      },
      "source": [
        "print(np.cumsum(pca_4.named_steps['pca'].explained_variance_ratio_))"
      ],
      "execution_count": 178,
      "outputs": [
        {
          "output_type": "stream",
          "name": "stdout",
          "text": [
            "[0.60306772 0.84200754 0.98130673 1.        ]\n"
          ]
        }
      ]
    },
    {
      "cell_type": "code",
      "metadata": {
        "colab": {
          "base_uri": "https://localhost:8080/",
          "height": 284
        },
        "id": "lgTaLV77DpNg",
        "outputId": "858c769e-90f1-4403-cfa0-952fbb19264b"
      },
      "source": [
        "plt.plot(np.cumsum(pca_4.named_steps['pca'].explained_variance_ratio_))"
      ],
      "execution_count": 179,
      "outputs": [
        {
          "output_type": "execute_result",
          "data": {
            "text/plain": [
              "[<matplotlib.lines.Line2D at 0x7f102075c9d0>]"
            ]
          },
          "metadata": {},
          "execution_count": 179
        },
        {
          "output_type": "display_data",
          "data": {
            "image/png": "[encoded data removed]",
            "text/plain": [
              "<Figure size 432x288 with 1 Axes>"
            ]
          },
          "metadata": {
            "needs_background": "light"
          }
        }
      ]
    }
  ]
}